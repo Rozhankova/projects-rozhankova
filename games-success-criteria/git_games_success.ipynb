{
 "cells": [
  {
   "cell_type": "markdown",
   "metadata": {},
   "source": [
    "# Формирование модели успешности игр"
   ]
  },
  {
   "cell_type": "markdown",
   "metadata": {},
   "source": [
    "## Оглавление проекта"
   ]
  },
  {
   "cell_type": "markdown",
   "metadata": {},
   "source": [
    "[Описание проекта](#section1)\n",
    "\n",
    "[Описание данных](#section2)\n",
    "\n",
    "[Шаг 1. Общая информация](#section3)\n",
    "\n",
    "[Шаг 2. Подготовка данных](#section4)\n",
    "\n",
    "[Шаг 3. Исследовательский анализ данных](#section5)\n",
    "\n",
    "[Шаг 4. Портрет пользователя каждого региона](#section6)\n",
    "\n",
    "[Шаг 5. Проверка гипотез](#section7)\n",
    "\n",
    "[Шаг 6. Общий вывод](#section8)"
   ]
  },
  {
   "cell_type": "markdown",
   "metadata": {},
   "source": [
    "## Описание проекта<a id='section1'></a>\n",
    "\n",
    "Используя исторические данные о продажах компьютерных игр, оценки пользователей и экспертов, жанры и платформы, выявить закономерности, определяющие успешность игры"
   ]
  },
  {
   "cell_type": "markdown",
   "metadata": {},
   "source": [
    "## Описание данных<a id='section2'></a>\n",
    "\n"
   ]
  },
  {
   "cell_type": "markdown",
   "metadata": {},
   "source": [
    "## Шаг 1. Общая информация<a id='section3'></a>"
   ]
  },
  {
   "cell_type": "code",
   "execution_count": 1,
   "metadata": {},
   "outputs": [],
   "source": [
    "import pandas as pd\n",
    "import matplotlib.pyplot as plt\n",
    "import numpy as np\n",
    "import datetime as dt\n",
    "import seaborn as sns\n",
    "from scipy import stats as st"
   ]
  },
  {
   "cell_type": "code",
   "execution_count": 2,
   "metadata": {},
   "outputs": [],
   "source": [
    "df = pd.read_csv(filename)"
   ]
  },
  {
   "cell_type": "code",
   "execution_count": 3,
   "metadata": {},
   "outputs": [
    {
     "data": {
      "text/html": [
       "<div>\n",
       "<style scoped>\n",
       "    .dataframe tbody tr th:only-of-type {\n",
       "        vertical-align: middle;\n",
       "    }\n",
       "\n",
       "    .dataframe tbody tr th {\n",
       "        vertical-align: top;\n",
       "    }\n",
       "\n",
       "    .dataframe thead th {\n",
       "        text-align: right;\n",
       "    }\n",
       "</style>\n",
       "<table border=\"1\" class=\"dataframe\">\n",
       "  <thead>\n",
       "    <tr style=\"text-align: right;\">\n",
       "      <th></th>\n",
       "      <th>Name</th>\n",
       "      <th>Platform</th>\n",
       "      <th>Year_of_Release</th>\n",
       "      <th>Genre</th>\n",
       "      <th>NA_sales</th>\n",
       "      <th>EU_sales</th>\n",
       "      <th>JP_sales</th>\n",
       "      <th>Other_sales</th>\n",
       "      <th>Critic_Score</th>\n",
       "      <th>User_Score</th>\n",
       "      <th>Rating</th>\n",
       "    </tr>\n",
       "  </thead>\n",
       "  <tbody>\n",
       "    <tr>\n",
       "      <td>0</td>\n",
       "      <td>Wii Sports</td>\n",
       "      <td>Wii</td>\n",
       "      <td>2006.0</td>\n",
       "      <td>Sports</td>\n",
       "      <td>41.36</td>\n",
       "      <td>28.96</td>\n",
       "      <td>3.77</td>\n",
       "      <td>8.45</td>\n",
       "      <td>76.0</td>\n",
       "      <td>8</td>\n",
       "      <td>E</td>\n",
       "    </tr>\n",
       "    <tr>\n",
       "      <td>1</td>\n",
       "      <td>Super Mario Bros.</td>\n",
       "      <td>NES</td>\n",
       "      <td>1985.0</td>\n",
       "      <td>Platform</td>\n",
       "      <td>29.08</td>\n",
       "      <td>3.58</td>\n",
       "      <td>6.81</td>\n",
       "      <td>0.77</td>\n",
       "      <td>NaN</td>\n",
       "      <td>NaN</td>\n",
       "      <td>NaN</td>\n",
       "    </tr>\n",
       "    <tr>\n",
       "      <td>2</td>\n",
       "      <td>Mario Kart Wii</td>\n",
       "      <td>Wii</td>\n",
       "      <td>2008.0</td>\n",
       "      <td>Racing</td>\n",
       "      <td>15.68</td>\n",
       "      <td>12.76</td>\n",
       "      <td>3.79</td>\n",
       "      <td>3.29</td>\n",
       "      <td>82.0</td>\n",
       "      <td>8.3</td>\n",
       "      <td>E</td>\n",
       "    </tr>\n",
       "    <tr>\n",
       "      <td>3</td>\n",
       "      <td>Wii Sports Resort</td>\n",
       "      <td>Wii</td>\n",
       "      <td>2009.0</td>\n",
       "      <td>Sports</td>\n",
       "      <td>15.61</td>\n",
       "      <td>10.93</td>\n",
       "      <td>3.28</td>\n",
       "      <td>2.95</td>\n",
       "      <td>80.0</td>\n",
       "      <td>8</td>\n",
       "      <td>E</td>\n",
       "    </tr>\n",
       "    <tr>\n",
       "      <td>4</td>\n",
       "      <td>Pokemon Red/Pokemon Blue</td>\n",
       "      <td>GB</td>\n",
       "      <td>1996.0</td>\n",
       "      <td>Role-Playing</td>\n",
       "      <td>11.27</td>\n",
       "      <td>8.89</td>\n",
       "      <td>10.22</td>\n",
       "      <td>1.00</td>\n",
       "      <td>NaN</td>\n",
       "      <td>NaN</td>\n",
       "      <td>NaN</td>\n",
       "    </tr>\n",
       "    <tr>\n",
       "      <td>5</td>\n",
       "      <td>Tetris</td>\n",
       "      <td>GB</td>\n",
       "      <td>1989.0</td>\n",
       "      <td>Puzzle</td>\n",
       "      <td>23.20</td>\n",
       "      <td>2.26</td>\n",
       "      <td>4.22</td>\n",
       "      <td>0.58</td>\n",
       "      <td>NaN</td>\n",
       "      <td>NaN</td>\n",
       "      <td>NaN</td>\n",
       "    </tr>\n",
       "    <tr>\n",
       "      <td>6</td>\n",
       "      <td>New Super Mario Bros.</td>\n",
       "      <td>DS</td>\n",
       "      <td>2006.0</td>\n",
       "      <td>Platform</td>\n",
       "      <td>11.28</td>\n",
       "      <td>9.14</td>\n",
       "      <td>6.50</td>\n",
       "      <td>2.88</td>\n",
       "      <td>89.0</td>\n",
       "      <td>8.5</td>\n",
       "      <td>E</td>\n",
       "    </tr>\n",
       "    <tr>\n",
       "      <td>7</td>\n",
       "      <td>Wii Play</td>\n",
       "      <td>Wii</td>\n",
       "      <td>2006.0</td>\n",
       "      <td>Misc</td>\n",
       "      <td>13.96</td>\n",
       "      <td>9.18</td>\n",
       "      <td>2.93</td>\n",
       "      <td>2.84</td>\n",
       "      <td>58.0</td>\n",
       "      <td>6.6</td>\n",
       "      <td>E</td>\n",
       "    </tr>\n",
       "    <tr>\n",
       "      <td>8</td>\n",
       "      <td>New Super Mario Bros. Wii</td>\n",
       "      <td>Wii</td>\n",
       "      <td>2009.0</td>\n",
       "      <td>Platform</td>\n",
       "      <td>14.44</td>\n",
       "      <td>6.94</td>\n",
       "      <td>4.70</td>\n",
       "      <td>2.24</td>\n",
       "      <td>87.0</td>\n",
       "      <td>8.4</td>\n",
       "      <td>E</td>\n",
       "    </tr>\n",
       "    <tr>\n",
       "      <td>9</td>\n",
       "      <td>Duck Hunt</td>\n",
       "      <td>NES</td>\n",
       "      <td>1984.0</td>\n",
       "      <td>Shooter</td>\n",
       "      <td>26.93</td>\n",
       "      <td>0.63</td>\n",
       "      <td>0.28</td>\n",
       "      <td>0.47</td>\n",
       "      <td>NaN</td>\n",
       "      <td>NaN</td>\n",
       "      <td>NaN</td>\n",
       "    </tr>\n",
       "  </tbody>\n",
       "</table>\n",
       "</div>"
      ],
      "text/plain": [
       "                        Name Platform  Year_of_Release         Genre  \\\n",
       "0                 Wii Sports      Wii           2006.0        Sports   \n",
       "1          Super Mario Bros.      NES           1985.0      Platform   \n",
       "2             Mario Kart Wii      Wii           2008.0        Racing   \n",
       "3          Wii Sports Resort      Wii           2009.0        Sports   \n",
       "4   Pokemon Red/Pokemon Blue       GB           1996.0  Role-Playing   \n",
       "5                     Tetris       GB           1989.0        Puzzle   \n",
       "6      New Super Mario Bros.       DS           2006.0      Platform   \n",
       "7                   Wii Play      Wii           2006.0          Misc   \n",
       "8  New Super Mario Bros. Wii      Wii           2009.0      Platform   \n",
       "9                  Duck Hunt      NES           1984.0       Shooter   \n",
       "\n",
       "   NA_sales  EU_sales  JP_sales  Other_sales  Critic_Score User_Score Rating  \n",
       "0     41.36     28.96      3.77         8.45          76.0          8      E  \n",
       "1     29.08      3.58      6.81         0.77           NaN        NaN    NaN  \n",
       "2     15.68     12.76      3.79         3.29          82.0        8.3      E  \n",
       "3     15.61     10.93      3.28         2.95          80.0          8      E  \n",
       "4     11.27      8.89     10.22         1.00           NaN        NaN    NaN  \n",
       "5     23.20      2.26      4.22         0.58           NaN        NaN    NaN  \n",
       "6     11.28      9.14      6.50         2.88          89.0        8.5      E  \n",
       "7     13.96      9.18      2.93         2.84          58.0        6.6      E  \n",
       "8     14.44      6.94      4.70         2.24          87.0        8.4      E  \n",
       "9     26.93      0.63      0.28         0.47           NaN        NaN    NaN  "
      ]
     },
     "execution_count": 3,
     "metadata": {},
     "output_type": "execute_result"
    }
   ],
   "source": [
    "df.head(10)"
   ]
  },
  {
   "cell_type": "code",
   "execution_count": 4,
   "metadata": {},
   "outputs": [
    {
     "name": "stdout",
     "output_type": "stream",
     "text": [
      "<class 'pandas.core.frame.DataFrame'>\n",
      "RangeIndex: 16715 entries, 0 to 16714\n",
      "Data columns (total 11 columns):\n",
      "Name               16713 non-null object\n",
      "Platform           16715 non-null object\n",
      "Year_of_Release    16446 non-null float64\n",
      "Genre              16713 non-null object\n",
      "NA_sales           16715 non-null float64\n",
      "EU_sales           16715 non-null float64\n",
      "JP_sales           16715 non-null float64\n",
      "Other_sales        16715 non-null float64\n",
      "Critic_Score       8137 non-null float64\n",
      "User_Score         10014 non-null object\n",
      "Rating             9949 non-null object\n",
      "dtypes: float64(6), object(5)\n",
      "memory usage: 1.4+ MB\n"
     ]
    }
   ],
   "source": [
    "df.info()"
   ]
  },
  {
   "cell_type": "code",
   "execution_count": 5,
   "metadata": {},
   "outputs": [
    {
     "data": {
      "text/plain": [
       "0"
      ]
     },
     "execution_count": 5,
     "metadata": {},
     "output_type": "execute_result"
    }
   ],
   "source": [
    "df.duplicated().sum()"
   ]
  },
  {
   "cell_type": "markdown",
   "metadata": {},
   "source": [
    "#### Вывод:\n",
    "\n",
    "1. Практически в каждом столбце есть свои пропущенные значения, особенно много пропусков в данных с рейтингами игр. Возможно в какие-то года, каких-то рейтингов еще не существовало, или какие-то игры не участвовали в оценках по тем или иным причинам.\n",
    "\n",
    "2. Названия столбцов с разными регистрами, надо привести к нижнему\n",
    "\n",
    "3. Дупликатов нет."
   ]
  },
  {
   "cell_type": "markdown",
   "metadata": {},
   "source": [
    "## Шаг 2. Подготовка данных<a id='section4'></a>"
   ]
  },
  {
   "cell_type": "code",
   "execution_count": 6,
   "metadata": {},
   "outputs": [],
   "source": [
    "#приведем названия столбцов к нижнему регистру\n",
    "df.columns = df.columns.str.lower()"
   ]
  },
  {
   "cell_type": "code",
   "execution_count": 7,
   "metadata": {},
   "outputs": [
    {
     "data": {
      "text/html": [
       "<div>\n",
       "<style scoped>\n",
       "    .dataframe tbody tr th:only-of-type {\n",
       "        vertical-align: middle;\n",
       "    }\n",
       "\n",
       "    .dataframe tbody tr th {\n",
       "        vertical-align: top;\n",
       "    }\n",
       "\n",
       "    .dataframe thead th {\n",
       "        text-align: right;\n",
       "    }\n",
       "</style>\n",
       "<table border=\"1\" class=\"dataframe\">\n",
       "  <thead>\n",
       "    <tr style=\"text-align: right;\">\n",
       "      <th></th>\n",
       "      <th>name</th>\n",
       "      <th>platform</th>\n",
       "      <th>year_of_release</th>\n",
       "      <th>genre</th>\n",
       "      <th>na_sales</th>\n",
       "      <th>eu_sales</th>\n",
       "      <th>jp_sales</th>\n",
       "      <th>other_sales</th>\n",
       "      <th>critic_score</th>\n",
       "      <th>user_score</th>\n",
       "      <th>rating</th>\n",
       "    </tr>\n",
       "  </thead>\n",
       "  <tbody>\n",
       "    <tr>\n",
       "      <td>659</td>\n",
       "      <td>NaN</td>\n",
       "      <td>GEN</td>\n",
       "      <td>1993.0</td>\n",
       "      <td>NaN</td>\n",
       "      <td>1.78</td>\n",
       "      <td>0.53</td>\n",
       "      <td>0.00</td>\n",
       "      <td>0.08</td>\n",
       "      <td>NaN</td>\n",
       "      <td>NaN</td>\n",
       "      <td>NaN</td>\n",
       "    </tr>\n",
       "    <tr>\n",
       "      <td>14244</td>\n",
       "      <td>NaN</td>\n",
       "      <td>GEN</td>\n",
       "      <td>1993.0</td>\n",
       "      <td>NaN</td>\n",
       "      <td>0.00</td>\n",
       "      <td>0.00</td>\n",
       "      <td>0.03</td>\n",
       "      <td>0.00</td>\n",
       "      <td>NaN</td>\n",
       "      <td>NaN</td>\n",
       "      <td>NaN</td>\n",
       "    </tr>\n",
       "  </tbody>\n",
       "</table>\n",
       "</div>"
      ],
      "text/plain": [
       "      name platform  year_of_release genre  na_sales  eu_sales  jp_sales  \\\n",
       "659    NaN      GEN           1993.0   NaN      1.78      0.53      0.00   \n",
       "14244  NaN      GEN           1993.0   NaN      0.00      0.00      0.03   \n",
       "\n",
       "       other_sales  critic_score user_score rating  \n",
       "659           0.08           NaN        NaN    NaN  \n",
       "14244         0.00           NaN        NaN    NaN  "
      ]
     },
     "execution_count": 7,
     "metadata": {},
     "output_type": "execute_result"
    }
   ],
   "source": [
    "#посмотрим на 2 строки в столбце  'name' c NaN\n",
    "df[df['name'].isnull()]\n"
   ]
  },
  {
   "cell_type": "code",
   "execution_count": 8,
   "metadata": {},
   "outputs": [
    {
     "data": {
      "text/plain": [
       "4402.35"
      ]
     },
     "execution_count": 8,
     "metadata": {},
     "output_type": "execute_result"
    }
   ],
   "source": [
    "df['na_sales'].sum()"
   ]
  },
  {
   "cell_type": "code",
   "execution_count": 9,
   "metadata": {},
   "outputs": [],
   "source": [
    "#удалим эти 2 строки, так как информация от этих двух строк незначительна\n",
    "df=df.dropna(subset=['name'], axis='index').reset_index(drop=True)"
   ]
  },
  {
   "cell_type": "code",
   "execution_count": 10,
   "metadata": {},
   "outputs": [
    {
     "data": {
      "text/plain": [
       "269"
      ]
     },
     "execution_count": 10,
     "metadata": {},
     "output_type": "execute_result"
    }
   ],
   "source": [
    "df.year_of_release.isna().sum()"
   ]
  },
  {
   "cell_type": "code",
   "execution_count": 11,
   "metadata": {},
   "outputs": [
    {
     "data": {
      "text/html": [
       "<div>\n",
       "<style scoped>\n",
       "    .dataframe tbody tr th:only-of-type {\n",
       "        vertical-align: middle;\n",
       "    }\n",
       "\n",
       "    .dataframe tbody tr th {\n",
       "        vertical-align: top;\n",
       "    }\n",
       "\n",
       "    .dataframe thead th {\n",
       "        text-align: right;\n",
       "    }\n",
       "</style>\n",
       "<table border=\"1\" class=\"dataframe\">\n",
       "  <thead>\n",
       "    <tr style=\"text-align: right;\">\n",
       "      <th></th>\n",
       "      <th>name</th>\n",
       "      <th>platform</th>\n",
       "      <th>year_of_release</th>\n",
       "      <th>genre</th>\n",
       "      <th>na_sales</th>\n",
       "      <th>eu_sales</th>\n",
       "      <th>jp_sales</th>\n",
       "      <th>other_sales</th>\n",
       "      <th>critic_score</th>\n",
       "      <th>user_score</th>\n",
       "      <th>rating</th>\n",
       "    </tr>\n",
       "  </thead>\n",
       "  <tbody>\n",
       "    <tr>\n",
       "      <td>10999</td>\n",
       "      <td>Demon Chaos</td>\n",
       "      <td>PS2</td>\n",
       "      <td>NaN</td>\n",
       "      <td>Action</td>\n",
       "      <td>0.00</td>\n",
       "      <td>0.00</td>\n",
       "      <td>0.09</td>\n",
       "      <td>0.00</td>\n",
       "      <td>NaN</td>\n",
       "      <td>NaN</td>\n",
       "      <td>NaN</td>\n",
       "    </tr>\n",
       "    <tr>\n",
       "      <td>10049</td>\n",
       "      <td>Star Trek: Conquest</td>\n",
       "      <td>PS2</td>\n",
       "      <td>NaN</td>\n",
       "      <td>Strategy</td>\n",
       "      <td>0.06</td>\n",
       "      <td>0.04</td>\n",
       "      <td>0.00</td>\n",
       "      <td>0.01</td>\n",
       "      <td>54.0</td>\n",
       "      <td>9.1</td>\n",
       "      <td>E</td>\n",
       "    </tr>\n",
       "    <tr>\n",
       "      <td>183</td>\n",
       "      <td>Madden NFL 2004</td>\n",
       "      <td>PS2</td>\n",
       "      <td>NaN</td>\n",
       "      <td>Sports</td>\n",
       "      <td>4.26</td>\n",
       "      <td>0.26</td>\n",
       "      <td>0.01</td>\n",
       "      <td>0.71</td>\n",
       "      <td>94.0</td>\n",
       "      <td>8.5</td>\n",
       "      <td>E</td>\n",
       "    </tr>\n",
       "    <tr>\n",
       "      <td>11564</td>\n",
       "      <td>Rock Revolution</td>\n",
       "      <td>Wii</td>\n",
       "      <td>NaN</td>\n",
       "      <td>Misc</td>\n",
       "      <td>0.07</td>\n",
       "      <td>0.00</td>\n",
       "      <td>0.00</td>\n",
       "      <td>0.01</td>\n",
       "      <td>46.0</td>\n",
       "      <td>tbd</td>\n",
       "      <td>T</td>\n",
       "    </tr>\n",
       "    <tr>\n",
       "      <td>8739</td>\n",
       "      <td>Home Run</td>\n",
       "      <td>2600</td>\n",
       "      <td>NaN</td>\n",
       "      <td>Sports</td>\n",
       "      <td>0.14</td>\n",
       "      <td>0.01</td>\n",
       "      <td>0.00</td>\n",
       "      <td>0.00</td>\n",
       "      <td>NaN</td>\n",
       "      <td>NaN</td>\n",
       "      <td>NaN</td>\n",
       "    </tr>\n",
       "    <tr>\n",
       "      <td>2272</td>\n",
       "      <td>LEGO Harry Potter: Years 5-7</td>\n",
       "      <td>PS3</td>\n",
       "      <td>NaN</td>\n",
       "      <td>Action</td>\n",
       "      <td>0.36</td>\n",
       "      <td>0.41</td>\n",
       "      <td>0.00</td>\n",
       "      <td>0.15</td>\n",
       "      <td>76.0</td>\n",
       "      <td>8.3</td>\n",
       "      <td>E10+</td>\n",
       "    </tr>\n",
       "    <tr>\n",
       "      <td>6100</td>\n",
       "      <td>Haven: Call of the King</td>\n",
       "      <td>PS2</td>\n",
       "      <td>NaN</td>\n",
       "      <td>Platform</td>\n",
       "      <td>0.14</td>\n",
       "      <td>0.11</td>\n",
       "      <td>0.00</td>\n",
       "      <td>0.04</td>\n",
       "      <td>69.0</td>\n",
       "      <td>6.9</td>\n",
       "      <td>T</td>\n",
       "    </tr>\n",
       "    <tr>\n",
       "      <td>9854</td>\n",
       "      <td>The Daring Game for Girls</td>\n",
       "      <td>DS</td>\n",
       "      <td>NaN</td>\n",
       "      <td>Adventure</td>\n",
       "      <td>0.11</td>\n",
       "      <td>0.00</td>\n",
       "      <td>0.00</td>\n",
       "      <td>0.01</td>\n",
       "      <td>NaN</td>\n",
       "      <td>tbd</td>\n",
       "      <td>E</td>\n",
       "    </tr>\n",
       "    <tr>\n",
       "      <td>2452</td>\n",
       "      <td>The Lord of the Rings: War in the North</td>\n",
       "      <td>X360</td>\n",
       "      <td>NaN</td>\n",
       "      <td>Action</td>\n",
       "      <td>0.52</td>\n",
       "      <td>0.24</td>\n",
       "      <td>0.00</td>\n",
       "      <td>0.08</td>\n",
       "      <td>61.0</td>\n",
       "      <td>7.4</td>\n",
       "      <td>M</td>\n",
       "    </tr>\n",
       "    <tr>\n",
       "      <td>13194</td>\n",
       "      <td>Tour de France 2011</td>\n",
       "      <td>X360</td>\n",
       "      <td>NaN</td>\n",
       "      <td>Racing</td>\n",
       "      <td>0.00</td>\n",
       "      <td>0.04</td>\n",
       "      <td>0.00</td>\n",
       "      <td>0.01</td>\n",
       "      <td>46.0</td>\n",
       "      <td>7.6</td>\n",
       "      <td>NaN</td>\n",
       "    </tr>\n",
       "  </tbody>\n",
       "</table>\n",
       "</div>"
      ],
      "text/plain": [
       "                                          name platform  year_of_release  \\\n",
       "10999                              Demon Chaos      PS2              NaN   \n",
       "10049                      Star Trek: Conquest      PS2              NaN   \n",
       "183                            Madden NFL 2004      PS2              NaN   \n",
       "11564                          Rock Revolution      Wii              NaN   \n",
       "8739                                  Home Run     2600              NaN   \n",
       "2272              LEGO Harry Potter: Years 5-7      PS3              NaN   \n",
       "6100                   Haven: Call of the King      PS2              NaN   \n",
       "9854                 The Daring Game for Girls       DS              NaN   \n",
       "2452   The Lord of the Rings: War in the North     X360              NaN   \n",
       "13194                      Tour de France 2011     X360              NaN   \n",
       "\n",
       "           genre  na_sales  eu_sales  jp_sales  other_sales  critic_score  \\\n",
       "10999     Action      0.00      0.00      0.09         0.00           NaN   \n",
       "10049   Strategy      0.06      0.04      0.00         0.01          54.0   \n",
       "183       Sports      4.26      0.26      0.01         0.71          94.0   \n",
       "11564       Misc      0.07      0.00      0.00         0.01          46.0   \n",
       "8739      Sports      0.14      0.01      0.00         0.00           NaN   \n",
       "2272      Action      0.36      0.41      0.00         0.15          76.0   \n",
       "6100    Platform      0.14      0.11      0.00         0.04          69.0   \n",
       "9854   Adventure      0.11      0.00      0.00         0.01           NaN   \n",
       "2452      Action      0.52      0.24      0.00         0.08          61.0   \n",
       "13194     Racing      0.00      0.04      0.00         0.01          46.0   \n",
       "\n",
       "      user_score rating  \n",
       "10999        NaN    NaN  \n",
       "10049        9.1      E  \n",
       "183          8.5      E  \n",
       "11564        tbd      T  \n",
       "8739         NaN    NaN  \n",
       "2272         8.3   E10+  \n",
       "6100         6.9      T  \n",
       "9854         tbd      E  \n",
       "2452         7.4      M  \n",
       "13194        7.6    NaN  "
      ]
     },
     "execution_count": 11,
     "metadata": {},
     "output_type": "execute_result"
    }
   ],
   "source": [
    "df[df['year_of_release'].isnull()].sample(10)"
   ]
  },
  {
   "cell_type": "code",
   "execution_count": 12,
   "metadata": {},
   "outputs": [],
   "source": [
    "#Пропусков по годам не очень большое количество, заполним пропуски в годах маркером 1111, \n",
    "#и отследим в дальнейшем его поведение в данных\n",
    "df['year_of_release']= df['year_of_release'].fillna(1111) "
   ]
  },
  {
   "cell_type": "markdown",
   "metadata": {},
   "source": [
    "Пропуски в оценках критиков, оставим пропусками, так как апроксимировать эти значения, значит сильно искажать картину, а рейтинги будут необъективными. Заполним пропуски в оценках критиков маркером 2222, так их удобнее отслеживать в дальнейшем:"
   ]
  },
  {
   "cell_type": "code",
   "execution_count": 13,
   "metadata": {},
   "outputs": [],
   "source": [
    "df['critic_score']= df['critic_score'].fillna(2222) "
   ]
  },
  {
   "cell_type": "markdown",
   "metadata": {},
   "source": [
    "Заменим значения tbd (to be determined - рейтинг будет определен) в столбце user_score на nan, так как пока этого рейтинга нет, и все nan заполним маркером 3333. Заполнять пропуски апроксимированными значениями, значит сильно искажать картину, и рейтинги будут необъективными."
   ]
  },
  {
   "cell_type": "code",
   "execution_count": 14,
   "metadata": {},
   "outputs": [
    {
     "data": {
      "text/plain": [
       "2424"
      ]
     },
     "execution_count": 14,
     "metadata": {},
     "output_type": "execute_result"
    }
   ],
   "source": [
    "len(df.query('user_score == \"tbd\"'))"
   ]
  },
  {
   "cell_type": "code",
   "execution_count": 15,
   "metadata": {},
   "outputs": [
    {
     "data": {
      "text/plain": [
       "6699"
      ]
     },
     "execution_count": 15,
     "metadata": {},
     "output_type": "execute_result"
    }
   ],
   "source": [
    "df['user_score'].isna().sum()"
   ]
  },
  {
   "cell_type": "code",
   "execution_count": 16,
   "metadata": {},
   "outputs": [],
   "source": [
    "df = df.replace('tbd', np.nan)"
   ]
  },
  {
   "cell_type": "code",
   "execution_count": 17,
   "metadata": {},
   "outputs": [],
   "source": [
    "#приведем к типу float\n",
    "df['user_score'] = df['user_score'].astype(float)"
   ]
  },
  {
   "cell_type": "code",
   "execution_count": 18,
   "metadata": {},
   "outputs": [],
   "source": [
    "df['user_score']= df['user_score'].fillna(3333) "
   ]
  },
  {
   "cell_type": "markdown",
   "metadata": {},
   "source": [
    "Заполним пропуски в столбце 'rating' значением none,  потому как мы не знаем возрастного ограничения по играм"
   ]
  },
  {
   "cell_type": "code",
   "execution_count": 19,
   "metadata": {},
   "outputs": [],
   "source": [
    "df['rating']=df['rating'].fillna('none')"
   ]
  },
  {
   "cell_type": "markdown",
   "metadata": {},
   "source": [
    "Поменяем тип данных столбца 'year_of_release' на целочисленный"
   ]
  },
  {
   "cell_type": "code",
   "execution_count": 20,
   "metadata": {},
   "outputs": [],
   "source": [
    "df['year_of_release'] =  df['year_of_release'].astype(int)"
   ]
  },
  {
   "cell_type": "code",
   "execution_count": 21,
   "metadata": {},
   "outputs": [
    {
     "data": {
      "text/plain": [
       "name                object\n",
       "platform            object\n",
       "year_of_release      int64\n",
       "genre               object\n",
       "na_sales           float64\n",
       "eu_sales           float64\n",
       "jp_sales           float64\n",
       "other_sales        float64\n",
       "critic_score       float64\n",
       "user_score         float64\n",
       "rating              object\n",
       "dtype: object"
      ]
     },
     "execution_count": 21,
     "metadata": {},
     "output_type": "execute_result"
    }
   ],
   "source": [
    "df.dtypes"
   ]
  },
  {
   "cell_type": "markdown",
   "metadata": {},
   "source": [
    "Посчитаем суммарные продажи по регионам, и запишем в отдельный столбец 'total_sales'"
   ]
  },
  {
   "cell_type": "code",
   "execution_count": 22,
   "metadata": {},
   "outputs": [],
   "source": [
    "#напишем функцию, которая считает сумму столбцов с продажами\n",
    "def total_sales(row):\n",
    "    \n",
    "    a=row['na_sales']\n",
    "    b=row['eu_sales']\n",
    "    c=row['jp_sales']\n",
    "    d=row['other_sales']\n",
    "    \n",
    "    total_sales = a+b+c+d\n",
    "    \n",
    "    return total_sales"
   ]
  },
  {
   "cell_type": "code",
   "execution_count": 23,
   "metadata": {},
   "outputs": [],
   "source": [
    "df['total_sales']=df.apply(total_sales, axis=1)"
   ]
  },
  {
   "cell_type": "code",
   "execution_count": 24,
   "metadata": {},
   "outputs": [
    {
     "data": {
      "text/html": [
       "<div>\n",
       "<style scoped>\n",
       "    .dataframe tbody tr th:only-of-type {\n",
       "        vertical-align: middle;\n",
       "    }\n",
       "\n",
       "    .dataframe tbody tr th {\n",
       "        vertical-align: top;\n",
       "    }\n",
       "\n",
       "    .dataframe thead th {\n",
       "        text-align: right;\n",
       "    }\n",
       "</style>\n",
       "<table border=\"1\" class=\"dataframe\">\n",
       "  <thead>\n",
       "    <tr style=\"text-align: right;\">\n",
       "      <th></th>\n",
       "      <th>name</th>\n",
       "      <th>platform</th>\n",
       "      <th>year_of_release</th>\n",
       "      <th>genre</th>\n",
       "      <th>na_sales</th>\n",
       "      <th>eu_sales</th>\n",
       "      <th>jp_sales</th>\n",
       "      <th>other_sales</th>\n",
       "      <th>critic_score</th>\n",
       "      <th>user_score</th>\n",
       "      <th>rating</th>\n",
       "      <th>total_sales</th>\n",
       "    </tr>\n",
       "  </thead>\n",
       "  <tbody>\n",
       "    <tr>\n",
       "      <td>0</td>\n",
       "      <td>Wii Sports</td>\n",
       "      <td>Wii</td>\n",
       "      <td>2006</td>\n",
       "      <td>Sports</td>\n",
       "      <td>41.36</td>\n",
       "      <td>28.96</td>\n",
       "      <td>3.77</td>\n",
       "      <td>8.45</td>\n",
       "      <td>76.0</td>\n",
       "      <td>8.0</td>\n",
       "      <td>E</td>\n",
       "      <td>82.54</td>\n",
       "    </tr>\n",
       "    <tr>\n",
       "      <td>1</td>\n",
       "      <td>Super Mario Bros.</td>\n",
       "      <td>NES</td>\n",
       "      <td>1985</td>\n",
       "      <td>Platform</td>\n",
       "      <td>29.08</td>\n",
       "      <td>3.58</td>\n",
       "      <td>6.81</td>\n",
       "      <td>0.77</td>\n",
       "      <td>2222.0</td>\n",
       "      <td>3333.0</td>\n",
       "      <td>none</td>\n",
       "      <td>40.24</td>\n",
       "    </tr>\n",
       "    <tr>\n",
       "      <td>2</td>\n",
       "      <td>Mario Kart Wii</td>\n",
       "      <td>Wii</td>\n",
       "      <td>2008</td>\n",
       "      <td>Racing</td>\n",
       "      <td>15.68</td>\n",
       "      <td>12.76</td>\n",
       "      <td>3.79</td>\n",
       "      <td>3.29</td>\n",
       "      <td>82.0</td>\n",
       "      <td>8.3</td>\n",
       "      <td>E</td>\n",
       "      <td>35.52</td>\n",
       "    </tr>\n",
       "    <tr>\n",
       "      <td>3</td>\n",
       "      <td>Wii Sports Resort</td>\n",
       "      <td>Wii</td>\n",
       "      <td>2009</td>\n",
       "      <td>Sports</td>\n",
       "      <td>15.61</td>\n",
       "      <td>10.93</td>\n",
       "      <td>3.28</td>\n",
       "      <td>2.95</td>\n",
       "      <td>80.0</td>\n",
       "      <td>8.0</td>\n",
       "      <td>E</td>\n",
       "      <td>32.77</td>\n",
       "    </tr>\n",
       "    <tr>\n",
       "      <td>4</td>\n",
       "      <td>Pokemon Red/Pokemon Blue</td>\n",
       "      <td>GB</td>\n",
       "      <td>1996</td>\n",
       "      <td>Role-Playing</td>\n",
       "      <td>11.27</td>\n",
       "      <td>8.89</td>\n",
       "      <td>10.22</td>\n",
       "      <td>1.00</td>\n",
       "      <td>2222.0</td>\n",
       "      <td>3333.0</td>\n",
       "      <td>none</td>\n",
       "      <td>31.38</td>\n",
       "    </tr>\n",
       "  </tbody>\n",
       "</table>\n",
       "</div>"
      ],
      "text/plain": [
       "                       name platform  year_of_release         genre  na_sales  \\\n",
       "0                Wii Sports      Wii             2006        Sports     41.36   \n",
       "1         Super Mario Bros.      NES             1985      Platform     29.08   \n",
       "2            Mario Kart Wii      Wii             2008        Racing     15.68   \n",
       "3         Wii Sports Resort      Wii             2009        Sports     15.61   \n",
       "4  Pokemon Red/Pokemon Blue       GB             1996  Role-Playing     11.27   \n",
       "\n",
       "   eu_sales  jp_sales  other_sales  critic_score  user_score rating  \\\n",
       "0     28.96      3.77         8.45          76.0         8.0      E   \n",
       "1      3.58      6.81         0.77        2222.0      3333.0   none   \n",
       "2     12.76      3.79         3.29          82.0         8.3      E   \n",
       "3     10.93      3.28         2.95          80.0         8.0      E   \n",
       "4      8.89     10.22         1.00        2222.0      3333.0   none   \n",
       "\n",
       "   total_sales  \n",
       "0        82.54  \n",
       "1        40.24  \n",
       "2        35.52  \n",
       "3        32.77  \n",
       "4        31.38  "
      ]
     },
     "execution_count": 24,
     "metadata": {},
     "output_type": "execute_result"
    }
   ],
   "source": [
    "df.head()"
   ]
  },
  {
   "cell_type": "markdown",
   "metadata": {},
   "source": [
    "#### Вывод\n",
    "\n",
    "1. Мы привели названия столбцов к нижнему регистру\n",
    "\n",
    "2. Преобразовали year_of_release в тип int, для того чтобы применять все методы к этому столбцу;\n",
    "\n",
    "3. Удалили две строки с nan в name, как несущественные\n",
    "\n",
    "4. Обработали пропуски в столбцах:\n",
    "\n",
    "    - **year_of_release** маркером 1111, ;\n",
    "    - **critic_score** - пропуски в оценках критиков, оставим пропусками, так как апроксимировать эти значения, значит сильно искажать картину, и рейтинги будут необъективными. Заполнили пропуски в оценках критиков маркером 2222, так их удобнее отслеживать в дальнейшем:;\n",
    "    - **user_score** - заменили значения tbd (to be determined - рейтинг будет определен) в столбце user_score на nan, так как пока этого рейтинга нет, и все nan заполним маркером 3333. Заполнять пропуски апроксимированными значениями, значит сильно искажать картину, и рейтинги будут необъективными.\n",
    "    - заполнили пропуски в столбце **'rating'** значением none,  потому как мы не знали возрастного ограничения по играм;\n",
    "\n",
    "\n",
    "5. Посчитали суммарные продажи по регионам, и запишем в отдельный столбец 'total_sales'."
   ]
  },
  {
   "cell_type": "markdown",
   "metadata": {},
   "source": [
    "## Шаг 3. Исследовательский анализ данных<a id='section5'></a>"
   ]
  },
  {
   "cell_type": "code",
   "execution_count": 25,
   "metadata": {},
   "outputs": [
    {
     "data": {
      "image/png": "[encoded data removed]",
      "text/plain": [
       "<Figure size 1008x576 with 1 Axes>"
      ]
     },
     "metadata": {
      "needs_background": "light"
     },
     "output_type": "display_data"
    }
   ],
   "source": [
    "#посморим количество игр, выпускемых в разные годы, исключив значения с 1111:\n",
    "df.query('year_of_release>1111')['year_of_release'].hist(bins=20, figsize=(14, 8))\n",
    "plt.title('Гистограмма распределения игр по годам')\n",
    "plt.xlabel('Год выпуска')\n",
    "plt.ylabel('Кол-во')\n",
    "plt.xlim(1995,2018);"
   ]
  },
  {
   "cell_type": "code",
   "execution_count": 26,
   "metadata": {},
   "outputs": [
    {
     "data": {
      "text/plain": [
       "0.029079159935379646"
      ]
     },
     "execution_count": 26,
     "metadata": {},
     "output_type": "execute_result"
    }
   ],
   "source": [
    "df['year_of_release'].value_counts().tail(15).sum()/len(df)"
   ]
  },
  {
   "cell_type": "markdown",
   "metadata": {},
   "source": [
    "За первые 15 лет индустрия произвела 3% всех игр и можем смело их отбросить и рассматривать игры с 1995 года"
   ]
  },
  {
   "cell_type": "code",
   "execution_count": 27,
   "metadata": {},
   "outputs": [],
   "source": [
    "df=df.query('year_of_release > 1995')"
   ]
  },
  {
   "cell_type": "markdown",
   "metadata": {},
   "source": [
    "Посмотрим распределение объемов продаж по платформам"
   ]
  },
  {
   "cell_type": "code",
   "execution_count": 28,
   "metadata": {},
   "outputs": [
    {
     "data": {
      "image/png": "[encoded data removed]",
      "text/plain": [
       "<Figure size 864x576 with 1 Axes>"
      ]
     },
     "metadata": {
      "needs_background": "light"
     },
     "output_type": "display_data"
    }
   ],
   "source": [
    "df.groupby('platform')['total_sales'].agg('sum').sort_values().plot(kind='bar', figsize=(12,8))\n",
    "plt.title('График распределения объемов продаж по платформам')\n",
    "plt.xlabel('Платформа')\n",
    "plt.ylabel('Продажи, млн копий')\n",
    "plt.grid();"
   ]
  },
  {
   "cell_type": "markdown",
   "metadata": {},
   "source": [
    "Мы видим самые высокие продажи на платтформах PS2, X360, PS3, Wii, DS, PS. После этого продажи уменьшаются в два раза."
   ]
  },
  {
   "cell_type": "markdown",
   "metadata": {},
   "source": [
    "Возьмем эти шесть платформ, добавим туда игры на PC(как вечную классику) и построим распределение объема продаж по годам:"
   ]
  },
  {
   "cell_type": "code",
   "execution_count": 29,
   "metadata": {},
   "outputs": [
    {
     "name": "stdout",
     "output_type": "stream",
     "text": [
      "<class 'pandas.core.frame.DataFrame'>\n",
      "Int64Index: 10087 entries, 0 to 16709\n",
      "Data columns (total 12 columns):\n",
      "name               10087 non-null object\n",
      "platform           10087 non-null object\n",
      "year_of_release    10087 non-null int64\n",
      "genre              10087 non-null object\n",
      "na_sales           10087 non-null float64\n",
      "eu_sales           10087 non-null float64\n",
      "jp_sales           10087 non-null float64\n",
      "other_sales        10087 non-null float64\n",
      "critic_score       10087 non-null float64\n",
      "user_score         10087 non-null float64\n",
      "rating             10087 non-null object\n",
      "total_sales        10087 non-null float64\n",
      "dtypes: float64(7), int64(1), object(4)\n",
      "memory usage: 1.0+ MB\n"
     ]
    }
   ],
   "source": [
    "df_stars = df.query('platform in (\"PS2\", \"X360\", \"PS3\", \"Wii\", \"DS\", \"PS\", \"PC\")')\n",
    "df_stars.info()"
   ]
  },
  {
   "cell_type": "code",
   "execution_count": 30,
   "metadata": {},
   "outputs": [],
   "source": [
    "df_stars_pivot = df_stars.pivot_table('total_sales', index='year_of_release', columns='platform', aggfunc='sum')"
   ]
  },
  {
   "cell_type": "code",
   "execution_count": 31,
   "metadata": {},
   "outputs": [
    {
     "data": {
      "image/png": "[encoded data removed]",
      "text/plain": [
       "<Figure size 1080x720 with 1 Axes>"
      ]
     },
     "metadata": {
      "needs_background": "light"
     },
     "output_type": "display_data"
    }
   ],
   "source": [
    "df_stars.pivot_table('total_sales', index='year_of_release', columns='platform', aggfunc='sum')\\\n",
    "                    .plot(figsize=(15,10), grid = True, title='Распределение объемов продаж по годам', xlim=(1994, 2017));\n",
    "plt.ylabel('Объем продаж')\n",
    "plt.xlabel('Год выпуска игры');"
   ]
  },
  {
   "cell_type": "markdown",
   "metadata": {},
   "source": [
    "Интересно, что средний срок жизни жизни платформы 8-11 лет. За время платформа растет, доходит до пика и угасает. Все распределения напоминают нормальные. А вот игры на PC имеют некую постоянную величину с небольшим пиком в 2011."
   ]
  },
  {
   "cell_type": "markdown",
   "metadata": {},
   "source": [
    "Построим гистограммы распределения продаж последних пяти лет. чтобы посмотреть какие платформы растут или находятся на пике своих продаж"
   ]
  },
  {
   "cell_type": "code",
   "execution_count": 32,
   "metadata": {},
   "outputs": [],
   "source": [
    "df1 = df.query('year_of_release >= 2010')"
   ]
  },
  {
   "cell_type": "code",
   "execution_count": 33,
   "metadata": {},
   "outputs": [
    {
     "data": {
      "image/png": "[encoded data removed]",
      "text/plain": [
       "<Figure size 1080x720 with 1 Axes>"
      ]
     },
     "metadata": {
      "needs_background": "light"
     },
     "output_type": "display_data"
    }
   ],
   "source": [
    "df1.pivot_table('total_sales', index='year_of_release', columns='platform', aggfunc='sum')\\\n",
    "                    .plot(figsize=(15,10), grid = True, title='Распределение объемов продаж по годам', xlim=(2011,2017));\n",
    "plt.ylabel('Объем продаж')\n",
    "plt.xlabel('Год выпуска игры');"
   ]
  },
  {
   "cell_type": "markdown",
   "metadata": {},
   "source": [
    "Из этих графиков можем заключить, что в 2016 у следующих платформ есть продажи и будут на следующий год и потенциал для роста (PS4, XOne):\n",
    "\n",
    "1. PS4 - продажи около 70 млн, 3 года на рынке\n",
    "2. XOne - продажи 25 млн, 3 года на рынке\n",
    "3. WiiU - продажи около 5 миллионов, игра появилась в 2012\n",
    "4. 3DS - продажи около 15 миллионов, игра появилась в 2011\n",
    "5. PC - продажи около 5 миллионов, платформа актуальна всегда.\n",
    "\n",
    "Актуальным можем считать период с 2013 года, в это время появляются новые платформы и стремятся продажи к нулю у старых."
   ]
  },
  {
   "cell_type": "markdown",
   "metadata": {},
   "source": [
    "Построим график «ящик с усами» по глобальным продажам игр в разбивке по платформам."
   ]
  },
  {
   "cell_type": "code",
   "execution_count": 34,
   "metadata": {},
   "outputs": [
    {
     "name": "stdout",
     "output_type": "stream",
     "text": [
      "<class 'pandas.core.frame.DataFrame'>\n",
      "Int64Index: 1246 entries, 31 to 16690\n",
      "Data columns (total 12 columns):\n",
      "name               1246 non-null object\n",
      "platform           1246 non-null object\n",
      "year_of_release    1246 non-null int64\n",
      "genre              1246 non-null object\n",
      "na_sales           1246 non-null float64\n",
      "eu_sales           1246 non-null float64\n",
      "jp_sales           1246 non-null float64\n",
      "other_sales        1246 non-null float64\n",
      "critic_score       1246 non-null float64\n",
      "user_score         1246 non-null float64\n",
      "rating             1246 non-null object\n",
      "total_sales        1246 non-null float64\n",
      "dtypes: float64(7), int64(1), object(4)\n",
      "memory usage: 126.5+ KB\n"
     ]
    }
   ],
   "source": [
    "#Опредедим актуальный срез по этим 5 играм начиная с 2013 года\n",
    "df_act = df.query('(platform in (\"PS4\", \"XOne\", \"WiiU\", \"3DS\", \"PC\")) and (year_of_release > 2012)')\n",
    "df_act.info()"
   ]
  },
  {
   "cell_type": "code",
   "execution_count": 35,
   "metadata": {},
   "outputs": [
    {
     "data": {
      "image/png": "[encoded data removed]",
      "text/plain": [
       "<Figure size 864x576 with 1 Axes>"
      ]
     },
     "metadata": {
      "needs_background": "light"
     },
     "output_type": "display_data"
    }
   ],
   "source": [
    "plt.figure(figsize=(12,8))\n",
    "sns.boxplot(x='platform', y='total_sales', data = df_act)\n",
    "plt.title('График боксплот общих продаж игр по платформам \"PS4\", \"XOne\", \"WiiU\", \"3DS\", \"PC\"')\n",
    "plt.ylabel('Объем продаж, млн копий')\n",
    "plt.xlabel('Платформа');"
   ]
  },
  {
   "cell_type": "markdown",
   "metadata": {},
   "source": [
    "Распределения по графику боксплот выглядят у всех очень похожими, выбросы говорят о том, что основная масса выпускаемых игр имеет относительно невысокие продажи в то время как единицы из них становятся “блокбастерами” с милионными тиражами. Лидер PS4 по играм с наибольшими продажами.\n",
    "\n",
    "Приблизим масштаб по оси y и посмотрим ящики."
   ]
  },
  {
   "cell_type": "code",
   "execution_count": 36,
   "metadata": {},
   "outputs": [
    {
     "data": {
      "image/png": "[encoded data removed]",
      "text/plain": [
       "<Figure size 864x576 with 1 Axes>"
      ]
     },
     "metadata": {
      "needs_background": "light"
     },
     "output_type": "display_data"
    }
   ],
   "source": [
    "plt.figure(figsize=(12,8))\n",
    "sns.boxplot(x='platform', y='total_sales', data = df_act)\n",
    "plt.ylim(0,2)\n",
    "plt.title('График боксплот общих продаж игр по платформам \"PS4\", \"XOne\", \"WiiU\", \"3DS\"')\n",
    "plt.ylabel('Объем продаж, млн копий')\n",
    "plt.xlabel('Платформа');"
   ]
  },
  {
   "cell_type": "markdown",
   "metadata": {},
   "source": [
    "У всех пяти платформ основная масса игр имеет продажи до 0,75 млн копий. у PS4 и XOne они совсем похожи, WiiU имеет меньше продаж копий, у 3DS и PC самые небольшие продажи копий."
   ]
  },
  {
   "cell_type": "markdown",
   "metadata": {},
   "source": [
    "**Посмотрим, как влияют на продажи внутри платформы PS4 отзывы пользователей и критиков.** Построим диаграмму рассеяния и посчитаем корреляцию между отзывами и продажами."
   ]
  },
  {
   "cell_type": "code",
   "execution_count": 37,
   "metadata": {},
   "outputs": [
    {
     "data": {
      "text/html": [
       "<div>\n",
       "<style scoped>\n",
       "    .dataframe tbody tr th:only-of-type {\n",
       "        vertical-align: middle;\n",
       "    }\n",
       "\n",
       "    .dataframe tbody tr th {\n",
       "        vertical-align: top;\n",
       "    }\n",
       "\n",
       "    .dataframe thead th {\n",
       "        text-align: right;\n",
       "    }\n",
       "</style>\n",
       "<table border=\"1\" class=\"dataframe\">\n",
       "  <thead>\n",
       "    <tr style=\"text-align: right;\">\n",
       "      <th></th>\n",
       "      <th>name</th>\n",
       "      <th>platform</th>\n",
       "      <th>year_of_release</th>\n",
       "      <th>genre</th>\n",
       "      <th>na_sales</th>\n",
       "      <th>eu_sales</th>\n",
       "      <th>jp_sales</th>\n",
       "      <th>other_sales</th>\n",
       "      <th>critic_score</th>\n",
       "      <th>user_score</th>\n",
       "      <th>rating</th>\n",
       "      <th>total_sales</th>\n",
       "    </tr>\n",
       "  </thead>\n",
       "  <tbody>\n",
       "    <tr>\n",
       "      <td>0</td>\n",
       "      <td>Grand Theft Auto V</td>\n",
       "      <td>PS4</td>\n",
       "      <td>2014</td>\n",
       "      <td>Action</td>\n",
       "      <td>3.96</td>\n",
       "      <td>6.31</td>\n",
       "      <td>0.38</td>\n",
       "      <td>1.97</td>\n",
       "      <td>97.0</td>\n",
       "      <td>8.3</td>\n",
       "      <td>M</td>\n",
       "      <td>12.62</td>\n",
       "    </tr>\n",
       "    <tr>\n",
       "      <td>1</td>\n",
       "      <td>FIFA 16</td>\n",
       "      <td>PS4</td>\n",
       "      <td>2015</td>\n",
       "      <td>Sports</td>\n",
       "      <td>1.12</td>\n",
       "      <td>6.12</td>\n",
       "      <td>0.06</td>\n",
       "      <td>1.28</td>\n",
       "      <td>82.0</td>\n",
       "      <td>4.3</td>\n",
       "      <td>E</td>\n",
       "      <td>8.58</td>\n",
       "    </tr>\n",
       "    <tr>\n",
       "      <td>2</td>\n",
       "      <td>Call of Duty: Advanced Warfare</td>\n",
       "      <td>PS4</td>\n",
       "      <td>2014</td>\n",
       "      <td>Shooter</td>\n",
       "      <td>2.81</td>\n",
       "      <td>3.48</td>\n",
       "      <td>0.14</td>\n",
       "      <td>1.23</td>\n",
       "      <td>83.0</td>\n",
       "      <td>5.7</td>\n",
       "      <td>M</td>\n",
       "      <td>7.66</td>\n",
       "    </tr>\n",
       "    <tr>\n",
       "      <td>3</td>\n",
       "      <td>FIFA 17</td>\n",
       "      <td>PS4</td>\n",
       "      <td>2016</td>\n",
       "      <td>Sports</td>\n",
       "      <td>0.66</td>\n",
       "      <td>5.75</td>\n",
       "      <td>0.08</td>\n",
       "      <td>1.11</td>\n",
       "      <td>85.0</td>\n",
       "      <td>5.0</td>\n",
       "      <td>E</td>\n",
       "      <td>7.60</td>\n",
       "    </tr>\n",
       "    <tr>\n",
       "      <td>4</td>\n",
       "      <td>Fallout 4</td>\n",
       "      <td>PS4</td>\n",
       "      <td>2015</td>\n",
       "      <td>Role-Playing</td>\n",
       "      <td>2.53</td>\n",
       "      <td>3.27</td>\n",
       "      <td>0.24</td>\n",
       "      <td>1.13</td>\n",
       "      <td>87.0</td>\n",
       "      <td>6.5</td>\n",
       "      <td>M</td>\n",
       "      <td>7.17</td>\n",
       "    </tr>\n",
       "    <tr>\n",
       "      <td>...</td>\n",
       "      <td>...</td>\n",
       "      <td>...</td>\n",
       "      <td>...</td>\n",
       "      <td>...</td>\n",
       "      <td>...</td>\n",
       "      <td>...</td>\n",
       "      <td>...</td>\n",
       "      <td>...</td>\n",
       "      <td>...</td>\n",
       "      <td>...</td>\n",
       "      <td>...</td>\n",
       "      <td>...</td>\n",
       "    </tr>\n",
       "    <tr>\n",
       "      <td>244</td>\n",
       "      <td>Super Dungeon Bros</td>\n",
       "      <td>PS4</td>\n",
       "      <td>2016</td>\n",
       "      <td>Action</td>\n",
       "      <td>0.01</td>\n",
       "      <td>0.00</td>\n",
       "      <td>0.00</td>\n",
       "      <td>0.00</td>\n",
       "      <td>42.0</td>\n",
       "      <td>2.3</td>\n",
       "      <td>E10+</td>\n",
       "      <td>0.01</td>\n",
       "    </tr>\n",
       "    <tr>\n",
       "      <td>245</td>\n",
       "      <td>Sherlock Holmes: The Devil's Daughter</td>\n",
       "      <td>PS4</td>\n",
       "      <td>2016</td>\n",
       "      <td>Adventure</td>\n",
       "      <td>0.01</td>\n",
       "      <td>0.00</td>\n",
       "      <td>0.00</td>\n",
       "      <td>0.00</td>\n",
       "      <td>70.0</td>\n",
       "      <td>6.8</td>\n",
       "      <td>T</td>\n",
       "      <td>0.01</td>\n",
       "    </tr>\n",
       "    <tr>\n",
       "      <td>246</td>\n",
       "      <td>Root Letter</td>\n",
       "      <td>PS4</td>\n",
       "      <td>2016</td>\n",
       "      <td>Adventure</td>\n",
       "      <td>0.00</td>\n",
       "      <td>0.00</td>\n",
       "      <td>0.01</td>\n",
       "      <td>0.00</td>\n",
       "      <td>69.0</td>\n",
       "      <td>7.5</td>\n",
       "      <td>none</td>\n",
       "      <td>0.01</td>\n",
       "    </tr>\n",
       "    <tr>\n",
       "      <td>247</td>\n",
       "      <td>Dungeons 2</td>\n",
       "      <td>PS4</td>\n",
       "      <td>2016</td>\n",
       "      <td>Role-Playing</td>\n",
       "      <td>0.01</td>\n",
       "      <td>0.00</td>\n",
       "      <td>0.00</td>\n",
       "      <td>0.00</td>\n",
       "      <td>61.0</td>\n",
       "      <td>7.9</td>\n",
       "      <td>T</td>\n",
       "      <td>0.01</td>\n",
       "    </tr>\n",
       "    <tr>\n",
       "      <td>248</td>\n",
       "      <td>Carmageddon: Max Damage</td>\n",
       "      <td>PS4</td>\n",
       "      <td>2016</td>\n",
       "      <td>Action</td>\n",
       "      <td>0.01</td>\n",
       "      <td>0.00</td>\n",
       "      <td>0.00</td>\n",
       "      <td>0.00</td>\n",
       "      <td>51.0</td>\n",
       "      <td>5.5</td>\n",
       "      <td>M</td>\n",
       "      <td>0.01</td>\n",
       "    </tr>\n",
       "  </tbody>\n",
       "</table>\n",
       "<p>249 rows × 12 columns</p>\n",
       "</div>"
      ],
      "text/plain": [
       "                                      name platform  year_of_release  \\\n",
       "0                       Grand Theft Auto V      PS4             2014   \n",
       "1                                  FIFA 16      PS4             2015   \n",
       "2           Call of Duty: Advanced Warfare      PS4             2014   \n",
       "3                                  FIFA 17      PS4             2016   \n",
       "4                                Fallout 4      PS4             2015   \n",
       "..                                     ...      ...              ...   \n",
       "244                     Super Dungeon Bros      PS4             2016   \n",
       "245  Sherlock Holmes: The Devil's Daughter      PS4             2016   \n",
       "246                            Root Letter      PS4             2016   \n",
       "247                             Dungeons 2      PS4             2016   \n",
       "248                Carmageddon: Max Damage      PS4             2016   \n",
       "\n",
       "            genre  na_sales  eu_sales  jp_sales  other_sales  critic_score  \\\n",
       "0          Action      3.96      6.31      0.38         1.97          97.0   \n",
       "1          Sports      1.12      6.12      0.06         1.28          82.0   \n",
       "2         Shooter      2.81      3.48      0.14         1.23          83.0   \n",
       "3          Sports      0.66      5.75      0.08         1.11          85.0   \n",
       "4    Role-Playing      2.53      3.27      0.24         1.13          87.0   \n",
       "..            ...       ...       ...       ...          ...           ...   \n",
       "244        Action      0.01      0.00      0.00         0.00          42.0   \n",
       "245     Adventure      0.01      0.00      0.00         0.00          70.0   \n",
       "246     Adventure      0.00      0.00      0.01         0.00          69.0   \n",
       "247  Role-Playing      0.01      0.00      0.00         0.00          61.0   \n",
       "248        Action      0.01      0.00      0.00         0.00          51.0   \n",
       "\n",
       "     user_score rating  total_sales  \n",
       "0           8.3      M        12.62  \n",
       "1           4.3      E         8.58  \n",
       "2           5.7      M         7.66  \n",
       "3           5.0      E         7.60  \n",
       "4           6.5      M         7.17  \n",
       "..          ...    ...          ...  \n",
       "244         2.3   E10+         0.01  \n",
       "245         6.8      T         0.01  \n",
       "246         7.5   none         0.01  \n",
       "247         7.9      T         0.01  \n",
       "248         5.5      M         0.01  \n",
       "\n",
       "[249 rows x 12 columns]"
      ]
     },
     "execution_count": 37,
     "metadata": {},
     "output_type": "execute_result"
    }
   ],
   "source": [
    "df_ps4=df.query('(platform == \"PS4\") and (critic_score != \"2222\") and (user_score !=\"3333\")').reset_index(drop=True)\n",
    "df_ps4"
   ]
  },
  {
   "cell_type": "code",
   "execution_count": 38,
   "metadata": {},
   "outputs": [
    {
     "data": {
      "image/png": "[encoded data removed]",
      "text/plain": [
       "<Figure size 864x576 with 1 Axes>"
      ]
     },
     "metadata": {
      "needs_background": "light"
     },
     "output_type": "display_data"
    }
   ],
   "source": [
    "df_ps4.plot(x='critic_score',y='total_sales',kind='scatter', title='Зависимость объема продаж от оценки критиков', \\\n",
    "            grid=True, figsize=(12,8), color='orange');"
   ]
  },
  {
   "cell_type": "markdown",
   "metadata": {},
   "source": [
    "Никакой зависимости объемов продаж от оценки критиков вне прослеживается. Можно сказать что большее количество игр имеют оценку выше средней. Также можно сказать что игры с высокими имеют оценку критиков больше 70."
   ]
  },
  {
   "cell_type": "code",
   "execution_count": 39,
   "metadata": {},
   "outputs": [
    {
     "data": {
      "image/png": "[encoded data removed]",
      "text/plain": [
       "<Figure size 864x576 with 1 Axes>"
      ]
     },
     "metadata": {
      "needs_background": "light"
     },
     "output_type": "display_data"
    }
   ],
   "source": [
    "df_ps4.plot(x='user_score',y='total_sales',kind='scatter', title='Зависимость объема продаж от оценки пользователей', \\\n",
    "            grid=True, figsize=(12,8));"
   ]
  },
  {
   "cell_type": "markdown",
   "metadata": {},
   "source": [
    "Никакой зависимости объемов продаж от оценки пользователей вне прослеживается. Можно сказать что большее количество игр имеют оценку выше средней, а также есть игры с низкими оценками пользователей и высокими объемами продаж."
   ]
  },
  {
   "cell_type": "markdown",
   "metadata": {},
   "source": [
    "Посчитаем матрицу корреляций для продаж, оценок критиков и оценок пользователей. "
   ]
  },
  {
   "cell_type": "code",
   "execution_count": 40,
   "metadata": {},
   "outputs": [
    {
     "data": {
      "text/html": [
       "<div>\n",
       "<style scoped>\n",
       "    .dataframe tbody tr th:only-of-type {\n",
       "        vertical-align: middle;\n",
       "    }\n",
       "\n",
       "    .dataframe tbody tr th {\n",
       "        vertical-align: top;\n",
       "    }\n",
       "\n",
       "    .dataframe thead th {\n",
       "        text-align: right;\n",
       "    }\n",
       "</style>\n",
       "<table border=\"1\" class=\"dataframe\">\n",
       "  <thead>\n",
       "    <tr style=\"text-align: right;\">\n",
       "      <th></th>\n",
       "      <th>critic_score</th>\n",
       "      <th>user_score</th>\n",
       "      <th>total_sales</th>\n",
       "    </tr>\n",
       "  </thead>\n",
       "  <tbody>\n",
       "    <tr>\n",
       "      <td>critic_score</td>\n",
       "      <td>1.000000</td>\n",
       "      <td>0.557654</td>\n",
       "      <td>0.405895</td>\n",
       "    </tr>\n",
       "    <tr>\n",
       "      <td>user_score</td>\n",
       "      <td>0.557654</td>\n",
       "      <td>1.000000</td>\n",
       "      <td>-0.033625</td>\n",
       "    </tr>\n",
       "    <tr>\n",
       "      <td>total_sales</td>\n",
       "      <td>0.405895</td>\n",
       "      <td>-0.033625</td>\n",
       "      <td>1.000000</td>\n",
       "    </tr>\n",
       "  </tbody>\n",
       "</table>\n",
       "</div>"
      ],
      "text/plain": [
       "              critic_score  user_score  total_sales\n",
       "critic_score      1.000000    0.557654     0.405895\n",
       "user_score        0.557654    1.000000    -0.033625\n",
       "total_sales       0.405895   -0.033625     1.000000"
      ]
     },
     "execution_count": 40,
     "metadata": {},
     "output_type": "execute_result"
    }
   ],
   "source": [
    "df_ps4_corr = df_ps4[['critic_score', 'user_score', 'total_sales']]\n",
    "df_ps4_corr.corr()"
   ]
  },
  {
   "cell_type": "markdown",
   "metadata": {},
   "source": [
    "Из матрицы корреляций видим слабую корреляцию в зависимости объемов продаж от оценки критиков. По диаграмме рассеяния это видно. и отсутствие связи между оценками пользователей и объемами продаж."
   ]
  },
  {
   "cell_type": "markdown",
   "metadata": {},
   "source": [
    "**Построим аналогичные диаграммы рассеяния для платформы XOne:**"
   ]
  },
  {
   "cell_type": "code",
   "execution_count": 41,
   "metadata": {},
   "outputs": [],
   "source": [
    "df_xone=df.query('platform == \"XOne\" and (critic_score != \"2222\") and (user_score !=\"3333\")').reset_index(drop=True)\n"
   ]
  },
  {
   "cell_type": "code",
   "execution_count": 42,
   "metadata": {},
   "outputs": [
    {
     "data": {
      "image/png": "[encoded data removed]",
      "text/plain": [
       "<Figure size 864x576 with 1 Axes>"
      ]
     },
     "metadata": {
      "needs_background": "light"
     },
     "output_type": "display_data"
    }
   ],
   "source": [
    "df_xone.plot(x='critic_score',y='total_sales',kind='scatter', title='Зависимость объема продаж от оценки критиков', \\\n",
    "            grid=True, figsize=(12,8), color='orange');"
   ]
  },
  {
   "cell_type": "markdown",
   "metadata": {},
   "source": [
    "На более высоких оценках критиков у платформы Xone появляются игры с большими продажами. Также можно сказать что игры с высокими имеют оценку критиков больше 70."
   ]
  },
  {
   "cell_type": "code",
   "execution_count": 43,
   "metadata": {},
   "outputs": [
    {
     "data": {
      "image/png": "[encoded data removed]",
      "text/plain": [
       "<Figure size 864x576 with 1 Axes>"
      ]
     },
     "metadata": {
      "needs_background": "light"
     },
     "output_type": "display_data"
    }
   ],
   "source": [
    "df_xone.plot(x='user_score',y='total_sales',kind='scatter', title='Зависимость объема продаж от оценки пользователей', \\\n",
    "            grid=True, figsize=(12,8));"
   ]
  },
  {
   "cell_type": "markdown",
   "metadata": {},
   "source": [
    "По диаграмме рассеяния для оценок пользователей у платформы Xone зависимость не прослеживается."
   ]
  },
  {
   "cell_type": "markdown",
   "metadata": {},
   "source": [
    "Посчитаем матрицу корреляций для XOne:"
   ]
  },
  {
   "cell_type": "code",
   "execution_count": 44,
   "metadata": {},
   "outputs": [
    {
     "data": {
      "text/html": [
       "<div>\n",
       "<style scoped>\n",
       "    .dataframe tbody tr th:only-of-type {\n",
       "        vertical-align: middle;\n",
       "    }\n",
       "\n",
       "    .dataframe tbody tr th {\n",
       "        vertical-align: top;\n",
       "    }\n",
       "\n",
       "    .dataframe thead th {\n",
       "        text-align: right;\n",
       "    }\n",
       "</style>\n",
       "<table border=\"1\" class=\"dataframe\">\n",
       "  <thead>\n",
       "    <tr style=\"text-align: right;\">\n",
       "      <th></th>\n",
       "      <th>critic_score</th>\n",
       "      <th>user_score</th>\n",
       "      <th>total_sales</th>\n",
       "    </tr>\n",
       "  </thead>\n",
       "  <tbody>\n",
       "    <tr>\n",
       "      <td>critic_score</td>\n",
       "      <td>1.000000</td>\n",
       "      <td>0.472462</td>\n",
       "      <td>0.410422</td>\n",
       "    </tr>\n",
       "    <tr>\n",
       "      <td>user_score</td>\n",
       "      <td>0.472462</td>\n",
       "      <td>1.000000</td>\n",
       "      <td>-0.094003</td>\n",
       "    </tr>\n",
       "    <tr>\n",
       "      <td>total_sales</td>\n",
       "      <td>0.410422</td>\n",
       "      <td>-0.094003</td>\n",
       "      <td>1.000000</td>\n",
       "    </tr>\n",
       "  </tbody>\n",
       "</table>\n",
       "</div>"
      ],
      "text/plain": [
       "              critic_score  user_score  total_sales\n",
       "critic_score      1.000000    0.472462     0.410422\n",
       "user_score        0.472462    1.000000    -0.094003\n",
       "total_sales       0.410422   -0.094003     1.000000"
      ]
     },
     "execution_count": 44,
     "metadata": {},
     "output_type": "execute_result"
    }
   ],
   "source": [
    "df_xone_corr = df_xone[['critic_score', 'user_score', 'total_sales']]\n",
    "df_xone_corr.corr()"
   ]
  },
  {
   "cell_type": "markdown",
   "metadata": {},
   "source": [
    "Корреляция между отзывами пользователей и отсутствует, а между оценками критиков и продажами немного выше, но тоже не сильна."
   ]
  },
  {
   "cell_type": "markdown",
   "metadata": {},
   "source": [
    "**Построим диаграммы рассеяния для всех остальных платформ, на актуальный период.**"
   ]
  },
  {
   "cell_type": "code",
   "execution_count": 45,
   "metadata": {},
   "outputs": [
    {
     "data": {
      "text/plain": [
       "PC      148\n",
       "PS3     120\n",
       "X360     81\n",
       "PSV      76\n",
       "WiiU     69\n",
       "3DS      67\n",
       "PSP       1\n",
       "Name: platform, dtype: int64"
      ]
     },
     "execution_count": 45,
     "metadata": {},
     "output_type": "execute_result"
    }
   ],
   "source": [
    "df_act_all = df.query('(platform not in (\"PS4\", \"XOne\")) and (year_of_release >= 2013) and (critic_score != \"2222\") and (user_score !=\"3333\")')\n",
    "df_act_all['platform'].value_counts()"
   ]
  },
  {
   "cell_type": "markdown",
   "metadata": {},
   "source": [
    "**Диаграмма рассеяния оценок критиков**"
   ]
  },
  {
   "cell_type": "code",
   "execution_count": 46,
   "metadata": {
    "scrolled": false
   },
   "outputs": [
    {
     "data": {
      "image/png": "[encoded data removed]",
      "text/plain": [
       "<Figure size 432x288 with 1 Axes>"
      ]
     },
     "metadata": {
      "needs_background": "light"
     },
     "output_type": "display_data"
    },
    {
     "data": {
      "image/png": "[encoded data removed]",
      "text/plain": [
       "<Figure size 432x288 with 1 Axes>"
      ]
     },
     "metadata": {
      "needs_background": "light"
     },
     "output_type": "display_data"
    },
    {
     "data": {
      "image/png": "[encoded data removed]",
      "text/plain": [
       "<Figure size 432x288 with 1 Axes>"
      ]
     },
     "metadata": {
      "needs_background": "light"
     },
     "output_type": "display_data"
    },
    {
     "data": {
      "image/png": "[encoded data removed]",
      "text/plain": [
       "<Figure size 432x288 with 1 Axes>"
      ]
     },
     "metadata": {
      "needs_background": "light"
     },
     "output_type": "display_data"
    },
    {
     "data": {
      "image/png": "[encoded data removed]",
      "text/plain": [
       "<Figure size 432x288 with 1 Axes>"
      ]
     },
     "metadata": {
      "needs_background": "light"
     },
     "output_type": "display_data"
    },
    {
     "data": {
      "image/png": "[encoded data removed]",
      "text/plain": [
       "<Figure size 432x288 with 1 Axes>"
      ]
     },
     "metadata": {
      "needs_background": "light"
     },
     "output_type": "display_data"
    },
    {
     "data": {
      "image/png": "[encoded data removed]",
      "text/plain": [
       "<Figure size 432x288 with 1 Axes>"
      ]
     },
     "metadata": {
      "needs_background": "light"
     },
     "output_type": "display_data"
    }
   ],
   "source": [
    "for name in df_act_all['platform'].unique():\n",
    "    sns.scatterplot(data=df_act_all.query('platform == @name'), x='critic_score',y='total_sales', label = 'critic_score', color = 'orange')\n",
    "    plt.legend()\n",
    "    plt.grid()\n",
    "    plt.title(name)\n",
    "    plt.show();"
   ]
  },
  {
   "cell_type": "markdown",
   "metadata": {},
   "source": [
    "**Диаграмма рассеяния оценок пользователей**"
   ]
  },
  {
   "cell_type": "code",
   "execution_count": 47,
   "metadata": {
    "scrolled": true
   },
   "outputs": [
    {
     "data": {
      "image/png": "[encoded data removed]",
      "text/plain": [
       "<Figure size 432x288 with 1 Axes>"
      ]
     },
     "metadata": {
      "needs_background": "light"
     },
     "output_type": "display_data"
    },
    {
     "data": {
      "image/png": "[encoded data removed]",
      "text/plain": [
       "<Figure size 432x288 with 1 Axes>"
      ]
     },
     "metadata": {
      "needs_background": "light"
     },
     "output_type": "display_data"
    },
    {
     "data": {
      "image/png": "[encoded data removed]",
      "text/plain": [
       "<Figure size 432x288 with 1 Axes>"
      ]
     },
     "metadata": {
      "needs_background": "light"
     },
     "output_type": "display_data"
    },
    {
     "data": {
      "image/png": "[encoded data removed]",
      "text/plain": [
       "<Figure size 432x288 with 1 Axes>"
      ]
     },
     "metadata": {
      "needs_background": "light"
     },
     "output_type": "display_data"
    },
    {
     "data": {
      "image/png": "[encoded data removed]",
      "text/plain": [
       "<Figure size 432x288 with 1 Axes>"
      ]
     },
     "metadata": {
      "needs_background": "light"
     },
     "output_type": "display_data"
    },
    {
     "data": {
      "image/png": "[encoded data removed]",
      "text/plain": [
       "<Figure size 432x288 with 1 Axes>"
      ]
     },
     "metadata": {
      "needs_background": "light"
     },
     "output_type": "display_data"
    },
    {
     "data": {
      "image/png": "[encoded data removed]",
      "text/plain": [
       "<Figure size 432x288 with 1 Axes>"
      ]
     },
     "metadata": {
      "needs_background": "light"
     },
     "output_type": "display_data"
    }
   ],
   "source": [
    "for name in df_act_all['platform'].unique():\n",
    "    sns.scatterplot(data=df_act_all.query('platform == @name'), x='user_score',y='total_sales', label = 'user_score')\n",
    "    plt.legend()\n",
    "    plt.grid()\n",
    "    plt.title(name)\n",
    "    plt.show()"
   ]
  },
  {
   "cell_type": "markdown",
   "metadata": {},
   "source": [
    "Посмотрев на все остальные платфомы можем сделать такие же выводы как и по платформам PS4 и Xone:\n",
    "\n",
    "1. Игры с большими объемами продаж начинаются там где оценки критиков больше 65, но мы не можем утверждать, что высокие оценки критиками приводят к высоким продажам игр.\n",
    "2. Продажи не зависят от оценок пользователей. "
   ]
  },
  {
   "cell_type": "markdown",
   "metadata": {},
   "source": [
    "**Посмотрим на общее распределение игр по жанрам.**"
   ]
  },
  {
   "cell_type": "code",
   "execution_count": 48,
   "metadata": {},
   "outputs": [
    {
     "data": {
      "text/plain": [
       "Action          443\n",
       "Role-Playing    150\n",
       "Shooter         120\n",
       "Sports          110\n",
       "Misc             93\n",
       "Adventure        83\n",
       "Racing           57\n",
       "Platform         49\n",
       "Simulation       47\n",
       "Strategy         42\n",
       "Fighting         38\n",
       "Puzzle           14\n",
       "Name: genre, dtype: int64"
      ]
     },
     "execution_count": 48,
     "metadata": {},
     "output_type": "execute_result"
    }
   ],
   "source": [
    "df_act['genre'].value_counts()"
   ]
  },
  {
   "cell_type": "markdown",
   "metadata": {},
   "source": [
    "Можно выделить первые шесть позициций и сказать что на сегодня самое большое количество игр создано для жанров: \n",
    "\n",
    "- Action(самый играемый), затем идут\n",
    "- Role-Playing, \n",
    "- Sports, \n",
    "- Shooter, \n",
    "- Misc и \n",
    "- Adventure."
   ]
  },
  {
   "cell_type": "code",
   "execution_count": 49,
   "metadata": {},
   "outputs": [
    {
     "data": {
      "text/html": [
       "<div>\n",
       "<style scoped>\n",
       "    .dataframe tbody tr th:only-of-type {\n",
       "        vertical-align: middle;\n",
       "    }\n",
       "\n",
       "    .dataframe tbody tr th {\n",
       "        vertical-align: top;\n",
       "    }\n",
       "\n",
       "    .dataframe thead th {\n",
       "        text-align: right;\n",
       "    }\n",
       "</style>\n",
       "<table border=\"1\" class=\"dataframe\">\n",
       "  <thead>\n",
       "    <tr style=\"text-align: right;\">\n",
       "      <th></th>\n",
       "      <th>count</th>\n",
       "      <th>sum</th>\n",
       "    </tr>\n",
       "    <tr>\n",
       "      <th>genre</th>\n",
       "      <th></th>\n",
       "      <th></th>\n",
       "    </tr>\n",
       "  </thead>\n",
       "  <tbody>\n",
       "    <tr>\n",
       "      <td>Action</td>\n",
       "      <td>443</td>\n",
       "      <td>189.46</td>\n",
       "    </tr>\n",
       "    <tr>\n",
       "      <td>Shooter</td>\n",
       "      <td>120</td>\n",
       "      <td>164.27</td>\n",
       "    </tr>\n",
       "    <tr>\n",
       "      <td>Role-Playing</td>\n",
       "      <td>150</td>\n",
       "      <td>113.71</td>\n",
       "    </tr>\n",
       "    <tr>\n",
       "      <td>Sports</td>\n",
       "      <td>110</td>\n",
       "      <td>88.59</td>\n",
       "    </tr>\n",
       "    <tr>\n",
       "      <td>Platform</td>\n",
       "      <td>49</td>\n",
       "      <td>33.75</td>\n",
       "    </tr>\n",
       "    <tr>\n",
       "      <td>Misc</td>\n",
       "      <td>93</td>\n",
       "      <td>30.81</td>\n",
       "    </tr>\n",
       "    <tr>\n",
       "      <td>Racing</td>\n",
       "      <td>57</td>\n",
       "      <td>30.26</td>\n",
       "    </tr>\n",
       "    <tr>\n",
       "      <td>Fighting</td>\n",
       "      <td>38</td>\n",
       "      <td>25.50</td>\n",
       "    </tr>\n",
       "    <tr>\n",
       "      <td>Simulation</td>\n",
       "      <td>47</td>\n",
       "      <td>19.76</td>\n",
       "    </tr>\n",
       "    <tr>\n",
       "      <td>Adventure</td>\n",
       "      <td>83</td>\n",
       "      <td>13.03</td>\n",
       "    </tr>\n",
       "    <tr>\n",
       "      <td>Strategy</td>\n",
       "      <td>42</td>\n",
       "      <td>8.56</td>\n",
       "    </tr>\n",
       "    <tr>\n",
       "      <td>Puzzle</td>\n",
       "      <td>14</td>\n",
       "      <td>3.07</td>\n",
       "    </tr>\n",
       "  </tbody>\n",
       "</table>\n",
       "</div>"
      ],
      "text/plain": [
       "              count     sum\n",
       "genre                      \n",
       "Action          443  189.46\n",
       "Shooter         120  164.27\n",
       "Role-Playing    150  113.71\n",
       "Sports          110   88.59\n",
       "Platform         49   33.75\n",
       "Misc             93   30.81\n",
       "Racing           57   30.26\n",
       "Fighting         38   25.50\n",
       "Simulation       47   19.76\n",
       "Adventure        83   13.03\n",
       "Strategy         42    8.56\n",
       "Puzzle           14    3.07"
      ]
     },
     "execution_count": 49,
     "metadata": {},
     "output_type": "execute_result"
    }
   ],
   "source": [
    "df_act.groupby('genre')['total_sales'].agg(['count', 'sum']).sort_values(by = 'sum', ascending=False)"
   ]
  },
  {
   "cell_type": "markdown",
   "metadata": {},
   "source": [
    "А вот самые прибыльные жанры:\n",
    "- Action, \n",
    "- Shooter и\n",
    "- Role-Playing\n",
    "\n",
    "Самые низкие продажи у:\n",
    "- Strategy\n",
    "- Puzzle\n",
    "\n",
    "Обобщив можем назвать топ3 жанров как самые прибыльные и для которых создано самое большое количесво игр:\n",
    "- Action, \n",
    "- Shooter и\n",
    "- Role-Playing"
   ]
  },
  {
   "cell_type": "markdown",
   "metadata": {},
   "source": [
    "### Выводы:\n",
    "\n",
    "За первые 15 лет индустрия произвела 3% всех игр, рассматриваем игры с 1995 года\n",
    "\n",
    "Самые высокие продажи на платтформах PS2, X360, PS3, Wii, DS, PS. (700 - 1255 млн копий)  После этого продажи уменьшаются в два раза.\n",
    "\n",
    "Средний срок жизни жизни платформы 8-11 лет. За время платформа растет, доходит до пика и угасает.\n",
    "\n",
    "В 2016 у следующих платформ есть продажи и потенциал для роста:\n",
    "\n",
    "1. PS4 - продажи около 70 млн, 3 года на рынке\n",
    "2. XOne - продажи 25 млн, 3 года на рынке\n",
    "3. WiiU - продажи около 5 миллионов, игра появилась в 2012\n",
    "4. 3DS - продажи около 15 миллионов, игра появилась в 2011\n",
    "5. PC - продажи около 5 миллионов, платформа актуальна всегда.\n",
    "\n",
    "Актуальным можем считать период с 2013 года, в это время появляются новые платформы и стремятся продажи к нулю у старых.\n",
    "\n",
    "Распределения по графику боксплот выглядят у всех очень похожими, выбросы говорят о том, что основная масса выпускаемых игр имеет относительно невысокие продажи в то время как единицы из них становятся “блокбастерами” с милионными тиражами. Лидер PS4 по играм с наибольшими продажами.\n",
    "\n",
    "У всех четырех платформ основная масса игр имеет продажи до 0,75 млн копий. у PS4 и XOne они совсем похожи, WiiU имеет меньше продаж копий, у 3DS и PC самые небольшие продажи копий.\n",
    "\n",
    "Построив диаграммы рассеяиния, сделали следующие выводы:\n",
    "Для платформы PS4:\n",
    "Никакой зависимости объемов продаж от оценки критиков вне прослеживается. Можно сказать что большее количество игр имеют оценку выше средней. Также можно сказать что игры с высокими имеют оценку критиков больше 65.\n",
    "\n",
    "Никакой зависимости объемов продаж от оценки пользователей вне прослеживается. Можно сказать что большее количество игр имеют оценку выше средней, а также есть игры с низкими оценками пользователей и высокими объемами продаж.\n",
    "\n",
    "Из матрицы корреляций видим слабую корреляцию в зависимости объемов продаж от оценки критиков. По диаграмме рассеяния это видно и отсутствие связи между оценками пользователей и объемами продаж.\n",
    "\n",
    "Для платформы XOne:\n",
    "На более высоких оценках критиков у платформы Xone появляются игры с большими продажами. Также можно сказать что игры с высокими имеют оценку критиков больше 65.\n",
    "\n",
    "Корреляция между отзывами пользователей и продажами отсутстует, а между оценками критиков и продажами немного выше, но тоже не сильна.\n",
    "\n",
    "Посмотрев на все остальные платформы можем сделать такие же выводы как и по платформам PS4 и Xone:\n",
    "\n",
    "1. Игры с большими объемами продаж начинаются там где оценки критиков больше 65.\n",
    "2. Продажи не зависят от оценок пользователей. \n",
    "\n",
    "Распределение игр по жанрам:\n",
    "\n",
    "Самые низкие продажи у:\n",
    "- Strategy\n",
    "- Puzzle\n",
    "\n",
    "\n",
    "Обобщив можем назвать топ3 жанров как самые прибыльные и для которых создано самое большое количесво игр:\n",
    "- Action,\n",
    "- Shooter и\n",
    "- Role-Playing\n"
   ]
  },
  {
   "cell_type": "markdown",
   "metadata": {},
   "source": [
    "## Шаг 4. Портрет пользователя каждого региона<a id='section6'></a>"
   ]
  },
  {
   "cell_type": "markdown",
   "metadata": {},
   "source": [
    "**СЕВЕРНАЯ АМЕРИКА**"
   ]
  },
  {
   "cell_type": "markdown",
   "metadata": {},
   "source": [
    "Самые популярные платформы (топ-5). Опишите различия в долях продаж."
   ]
  },
  {
   "cell_type": "code",
   "execution_count": 50,
   "metadata": {},
   "outputs": [],
   "source": [
    "df_2013=df.query('year_of_release>2012')"
   ]
  },
  {
   "cell_type": "code",
   "execution_count": 51,
   "metadata": {},
   "outputs": [
    {
     "data": {
      "text/html": [
       "<div>\n",
       "<style scoped>\n",
       "    .dataframe tbody tr th:only-of-type {\n",
       "        vertical-align: middle;\n",
       "    }\n",
       "\n",
       "    .dataframe tbody tr th {\n",
       "        vertical-align: top;\n",
       "    }\n",
       "\n",
       "    .dataframe thead th {\n",
       "        text-align: right;\n",
       "    }\n",
       "</style>\n",
       "<table border=\"1\" class=\"dataframe\">\n",
       "  <thead>\n",
       "    <tr style=\"text-align: right;\">\n",
       "      <th></th>\n",
       "      <th>count</th>\n",
       "      <th>sum</th>\n",
       "    </tr>\n",
       "    <tr>\n",
       "      <th>platform</th>\n",
       "      <th></th>\n",
       "      <th></th>\n",
       "    </tr>\n",
       "  </thead>\n",
       "  <tbody>\n",
       "    <tr>\n",
       "      <td>PS4</td>\n",
       "      <td>392</td>\n",
       "      <td>108.74</td>\n",
       "    </tr>\n",
       "    <tr>\n",
       "      <td>XOne</td>\n",
       "      <td>247</td>\n",
       "      <td>93.12</td>\n",
       "    </tr>\n",
       "    <tr>\n",
       "      <td>X360</td>\n",
       "      <td>186</td>\n",
       "      <td>81.66</td>\n",
       "    </tr>\n",
       "    <tr>\n",
       "      <td>PS3</td>\n",
       "      <td>345</td>\n",
       "      <td>63.50</td>\n",
       "    </tr>\n",
       "    <tr>\n",
       "      <td>3DS</td>\n",
       "      <td>303</td>\n",
       "      <td>38.20</td>\n",
       "    </tr>\n",
       "    <tr>\n",
       "      <td>WiiU</td>\n",
       "      <td>115</td>\n",
       "      <td>29.21</td>\n",
       "    </tr>\n",
       "    <tr>\n",
       "      <td>PC</td>\n",
       "      <td>189</td>\n",
       "      <td>11.11</td>\n",
       "    </tr>\n",
       "    <tr>\n",
       "      <td>Wii</td>\n",
       "      <td>23</td>\n",
       "      <td>6.56</td>\n",
       "    </tr>\n",
       "    <tr>\n",
       "      <td>PSV</td>\n",
       "      <td>358</td>\n",
       "      <td>5.04</td>\n",
       "    </tr>\n",
       "    <tr>\n",
       "      <td>DS</td>\n",
       "      <td>8</td>\n",
       "      <td>0.57</td>\n",
       "    </tr>\n",
       "    <tr>\n",
       "      <td>PSP</td>\n",
       "      <td>67</td>\n",
       "      <td>0.00</td>\n",
       "    </tr>\n",
       "  </tbody>\n",
       "</table>\n",
       "</div>"
      ],
      "text/plain": [
       "          count     sum\n",
       "platform               \n",
       "PS4         392  108.74\n",
       "XOne        247   93.12\n",
       "X360        186   81.66\n",
       "PS3         345   63.50\n",
       "3DS         303   38.20\n",
       "WiiU        115   29.21\n",
       "PC          189   11.11\n",
       "Wii          23    6.56\n",
       "PSV         358    5.04\n",
       "DS            8    0.57\n",
       "PSP          67    0.00"
      ]
     },
     "execution_count": 51,
     "metadata": {},
     "output_type": "execute_result"
    }
   ],
   "source": [
    "df_na=df_2013.groupby('platform')['na_sales'].agg(['count', 'sum']).sort_values(by = 'sum', ascending=False)\n",
    "df_na"
   ]
  },
  {
   "cell_type": "code",
   "execution_count": 52,
   "metadata": {},
   "outputs": [
    {
     "data": {
      "text/plain": [
       "437.7100000000002"
      ]
     },
     "execution_count": 52,
     "metadata": {},
     "output_type": "execute_result"
    }
   ],
   "source": [
    "df_na['sum'].sum()"
   ]
  },
  {
   "cell_type": "code",
   "execution_count": 53,
   "metadata": {},
   "outputs": [],
   "source": [
    "#Посчитаем доли продаж:\n",
    "df_na['part']=df_na['sum']/df_na['sum'].sum()"
   ]
  },
  {
   "cell_type": "markdown",
   "metadata": {},
   "source": [
    "**Популярные платформы. Топ-5**"
   ]
  },
  {
   "cell_type": "code",
   "execution_count": 54,
   "metadata": {
    "scrolled": true
   },
   "outputs": [
    {
     "data": {
      "text/html": [
       "<div>\n",
       "<style scoped>\n",
       "    .dataframe tbody tr th:only-of-type {\n",
       "        vertical-align: middle;\n",
       "    }\n",
       "\n",
       "    .dataframe tbody tr th {\n",
       "        vertical-align: top;\n",
       "    }\n",
       "\n",
       "    .dataframe thead th {\n",
       "        text-align: right;\n",
       "    }\n",
       "</style>\n",
       "<table border=\"1\" class=\"dataframe\">\n",
       "  <thead>\n",
       "    <tr style=\"text-align: right;\">\n",
       "      <th></th>\n",
       "      <th>count</th>\n",
       "      <th>sum</th>\n",
       "      <th>part</th>\n",
       "    </tr>\n",
       "    <tr>\n",
       "      <th>platform</th>\n",
       "      <th></th>\n",
       "      <th></th>\n",
       "      <th></th>\n",
       "    </tr>\n",
       "  </thead>\n",
       "  <tbody>\n",
       "    <tr>\n",
       "      <td>PS4</td>\n",
       "      <td>392</td>\n",
       "      <td>108.74</td>\n",
       "      <td>0.248429</td>\n",
       "    </tr>\n",
       "    <tr>\n",
       "      <td>XOne</td>\n",
       "      <td>247</td>\n",
       "      <td>93.12</td>\n",
       "      <td>0.212744</td>\n",
       "    </tr>\n",
       "    <tr>\n",
       "      <td>X360</td>\n",
       "      <td>186</td>\n",
       "      <td>81.66</td>\n",
       "      <td>0.186562</td>\n",
       "    </tr>\n",
       "    <tr>\n",
       "      <td>PS3</td>\n",
       "      <td>345</td>\n",
       "      <td>63.50</td>\n",
       "      <td>0.145073</td>\n",
       "    </tr>\n",
       "    <tr>\n",
       "      <td>3DS</td>\n",
       "      <td>303</td>\n",
       "      <td>38.20</td>\n",
       "      <td>0.087272</td>\n",
       "    </tr>\n",
       "  </tbody>\n",
       "</table>\n",
       "</div>"
      ],
      "text/plain": [
       "          count     sum      part\n",
       "platform                         \n",
       "PS4         392  108.74  0.248429\n",
       "XOne        247   93.12  0.212744\n",
       "X360        186   81.66  0.186562\n",
       "PS3         345   63.50  0.145073\n",
       "3DS         303   38.20  0.087272"
      ]
     },
     "execution_count": 54,
     "metadata": {},
     "output_type": "execute_result"
    }
   ],
   "source": [
    "df_na.head()"
   ]
  },
  {
   "cell_type": "code",
   "execution_count": 55,
   "metadata": {},
   "outputs": [
    {
     "data": {
      "image/png": "[encoded data removed]",
      "text/plain": [
       "<Figure size 648x648 with 1 Axes>"
      ]
     },
     "metadata": {},
     "output_type": "display_data"
    }
   ],
   "source": [
    "df_na.plot(y='part',kind='pie', title='Распределение объемов продаж в СА', \\\n",
    "            grid=True, figsize=(9,9), autopct='%1.0f%%', pctdistance=1.1, labeldistance=1.2);"
   ]
  },
  {
   "cell_type": "markdown",
   "metadata": {},
   "source": [
    "Рынок Северной Америки  438.66 млн копий\n",
    "PS4 (24%), XOne(21%), X360(19%), PS3(14%), 3DS (9%) начиная с 2013 года."
   ]
  },
  {
   "cell_type": "markdown",
   "metadata": {},
   "source": [
    "<div class=\"alert alert-block alert-warning\">\n",
    "<b>Комментарии от ревьюера:</b>\n",
    "\n",
    "Хороший выбор типа графика, <s>но я бы добавил для информативности на piechart проценты\n",
    "</div>"
   ]
  },
  {
   "cell_type": "markdown",
   "metadata": {},
   "source": [
    "<font color=orange>Ok</font>\n"
   ]
  },
  {
   "cell_type": "markdown",
   "metadata": {},
   "source": [
    "**Самые популярные жанры. Топ-5**"
   ]
  },
  {
   "cell_type": "code",
   "execution_count": 56,
   "metadata": {},
   "outputs": [
    {
     "data": {
      "text/html": [
       "<div>\n",
       "<style scoped>\n",
       "    .dataframe tbody tr th:only-of-type {\n",
       "        vertical-align: middle;\n",
       "    }\n",
       "\n",
       "    .dataframe tbody tr th {\n",
       "        vertical-align: top;\n",
       "    }\n",
       "\n",
       "    .dataframe thead th {\n",
       "        text-align: right;\n",
       "    }\n",
       "</style>\n",
       "<table border=\"1\" class=\"dataframe\">\n",
       "  <thead>\n",
       "    <tr style=\"text-align: right;\">\n",
       "      <th></th>\n",
       "      <th>count</th>\n",
       "      <th>sum</th>\n",
       "    </tr>\n",
       "    <tr>\n",
       "      <th>genre</th>\n",
       "      <th></th>\n",
       "      <th></th>\n",
       "    </tr>\n",
       "  </thead>\n",
       "  <tbody>\n",
       "    <tr>\n",
       "      <td>Action</td>\n",
       "      <td>766</td>\n",
       "      <td>126.05</td>\n",
       "    </tr>\n",
       "    <tr>\n",
       "      <td>Shooter</td>\n",
       "      <td>187</td>\n",
       "      <td>109.74</td>\n",
       "    </tr>\n",
       "    <tr>\n",
       "      <td>Sports</td>\n",
       "      <td>214</td>\n",
       "      <td>65.27</td>\n",
       "    </tr>\n",
       "    <tr>\n",
       "      <td>Role-Playing</td>\n",
       "      <td>292</td>\n",
       "      <td>46.40</td>\n",
       "    </tr>\n",
       "    <tr>\n",
       "      <td>Misc</td>\n",
       "      <td>155</td>\n",
       "      <td>27.49</td>\n",
       "    </tr>\n",
       "  </tbody>\n",
       "</table>\n",
       "</div>"
      ],
      "text/plain": [
       "              count     sum\n",
       "genre                      \n",
       "Action          766  126.05\n",
       "Shooter         187  109.74\n",
       "Sports          214   65.27\n",
       "Role-Playing    292   46.40\n",
       "Misc            155   27.49"
      ]
     },
     "execution_count": 56,
     "metadata": {},
     "output_type": "execute_result"
    }
   ],
   "source": [
    "df_2013.groupby('genre')['na_sales'].agg(['count', 'sum']).sort_values(by = 'sum', ascending=False).head()"
   ]
  },
  {
   "cell_type": "markdown",
   "metadata": {},
   "source": [
    "Топ-5 жанров: \n",
    "Action, Shooter, Sports, Role-Playing, Misc"
   ]
  },
  {
   "cell_type": "markdown",
   "metadata": {},
   "source": [
    "**Влияет ли рейтинг ESRB на продажи в Северной Америке?**\n",
    "\n",
    "- М - Зрелые\n",
    "- E - Все\n",
    "- E10 + - все 10 и старше\n",
    "- T - Teen"
   ]
  },
  {
   "cell_type": "code",
   "execution_count": 57,
   "metadata": {},
   "outputs": [
    {
     "data": {
      "text/html": [
       "<div>\n",
       "<style scoped>\n",
       "    .dataframe tbody tr th:only-of-type {\n",
       "        vertical-align: middle;\n",
       "    }\n",
       "\n",
       "    .dataframe tbody tr th {\n",
       "        vertical-align: top;\n",
       "    }\n",
       "\n",
       "    .dataframe thead th {\n",
       "        text-align: right;\n",
       "    }\n",
       "</style>\n",
       "<table border=\"1\" class=\"dataframe\">\n",
       "  <thead>\n",
       "    <tr style=\"text-align: right;\">\n",
       "      <th></th>\n",
       "      <th>count</th>\n",
       "      <th>sum</th>\n",
       "    </tr>\n",
       "    <tr>\n",
       "      <th>rating</th>\n",
       "      <th></th>\n",
       "      <th></th>\n",
       "    </tr>\n",
       "  </thead>\n",
       "  <tbody>\n",
       "    <tr>\n",
       "      <td>M</td>\n",
       "      <td>369</td>\n",
       "      <td>165.21</td>\n",
       "    </tr>\n",
       "    <tr>\n",
       "      <td>none</td>\n",
       "      <td>977</td>\n",
       "      <td>89.42</td>\n",
       "    </tr>\n",
       "    <tr>\n",
       "      <td>E</td>\n",
       "      <td>302</td>\n",
       "      <td>79.05</td>\n",
       "    </tr>\n",
       "    <tr>\n",
       "      <td>E10+</td>\n",
       "      <td>252</td>\n",
       "      <td>54.24</td>\n",
       "    </tr>\n",
       "    <tr>\n",
       "      <td>T</td>\n",
       "      <td>333</td>\n",
       "      <td>49.79</td>\n",
       "    </tr>\n",
       "  </tbody>\n",
       "</table>\n",
       "</div>"
      ],
      "text/plain": [
       "        count     sum\n",
       "rating               \n",
       "M         369  165.21\n",
       "none      977   89.42\n",
       "E         302   79.05\n",
       "E10+      252   54.24\n",
       "T         333   49.79"
      ]
     },
     "execution_count": 57,
     "metadata": {},
     "output_type": "execute_result"
    }
   ],
   "source": [
    "df_2013.groupby('rating')['na_sales'].agg(['count', 'sum']).sort_values(by = 'sum', ascending=False)"
   ]
  },
  {
   "cell_type": "markdown",
   "metadata": {},
   "source": [
    "Самые большие продажи в Северной Америке имеют игры с рейтингом М.(Игры с рейтингом M считаются подходящими только для тех, кто старше 17 лет. По сравнению с названиями Teen, они могут содержать интенсивное насилие, сильный сексуальный контент, наготу и непрекращающиеся сильные выражения.)\n",
    "На втором месте идут игры, в который рейтинг не указан, и далее игры с рейтингом Е(для всех)"
   ]
  },
  {
   "cell_type": "code",
   "execution_count": 58,
   "metadata": {},
   "outputs": [
    {
     "data": {
      "text/plain": [
       "0.1935483870967742"
      ]
     },
     "execution_count": 58,
     "metadata": {},
     "output_type": "execute_result"
    }
   ],
   "source": [
    "90/465"
   ]
  },
  {
   "cell_type": "markdown",
   "metadata": {},
   "source": [
    "**Европа**"
   ]
  },
  {
   "cell_type": "code",
   "execution_count": 59,
   "metadata": {},
   "outputs": [
    {
     "data": {
      "text/html": [
       "<div>\n",
       "<style scoped>\n",
       "    .dataframe tbody tr th:only-of-type {\n",
       "        vertical-align: middle;\n",
       "    }\n",
       "\n",
       "    .dataframe tbody tr th {\n",
       "        vertical-align: top;\n",
       "    }\n",
       "\n",
       "    .dataframe thead th {\n",
       "        text-align: right;\n",
       "    }\n",
       "</style>\n",
       "<table border=\"1\" class=\"dataframe\">\n",
       "  <thead>\n",
       "    <tr style=\"text-align: right;\">\n",
       "      <th></th>\n",
       "      <th>count</th>\n",
       "      <th>sum</th>\n",
       "    </tr>\n",
       "    <tr>\n",
       "      <th>platform</th>\n",
       "      <th></th>\n",
       "      <th></th>\n",
       "    </tr>\n",
       "  </thead>\n",
       "  <tbody>\n",
       "    <tr>\n",
       "      <td>PS4</td>\n",
       "      <td>392</td>\n",
       "      <td>141.09</td>\n",
       "    </tr>\n",
       "    <tr>\n",
       "      <td>PS3</td>\n",
       "      <td>345</td>\n",
       "      <td>67.81</td>\n",
       "    </tr>\n",
       "    <tr>\n",
       "      <td>XOne</td>\n",
       "      <td>247</td>\n",
       "      <td>51.59</td>\n",
       "    </tr>\n",
       "    <tr>\n",
       "      <td>X360</td>\n",
       "      <td>186</td>\n",
       "      <td>42.52</td>\n",
       "    </tr>\n",
       "    <tr>\n",
       "      <td>3DS</td>\n",
       "      <td>303</td>\n",
       "      <td>30.96</td>\n",
       "    </tr>\n",
       "    <tr>\n",
       "      <td>PC</td>\n",
       "      <td>189</td>\n",
       "      <td>25.36</td>\n",
       "    </tr>\n",
       "    <tr>\n",
       "      <td>WiiU</td>\n",
       "      <td>115</td>\n",
       "      <td>19.85</td>\n",
       "    </tr>\n",
       "    <tr>\n",
       "      <td>PSV</td>\n",
       "      <td>358</td>\n",
       "      <td>6.10</td>\n",
       "    </tr>\n",
       "    <tr>\n",
       "      <td>Wii</td>\n",
       "      <td>23</td>\n",
       "      <td>5.93</td>\n",
       "    </tr>\n",
       "    <tr>\n",
       "      <td>DS</td>\n",
       "      <td>8</td>\n",
       "      <td>0.85</td>\n",
       "    </tr>\n",
       "    <tr>\n",
       "      <td>PSP</td>\n",
       "      <td>67</td>\n",
       "      <td>0.17</td>\n",
       "    </tr>\n",
       "  </tbody>\n",
       "</table>\n",
       "</div>"
      ],
      "text/plain": [
       "          count     sum\n",
       "platform               \n",
       "PS4         392  141.09\n",
       "PS3         345   67.81\n",
       "XOne        247   51.59\n",
       "X360        186   42.52\n",
       "3DS         303   30.96\n",
       "PC          189   25.36\n",
       "WiiU        115   19.85\n",
       "PSV         358    6.10\n",
       "Wii          23    5.93\n",
       "DS            8    0.85\n",
       "PSP          67    0.17"
      ]
     },
     "execution_count": 59,
     "metadata": {},
     "output_type": "execute_result"
    }
   ],
   "source": [
    "df_eu=df_2013.groupby('platform')['eu_sales'].agg(['count', 'sum']).sort_values(by = 'sum', ascending=False)\n",
    "df_eu"
   ]
  },
  {
   "cell_type": "code",
   "execution_count": 60,
   "metadata": {},
   "outputs": [],
   "source": [
    "#Посчитаем доли продаж:\n",
    "df_eu['part']=df_eu['sum']/df_eu['sum'].sum()"
   ]
  },
  {
   "cell_type": "code",
   "execution_count": 61,
   "metadata": {},
   "outputs": [
    {
     "data": {
      "text/plain": [
       "392.2300000000005"
      ]
     },
     "execution_count": 61,
     "metadata": {},
     "output_type": "execute_result"
    }
   ],
   "source": [
    "df_eu['sum'].sum()"
   ]
  },
  {
   "cell_type": "markdown",
   "metadata": {},
   "source": [
    "**Популярные платформы. Топ-5**"
   ]
  },
  {
   "cell_type": "code",
   "execution_count": 62,
   "metadata": {},
   "outputs": [
    {
     "data": {
      "text/html": [
       "<div>\n",
       "<style scoped>\n",
       "    .dataframe tbody tr th:only-of-type {\n",
       "        vertical-align: middle;\n",
       "    }\n",
       "\n",
       "    .dataframe tbody tr th {\n",
       "        vertical-align: top;\n",
       "    }\n",
       "\n",
       "    .dataframe thead th {\n",
       "        text-align: right;\n",
       "    }\n",
       "</style>\n",
       "<table border=\"1\" class=\"dataframe\">\n",
       "  <thead>\n",
       "    <tr style=\"text-align: right;\">\n",
       "      <th></th>\n",
       "      <th>count</th>\n",
       "      <th>sum</th>\n",
       "      <th>part</th>\n",
       "    </tr>\n",
       "    <tr>\n",
       "      <th>platform</th>\n",
       "      <th></th>\n",
       "      <th></th>\n",
       "      <th></th>\n",
       "    </tr>\n",
       "  </thead>\n",
       "  <tbody>\n",
       "    <tr>\n",
       "      <td>PS4</td>\n",
       "      <td>392</td>\n",
       "      <td>141.09</td>\n",
       "      <td>0.359712</td>\n",
       "    </tr>\n",
       "    <tr>\n",
       "      <td>PS3</td>\n",
       "      <td>345</td>\n",
       "      <td>67.81</td>\n",
       "      <td>0.172883</td>\n",
       "    </tr>\n",
       "    <tr>\n",
       "      <td>XOne</td>\n",
       "      <td>247</td>\n",
       "      <td>51.59</td>\n",
       "      <td>0.131530</td>\n",
       "    </tr>\n",
       "    <tr>\n",
       "      <td>X360</td>\n",
       "      <td>186</td>\n",
       "      <td>42.52</td>\n",
       "      <td>0.108406</td>\n",
       "    </tr>\n",
       "    <tr>\n",
       "      <td>3DS</td>\n",
       "      <td>303</td>\n",
       "      <td>30.96</td>\n",
       "      <td>0.078933</td>\n",
       "    </tr>\n",
       "  </tbody>\n",
       "</table>\n",
       "</div>"
      ],
      "text/plain": [
       "          count     sum      part\n",
       "platform                         \n",
       "PS4         392  141.09  0.359712\n",
       "PS3         345   67.81  0.172883\n",
       "XOne        247   51.59  0.131530\n",
       "X360        186   42.52  0.108406\n",
       "3DS         303   30.96  0.078933"
      ]
     },
     "execution_count": 62,
     "metadata": {},
     "output_type": "execute_result"
    }
   ],
   "source": [
    "df_eu.head()"
   ]
  },
  {
   "cell_type": "code",
   "execution_count": 63,
   "metadata": {},
   "outputs": [
    {
     "data": {
      "image/png": "[encoded data removed]",
      "text/plain": [
       "<Figure size 648x648 with 1 Axes>"
      ]
     },
     "metadata": {},
     "output_type": "display_data"
    }
   ],
   "source": [
    "df_eu.plot(y='part',kind='pie', title='Распределение объемов продаж в Европе', \\\n",
    "            grid=True, figsize=(9,9), autopct='%1.0f%%',pctdistance=1.1, labeldistance=1.2);"
   ]
  },
  {
   "cell_type": "markdown",
   "metadata": {},
   "source": [
    "Европейский рынок: 392.49 млн копий\n",
    "В Европе лидирует PS4 с долей продаж 35%, за ними идут PS3 (17%) и XOne (13%), X360 (10%), 3DS (7%)."
   ]
  },
  {
   "cell_type": "markdown",
   "metadata": {},
   "source": [
    "**Самые популярные жанры. Топ-5**"
   ]
  },
  {
   "cell_type": "code",
   "execution_count": 64,
   "metadata": {},
   "outputs": [
    {
     "data": {
      "text/html": [
       "<div>\n",
       "<style scoped>\n",
       "    .dataframe tbody tr th:only-of-type {\n",
       "        vertical-align: middle;\n",
       "    }\n",
       "\n",
       "    .dataframe tbody tr th {\n",
       "        vertical-align: top;\n",
       "    }\n",
       "\n",
       "    .dataframe thead th {\n",
       "        text-align: right;\n",
       "    }\n",
       "</style>\n",
       "<table border=\"1\" class=\"dataframe\">\n",
       "  <thead>\n",
       "    <tr style=\"text-align: right;\">\n",
       "      <th></th>\n",
       "      <th>count</th>\n",
       "      <th>sum</th>\n",
       "    </tr>\n",
       "    <tr>\n",
       "      <th>genre</th>\n",
       "      <th></th>\n",
       "      <th></th>\n",
       "    </tr>\n",
       "  </thead>\n",
       "  <tbody>\n",
       "    <tr>\n",
       "      <td>Action</td>\n",
       "      <td>766</td>\n",
       "      <td>118.13</td>\n",
       "    </tr>\n",
       "    <tr>\n",
       "      <td>Shooter</td>\n",
       "      <td>187</td>\n",
       "      <td>87.86</td>\n",
       "    </tr>\n",
       "    <tr>\n",
       "      <td>Sports</td>\n",
       "      <td>214</td>\n",
       "      <td>60.52</td>\n",
       "    </tr>\n",
       "    <tr>\n",
       "      <td>Role-Playing</td>\n",
       "      <td>292</td>\n",
       "      <td>36.97</td>\n",
       "    </tr>\n",
       "    <tr>\n",
       "      <td>Racing</td>\n",
       "      <td>85</td>\n",
       "      <td>20.19</td>\n",
       "    </tr>\n",
       "  </tbody>\n",
       "</table>\n",
       "</div>"
      ],
      "text/plain": [
       "              count     sum\n",
       "genre                      \n",
       "Action          766  118.13\n",
       "Shooter         187   87.86\n",
       "Sports          214   60.52\n",
       "Role-Playing    292   36.97\n",
       "Racing           85   20.19"
      ]
     },
     "execution_count": 64,
     "metadata": {},
     "output_type": "execute_result"
    }
   ],
   "source": [
    "df_2013.groupby('genre')['eu_sales'].agg(['count', 'sum']).sort_values(by = 'sum', ascending=False).head()"
   ]
  },
  {
   "cell_type": "markdown",
   "metadata": {},
   "source": [
    "В Европе люди играют в Action, Shooter, Sports, Role-Playing, Racing"
   ]
  },
  {
   "cell_type": "markdown",
   "metadata": {},
   "source": [
    "**Влияет ли рейтинг ESRB на продажи в Европе?**"
   ]
  },
  {
   "cell_type": "code",
   "execution_count": 65,
   "metadata": {},
   "outputs": [
    {
     "data": {
      "text/html": [
       "<div>\n",
       "<style scoped>\n",
       "    .dataframe tbody tr th:only-of-type {\n",
       "        vertical-align: middle;\n",
       "    }\n",
       "\n",
       "    .dataframe tbody tr th {\n",
       "        vertical-align: top;\n",
       "    }\n",
       "\n",
       "    .dataframe thead th {\n",
       "        text-align: right;\n",
       "    }\n",
       "</style>\n",
       "<table border=\"1\" class=\"dataframe\">\n",
       "  <thead>\n",
       "    <tr style=\"text-align: right;\">\n",
       "      <th></th>\n",
       "      <th>count</th>\n",
       "      <th>sum</th>\n",
       "    </tr>\n",
       "    <tr>\n",
       "      <th>rating</th>\n",
       "      <th></th>\n",
       "      <th></th>\n",
       "    </tr>\n",
       "  </thead>\n",
       "  <tbody>\n",
       "    <tr>\n",
       "      <td>M</td>\n",
       "      <td>369</td>\n",
       "      <td>145.32</td>\n",
       "    </tr>\n",
       "    <tr>\n",
       "      <td>E</td>\n",
       "      <td>302</td>\n",
       "      <td>83.36</td>\n",
       "    </tr>\n",
       "    <tr>\n",
       "      <td>none</td>\n",
       "      <td>977</td>\n",
       "      <td>78.91</td>\n",
       "    </tr>\n",
       "    <tr>\n",
       "      <td>E10+</td>\n",
       "      <td>252</td>\n",
       "      <td>42.69</td>\n",
       "    </tr>\n",
       "    <tr>\n",
       "      <td>T</td>\n",
       "      <td>333</td>\n",
       "      <td>41.95</td>\n",
       "    </tr>\n",
       "  </tbody>\n",
       "</table>\n",
       "</div>"
      ],
      "text/plain": [
       "        count     sum\n",
       "rating               \n",
       "M         369  145.32\n",
       "E         302   83.36\n",
       "none      977   78.91\n",
       "E10+      252   42.69\n",
       "T         333   41.95"
      ]
     },
     "execution_count": 65,
     "metadata": {},
     "output_type": "execute_result"
    }
   ],
   "source": [
    "df_2013.groupby('rating')['eu_sales'].agg(['count', 'sum']).sort_values(by = 'sum', ascending=False)"
   ]
  },
  {
   "cell_type": "markdown",
   "metadata": {},
   "source": [
    "В Европе также как и в Америке, наиболее распростанены игры с рейтингом M (для зрелых), потом идут игры E (для всех) и примерно там же находятся игры без рейтинга. "
   ]
  },
  {
   "cell_type": "markdown",
   "metadata": {},
   "source": [
    "**ЯПОНИЯ**"
   ]
  },
  {
   "cell_type": "code",
   "execution_count": 66,
   "metadata": {},
   "outputs": [
    {
     "data": {
      "text/html": [
       "<div>\n",
       "<style scoped>\n",
       "    .dataframe tbody tr th:only-of-type {\n",
       "        vertical-align: middle;\n",
       "    }\n",
       "\n",
       "    .dataframe tbody tr th {\n",
       "        vertical-align: top;\n",
       "    }\n",
       "\n",
       "    .dataframe thead th {\n",
       "        text-align: right;\n",
       "    }\n",
       "</style>\n",
       "<table border=\"1\" class=\"dataframe\">\n",
       "  <thead>\n",
       "    <tr style=\"text-align: right;\">\n",
       "      <th></th>\n",
       "      <th>count</th>\n",
       "      <th>sum</th>\n",
       "    </tr>\n",
       "    <tr>\n",
       "      <th>platform</th>\n",
       "      <th></th>\n",
       "      <th></th>\n",
       "    </tr>\n",
       "  </thead>\n",
       "  <tbody>\n",
       "    <tr>\n",
       "      <td>3DS</td>\n",
       "      <td>303</td>\n",
       "      <td>67.81</td>\n",
       "    </tr>\n",
       "    <tr>\n",
       "      <td>PS3</td>\n",
       "      <td>345</td>\n",
       "      <td>23.35</td>\n",
       "    </tr>\n",
       "    <tr>\n",
       "      <td>PSV</td>\n",
       "      <td>358</td>\n",
       "      <td>18.59</td>\n",
       "    </tr>\n",
       "    <tr>\n",
       "      <td>PS4</td>\n",
       "      <td>392</td>\n",
       "      <td>15.96</td>\n",
       "    </tr>\n",
       "    <tr>\n",
       "      <td>WiiU</td>\n",
       "      <td>115</td>\n",
       "      <td>10.88</td>\n",
       "    </tr>\n",
       "    <tr>\n",
       "      <td>PSP</td>\n",
       "      <td>67</td>\n",
       "      <td>3.29</td>\n",
       "    </tr>\n",
       "    <tr>\n",
       "      <td>X360</td>\n",
       "      <td>186</td>\n",
       "      <td>0.51</td>\n",
       "    </tr>\n",
       "    <tr>\n",
       "      <td>XOne</td>\n",
       "      <td>247</td>\n",
       "      <td>0.34</td>\n",
       "    </tr>\n",
       "    <tr>\n",
       "      <td>Wii</td>\n",
       "      <td>23</td>\n",
       "      <td>0.05</td>\n",
       "    </tr>\n",
       "    <tr>\n",
       "      <td>DS</td>\n",
       "      <td>8</td>\n",
       "      <td>0.00</td>\n",
       "    </tr>\n",
       "    <tr>\n",
       "      <td>PC</td>\n",
       "      <td>189</td>\n",
       "      <td>0.00</td>\n",
       "    </tr>\n",
       "  </tbody>\n",
       "</table>\n",
       "</div>"
      ],
      "text/plain": [
       "          count    sum\n",
       "platform              \n",
       "3DS         303  67.81\n",
       "PS3         345  23.35\n",
       "PSV         358  18.59\n",
       "PS4         392  15.96\n",
       "WiiU        115  10.88\n",
       "PSP          67   3.29\n",
       "X360        186   0.51\n",
       "XOne        247   0.34\n",
       "Wii          23   0.05\n",
       "DS            8   0.00\n",
       "PC          189   0.00"
      ]
     },
     "execution_count": 66,
     "metadata": {},
     "output_type": "execute_result"
    }
   ],
   "source": [
    "df_jp=df_2013.groupby('platform')['jp_sales'].agg(['count', 'sum']).sort_values(by = 'sum', ascending=False)\n",
    "df_jp"
   ]
  },
  {
   "cell_type": "code",
   "execution_count": 67,
   "metadata": {},
   "outputs": [],
   "source": [
    "#Посчитаем доли продаж:\n",
    "df_jp['part']=df_jp['sum']/df_jp['sum'].sum()"
   ]
  },
  {
   "cell_type": "code",
   "execution_count": 68,
   "metadata": {},
   "outputs": [
    {
     "data": {
      "text/plain": [
       "140.78000000000011"
      ]
     },
     "execution_count": 68,
     "metadata": {},
     "output_type": "execute_result"
    }
   ],
   "source": [
    "df_jp['sum'].sum()"
   ]
  },
  {
   "cell_type": "markdown",
   "metadata": {},
   "source": [
    "**Популярные платформы. Топ-5**"
   ]
  },
  {
   "cell_type": "code",
   "execution_count": 69,
   "metadata": {},
   "outputs": [
    {
     "data": {
      "text/html": [
       "<div>\n",
       "<style scoped>\n",
       "    .dataframe tbody tr th:only-of-type {\n",
       "        vertical-align: middle;\n",
       "    }\n",
       "\n",
       "    .dataframe tbody tr th {\n",
       "        vertical-align: top;\n",
       "    }\n",
       "\n",
       "    .dataframe thead th {\n",
       "        text-align: right;\n",
       "    }\n",
       "</style>\n",
       "<table border=\"1\" class=\"dataframe\">\n",
       "  <thead>\n",
       "    <tr style=\"text-align: right;\">\n",
       "      <th></th>\n",
       "      <th>count</th>\n",
       "      <th>sum</th>\n",
       "      <th>part</th>\n",
       "    </tr>\n",
       "    <tr>\n",
       "      <th>platform</th>\n",
       "      <th></th>\n",
       "      <th></th>\n",
       "      <th></th>\n",
       "    </tr>\n",
       "  </thead>\n",
       "  <tbody>\n",
       "    <tr>\n",
       "      <td>3DS</td>\n",
       "      <td>303</td>\n",
       "      <td>67.81</td>\n",
       "      <td>0.481674</td>\n",
       "    </tr>\n",
       "    <tr>\n",
       "      <td>PS3</td>\n",
       "      <td>345</td>\n",
       "      <td>23.35</td>\n",
       "      <td>0.165862</td>\n",
       "    </tr>\n",
       "    <tr>\n",
       "      <td>PSV</td>\n",
       "      <td>358</td>\n",
       "      <td>18.59</td>\n",
       "      <td>0.132050</td>\n",
       "    </tr>\n",
       "    <tr>\n",
       "      <td>PS4</td>\n",
       "      <td>392</td>\n",
       "      <td>15.96</td>\n",
       "      <td>0.113368</td>\n",
       "    </tr>\n",
       "    <tr>\n",
       "      <td>WiiU</td>\n",
       "      <td>115</td>\n",
       "      <td>10.88</td>\n",
       "      <td>0.077284</td>\n",
       "    </tr>\n",
       "  </tbody>\n",
       "</table>\n",
       "</div>"
      ],
      "text/plain": [
       "          count    sum      part\n",
       "platform                        \n",
       "3DS         303  67.81  0.481674\n",
       "PS3         345  23.35  0.165862\n",
       "PSV         358  18.59  0.132050\n",
       "PS4         392  15.96  0.113368\n",
       "WiiU        115  10.88  0.077284"
      ]
     },
     "execution_count": 69,
     "metadata": {},
     "output_type": "execute_result"
    }
   ],
   "source": [
    "df_jp.head()"
   ]
  },
  {
   "cell_type": "code",
   "execution_count": 70,
   "metadata": {},
   "outputs": [
    {
     "data": {
      "image/png": "[encoded data removed]",
      "text/plain": [
       "<Figure size 648x648 with 1 Axes>"
      ]
     },
     "metadata": {},
     "output_type": "display_data"
    }
   ],
   "source": [
    "df_jp.plot(y='part',kind='pie', title='Распределение объемов продаж в Японии', \\\n",
    "            grid=True, figsize=(9,9), autopct='%1.0f%%',pctdistance=1.1, labeldistance=1.2);"
   ]
  },
  {
   "cell_type": "markdown",
   "metadata": {},
   "source": [
    "Японский рынок: 140.9 млн копий\n",
    "В японии лидирует с большим отрывом 3DS с долей 48%, PS3 с долей 16%, PSV (13%), PS4 (11%), WiiU(8%)"
   ]
  },
  {
   "cell_type": "markdown",
   "metadata": {},
   "source": [
    "**Самые популярные жанры. Топ-5**"
   ]
  },
  {
   "cell_type": "code",
   "execution_count": 71,
   "metadata": {},
   "outputs": [
    {
     "data": {
      "text/html": [
       "<div>\n",
       "<style scoped>\n",
       "    .dataframe tbody tr th:only-of-type {\n",
       "        vertical-align: middle;\n",
       "    }\n",
       "\n",
       "    .dataframe tbody tr th {\n",
       "        vertical-align: top;\n",
       "    }\n",
       "\n",
       "    .dataframe thead th {\n",
       "        text-align: right;\n",
       "    }\n",
       "</style>\n",
       "<table border=\"1\" class=\"dataframe\">\n",
       "  <thead>\n",
       "    <tr style=\"text-align: right;\">\n",
       "      <th></th>\n",
       "      <th>count</th>\n",
       "      <th>sum</th>\n",
       "    </tr>\n",
       "    <tr>\n",
       "      <th>genre</th>\n",
       "      <th></th>\n",
       "      <th></th>\n",
       "    </tr>\n",
       "  </thead>\n",
       "  <tbody>\n",
       "    <tr>\n",
       "      <td>Role-Playing</td>\n",
       "      <td>292</td>\n",
       "      <td>51.04</td>\n",
       "    </tr>\n",
       "    <tr>\n",
       "      <td>Action</td>\n",
       "      <td>766</td>\n",
       "      <td>40.49</td>\n",
       "    </tr>\n",
       "    <tr>\n",
       "      <td>Misc</td>\n",
       "      <td>155</td>\n",
       "      <td>9.20</td>\n",
       "    </tr>\n",
       "    <tr>\n",
       "      <td>Fighting</td>\n",
       "      <td>80</td>\n",
       "      <td>7.65</td>\n",
       "    </tr>\n",
       "    <tr>\n",
       "      <td>Shooter</td>\n",
       "      <td>187</td>\n",
       "      <td>6.61</td>\n",
       "    </tr>\n",
       "  </tbody>\n",
       "</table>\n",
       "</div>"
      ],
      "text/plain": [
       "              count    sum\n",
       "genre                     \n",
       "Role-Playing    292  51.04\n",
       "Action          766  40.49\n",
       "Misc            155   9.20\n",
       "Fighting         80   7.65\n",
       "Shooter         187   6.61"
      ]
     },
     "execution_count": 71,
     "metadata": {},
     "output_type": "execute_result"
    }
   ],
   "source": [
    "df_2013.groupby('genre')['jp_sales'].agg(['count', 'sum']).sort_values(by = 'sum', ascending=False).head()"
   ]
  },
  {
   "cell_type": "markdown",
   "metadata": {},
   "source": [
    "В Японии люди играют в Role-Playing, Action, Misc, Fighting, Shooter. Именно в таком порядке."
   ]
  },
  {
   "cell_type": "markdown",
   "metadata": {},
   "source": [
    "**Влияет ли рейтинг ESRB на продажи в Японии?**"
   ]
  },
  {
   "cell_type": "code",
   "execution_count": 72,
   "metadata": {},
   "outputs": [
    {
     "data": {
      "text/html": [
       "<div>\n",
       "<style scoped>\n",
       "    .dataframe tbody tr th:only-of-type {\n",
       "        vertical-align: middle;\n",
       "    }\n",
       "\n",
       "    .dataframe tbody tr th {\n",
       "        vertical-align: top;\n",
       "    }\n",
       "\n",
       "    .dataframe thead th {\n",
       "        text-align: right;\n",
       "    }\n",
       "</style>\n",
       "<table border=\"1\" class=\"dataframe\">\n",
       "  <thead>\n",
       "    <tr style=\"text-align: right;\">\n",
       "      <th></th>\n",
       "      <th>count</th>\n",
       "      <th>sum</th>\n",
       "    </tr>\n",
       "    <tr>\n",
       "      <th>rating</th>\n",
       "      <th></th>\n",
       "      <th></th>\n",
       "    </tr>\n",
       "  </thead>\n",
       "  <tbody>\n",
       "    <tr>\n",
       "      <td>none</td>\n",
       "      <td>977</td>\n",
       "      <td>85.05</td>\n",
       "    </tr>\n",
       "    <tr>\n",
       "      <td>T</td>\n",
       "      <td>333</td>\n",
       "      <td>20.59</td>\n",
       "    </tr>\n",
       "    <tr>\n",
       "      <td>E</td>\n",
       "      <td>302</td>\n",
       "      <td>15.14</td>\n",
       "    </tr>\n",
       "    <tr>\n",
       "      <td>M</td>\n",
       "      <td>369</td>\n",
       "      <td>14.11</td>\n",
       "    </tr>\n",
       "    <tr>\n",
       "      <td>E10+</td>\n",
       "      <td>252</td>\n",
       "      <td>5.89</td>\n",
       "    </tr>\n",
       "  </tbody>\n",
       "</table>\n",
       "</div>"
      ],
      "text/plain": [
       "        count    sum\n",
       "rating              \n",
       "none      977  85.05\n",
       "T         333  20.59\n",
       "E         302  15.14\n",
       "M         369  14.11\n",
       "E10+      252   5.89"
      ]
     },
     "execution_count": 72,
     "metadata": {},
     "output_type": "execute_result"
    }
   ],
   "source": [
    "df_2013.groupby('rating')['jp_sales'].agg(['count', 'sum']).sort_values(by = 'sum', ascending=False)"
   ]
  },
  {
   "cell_type": "markdown",
   "metadata": {},
   "source": [
    "60% всего рынка Японии занимают игры без рейтинга. Вероятно это связано с тем, что в Японии своя рейтинговая система, и свой, отличный от Европы и Америки рынок. Далее идут игры для подростков, потом для всех и потом для зрелых (у последних двух около 15млн копий). Подростки тут играют в большем количестве (в процентном отношении), чем остальные."
   ]
  },
  {
   "cell_type": "markdown",
   "metadata": {},
   "source": [
    "#### Вывод:\n",
    "\n",
    "Проанализировав топы платформ и жанров, оценив влияние рейтинга ESRB, мы можем сделать следующие выводы:\n",
    "\n",
    "1. Самой большой рынок в Северной Америке с продажами 438.66 млн копий\n",
    "2. Рынок Северной Америки и европейский рынок похожи между собой по топовым платформам. И там и там в топе PS4 , XOne, X360, PS3, 3DS. Немного различается процентное отношение но незначительно.\n",
    "3. Жанры игр, в Европе и Америке также практически полностью совпадают, только Американцы чуть больше любят квесты, а европейцы гонки. Топ 5 выглядит так: Action, Shooter, Sports, Role-Playing, Misc (Racing для Европы)\n",
    "4. В Японии самый маленький рынок, и там больше всего любят портативные консоли. Топ платформ 3DS(48% рынка), PS3 , PSV, PS4, WiiU.\n",
    "5. Жанры в Японии похожи по большей части: Role-Playing, Action, Misc, Fighting, Shooter. Но тут мы видим Fighting. \n",
    "6. Влияние рейтинга ESRB на продажи в Европе и Америке: 80% продаются с отметкой рейтинга. В Европе ESRB рейтинг не обязателен, но тут он видимо просто есть у игр, потому как предпочтения на игры на этих континентах похож.\n",
    "7. В Японии рейтинг ESRB тут влияния сильного не имеет."
   ]
  },
  {
   "cell_type": "markdown",
   "metadata": {},
   "source": [
    "## Шаг 5. Проверка гипотез<a id='section7'></a>"
   ]
  },
  {
   "cell_type": "markdown",
   "metadata": {},
   "source": [
    "**Гипотеза 1: Средние пользовательские рейтинги платформ Xbox One и PC одинаковые**"
   ]
  },
  {
   "cell_type": "markdown",
   "metadata": {},
   "source": [
    "Сформулируем нулевую и альтернативную гипотезы:\n",
    "\n",
    "**H0:** Средний пользовательский рейтинг платформы Xbox One равен среднему пользовательскому рейтингу PC\n",
    "\n",
    "**H1:** Средний пользовательский рейтинг платформы Xbox One не равен среднему пользовательскому рейтингу PC"
   ]
  },
  {
   "cell_type": "markdown",
   "metadata": {},
   "source": [
    "Пороговое значение alpha = 0.05"
   ]
  },
  {
   "cell_type": "markdown",
   "metadata": {},
   "source": [
    "Посчитаем дисперсии выборок:"
   ]
  },
  {
   "cell_type": "code",
   "execution_count": 73,
   "metadata": {},
   "outputs": [
    {
     "data": {
      "text/plain": [
       "1.8965188383045526"
      ]
     },
     "execution_count": 73,
     "metadata": {},
     "output_type": "execute_result"
    }
   ],
   "source": [
    "var_xone = np.var(df.query('(platform == \"XOne\") and (user_score !=\"3333\")')['user_score'])\n",
    "var_xone"
   ]
  },
  {
   "cell_type": "code",
   "execution_count": 74,
   "metadata": {},
   "outputs": [
    {
     "data": {
      "text/plain": [
       "3.016306347554631"
      ]
     },
     "execution_count": 74,
     "metadata": {},
     "output_type": "execute_result"
    }
   ],
   "source": [
    "var_pc = np.var(df.query('(platform == \"PC\") and (year_of_release>2012) and (user_score !=\"3333\")')['user_score'])\n",
    "var_pc"
   ]
  },
  {
   "cell_type": "markdown",
   "metadata": {},
   "source": [
    "Построим распределения наших выбор, чтобы посмотреть их \"нормальность\":"
   ]
  },
  {
   "cell_type": "code",
   "execution_count": 75,
   "metadata": {},
   "outputs": [
    {
     "data": {
      "image/png": "[encoded data removed]",
      "text/plain": [
       "<Figure size 432x288 with 1 Axes>"
      ]
     },
     "metadata": {
      "needs_background": "light"
     },
     "output_type": "display_data"
    }
   ],
   "source": [
    "#для платформы XOne\n",
    "df.query('(platform == \"XOne\") and (user_score !=\"3333\")')['user_score'].hist()\n",
    "plt.title('Гистограмма распределения оценок пользователей на платформе XOne')\n",
    "plt.xlabel('Оценка пользователей')\n",
    "plt.ylabel('Кол-во');"
   ]
  },
  {
   "cell_type": "code",
   "execution_count": 76,
   "metadata": {},
   "outputs": [
    {
     "data": {
      "image/png": "[encoded data removed]",
      "text/plain": [
       "<Figure size 432x288 with 1 Axes>"
      ]
     },
     "metadata": {
      "needs_background": "light"
     },
     "output_type": "display_data"
    }
   ],
   "source": [
    "#для платформы PC\n",
    "df.query('(platform == \"PC\") and (year_of_release>2012) and (user_score !=\"3333\")')['user_score'].hist()\n",
    "plt.title('Гистограмма распределения оценок пользователей на PC')\n",
    "plt.xlabel('Оценка пользователей')\n",
    "plt.ylabel('Кол-во');"
   ]
  },
  {
   "cell_type": "markdown",
   "metadata": {},
   "source": [
    "Наблюдений больше 30, можем проводить т-тест "
   ]
  },
  {
   "cell_type": "code",
   "execution_count": 77,
   "metadata": {},
   "outputs": [
    {
     "name": "stdout",
     "output_type": "stream",
     "text": [
      "p-значение: 0.14759594013430463\n",
      "Не получилось отвергнуть нулевую гипотезу\n"
     ]
    }
   ],
   "source": [
    "alpha = .05\n",
    "\n",
    "results = st.ttest_ind(\n",
    "    df.query('(platform == \"XOne\") and (user_score !=\"3333\")')['user_score'], \n",
    "    df.query('(platform == \"PC\") and (year_of_release>2012) and (user_score !=\"3333\")')['user_score'],\n",
    "    equal_var = False)\n",
    "\n",
    "print('p-значение:', results.pvalue)\n",
    "\n",
    "if (results.pvalue < alpha):\n",
    "    print(\"Отвергаем нулевую гипотезу\")\n",
    "else:\n",
    "    print(\"Не получилось отвергнуть нулевую гипотезу\") "
   ]
  },
  {
   "cell_type": "markdown",
   "metadata": {},
   "source": [
    "Значит мы не можем отвергнуть нулевую гипотезу:\n",
    "\n",
    "**H0:** Средний пользовательский рейтинг платформы Xbox One равен среднему пользовательскому рейтингу PC"
   ]
  },
  {
   "cell_type": "markdown",
   "metadata": {},
   "source": [
    "*****"
   ]
  },
  {
   "cell_type": "markdown",
   "metadata": {},
   "source": [
    "**Гипотеза 2:\n",
    "Средние пользовательские рейтинги жанров Action (англ. «действие», экшен-игры) и Sports (англ. «спортивные соревнования») разные.**"
   ]
  },
  {
   "cell_type": "markdown",
   "metadata": {},
   "source": [
    "Сформулируем нулевую и альтернативную гипотезы:\n",
    "\n",
    "**H0:** Средний пользовательский рейтинг жанров Action равен среднему пользовательскому рейтингу жанра Sports\n",
    "\n",
    "**H1:** Средний пользовательский рейтинг жанров Action не равен среднему пользовательскому рейтингу жанра Sports"
   ]
  },
  {
   "cell_type": "markdown",
   "metadata": {},
   "source": [
    "Пороговое значение alpha = 0.05\n",
    "\n",
    "Посчитаем дисперсии выборок:"
   ]
  },
  {
   "cell_type": "code",
   "execution_count": 78,
   "metadata": {},
   "outputs": [
    {
     "data": {
      "text/plain": [
       "1.7648124186332366"
      ]
     },
     "execution_count": 78,
     "metadata": {},
     "output_type": "execute_result"
    }
   ],
   "source": [
    "var_action = np.var(df.query('(genre == \"Action\") and (year_of_release>2012) and (user_score !=\"3333\")')['user_score'])\n",
    "var_action"
   ]
  },
  {
   "cell_type": "code",
   "execution_count": 79,
   "metadata": {},
   "outputs": [
    {
     "data": {
      "text/plain": [
       "3.160733984375"
      ]
     },
     "execution_count": 79,
     "metadata": {},
     "output_type": "execute_result"
    }
   ],
   "source": [
    "var_sports = np.var(df.query('(genre == \"Sports\") and (year_of_release>2012) and (user_score !=\"3333\")')['user_score'])\n",
    "var_sports"
   ]
  },
  {
   "cell_type": "markdown",
   "metadata": {},
   "source": [
    "Построим распределения наших выбор, чтобы посмотреть их \"нормальность\":"
   ]
  },
  {
   "cell_type": "code",
   "execution_count": 80,
   "metadata": {},
   "outputs": [
    {
     "data": {
      "image/png": "[encoded data removed]",
      "text/plain": [
       "<Figure size 432x288 with 1 Axes>"
      ]
     },
     "metadata": {
      "needs_background": "light"
     },
     "output_type": "display_data"
    }
   ],
   "source": [
    "df.query('(genre == \"Action\") and (year_of_release>2012)and (user_score !=\"3333\")')['user_score'].hist()\n",
    "plt.title('Гистограмма распределения оценок пользователей в жанре Action')\n",
    "plt.xlabel('Оценка пользователей')\n",
    "plt.ylabel('Кол-во');"
   ]
  },
  {
   "cell_type": "code",
   "execution_count": 81,
   "metadata": {},
   "outputs": [
    {
     "data": {
      "image/png": "[encoded data removed]",
      "text/plain": [
       "<Figure size 432x288 with 1 Axes>"
      ]
     },
     "metadata": {
      "needs_background": "light"
     },
     "output_type": "display_data"
    }
   ],
   "source": [
    "df.query('(genre == \"Sports\") and (year_of_release>2012) and (user_score !=\"3333\")')['user_score'].hist()\n",
    "plt.title('Гистограмма распределения оценок пользователей в жанре Sports')\n",
    "plt.xlabel('Оценка пользователей')\n",
    "plt.ylabel('Кол-во');"
   ]
  },
  {
   "cell_type": "markdown",
   "metadata": {},
   "source": [
    "Количество наблюдений больше 30, можем проводить т-тест."
   ]
  },
  {
   "cell_type": "code",
   "execution_count": 82,
   "metadata": {},
   "outputs": [
    {
     "name": "stdout",
     "output_type": "stream",
     "text": [
      "p-значение: 1.4460039700704315e-20\n",
      "Отвергаем нулевую гипотезу\n"
     ]
    }
   ],
   "source": [
    "alpha = .05\n",
    "\n",
    "results = st.ttest_ind(\n",
    "    df.query('(genre == \"Action\") and (year_of_release>2012)and (user_score !=\"3333\")')['user_score'], \n",
    "    df.query('(genre == \"Sports\") and (year_of_release>2012) and (user_score !=\"3333\")')['user_score'],\n",
    "    equal_var = False)\n",
    "\n",
    "print('p-значение:', results.pvalue)\n",
    "\n",
    "if (results.pvalue < alpha):\n",
    "    print(\"Отвергаем нулевую гипотезу\")\n",
    "else:\n",
    "    print(\"Не получилось отвергнуть нулевую гипотезу\") "
   ]
  },
  {
   "cell_type": "markdown",
   "metadata": {},
   "source": [
    "Значит мы можем рассматривать гипотезу\n",
    "\n",
    "**H1: Средний пользовательский рейтинг жанров Action не равен среднему пользовательскому рейтингу жанра Sports**"
   ]
  },
  {
   "cell_type": "markdown",
   "metadata": {},
   "source": [
    "## Шаг 6. Общий вывод<a id='section8'></a>"
   ]
  },
  {
   "cell_type": "markdown",
   "metadata": {},
   "source": [
    "**Первый взгляд на таблицу:**\n",
    "\n",
    "1. Практически в каждом столбце есть свои пропущенные значения, особенно много пропусков в данных с рейтингами игр. Возможно в какие-то года, каких-то рейтингов еще не существовало, или какие-то игры не участвовали в оценках по тем или иным причинам.\n",
    "\n",
    "2. Названия столбцов с разными регистрами, надо привести к нижнему\n",
    "\n",
    "**Подготовка данных**\n",
    "1. Мы привели названия столбцов к нижнему регистру\n",
    "\n",
    "2. Преобразовали year_of_release в тип int, для того чтобы применять все методы к этому столбцу;\n",
    "\n",
    "3. Удалили две строки с nan в name, как несущественные\n",
    "\n",
    "4. Обработали пропуски в столбцах:\n",
    "\n",
    "    - **year_of_release** маркером 1111, ;\n",
    "    - **critic_score** - пропуски в оценках критиков, оставим пропусками, так как апроксимировать эти значения, значит сильно искажать картину, и рейтинги будут необъективными. Заполнили пропуски в оценках критиков маркером 2222, так их удобнее отслеживать в дальнейшем:;\n",
    "    - **user_score** - заменили значения tbd (to be determined - рейтинг будет определен) в столбце user_score на nan, так как пока этого рейтинга нет, и все nan заполним маркером 3333. Заполнять пропуски апроксимированными значениями, значит сильно искажать картину, и рейтинги будут необъективными.\n",
    "    - заполнили пропуски в столбце **'rating'** значением none,  потому как мы не знали возрастного ограничения по играм;\n",
    "\n",
    "\n",
    "5. Посчитали суммарные продажи по регионам, и запишем в отдельный столбец 'total_sales'.\n",
    "\n",
    "**Исследовательский анализ данных**\n",
    "\n",
    "1. За первые 15 лет индустрия произвела 3% всех игр, рассматриваем игры с 1995 года\n",
    "\n",
    "2. Самые высокие продажи на платтформах PS2, X360, PS3, Wii, DS, PS. (700 - 1255 млн копий)  После этого продажи уменьшаются в два раза.\n",
    "\n",
    "3. Средний срок жизни жизни платформы 8-11 лет. За время платформа растет, доходит до пика и угасает.\n",
    "\n",
    "4. В 2016 у следующих платформ есть продажи и потенциал для роста:\n",
    "\n",
    "    1. PS4 - продажи около 70 млн, 3 года на рынке\n",
    "    2. Xone - продажи 25 млн, 3 года на рынке\n",
    "    3. WiiU - продажи около 5 миллионов, игра появилась в 2012\n",
    "    4. 3DS - продажи около 15 миллионов, игра появилась в 2011\n",
    "    5. PC - продажи около 5 миллионов, платформа актуальна всегда.\n",
    "\n",
    "5. Актуальным можем считать период с 2013 года, в это время появляются новые платформы и стремятся продажи к нулю у старых.\n",
    "\n",
    "6. Посмотрев на все остальные платформы можем сделать такие же выводы как и по платформам PS4 и Xone:\n",
    "\n",
    "    1. Игры с большими объемами продаж начинаются там где оценки критиков больше 65.\n",
    "    2. Продажи не зависят от оценок пользователей. \n",
    "\n",
    "7. Распределение игр по жанрам:\n",
    "Самые низкие продажи у:\n",
    "\n",
    "- Strategy\n",
    "- Puzzle\n",
    "\n",
    "Обобщив можем назвать топ-3 жанров как самые прибыльные и для которых создано самое большое количество игр:\n",
    "- Action,\n",
    "- Shooter и\n",
    "- Role-Playing\n",
    "\n",
    "**Портрет пользователя каждого региона**\n",
    "\n",
    "Проанализировав топы платформ и жанров, оценив влияние рейтинга ESRB, мы можем сделать следующие выводы:\n",
    "\n",
    "1. Самой большой рынок в Северной Америке с продажами 438.66 млн копий, Европейский рынок - 392.49 млн копий, Япония - 140.9 млн копий\n",
    "2. Рынок Северной Америки и европейский рынок похожи между собой по топовым платформам. И там и там в топе PS4 , XOne, X360, PS3, 3DS. Немного различается процентное отношение но незначительно.\n",
    "3. Жанры игр, в Европе и Америке также практически полностью совпадают, только Американцы чуть больше любят квесты, а европейцы гонки. Топ 5 выглядит так: Action, Shooter, Sports, Role-Playing, Misc (Racing для Европы)\n",
    "4. В Японии самый маленький рынок, и там больше всего любят портативные консоли. Топ платформ 3DS(48% рынка), PS3 , PSV, PS4, WiiU.\n",
    "5. Жанры в Японии похожи по большей части: Role-Playing, Action, Misc, Fighting, Shooter. Но тут мы видим Fighting. \n",
    "6. Влияние рейтинга ESRB на продажи в Европе и Америке: 80% продаются с отметкой рейтинга. В Европе ESRB рейтинг не обязателен, но тут он видимо просто есть у игр, потому как предпочтения на игры на этих континентах похож.\n",
    "7. В Японии рейтинг ESRB тут влияния сильного не имеет.\n",
    "\n",
    "**Проверка гипотез:**\n",
    "\n",
    "*Гипотеза 1: Средние пользовательские рейтинги платформ Xbox One и PC одинаковые*\n",
    "\n",
    "Проведя T-тест, мы сделали вывод о том, что мы не можем отвергнуть нулевую гипотезу:\n",
    "\n",
    "   **H0: Средний пользовательский рейтинг платформы Xbox One равен среднему пользовательскому рейтингу PC**\n",
    "\n",
    "*Гипотеза 2: Средние пользовательские рейтинги жанров Action (англ. «действие», экшен-игры) и Sports (англ. «спортивные соревнования») разные.*\n",
    "\n",
    "Проведя T-тест, мы сделали вывод о том, что мы можем рассматривать гипотезу\n",
    "\n",
    "   **H1: Средний пользовательский рейтинг жанров Action не равен среднему пользовательскому рейтингу жанра Sports**\n"
   ]
  },
  {
   "cell_type": "markdown",
   "metadata": {},
   "source": [
    "Резюмируя:\n",
    "   1. Считаем рынок Северной Америки и Европы максимально близкими по предпочтениям. \n",
    "    \n",
    "   - Платформы PS4 , XOne, X360, PS3, 3DS, PC \n",
    "   - Жанры Action, Shooter, Sports, Role-Playing, Misc (Racing для Европы)\n",
    "   - ESRB нужен\n",
    "    \n",
    "   2. Япония отличный от них рынок сосвоими предпочтениями и любяща портативные консоли.\n",
    "   - Платформы 3DS(48% рынка), PS3 , PSV, PS4, WiiU, PC\n",
    "   - Жанры  Role-Playing, Action, Misc, Fighting, Shooter.\n",
    "   - ESRB не нужен"
   ]
  }
 ],
 "metadata": {
  "kernelspec": {
   "display_name": "Python 3",
   "language": "python",
   "name": "python3"
  },
  "language_info": {
   "codemirror_mode": {
    "name": "ipython",
    "version": 3
   },
   "file_extension": ".py",
   "mimetype": "text/x-python",
   "name": "python",
   "nbconvert_exporter": "python",
   "pygments_lexer": "ipython3",
   "version": "3.7.8"
  }
 },
 "nbformat": 4,
 "nbformat_minor": 4
}
