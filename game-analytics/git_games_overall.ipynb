{
 "cells": [
  {
   "cell_type": "markdown",
   "metadata": {},
   "source": [
    "# Игры — Формирование модели монетизации"
   ]
  },
  {
   "cell_type": "markdown",
   "metadata": {},
   "source": [
    "## 1. Оглавление:<a id=\"step1\"></a>\n",
    "\n",
    "[1. Оглавление](#step1)\n",
    "\n",
    "[2. Постановка задачи](#step2)\n",
    "\n",
    "[3. Описание датасетов](#step3)\n",
    "\n",
    "[4. Загрузка данных](#step4)\n",
    "\n",
    "[5. Предобработка данных](#step5)\n",
    "\n",
    "[6. Анализ влияния событий на совершение целевого события](#step6)\n",
    "\n",
    "    6.1. Анализ количества событий\n",
    "    6.2. Анализ количества построек\n",
    "    \n",
    "[7. Продукт](#step7)\n",
    "\n",
    "    7.1 DAU (Количество уникальных пользоватейлей в день)\n",
    "    7.2 WAU (Количество уникальных пользоватейлей в неделю)\n",
    "    7.3 Sticky factor (степень лояльности и вовлеченности аудитории)\n",
    "    7.4 Количество событий в день\n",
    "    7.5 Retention rate\n",
    "    7.6 Среднее время прохождения игры\n",
    "    7.7 Стратегии игры\n",
    "    7.8 Retention Rate по стратегиям\n",
    "    7.9 Среднее время прохождения уровня по стратегиям\n",
    "    \n",
    "[8. Маркетинг](#step8)\n",
    "\n",
    "    8.1 Распределение затрат\n",
    "    8.2 CAC. Стоимость привлечения одного покупателя\n",
    "    8.3 CAC c разбивкой по источникам.\n",
    "    \n",
    "[9. Формулировка и проверка статистических гипотез](#step9)\n",
    "\n",
    "    9.1 Гипотеза №1\n",
    "    9.2 Гипотеза №2\n",
    "    \n",
    "[10. Общий вывод](#step10)\n",
    "\n",
    "[11. Рекомендации](#step11)"
   ]
  },
  {
   "cell_type": "markdown",
   "metadata": {},
   "source": [
    "## 2. Задача:<a id=\"step2\"></a>\n",
    "\n",
    "Сформируйте модель монетизации игрового приложения."
   ]
  },
  {
   "cell_type": "markdown",
   "metadata": {},
   "source": [
    "## 3. Описание датасетов:<a id=\"step3\"></a>\n",
    "\n",
    "В датасете представлены данные по игре пользователей на первом уровне. Завершение первого уровня требует от игрока выполнения одного из двух условий:\n",
    "\n",
    "- Победа над первым врагом\n",
    "- Реализация проекта - разработка орбитальной сборки спутников\n",
    "\n",
    "В датасете содержатся данные первых пользователей приложения — когорты пользователей, которые начали пользоваться приложением в период с 4 по 10 мая включительно.\n"
   ]
  },
  {
   "cell_type": "markdown",
   "metadata": {},
   "source": [
    "## 4. Загрузка данных<a id=\"step4\"></a>"
   ]
  },
  {
   "cell_type": "code",
   "execution_count": 1,
   "metadata": {},
   "outputs": [
    {
     "name": "stdout",
     "output_type": "stream",
     "text": [
      "Requirement already up-to-date: seaborn in c:\\users\\ko66k\\.conda\\envs\\practicum\\lib\\site-packages (0.11.1)\n",
      "Requirement already satisfied, skipping upgrade: numpy>=1.15 in c:\\users\\ko66k\\.conda\\envs\\practicum\\lib\\site-packages (from seaborn) (1.18.3)\n",
      "Requirement already satisfied, skipping upgrade: matplotlib>=2.2 in c:\\users\\ko66k\\.conda\\envs\\practicum\\lib\\site-packages (from seaborn) (3.1.0)\n",
      "Requirement already satisfied, skipping upgrade: scipy>=1.0 in c:\\users\\ko66k\\.conda\\envs\\practicum\\lib\\site-packages (from seaborn) (1.4.1)\n",
      "Requirement already satisfied, skipping upgrade: pandas>=0.23 in c:\\users\\ko66k\\.conda\\envs\\practicum\\lib\\site-packages (from seaborn) (0.25.1)\n",
      "Requirement already satisfied, skipping upgrade: pyparsing!=2.0.4,!=2.1.2,!=2.1.6,>=2.0.1 in c:\\users\\ko66k\\.conda\\envs\\practicum\\lib\\site-packages (from matplotlib>=2.2->seaborn) (2.4.7)\n",
      "Requirement already satisfied, skipping upgrade: kiwisolver>=1.0.1 in c:\\users\\ko66k\\.conda\\envs\\practicum\\lib\\site-packages (from matplotlib>=2.2->seaborn) (1.2.0)\n",
      "Requirement already satisfied, skipping upgrade: python-dateutil>=2.1 in c:\\users\\ko66k\\.conda\\envs\\practicum\\lib\\site-packages (from matplotlib>=2.2->seaborn) (2.8.1)\n",
      "Requirement already satisfied, skipping upgrade: cycler>=0.10 in c:\\users\\ko66k\\.conda\\envs\\practicum\\lib\\site-packages (from matplotlib>=2.2->seaborn) (0.10.0)\n",
      "Requirement already satisfied, skipping upgrade: pytz>=2017.2 in c:\\users\\ko66k\\.conda\\envs\\practicum\\lib\\site-packages (from pandas>=0.23->seaborn) (2020.1)\n",
      "Requirement already satisfied, skipping upgrade: six>=1.5 in c:\\users\\ko66k\\.conda\\envs\\practicum\\lib\\site-packages (from python-dateutil>=2.1->matplotlib>=2.2->seaborn) (1.15.0)\n"
     ]
    }
   ],
   "source": [
    "#установим последнюю версию библиотеки сиборн\n",
    "!pip install seaborn -U"
   ]
  },
  {
   "cell_type": "code",
   "execution_count": 2,
   "metadata": {},
   "outputs": [],
   "source": [
    "# импортируем библиотеки\n",
    "import pandas as pd\n",
    "import matplotlib.pyplot as plt\n",
    "import seaborn as sns\n",
    "import datetime as dt\n",
    "import numpy as np\n",
    "from scipy import stats as st"
   ]
  },
  {
   "cell_type": "code",
   "execution_count": 3,
   "metadata": {
    "scrolled": true
   },
   "outputs": [
    {
     "data": {
      "text/html": [
       "<div>\n",
       "<style scoped>\n",
       "    .dataframe tbody tr th:only-of-type {\n",
       "        vertical-align: middle;\n",
       "    }\n",
       "\n",
       "    .dataframe tbody tr th {\n",
       "        vertical-align: top;\n",
       "    }\n",
       "\n",
       "    .dataframe thead th {\n",
       "        text-align: right;\n",
       "    }\n",
       "</style>\n",
       "<table border=\"1\" class=\"dataframe\">\n",
       "  <thead>\n",
       "    <tr style=\"text-align: right;\">\n",
       "      <th></th>\n",
       "      <th>event_datetime</th>\n",
       "      <th>event</th>\n",
       "      <th>building_type</th>\n",
       "      <th>user_id</th>\n",
       "      <th>project_type</th>\n",
       "    </tr>\n",
       "  </thead>\n",
       "  <tbody>\n",
       "    <tr>\n",
       "      <td>0</td>\n",
       "      <td>2020-05-04 00:00:01</td>\n",
       "      <td>building</td>\n",
       "      <td>assembly_shop</td>\n",
       "      <td>55e92310-cb8e-4754-b622-597e124b03de</td>\n",
       "      <td>NaN</td>\n",
       "    </tr>\n",
       "    <tr>\n",
       "      <td>1</td>\n",
       "      <td>2020-05-04 00:00:03</td>\n",
       "      <td>building</td>\n",
       "      <td>assembly_shop</td>\n",
       "      <td>c07b1c10-f477-44dc-81dc-ec82254b1347</td>\n",
       "      <td>NaN</td>\n",
       "    </tr>\n",
       "    <tr>\n",
       "      <td>2</td>\n",
       "      <td>2020-05-04 00:00:16</td>\n",
       "      <td>building</td>\n",
       "      <td>assembly_shop</td>\n",
       "      <td>6edd42cc-e753-4ff6-a947-2107cd560710</td>\n",
       "      <td>NaN</td>\n",
       "    </tr>\n",
       "    <tr>\n",
       "      <td>3</td>\n",
       "      <td>2020-05-04 00:00:16</td>\n",
       "      <td>building</td>\n",
       "      <td>assembly_shop</td>\n",
       "      <td>92c69003-d60a-444a-827f-8cc51bf6bf4c</td>\n",
       "      <td>NaN</td>\n",
       "    </tr>\n",
       "    <tr>\n",
       "      <td>4</td>\n",
       "      <td>2020-05-04 00:00:35</td>\n",
       "      <td>building</td>\n",
       "      <td>assembly_shop</td>\n",
       "      <td>cdc6bb92-0ccb-4490-9866-ef142f09139d</td>\n",
       "      <td>NaN</td>\n",
       "    </tr>\n",
       "    <tr>\n",
       "      <td>...</td>\n",
       "      <td>...</td>\n",
       "      <td>...</td>\n",
       "      <td>...</td>\n",
       "      <td>...</td>\n",
       "      <td>...</td>\n",
       "    </tr>\n",
       "    <tr>\n",
       "      <td>135635</td>\n",
       "      <td>2020-06-05 00:08:06</td>\n",
       "      <td>building</td>\n",
       "      <td>research_center</td>\n",
       "      <td>f21d179f-1c4b-437e-b9c6-ab1976907195</td>\n",
       "      <td>NaN</td>\n",
       "    </tr>\n",
       "    <tr>\n",
       "      <td>135636</td>\n",
       "      <td>2020-06-05 02:25:12</td>\n",
       "      <td>finished_stage_1</td>\n",
       "      <td>NaN</td>\n",
       "      <td>515c1952-99aa-4bca-a7ea-d0449eb5385a</td>\n",
       "      <td>NaN</td>\n",
       "    </tr>\n",
       "    <tr>\n",
       "      <td>135637</td>\n",
       "      <td>2020-06-05 08:57:52</td>\n",
       "      <td>building</td>\n",
       "      <td>research_center</td>\n",
       "      <td>ed3e7d02-8a96-4be7-9998-e9813ff9c316</td>\n",
       "      <td>NaN</td>\n",
       "    </tr>\n",
       "    <tr>\n",
       "      <td>135638</td>\n",
       "      <td>2020-06-05 12:12:27</td>\n",
       "      <td>finished_stage_1</td>\n",
       "      <td>NaN</td>\n",
       "      <td>32572adb-900f-4b5d-a453-1eb1e6d88d8b</td>\n",
       "      <td>NaN</td>\n",
       "    </tr>\n",
       "    <tr>\n",
       "      <td>135639</td>\n",
       "      <td>2020-06-05 12:32:49</td>\n",
       "      <td>finished_stage_1</td>\n",
       "      <td>NaN</td>\n",
       "      <td>f21d179f-1c4b-437e-b9c6-ab1976907195</td>\n",
       "      <td>NaN</td>\n",
       "    </tr>\n",
       "  </tbody>\n",
       "</table>\n",
       "<p>135640 rows × 5 columns</p>\n",
       "</div>"
      ],
      "text/plain": [
       "             event_datetime             event    building_type  \\\n",
       "0       2020-05-04 00:00:01          building    assembly_shop   \n",
       "1       2020-05-04 00:00:03          building    assembly_shop   \n",
       "2       2020-05-04 00:00:16          building    assembly_shop   \n",
       "3       2020-05-04 00:00:16          building    assembly_shop   \n",
       "4       2020-05-04 00:00:35          building    assembly_shop   \n",
       "...                     ...               ...              ...   \n",
       "135635  2020-06-05 00:08:06          building  research_center   \n",
       "135636  2020-06-05 02:25:12  finished_stage_1              NaN   \n",
       "135637  2020-06-05 08:57:52          building  research_center   \n",
       "135638  2020-06-05 12:12:27  finished_stage_1              NaN   \n",
       "135639  2020-06-05 12:32:49  finished_stage_1              NaN   \n",
       "\n",
       "                                     user_id project_type  \n",
       "0       55e92310-cb8e-4754-b622-597e124b03de          NaN  \n",
       "1       c07b1c10-f477-44dc-81dc-ec82254b1347          NaN  \n",
       "2       6edd42cc-e753-4ff6-a947-2107cd560710          NaN  \n",
       "3       92c69003-d60a-444a-827f-8cc51bf6bf4c          NaN  \n",
       "4       cdc6bb92-0ccb-4490-9866-ef142f09139d          NaN  \n",
       "...                                      ...          ...  \n",
       "135635  f21d179f-1c4b-437e-b9c6-ab1976907195          NaN  \n",
       "135636  515c1952-99aa-4bca-a7ea-d0449eb5385a          NaN  \n",
       "135637  ed3e7d02-8a96-4be7-9998-e9813ff9c316          NaN  \n",
       "135638  32572adb-900f-4b5d-a453-1eb1e6d88d8b          NaN  \n",
       "135639  f21d179f-1c4b-437e-b9c6-ab1976907195          NaN  \n",
       "\n",
       "[135640 rows x 5 columns]"
      ]
     },
     "execution_count": 3,
     "metadata": {},
     "output_type": "execute_result"
    }
   ],
   "source": [
    "#загрузим датасет game_actions.csv и сохраним его как ga\n",
    "ga = pd.read_csv(filename)\n",
    "\n",
    "ga"
   ]
  },
  {
   "cell_type": "code",
   "execution_count": 4,
   "metadata": {
    "scrolled": true
   },
   "outputs": [
    {
     "name": "stdout",
     "output_type": "stream",
     "text": [
      "<class 'pandas.core.frame.DataFrame'>\n",
      "RangeIndex: 135640 entries, 0 to 135639\n",
      "Data columns (total 5 columns):\n",
      "event_datetime    135640 non-null object\n",
      "event             135640 non-null object\n",
      "building_type     127957 non-null object\n",
      "user_id           135640 non-null object\n",
      "project_type      1866 non-null object\n",
      "dtypes: object(5)\n",
      "memory usage: 5.2+ MB\n"
     ]
    }
   ],
   "source": [
    "ga.info()"
   ]
  },
  {
   "cell_type": "code",
   "execution_count": 5,
   "metadata": {},
   "outputs": [
    {
     "data": {
      "text/plain": [
       "(135640, 5)"
      ]
     },
     "execution_count": 5,
     "metadata": {},
     "output_type": "execute_result"
    }
   ],
   "source": [
    "ga.shape"
   ]
  },
  {
   "cell_type": "code",
   "execution_count": 6,
   "metadata": {
    "scrolled": true
   },
   "outputs": [
    {
     "data": {
      "text/html": [
       "<div>\n",
       "<style scoped>\n",
       "    .dataframe tbody tr th:only-of-type {\n",
       "        vertical-align: middle;\n",
       "    }\n",
       "\n",
       "    .dataframe tbody tr th {\n",
       "        vertical-align: top;\n",
       "    }\n",
       "\n",
       "    .dataframe thead th {\n",
       "        text-align: right;\n",
       "    }\n",
       "</style>\n",
       "<table border=\"1\" class=\"dataframe\">\n",
       "  <thead>\n",
       "    <tr style=\"text-align: right;\">\n",
       "      <th></th>\n",
       "      <th>event_datetime</th>\n",
       "      <th>event</th>\n",
       "      <th>building_type</th>\n",
       "      <th>user_id</th>\n",
       "      <th>project_type</th>\n",
       "    </tr>\n",
       "  </thead>\n",
       "  <tbody>\n",
       "    <tr>\n",
       "      <td>count</td>\n",
       "      <td>135640</td>\n",
       "      <td>135640</td>\n",
       "      <td>127957</td>\n",
       "      <td>135640</td>\n",
       "      <td>1866</td>\n",
       "    </tr>\n",
       "    <tr>\n",
       "      <td>unique</td>\n",
       "      <td>128790</td>\n",
       "      <td>3</td>\n",
       "      <td>3</td>\n",
       "      <td>13576</td>\n",
       "      <td>1</td>\n",
       "    </tr>\n",
       "    <tr>\n",
       "      <td>top</td>\n",
       "      <td>2020-05-10 03:08:18</td>\n",
       "      <td>building</td>\n",
       "      <td>spaceport</td>\n",
       "      <td>ff841992-d93b-462e-bc6e-18c24a514f36</td>\n",
       "      <td>satellite_orbital_assembly</td>\n",
       "    </tr>\n",
       "    <tr>\n",
       "      <td>freq</td>\n",
       "      <td>4</td>\n",
       "      <td>127957</td>\n",
       "      <td>59325</td>\n",
       "      <td>22</td>\n",
       "      <td>1866</td>\n",
       "    </tr>\n",
       "  </tbody>\n",
       "</table>\n",
       "</div>"
      ],
      "text/plain": [
       "             event_datetime     event building_type  \\\n",
       "count                135640    135640        127957   \n",
       "unique               128790         3             3   \n",
       "top     2020-05-10 03:08:18  building     spaceport   \n",
       "freq                      4    127957         59325   \n",
       "\n",
       "                                     user_id                project_type  \n",
       "count                                 135640                        1866  \n",
       "unique                                 13576                           1  \n",
       "top     ff841992-d93b-462e-bc6e-18c24a514f36  satellite_orbital_assembly  \n",
       "freq                                      22                        1866  "
      ]
     },
     "execution_count": 6,
     "metadata": {},
     "output_type": "execute_result"
    }
   ],
   "source": [
    "ga.describe()"
   ]
  },
  {
   "cell_type": "code",
   "execution_count": 7,
   "metadata": {},
   "outputs": [
    {
     "data": {
      "text/plain": [
       "1"
      ]
     },
     "execution_count": 7,
     "metadata": {},
     "output_type": "execute_result"
    }
   ],
   "source": [
    "#проверим дубликаты\n",
    "ga.duplicated().sum()"
   ]
  },
  {
   "cell_type": "code",
   "execution_count": 8,
   "metadata": {
    "scrolled": false
   },
   "outputs": [
    {
     "data": {
      "text/html": [
       "<div>\n",
       "<style scoped>\n",
       "    .dataframe tbody tr th:only-of-type {\n",
       "        vertical-align: middle;\n",
       "    }\n",
       "\n",
       "    .dataframe tbody tr th {\n",
       "        vertical-align: top;\n",
       "    }\n",
       "\n",
       "    .dataframe thead th {\n",
       "        text-align: right;\n",
       "    }\n",
       "</style>\n",
       "<table border=\"1\" class=\"dataframe\">\n",
       "  <thead>\n",
       "    <tr style=\"text-align: right;\">\n",
       "      <th></th>\n",
       "      <th>source</th>\n",
       "      <th>day</th>\n",
       "      <th>cost</th>\n",
       "    </tr>\n",
       "  </thead>\n",
       "  <tbody>\n",
       "    <tr>\n",
       "      <td>0</td>\n",
       "      <td>facebook_ads</td>\n",
       "      <td>2020-05-03</td>\n",
       "      <td>935.882786</td>\n",
       "    </tr>\n",
       "    <tr>\n",
       "      <td>1</td>\n",
       "      <td>facebook_ads</td>\n",
       "      <td>2020-05-04</td>\n",
       "      <td>548.354480</td>\n",
       "    </tr>\n",
       "    <tr>\n",
       "      <td>2</td>\n",
       "      <td>facebook_ads</td>\n",
       "      <td>2020-05-05</td>\n",
       "      <td>260.185754</td>\n",
       "    </tr>\n",
       "    <tr>\n",
       "      <td>3</td>\n",
       "      <td>facebook_ads</td>\n",
       "      <td>2020-05-06</td>\n",
       "      <td>177.982200</td>\n",
       "    </tr>\n",
       "    <tr>\n",
       "      <td>4</td>\n",
       "      <td>facebook_ads</td>\n",
       "      <td>2020-05-07</td>\n",
       "      <td>111.766796</td>\n",
       "    </tr>\n",
       "    <tr>\n",
       "      <td>5</td>\n",
       "      <td>facebook_ads</td>\n",
       "      <td>2020-05-08</td>\n",
       "      <td>68.009276</td>\n",
       "    </tr>\n",
       "    <tr>\n",
       "      <td>6</td>\n",
       "      <td>facebook_ads</td>\n",
       "      <td>2020-05-09</td>\n",
       "      <td>38.723350</td>\n",
       "    </tr>\n",
       "    <tr>\n",
       "      <td>7</td>\n",
       "      <td>instagram_new_adverts</td>\n",
       "      <td>2020-05-03</td>\n",
       "      <td>943.204717</td>\n",
       "    </tr>\n",
       "    <tr>\n",
       "      <td>8</td>\n",
       "      <td>instagram_new_adverts</td>\n",
       "      <td>2020-05-04</td>\n",
       "      <td>502.925451</td>\n",
       "    </tr>\n",
       "    <tr>\n",
       "      <td>9</td>\n",
       "      <td>instagram_new_adverts</td>\n",
       "      <td>2020-05-05</td>\n",
       "      <td>313.970984</td>\n",
       "    </tr>\n",
       "    <tr>\n",
       "      <td>10</td>\n",
       "      <td>instagram_new_adverts</td>\n",
       "      <td>2020-05-06</td>\n",
       "      <td>173.071145</td>\n",
       "    </tr>\n",
       "    <tr>\n",
       "      <td>11</td>\n",
       "      <td>instagram_new_adverts</td>\n",
       "      <td>2020-05-07</td>\n",
       "      <td>109.915254</td>\n",
       "    </tr>\n",
       "    <tr>\n",
       "      <td>12</td>\n",
       "      <td>instagram_new_adverts</td>\n",
       "      <td>2020-05-08</td>\n",
       "      <td>71.578739</td>\n",
       "    </tr>\n",
       "    <tr>\n",
       "      <td>13</td>\n",
       "      <td>instagram_new_adverts</td>\n",
       "      <td>2020-05-09</td>\n",
       "      <td>46.775400</td>\n",
       "    </tr>\n",
       "    <tr>\n",
       "      <td>14</td>\n",
       "      <td>yandex_direct</td>\n",
       "      <td>2020-05-03</td>\n",
       "      <td>969.139394</td>\n",
       "    </tr>\n",
       "    <tr>\n",
       "      <td>15</td>\n",
       "      <td>yandex_direct</td>\n",
       "      <td>2020-05-04</td>\n",
       "      <td>554.651494</td>\n",
       "    </tr>\n",
       "    <tr>\n",
       "      <td>16</td>\n",
       "      <td>yandex_direct</td>\n",
       "      <td>2020-05-05</td>\n",
       "      <td>308.232990</td>\n",
       "    </tr>\n",
       "    <tr>\n",
       "      <td>17</td>\n",
       "      <td>yandex_direct</td>\n",
       "      <td>2020-05-06</td>\n",
       "      <td>180.917099</td>\n",
       "    </tr>\n",
       "    <tr>\n",
       "      <td>18</td>\n",
       "      <td>yandex_direct</td>\n",
       "      <td>2020-05-07</td>\n",
       "      <td>114.429338</td>\n",
       "    </tr>\n",
       "    <tr>\n",
       "      <td>19</td>\n",
       "      <td>yandex_direct</td>\n",
       "      <td>2020-05-08</td>\n",
       "      <td>62.961630</td>\n",
       "    </tr>\n",
       "    <tr>\n",
       "      <td>20</td>\n",
       "      <td>yandex_direct</td>\n",
       "      <td>2020-05-09</td>\n",
       "      <td>42.779505</td>\n",
       "    </tr>\n",
       "    <tr>\n",
       "      <td>21</td>\n",
       "      <td>youtube_channel_reklama</td>\n",
       "      <td>2020-05-03</td>\n",
       "      <td>454.224943</td>\n",
       "    </tr>\n",
       "    <tr>\n",
       "      <td>22</td>\n",
       "      <td>youtube_channel_reklama</td>\n",
       "      <td>2020-05-04</td>\n",
       "      <td>259.073224</td>\n",
       "    </tr>\n",
       "    <tr>\n",
       "      <td>23</td>\n",
       "      <td>youtube_channel_reklama</td>\n",
       "      <td>2020-05-05</td>\n",
       "      <td>147.041741</td>\n",
       "    </tr>\n",
       "    <tr>\n",
       "      <td>24</td>\n",
       "      <td>youtube_channel_reklama</td>\n",
       "      <td>2020-05-06</td>\n",
       "      <td>88.506074</td>\n",
       "    </tr>\n",
       "    <tr>\n",
       "      <td>25</td>\n",
       "      <td>youtube_channel_reklama</td>\n",
       "      <td>2020-05-07</td>\n",
       "      <td>55.740645</td>\n",
       "    </tr>\n",
       "    <tr>\n",
       "      <td>26</td>\n",
       "      <td>youtube_channel_reklama</td>\n",
       "      <td>2020-05-08</td>\n",
       "      <td>40.217907</td>\n",
       "    </tr>\n",
       "    <tr>\n",
       "      <td>27</td>\n",
       "      <td>youtube_channel_reklama</td>\n",
       "      <td>2020-05-09</td>\n",
       "      <td>23.314669</td>\n",
       "    </tr>\n",
       "  </tbody>\n",
       "</table>\n",
       "</div>"
      ],
      "text/plain": [
       "                     source         day        cost\n",
       "0              facebook_ads  2020-05-03  935.882786\n",
       "1              facebook_ads  2020-05-04  548.354480\n",
       "2              facebook_ads  2020-05-05  260.185754\n",
       "3              facebook_ads  2020-05-06  177.982200\n",
       "4              facebook_ads  2020-05-07  111.766796\n",
       "5              facebook_ads  2020-05-08   68.009276\n",
       "6              facebook_ads  2020-05-09   38.723350\n",
       "7     instagram_new_adverts  2020-05-03  943.204717\n",
       "8     instagram_new_adverts  2020-05-04  502.925451\n",
       "9     instagram_new_adverts  2020-05-05  313.970984\n",
       "10    instagram_new_adverts  2020-05-06  173.071145\n",
       "11    instagram_new_adverts  2020-05-07  109.915254\n",
       "12    instagram_new_adverts  2020-05-08   71.578739\n",
       "13    instagram_new_adverts  2020-05-09   46.775400\n",
       "14            yandex_direct  2020-05-03  969.139394\n",
       "15            yandex_direct  2020-05-04  554.651494\n",
       "16            yandex_direct  2020-05-05  308.232990\n",
       "17            yandex_direct  2020-05-06  180.917099\n",
       "18            yandex_direct  2020-05-07  114.429338\n",
       "19            yandex_direct  2020-05-08   62.961630\n",
       "20            yandex_direct  2020-05-09   42.779505\n",
       "21  youtube_channel_reklama  2020-05-03  454.224943\n",
       "22  youtube_channel_reklama  2020-05-04  259.073224\n",
       "23  youtube_channel_reklama  2020-05-05  147.041741\n",
       "24  youtube_channel_reklama  2020-05-06   88.506074\n",
       "25  youtube_channel_reklama  2020-05-07   55.740645\n",
       "26  youtube_channel_reklama  2020-05-08   40.217907\n",
       "27  youtube_channel_reklama  2020-05-09   23.314669"
      ]
     },
     "execution_count": 8,
     "metadata": {},
     "output_type": "execute_result"
    }
   ],
   "source": [
    "#загрузим данные со стоимостью рекламы\n",
    "ad_cost = pd.read_csv(filename1)\n",
    "\n",
    "ad_cost"
   ]
  },
  {
   "cell_type": "code",
   "execution_count": 9,
   "metadata": {},
   "outputs": [
    {
     "name": "stdout",
     "output_type": "stream",
     "text": [
      "<class 'pandas.core.frame.DataFrame'>\n",
      "RangeIndex: 28 entries, 0 to 27\n",
      "Data columns (total 3 columns):\n",
      "source    28 non-null object\n",
      "day       28 non-null object\n",
      "cost      28 non-null float64\n",
      "dtypes: float64(1), object(2)\n",
      "memory usage: 800.0+ bytes\n"
     ]
    }
   ],
   "source": [
    "ad_cost.info()"
   ]
  },
  {
   "cell_type": "code",
   "execution_count": 10,
   "metadata": {},
   "outputs": [
    {
     "data": {
      "text/html": [
       "<div>\n",
       "<style scoped>\n",
       "    .dataframe tbody tr th:only-of-type {\n",
       "        vertical-align: middle;\n",
       "    }\n",
       "\n",
       "    .dataframe tbody tr th {\n",
       "        vertical-align: top;\n",
       "    }\n",
       "\n",
       "    .dataframe thead th {\n",
       "        text-align: right;\n",
       "    }\n",
       "</style>\n",
       "<table border=\"1\" class=\"dataframe\">\n",
       "  <thead>\n",
       "    <tr style=\"text-align: right;\">\n",
       "      <th></th>\n",
       "      <th>cost</th>\n",
       "    </tr>\n",
       "  </thead>\n",
       "  <tbody>\n",
       "    <tr>\n",
       "      <td>count</td>\n",
       "      <td>28.000000</td>\n",
       "    </tr>\n",
       "    <tr>\n",
       "      <td>mean</td>\n",
       "      <td>271.556321</td>\n",
       "    </tr>\n",
       "    <tr>\n",
       "      <td>std</td>\n",
       "      <td>286.867650</td>\n",
       "    </tr>\n",
       "    <tr>\n",
       "      <td>min</td>\n",
       "      <td>23.314669</td>\n",
       "    </tr>\n",
       "    <tr>\n",
       "      <td>25%</td>\n",
       "      <td>66.747365</td>\n",
       "    </tr>\n",
       "    <tr>\n",
       "      <td>50%</td>\n",
       "      <td>160.056443</td>\n",
       "    </tr>\n",
       "    <tr>\n",
       "      <td>75%</td>\n",
       "      <td>349.034473</td>\n",
       "    </tr>\n",
       "    <tr>\n",
       "      <td>max</td>\n",
       "      <td>969.139394</td>\n",
       "    </tr>\n",
       "  </tbody>\n",
       "</table>\n",
       "</div>"
      ],
      "text/plain": [
       "             cost\n",
       "count   28.000000\n",
       "mean   271.556321\n",
       "std    286.867650\n",
       "min     23.314669\n",
       "25%     66.747365\n",
       "50%    160.056443\n",
       "75%    349.034473\n",
       "max    969.139394"
      ]
     },
     "execution_count": 10,
     "metadata": {},
     "output_type": "execute_result"
    }
   ],
   "source": [
    "ad_cost.describe()"
   ]
  },
  {
   "cell_type": "code",
   "execution_count": 11,
   "metadata": {},
   "outputs": [
    {
     "data": {
      "text/html": [
       "<div>\n",
       "<style scoped>\n",
       "    .dataframe tbody tr th:only-of-type {\n",
       "        vertical-align: middle;\n",
       "    }\n",
       "\n",
       "    .dataframe tbody tr th {\n",
       "        vertical-align: top;\n",
       "    }\n",
       "\n",
       "    .dataframe thead th {\n",
       "        text-align: right;\n",
       "    }\n",
       "</style>\n",
       "<table border=\"1\" class=\"dataframe\">\n",
       "  <thead>\n",
       "    <tr style=\"text-align: right;\">\n",
       "      <th></th>\n",
       "      <th>user_id</th>\n",
       "      <th>source</th>\n",
       "    </tr>\n",
       "  </thead>\n",
       "  <tbody>\n",
       "    <tr>\n",
       "      <td>0</td>\n",
       "      <td>0001f83c-c6ac-4621-b7f0-8a28b283ac30</td>\n",
       "      <td>facebook_ads</td>\n",
       "    </tr>\n",
       "    <tr>\n",
       "      <td>1</td>\n",
       "      <td>00151b4f-ba38-44a8-a650-d7cf130a0105</td>\n",
       "      <td>yandex_direct</td>\n",
       "    </tr>\n",
       "    <tr>\n",
       "      <td>2</td>\n",
       "      <td>001aaea6-3d14-43f1-8ca8-7f48820f17aa</td>\n",
       "      <td>youtube_channel_reklama</td>\n",
       "    </tr>\n",
       "    <tr>\n",
       "      <td>3</td>\n",
       "      <td>001d39dc-366c-4021-9604-6a3b9ff01e25</td>\n",
       "      <td>instagram_new_adverts</td>\n",
       "    </tr>\n",
       "    <tr>\n",
       "      <td>4</td>\n",
       "      <td>002f508f-67b6-479f-814b-b05f00d4e995</td>\n",
       "      <td>facebook_ads</td>\n",
       "    </tr>\n",
       "    <tr>\n",
       "      <td>...</td>\n",
       "      <td>...</td>\n",
       "      <td>...</td>\n",
       "    </tr>\n",
       "    <tr>\n",
       "      <td>13571</td>\n",
       "      <td>ffef4fed-164c-40e1-bde1-3980f76d0fb5</td>\n",
       "      <td>instagram_new_adverts</td>\n",
       "    </tr>\n",
       "    <tr>\n",
       "      <td>13572</td>\n",
       "      <td>fffab3da-da0e-4e30-ae62-10d0a2e24a4e</td>\n",
       "      <td>facebook_ads</td>\n",
       "    </tr>\n",
       "    <tr>\n",
       "      <td>13573</td>\n",
       "      <td>fffb626c-5ab6-47c9-8113-2062a2f18494</td>\n",
       "      <td>yandex_direct</td>\n",
       "    </tr>\n",
       "    <tr>\n",
       "      <td>13574</td>\n",
       "      <td>ffff194a-56b7-4c12-860d-3485242ae7f5</td>\n",
       "      <td>instagram_new_adverts</td>\n",
       "    </tr>\n",
       "    <tr>\n",
       "      <td>13575</td>\n",
       "      <td>ffff69cc-fec1-4fd3-9f98-93be1112a6b8</td>\n",
       "      <td>facebook_ads</td>\n",
       "    </tr>\n",
       "  </tbody>\n",
       "</table>\n",
       "<p>13576 rows × 2 columns</p>\n",
       "</div>"
      ],
      "text/plain": [
       "                                    user_id                   source\n",
       "0      0001f83c-c6ac-4621-b7f0-8a28b283ac30             facebook_ads\n",
       "1      00151b4f-ba38-44a8-a650-d7cf130a0105            yandex_direct\n",
       "2      001aaea6-3d14-43f1-8ca8-7f48820f17aa  youtube_channel_reklama\n",
       "3      001d39dc-366c-4021-9604-6a3b9ff01e25    instagram_new_adverts\n",
       "4      002f508f-67b6-479f-814b-b05f00d4e995             facebook_ads\n",
       "...                                     ...                      ...\n",
       "13571  ffef4fed-164c-40e1-bde1-3980f76d0fb5    instagram_new_adverts\n",
       "13572  fffab3da-da0e-4e30-ae62-10d0a2e24a4e             facebook_ads\n",
       "13573  fffb626c-5ab6-47c9-8113-2062a2f18494            yandex_direct\n",
       "13574  ffff194a-56b7-4c12-860d-3485242ae7f5    instagram_new_adverts\n",
       "13575  ffff69cc-fec1-4fd3-9f98-93be1112a6b8             facebook_ads\n",
       "\n",
       "[13576 rows x 2 columns]"
      ]
     },
     "execution_count": 11,
     "metadata": {},
     "output_type": "execute_result"
    }
   ],
   "source": [
    "# Загрузим датасет с данными, откуда пришли пользователи\n",
    "sources = pd.read_csv(filename2)\n",
    "\n",
    "sources"
   ]
  },
  {
   "cell_type": "code",
   "execution_count": 12,
   "metadata": {},
   "outputs": [
    {
     "name": "stdout",
     "output_type": "stream",
     "text": [
      "<class 'pandas.core.frame.DataFrame'>\n",
      "RangeIndex: 13576 entries, 0 to 13575\n",
      "Data columns (total 2 columns):\n",
      "user_id    13576 non-null object\n",
      "source     13576 non-null object\n",
      "dtypes: object(2)\n",
      "memory usage: 212.2+ KB\n"
     ]
    }
   ],
   "source": [
    "sources.info()"
   ]
  },
  {
   "cell_type": "code",
   "execution_count": 13,
   "metadata": {},
   "outputs": [
    {
     "data": {
      "text/plain": [
       "0"
      ]
     },
     "execution_count": 13,
     "metadata": {},
     "output_type": "execute_result"
    }
   ],
   "source": [
    "#проверим на наличие дубликатов\n",
    "sources.duplicated().sum()"
   ]
  },
  {
   "cell_type": "markdown",
   "metadata": {},
   "source": [
    "***"
   ]
  },
  {
   "cell_type": "markdown",
   "metadata": {},
   "source": [
    "1. Датасет `game_actions`:\n",
    "\n",
    "    - размер (135640 строк, 5 столбца)\n",
    "    - неправильный тип у столбца с датами\n",
    "    - есть 1 дубликат\n",
    "    - есть пропуски в столбцах building_type, project_type. Пропуски не похожи на случайные\n",
    "\n",
    "\n",
    "2. Датасет `ad_cost`:\n",
    "\n",
    "    - размер (28 строк, 3 столбца)\n",
    "    - неправильный тип у столбца с датами\n",
    "    - дубликатов нет\n",
    "    - столбец cost стоит округлить до двух знаков после запятой     \n",
    "    - 4  уникальных источника рекламы\n",
    "\n",
    "\n",
    "3. Датасет `sources`:\n",
    "\n",
    "    - размер (13576 строк, 2 столбца)\n",
    "    - дубликатов нет\n",
    "    - пропусков нет\n"
   ]
  },
  {
   "cell_type": "markdown",
   "metadata": {},
   "source": [
    "## 5. Предобработка данных<a id=\"step5\"></a>"
   ]
  },
  {
   "cell_type": "markdown",
   "metadata": {},
   "source": [
    "### game_actions"
   ]
  },
  {
   "cell_type": "code",
   "execution_count": 14,
   "metadata": {},
   "outputs": [
    {
     "data": {
      "text/html": [
       "<div>\n",
       "<style scoped>\n",
       "    .dataframe tbody tr th:only-of-type {\n",
       "        vertical-align: middle;\n",
       "    }\n",
       "\n",
       "    .dataframe tbody tr th {\n",
       "        vertical-align: top;\n",
       "    }\n",
       "\n",
       "    .dataframe thead th {\n",
       "        text-align: right;\n",
       "    }\n",
       "</style>\n",
       "<table border=\"1\" class=\"dataframe\">\n",
       "  <thead>\n",
       "    <tr style=\"text-align: right;\">\n",
       "      <th></th>\n",
       "      <th>event_datetime</th>\n",
       "      <th>event</th>\n",
       "      <th>building_type</th>\n",
       "      <th>user_id</th>\n",
       "      <th>project_type</th>\n",
       "    </tr>\n",
       "  </thead>\n",
       "  <tbody>\n",
       "    <tr>\n",
       "      <td>0</td>\n",
       "      <td>2020-05-04 00:00:01</td>\n",
       "      <td>building</td>\n",
       "      <td>assembly_shop</td>\n",
       "      <td>55e92310-cb8e-4754-b622-597e124b03de</td>\n",
       "      <td>NaN</td>\n",
       "    </tr>\n",
       "    <tr>\n",
       "      <td>1</td>\n",
       "      <td>2020-05-04 00:00:03</td>\n",
       "      <td>building</td>\n",
       "      <td>assembly_shop</td>\n",
       "      <td>c07b1c10-f477-44dc-81dc-ec82254b1347</td>\n",
       "      <td>NaN</td>\n",
       "    </tr>\n",
       "    <tr>\n",
       "      <td>2</td>\n",
       "      <td>2020-05-04 00:00:16</td>\n",
       "      <td>building</td>\n",
       "      <td>assembly_shop</td>\n",
       "      <td>6edd42cc-e753-4ff6-a947-2107cd560710</td>\n",
       "      <td>NaN</td>\n",
       "    </tr>\n",
       "    <tr>\n",
       "      <td>3</td>\n",
       "      <td>2020-05-04 00:00:16</td>\n",
       "      <td>building</td>\n",
       "      <td>assembly_shop</td>\n",
       "      <td>92c69003-d60a-444a-827f-8cc51bf6bf4c</td>\n",
       "      <td>NaN</td>\n",
       "    </tr>\n",
       "    <tr>\n",
       "      <td>4</td>\n",
       "      <td>2020-05-04 00:00:35</td>\n",
       "      <td>building</td>\n",
       "      <td>assembly_shop</td>\n",
       "      <td>cdc6bb92-0ccb-4490-9866-ef142f09139d</td>\n",
       "      <td>NaN</td>\n",
       "    </tr>\n",
       "    <tr>\n",
       "      <td>...</td>\n",
       "      <td>...</td>\n",
       "      <td>...</td>\n",
       "      <td>...</td>\n",
       "      <td>...</td>\n",
       "      <td>...</td>\n",
       "    </tr>\n",
       "    <tr>\n",
       "      <td>135635</td>\n",
       "      <td>2020-06-05 00:08:06</td>\n",
       "      <td>building</td>\n",
       "      <td>research_center</td>\n",
       "      <td>f21d179f-1c4b-437e-b9c6-ab1976907195</td>\n",
       "      <td>NaN</td>\n",
       "    </tr>\n",
       "    <tr>\n",
       "      <td>135636</td>\n",
       "      <td>2020-06-05 02:25:12</td>\n",
       "      <td>finished_stage_1</td>\n",
       "      <td>NaN</td>\n",
       "      <td>515c1952-99aa-4bca-a7ea-d0449eb5385a</td>\n",
       "      <td>NaN</td>\n",
       "    </tr>\n",
       "    <tr>\n",
       "      <td>135637</td>\n",
       "      <td>2020-06-05 08:57:52</td>\n",
       "      <td>building</td>\n",
       "      <td>research_center</td>\n",
       "      <td>ed3e7d02-8a96-4be7-9998-e9813ff9c316</td>\n",
       "      <td>NaN</td>\n",
       "    </tr>\n",
       "    <tr>\n",
       "      <td>135638</td>\n",
       "      <td>2020-06-05 12:12:27</td>\n",
       "      <td>finished_stage_1</td>\n",
       "      <td>NaN</td>\n",
       "      <td>32572adb-900f-4b5d-a453-1eb1e6d88d8b</td>\n",
       "      <td>NaN</td>\n",
       "    </tr>\n",
       "    <tr>\n",
       "      <td>135639</td>\n",
       "      <td>2020-06-05 12:32:49</td>\n",
       "      <td>finished_stage_1</td>\n",
       "      <td>NaN</td>\n",
       "      <td>f21d179f-1c4b-437e-b9c6-ab1976907195</td>\n",
       "      <td>NaN</td>\n",
       "    </tr>\n",
       "  </tbody>\n",
       "</table>\n",
       "<p>135640 rows × 5 columns</p>\n",
       "</div>"
      ],
      "text/plain": [
       "             event_datetime             event    building_type  \\\n",
       "0       2020-05-04 00:00:01          building    assembly_shop   \n",
       "1       2020-05-04 00:00:03          building    assembly_shop   \n",
       "2       2020-05-04 00:00:16          building    assembly_shop   \n",
       "3       2020-05-04 00:00:16          building    assembly_shop   \n",
       "4       2020-05-04 00:00:35          building    assembly_shop   \n",
       "...                     ...               ...              ...   \n",
       "135635  2020-06-05 00:08:06          building  research_center   \n",
       "135636  2020-06-05 02:25:12  finished_stage_1              NaN   \n",
       "135637  2020-06-05 08:57:52          building  research_center   \n",
       "135638  2020-06-05 12:12:27  finished_stage_1              NaN   \n",
       "135639  2020-06-05 12:32:49  finished_stage_1              NaN   \n",
       "\n",
       "                                     user_id project_type  \n",
       "0       55e92310-cb8e-4754-b622-597e124b03de          NaN  \n",
       "1       c07b1c10-f477-44dc-81dc-ec82254b1347          NaN  \n",
       "2       6edd42cc-e753-4ff6-a947-2107cd560710          NaN  \n",
       "3       92c69003-d60a-444a-827f-8cc51bf6bf4c          NaN  \n",
       "4       cdc6bb92-0ccb-4490-9866-ef142f09139d          NaN  \n",
       "...                                      ...          ...  \n",
       "135635  f21d179f-1c4b-437e-b9c6-ab1976907195          NaN  \n",
       "135636  515c1952-99aa-4bca-a7ea-d0449eb5385a          NaN  \n",
       "135637  ed3e7d02-8a96-4be7-9998-e9813ff9c316          NaN  \n",
       "135638  32572adb-900f-4b5d-a453-1eb1e6d88d8b          NaN  \n",
       "135639  f21d179f-1c4b-437e-b9c6-ab1976907195          NaN  \n",
       "\n",
       "[135640 rows x 5 columns]"
      ]
     },
     "execution_count": 14,
     "metadata": {},
     "output_type": "execute_result"
    }
   ],
   "source": [
    "ga"
   ]
  },
  {
   "cell_type": "code",
   "execution_count": 15,
   "metadata": {},
   "outputs": [],
   "source": [
    "# приведем столбец с датами к datetime\n",
    "ga['event_datetime'] = pd.to_datetime(ga['event_datetime'])"
   ]
  },
  {
   "cell_type": "code",
   "execution_count": 16,
   "metadata": {},
   "outputs": [],
   "source": [
    "#удалим дубликаты строк\n",
    "ga = ga.drop_duplicates().reset_index(drop=True)"
   ]
  },
  {
   "cell_type": "code",
   "execution_count": 17,
   "metadata": {},
   "outputs": [
    {
     "data": {
      "text/plain": [
       "(135639, 5)"
      ]
     },
     "execution_count": 17,
     "metadata": {},
     "output_type": "execute_result"
    }
   ],
   "source": [
    "ga.shape"
   ]
  },
  {
   "cell_type": "code",
   "execution_count": 18,
   "metadata": {},
   "outputs": [
    {
     "data": {
      "text/plain": [
       "building            127956\n",
       "finished_stage_1      5817\n",
       "project               1866\n",
       "Name: event, dtype: int64"
      ]
     },
     "execution_count": 18,
     "metadata": {},
     "output_type": "execute_result"
    }
   ],
   "source": [
    "ga['event'].value_counts()"
   ]
  },
  {
   "cell_type": "code",
   "execution_count": 19,
   "metadata": {},
   "outputs": [
    {
     "name": "stdout",
     "output_type": "stream",
     "text": [
      "<class 'pandas.core.frame.DataFrame'>\n",
      "RangeIndex: 135639 entries, 0 to 135638\n",
      "Data columns (total 5 columns):\n",
      "event_datetime    135639 non-null datetime64[ns]\n",
      "event             135639 non-null object\n",
      "building_type     127956 non-null object\n",
      "user_id           135639 non-null object\n",
      "project_type      1866 non-null object\n",
      "dtypes: datetime64[ns](1), object(4)\n",
      "memory usage: 5.2+ MB\n"
     ]
    }
   ],
   "source": [
    "ga.info()"
   ]
  },
  {
   "cell_type": "code",
   "execution_count": 20,
   "metadata": {},
   "outputs": [
    {
     "data": {
      "text/html": [
       "<div>\n",
       "<style scoped>\n",
       "    .dataframe tbody tr th:only-of-type {\n",
       "        vertical-align: middle;\n",
       "    }\n",
       "\n",
       "    .dataframe tbody tr th {\n",
       "        vertical-align: top;\n",
       "    }\n",
       "\n",
       "    .dataframe thead th {\n",
       "        text-align: right;\n",
       "    }\n",
       "</style>\n",
       "<table border=\"1\" class=\"dataframe\">\n",
       "  <thead>\n",
       "    <tr style=\"text-align: right;\">\n",
       "      <th></th>\n",
       "      <th>event</th>\n",
       "      <th>user_id</th>\n",
       "    </tr>\n",
       "  </thead>\n",
       "  <tbody>\n",
       "    <tr>\n",
       "      <td>0</td>\n",
       "      <td>building</td>\n",
       "      <td>127956</td>\n",
       "    </tr>\n",
       "    <tr>\n",
       "      <td>1</td>\n",
       "      <td>finished_stage_1</td>\n",
       "      <td>5817</td>\n",
       "    </tr>\n",
       "    <tr>\n",
       "      <td>2</td>\n",
       "      <td>project</td>\n",
       "      <td>1866</td>\n",
       "    </tr>\n",
       "  </tbody>\n",
       "</table>\n",
       "</div>"
      ],
      "text/plain": [
       "              event  user_id\n",
       "0          building   127956\n",
       "1  finished_stage_1     5817\n",
       "2           project     1866"
      ]
     },
     "execution_count": 20,
     "metadata": {},
     "output_type": "execute_result"
    }
   ],
   "source": [
    "ga.groupby('event')['user_id'].count().reset_index()"
   ]
  },
  {
   "cell_type": "code",
   "execution_count": 21,
   "metadata": {},
   "outputs": [
    {
     "data": {
      "text/html": [
       "<div>\n",
       "<style scoped>\n",
       "    .dataframe tbody tr th:only-of-type {\n",
       "        vertical-align: middle;\n",
       "    }\n",
       "\n",
       "    .dataframe tbody tr th {\n",
       "        vertical-align: top;\n",
       "    }\n",
       "\n",
       "    .dataframe thead th {\n",
       "        text-align: right;\n",
       "    }\n",
       "</style>\n",
       "<table border=\"1\" class=\"dataframe\">\n",
       "  <thead>\n",
       "    <tr style=\"text-align: right;\">\n",
       "      <th></th>\n",
       "      <th>index</th>\n",
       "      <th>project_type</th>\n",
       "    </tr>\n",
       "  </thead>\n",
       "  <tbody>\n",
       "    <tr>\n",
       "      <td>0</td>\n",
       "      <td>satellite_orbital_assembly</td>\n",
       "      <td>1866</td>\n",
       "    </tr>\n",
       "  </tbody>\n",
       "</table>\n",
       "</div>"
      ],
      "text/plain": [
       "                        index  project_type\n",
       "0  satellite_orbital_assembly          1866"
      ]
     },
     "execution_count": 21,
     "metadata": {},
     "output_type": "execute_result"
    }
   ],
   "source": [
    "ga['project_type'].value_counts().reset_index()"
   ]
  },
  {
   "cell_type": "markdown",
   "metadata": {},
   "source": [
    "В столбце `building_type` мы видим только 127956 строк, ровно столько сколько событий building у нас есть в столбце `event`, \n",
    "ситуация со столбцом `project_type` аналогична, в него вынесено событие `project` и указан его тип `satellite_orbital_assembly` разработка орбитальной сборки спутников. Оставим пропуски как есть, не заполняя."
   ]
  },
  {
   "cell_type": "code",
   "execution_count": 22,
   "metadata": {},
   "outputs": [
    {
     "data": {
      "text/plain": [
       "count                  135639\n",
       "unique                 128790\n",
       "top       2020-05-09 12:35:56\n",
       "freq                        4\n",
       "first     2020-05-04 00:00:01\n",
       "last      2020-06-05 12:32:49\n",
       "Name: event_datetime, dtype: object"
      ]
     },
     "execution_count": 22,
     "metadata": {},
     "output_type": "execute_result"
    }
   ],
   "source": [
    "ga['event_datetime'].describe()"
   ]
  },
  {
   "cell_type": "markdown",
   "metadata": {},
   "source": [
    "### ad_cost"
   ]
  },
  {
   "cell_type": "code",
   "execution_count": 23,
   "metadata": {},
   "outputs": [],
   "source": [
    "#приведем столбец с датами к типу datetime\n",
    "ad_cost['day'] = pd.to_datetime(ad_cost['day'])"
   ]
  },
  {
   "cell_type": "code",
   "execution_count": 24,
   "metadata": {},
   "outputs": [],
   "source": [
    "#округлим столбец cost до двух знаков\n",
    "ad_cost['cost'] = ad_cost['cost'].round(2)"
   ]
  },
  {
   "cell_type": "code",
   "execution_count": 25,
   "metadata": {},
   "outputs": [
    {
     "data": {
      "text/plain": [
       "count                      28\n",
       "unique                      7\n",
       "top       2020-05-08 00:00:00\n",
       "freq                        4\n",
       "first     2020-05-03 00:00:00\n",
       "last      2020-05-09 00:00:00\n",
       "Name: day, dtype: object"
      ]
     },
     "execution_count": 25,
     "metadata": {},
     "output_type": "execute_result"
    }
   ],
   "source": [
    "ad_cost['day'].describe()"
   ]
  },
  {
   "cell_type": "markdown",
   "metadata": {},
   "source": [
    "***"
   ]
  },
  {
   "cell_type": "markdown",
   "metadata": {},
   "source": [
    "`game_actions`\n",
    "- столбец `event_datetime` приведен к типу datetime\n",
    "- дубликаты удалены\n",
    "- В столбце `building_type` мы видим только 127956 строк, ровно столько сколько событий building у нас есть в столбце `event`, ситуация со столбцом `project_type` аналогична, в него вынесено событие `project` и указан его тип `satellite_orbital_assembly` разработка орбитальной сборки спутников. Оставили пропуски как есть, не заполняя.\n",
    "- данные за период с 4 мая по 5 июня 2020 года\n",
    "\n",
    "`ad_cost`\n",
    "- столбец `day` приведен к типу datetime\n",
    "- столбец `cost` округлен до двух знаков\n",
    "- данные по стоимостям кликов за период с 3 мая по 9 мая, то есть стоимость привлечения нашей когорты"
   ]
  },
  {
   "cell_type": "markdown",
   "metadata": {},
   "source": [
    "## 6. Анализ влияния событий на совершение целевого события<a id=\"step6\"></a>"
   ]
  },
  {
   "cell_type": "markdown",
   "metadata": {},
   "source": [
    "Целевое событие - завершение первого уровня  `ga['event'] == 'finished_stage_1'`"
   ]
  },
  {
   "cell_type": "markdown",
   "metadata": {},
   "source": [
    "### 6.1. Анализ количества событий"
   ]
  },
  {
   "cell_type": "code",
   "execution_count": 26,
   "metadata": {},
   "outputs": [
    {
     "data": {
      "text/plain": [
       "13576"
      ]
     },
     "execution_count": 26,
     "metadata": {},
     "output_type": "execute_result"
    }
   ],
   "source": [
    "# Количество уникальных пользователей в нашей когорте\n",
    "ga['user_id'].nunique()"
   ]
  },
  {
   "cell_type": "code",
   "execution_count": 27,
   "metadata": {},
   "outputs": [
    {
     "data": {
      "text/html": [
       "<div>\n",
       "<style scoped>\n",
       "    .dataframe tbody tr th:only-of-type {\n",
       "        vertical-align: middle;\n",
       "    }\n",
       "\n",
       "    .dataframe tbody tr th {\n",
       "        vertical-align: top;\n",
       "    }\n",
       "\n",
       "    .dataframe thead th {\n",
       "        text-align: right;\n",
       "    }\n",
       "</style>\n",
       "<table border=\"1\" class=\"dataframe\">\n",
       "  <thead>\n",
       "    <tr style=\"text-align: right;\">\n",
       "      <th></th>\n",
       "      <th>event</th>\n",
       "      <th>n_event</th>\n",
       "      <th>n_users</th>\n",
       "    </tr>\n",
       "  </thead>\n",
       "  <tbody>\n",
       "    <tr>\n",
       "      <td>0</td>\n",
       "      <td>building</td>\n",
       "      <td>127956</td>\n",
       "      <td>13576</td>\n",
       "    </tr>\n",
       "    <tr>\n",
       "      <td>1</td>\n",
       "      <td>finished_stage_1</td>\n",
       "      <td>5817</td>\n",
       "      <td>5817</td>\n",
       "    </tr>\n",
       "    <tr>\n",
       "      <td>2</td>\n",
       "      <td>project</td>\n",
       "      <td>1866</td>\n",
       "      <td>1866</td>\n",
       "    </tr>\n",
       "  </tbody>\n",
       "</table>\n",
       "</div>"
      ],
      "text/plain": [
       "              event  n_event  n_users\n",
       "0          building   127956    13576\n",
       "1  finished_stage_1     5817     5817\n",
       "2           project     1866     1866"
      ]
     },
     "execution_count": 27,
     "metadata": {},
     "output_type": "execute_result"
    }
   ],
   "source": [
    "#Посмотрим на распределение количества событий\n",
    "ga_event = ga.groupby('event').agg({'user_id': ['count','nunique']}).reset_index()\n",
    "ga_event.columns = ['event', 'n_event', 'n_users']\n",
    "ga_event"
   ]
  },
  {
   "cell_type": "code",
   "execution_count": 28,
   "metadata": {},
   "outputs": [
    {
     "data": {
      "text/html": [
       "<div>\n",
       "<style scoped>\n",
       "    .dataframe tbody tr th:only-of-type {\n",
       "        vertical-align: middle;\n",
       "    }\n",
       "\n",
       "    .dataframe tbody tr th {\n",
       "        vertical-align: top;\n",
       "    }\n",
       "\n",
       "    .dataframe thead th {\n",
       "        text-align: right;\n",
       "    }\n",
       "</style>\n",
       "<table border=\"1\" class=\"dataframe\">\n",
       "  <thead>\n",
       "    <tr style=\"text-align: right;\">\n",
       "      <th></th>\n",
       "      <th>event</th>\n",
       "      <th>n_event</th>\n",
       "      <th>n_users</th>\n",
       "      <th>ratio</th>\n",
       "    </tr>\n",
       "  </thead>\n",
       "  <tbody>\n",
       "    <tr>\n",
       "      <td>0</td>\n",
       "      <td>building</td>\n",
       "      <td>127956</td>\n",
       "      <td>13576</td>\n",
       "      <td>9.425162</td>\n",
       "    </tr>\n",
       "    <tr>\n",
       "      <td>1</td>\n",
       "      <td>finished_stage_1</td>\n",
       "      <td>5817</td>\n",
       "      <td>5817</td>\n",
       "      <td>1.000000</td>\n",
       "    </tr>\n",
       "    <tr>\n",
       "      <td>2</td>\n",
       "      <td>project</td>\n",
       "      <td>1866</td>\n",
       "      <td>1866</td>\n",
       "      <td>1.000000</td>\n",
       "    </tr>\n",
       "  </tbody>\n",
       "</table>\n",
       "</div>"
      ],
      "text/plain": [
       "              event  n_event  n_users     ratio\n",
       "0          building   127956    13576  9.425162\n",
       "1  finished_stage_1     5817     5817  1.000000\n",
       "2           project     1866     1866  1.000000"
      ]
     },
     "execution_count": 28,
     "metadata": {},
     "output_type": "execute_result"
    }
   ],
   "source": [
    "ga_event['ratio']= ga_event['n_event']/ga_event['n_users']\n",
    "ga_event"
   ]
  },
  {
   "cell_type": "code",
   "execution_count": 29,
   "metadata": {},
   "outputs": [],
   "source": [
    "# установим палетту для библиотекаи сиборн\n",
    "sns.set_palette('muted') "
   ]
  },
  {
   "cell_type": "code",
   "execution_count": 30,
   "metadata": {},
   "outputs": [
    {
     "data": {
      "image/png": "[encoded data removed]",
      "text/plain": [
       "<Figure size 432x288 with 1 Axes>"
      ]
     },
     "metadata": {
      "needs_background": "light"
     },
     "output_type": "display_data"
    }
   ],
   "source": [
    "plt.figure()\n",
    "\n",
    "ax = sns.barplot(x=\"event\", y=\"n_event\", data=ga_event)\n",
    "ax.set_xticklabels(ax.get_xticklabels())\n",
    "\n",
    "total = len(ga)\n",
    "for p in ax.patches:\n",
    "    percentage = '{:.1f}%'.format(100*p.get_height()/total)\n",
    "    x = p.get_x() + p.get_width()/2\n",
    "    y = p.get_height()\n",
    "    ax.annotate(percentage, (x, y), ha='center', va='bottom')\n",
    "\n",
    "ax.set_title('График распределения количества событий')\n",
    "ax.set_xlabel('Событие')\n",
    "ax.set_ylabel('Количество');"
   ]
  },
  {
   "cell_type": "code",
   "execution_count": 31,
   "metadata": {
    "scrolled": true
   },
   "outputs": [
    {
     "data": {
      "image/png": "[encoded data removed]",
      "text/plain": [
       "<Figure size 432x288 with 1 Axes>"
      ]
     },
     "metadata": {
      "needs_background": "light"
     },
     "output_type": "display_data"
    }
   ],
   "source": [
    "ax = sns.barplot(x=\"event\", y=\"n_users\", data=ga_event)\n",
    "ax.set_xticklabels(ax.get_xticklabels())\n",
    "\n",
    "total = ga['user_id'].nunique()\n",
    "for p in ax.patches:\n",
    "    percentage = '{:.1f}%'.format(100*p.get_height()/total)\n",
    "    x = p.get_x() + p.get_width()/2\n",
    "    y = p.get_height()\n",
    "    ax.annotate(percentage, (x, y), ha='center', va='bottom')\n",
    "\n",
    "ax.set_title('График распределения количества пользователей по событиям')\n",
    "ax.set_xlabel('Событие')\n",
    "ax.set_ylabel('Количество');"
   ]
  },
  {
   "cell_type": "code",
   "execution_count": 32,
   "metadata": {},
   "outputs": [
    {
     "data": {
      "text/plain": [
       "21259"
      ]
     },
     "execution_count": 32,
     "metadata": {},
     "output_type": "execute_result"
    }
   ],
   "source": [
    "ga_event['n_users'].sum()"
   ]
  },
  {
   "cell_type": "markdown",
   "metadata": {},
   "source": [
    "Согласно графику и расчетам всего у нас 135639 событий, из них\n",
    "- 94.3% - постройка зданий\n",
    "- 4.3 % - завершение 1-го уровня\n",
    "- 1.4% - выполнение проекта\n",
    "\n",
    "Всего в игре из первой когорты 13576 уникальных пользоватей, которые совершают эти события, из них:\n",
    "- 100% строят постройки\n",
    "- 42.8% завершили 1-й уровень\n",
    "- 13.7% выполнили проект"
   ]
  },
  {
   "cell_type": "markdown",
   "metadata": {},
   "source": [
    "### 6.2. Анализ количества построек"
   ]
  },
  {
   "cell_type": "code",
   "execution_count": 33,
   "metadata": {},
   "outputs": [
    {
     "data": {
      "text/html": [
       "<div>\n",
       "<style scoped>\n",
       "    .dataframe tbody tr th:only-of-type {\n",
       "        vertical-align: middle;\n",
       "    }\n",
       "\n",
       "    .dataframe tbody tr th {\n",
       "        vertical-align: top;\n",
       "    }\n",
       "\n",
       "    .dataframe thead th {\n",
       "        text-align: right;\n",
       "    }\n",
       "</style>\n",
       "<table border=\"1\" class=\"dataframe\">\n",
       "  <thead>\n",
       "    <tr style=\"text-align: right;\">\n",
       "      <th></th>\n",
       "      <th>n_building</th>\n",
       "      <th>n_users</th>\n",
       "      <th>n_users_pct</th>\n",
       "    </tr>\n",
       "    <tr>\n",
       "      <th>building_type</th>\n",
       "      <th></th>\n",
       "      <th></th>\n",
       "      <th></th>\n",
       "    </tr>\n",
       "  </thead>\n",
       "  <tbody>\n",
       "    <tr>\n",
       "      <td>assembly_shop</td>\n",
       "      <td>54494</td>\n",
       "      <td>13576</td>\n",
       "      <td>100.000000</td>\n",
       "    </tr>\n",
       "    <tr>\n",
       "      <td>spaceport</td>\n",
       "      <td>59325</td>\n",
       "      <td>13231</td>\n",
       "      <td>97.458751</td>\n",
       "    </tr>\n",
       "    <tr>\n",
       "      <td>research_center</td>\n",
       "      <td>14137</td>\n",
       "      <td>7671</td>\n",
       "      <td>56.504125</td>\n",
       "    </tr>\n",
       "  </tbody>\n",
       "</table>\n",
       "</div>"
      ],
      "text/plain": [
       "                 n_building  n_users  n_users_pct\n",
       "building_type                                    \n",
       "assembly_shop         54494    13576   100.000000\n",
       "spaceport             59325    13231    97.458751\n",
       "research_center       14137     7671    56.504125"
      ]
     },
     "execution_count": 33,
     "metadata": {},
     "output_type": "execute_result"
    }
   ],
   "source": [
    "ga_building = ga.groupby('building_type').agg({'user_id': ['count','nunique']})\n",
    "ga_building.columns = ['n_building', 'n_users']\n",
    "ga_building = ga_building.sort_values('n_users', ascending=False)\n",
    "ga_building['n_users_pct'] = ga_building['n_users'] / ga['user_id'].nunique()*100\n",
    "ga_building"
   ]
  },
  {
   "cell_type": "code",
   "execution_count": 34,
   "metadata": {},
   "outputs": [
    {
     "data": {
      "image/png": "[encoded data removed]",
      "text/plain": [
       "<Figure size 432x288 with 1 Axes>"
      ]
     },
     "metadata": {
      "needs_background": "light"
     },
     "output_type": "display_data"
    }
   ],
   "source": [
    "ax = ga_building.drop('n_users_pct', axis=1).plot.bar(rot=0)\n",
    "\n",
    "for p in ax.patches:\n",
    "    percentage = '{:.0f}'.format(p.get_height())\n",
    "    x = p.get_x() + p.get_width()/2\n",
    "    y = p.get_height()\n",
    "    ax.annotate(percentage, (x, y), ha='center', va='bottom')\n",
    "    \n",
    "ax.set_title('График распределения количества построек и уникальных пользователей')\n",
    "ax.set_xlabel('Тип постройки')\n",
    "ax.set_ylabel('Количество');"
   ]
  },
  {
   "cell_type": "code",
   "execution_count": 35,
   "metadata": {},
   "outputs": [
    {
     "data": {
      "text/html": [
       "<div>\n",
       "<style scoped>\n",
       "    .dataframe tbody tr th:only-of-type {\n",
       "        vertical-align: middle;\n",
       "    }\n",
       "\n",
       "    .dataframe tbody tr th {\n",
       "        vertical-align: top;\n",
       "    }\n",
       "\n",
       "    .dataframe thead th {\n",
       "        text-align: right;\n",
       "    }\n",
       "</style>\n",
       "<table border=\"1\" class=\"dataframe\">\n",
       "  <thead>\n",
       "    <tr style=\"text-align: right;\">\n",
       "      <th></th>\n",
       "      <th>building_type</th>\n",
       "      <th>n_building</th>\n",
       "      <th>n_users</th>\n",
       "    </tr>\n",
       "  </thead>\n",
       "  <tbody>\n",
       "    <tr>\n",
       "      <td>0</td>\n",
       "      <td>assembly_shop</td>\n",
       "      <td>54494</td>\n",
       "      <td>13576</td>\n",
       "    </tr>\n",
       "    <tr>\n",
       "      <td>1</td>\n",
       "      <td>research_center</td>\n",
       "      <td>14137</td>\n",
       "      <td>7671</td>\n",
       "    </tr>\n",
       "    <tr>\n",
       "      <td>2</td>\n",
       "      <td>spaceport</td>\n",
       "      <td>59325</td>\n",
       "      <td>13231</td>\n",
       "    </tr>\n",
       "  </tbody>\n",
       "</table>\n",
       "</div>"
      ],
      "text/plain": [
       "     building_type  n_building  n_users\n",
       "0    assembly_shop       54494    13576\n",
       "1  research_center       14137     7671\n",
       "2        spaceport       59325    13231"
      ]
     },
     "execution_count": 35,
     "metadata": {},
     "output_type": "execute_result"
    }
   ],
   "source": [
    "ga_building = ga.groupby('building_type').agg({'user_id': ['count','nunique']}).reset_index()\n",
    "ga_building.columns = ['building_type', 'n_building', 'n_users']\n",
    "ga_building"
   ]
  },
  {
   "cell_type": "code",
   "execution_count": 36,
   "metadata": {},
   "outputs": [
    {
     "data": {
      "text/plain": [
       "127956"
      ]
     },
     "execution_count": 36,
     "metadata": {},
     "output_type": "execute_result"
    }
   ],
   "source": [
    "ga['building_type'].count()"
   ]
  },
  {
   "cell_type": "code",
   "execution_count": 37,
   "metadata": {},
   "outputs": [
    {
     "data": {
      "image/png": "[encoded data removed]",
      "text/plain": [
       "<Figure size 432x288 with 1 Axes>"
      ]
     },
     "metadata": {
      "needs_background": "light"
     },
     "output_type": "display_data"
    }
   ],
   "source": [
    "ax = sns.countplot(data = ga, x='building_type')\n",
    "\n",
    "total = ga['building_type'].count()\n",
    "\n",
    "for p in ax.patches:\n",
    "    percentage = '{:.1f}%'.format(100*p.get_height()/total)\n",
    "    x = p.get_x() + p.get_width()/2\n",
    "    y = p.get_height()\n",
    "    ax.annotate(percentage, (x, y), ha='center', va='bottom')\n",
    "\n",
    "ax.set_title('График распределения количества типов построек')\n",
    "ax.set_xlabel('Тип постройки')\n",
    "ax.set_ylabel('Количество');"
   ]
  },
  {
   "cell_type": "markdown",
   "metadata": {},
   "source": [
    "Всего у нас есть 127956 построек, из которых:\n",
    "- 42.6% (54494 постройки) -`assembly_shop` — сборочный цех, и его построили 100% наших пользователей\n",
    "- 46.4% (59325 построек)- `spaceport` — космопорт, и его построили 98% пользователей\n",
    "- 11% (14137 построек)- `research_center` — исследовательский центр, построено 56% пользователей\n",
    "\n",
    "В среднем на одного уникального пользователя приходится по 9.5 построек, но завершить проект или пройти первый уровень, игрок может только 1 раз."
   ]
  },
  {
   "cell_type": "markdown",
   "metadata": {},
   "source": [
    "## 7. Продукт<a id=\"step7\"></a>"
   ]
  },
  {
   "cell_type": "markdown",
   "metadata": {},
   "source": [
    "### 7.1 DAU (Количество уникальных пользоватейлей в день)¶\n",
    "Посчитаем среднее DAU за наш период:"
   ]
  },
  {
   "cell_type": "code",
   "execution_count": 38,
   "metadata": {},
   "outputs": [],
   "source": [
    "ga['date'] = ga['event_datetime'].dt.date"
   ]
  },
  {
   "cell_type": "code",
   "execution_count": 39,
   "metadata": {},
   "outputs": [
    {
     "data": {
      "text/plain": [
       "2884"
      ]
     },
     "execution_count": 39,
     "metadata": {},
     "output_type": "execute_result"
    }
   ],
   "source": [
    "# Посчитаем средний DAU\n",
    "dau_mean = ga.groupby('date').agg({'user_id': 'nunique'}).mean()\n",
    "int(dau_mean)"
   ]
  },
  {
   "cell_type": "code",
   "execution_count": 40,
   "metadata": {
    "scrolled": true
   },
   "outputs": [
    {
     "data": {
      "text/html": [
       "<div>\n",
       "<style scoped>\n",
       "    .dataframe tbody tr th:only-of-type {\n",
       "        vertical-align: middle;\n",
       "    }\n",
       "\n",
       "    .dataframe tbody tr th {\n",
       "        vertical-align: top;\n",
       "    }\n",
       "\n",
       "    .dataframe thead th {\n",
       "        text-align: right;\n",
       "    }\n",
       "</style>\n",
       "<table border=\"1\" class=\"dataframe\">\n",
       "  <thead>\n",
       "    <tr style=\"text-align: right;\">\n",
       "      <th></th>\n",
       "      <th>date</th>\n",
       "      <th>user_id</th>\n",
       "    </tr>\n",
       "  </thead>\n",
       "  <tbody>\n",
       "    <tr>\n",
       "      <td>0</td>\n",
       "      <td>2020-05-04</td>\n",
       "      <td>5860</td>\n",
       "    </tr>\n",
       "    <tr>\n",
       "      <td>1</td>\n",
       "      <td>2020-05-05</td>\n",
       "      <td>6382</td>\n",
       "    </tr>\n",
       "    <tr>\n",
       "      <td>2</td>\n",
       "      <td>2020-05-06</td>\n",
       "      <td>6854</td>\n",
       "    </tr>\n",
       "    <tr>\n",
       "      <td>3</td>\n",
       "      <td>2020-05-07</td>\n",
       "      <td>7384</td>\n",
       "    </tr>\n",
       "    <tr>\n",
       "      <td>4</td>\n",
       "      <td>2020-05-08</td>\n",
       "      <td>7891</td>\n",
       "    </tr>\n",
       "    <tr>\n",
       "      <td>5</td>\n",
       "      <td>2020-05-09</td>\n",
       "      <td>8394</td>\n",
       "    </tr>\n",
       "    <tr>\n",
       "      <td>6</td>\n",
       "      <td>2020-05-10</td>\n",
       "      <td>9219</td>\n",
       "    </tr>\n",
       "    <tr>\n",
       "      <td>7</td>\n",
       "      <td>2020-05-11</td>\n",
       "      <td>5995</td>\n",
       "    </tr>\n",
       "    <tr>\n",
       "      <td>8</td>\n",
       "      <td>2020-05-12</td>\n",
       "      <td>5776</td>\n",
       "    </tr>\n",
       "    <tr>\n",
       "      <td>9</td>\n",
       "      <td>2020-05-13</td>\n",
       "      <td>5632</td>\n",
       "    </tr>\n",
       "    <tr>\n",
       "      <td>10</td>\n",
       "      <td>2020-05-14</td>\n",
       "      <td>5102</td>\n",
       "    </tr>\n",
       "    <tr>\n",
       "      <td>11</td>\n",
       "      <td>2020-05-15</td>\n",
       "      <td>4493</td>\n",
       "    </tr>\n",
       "    <tr>\n",
       "      <td>12</td>\n",
       "      <td>2020-05-16</td>\n",
       "      <td>3874</td>\n",
       "    </tr>\n",
       "    <tr>\n",
       "      <td>13</td>\n",
       "      <td>2020-05-17</td>\n",
       "      <td>3056</td>\n",
       "    </tr>\n",
       "    <tr>\n",
       "      <td>14</td>\n",
       "      <td>2020-05-18</td>\n",
       "      <td>2255</td>\n",
       "    </tr>\n",
       "    <tr>\n",
       "      <td>15</td>\n",
       "      <td>2020-05-19</td>\n",
       "      <td>1852</td>\n",
       "    </tr>\n",
       "    <tr>\n",
       "      <td>16</td>\n",
       "      <td>2020-05-20</td>\n",
       "      <td>1480</td>\n",
       "    </tr>\n",
       "    <tr>\n",
       "      <td>17</td>\n",
       "      <td>2020-05-21</td>\n",
       "      <td>1077</td>\n",
       "    </tr>\n",
       "    <tr>\n",
       "      <td>18</td>\n",
       "      <td>2020-05-22</td>\n",
       "      <td>764</td>\n",
       "    </tr>\n",
       "    <tr>\n",
       "      <td>19</td>\n",
       "      <td>2020-05-23</td>\n",
       "      <td>549</td>\n",
       "    </tr>\n",
       "    <tr>\n",
       "      <td>20</td>\n",
       "      <td>2020-05-24</td>\n",
       "      <td>402</td>\n",
       "    </tr>\n",
       "    <tr>\n",
       "      <td>21</td>\n",
       "      <td>2020-05-25</td>\n",
       "      <td>305</td>\n",
       "    </tr>\n",
       "    <tr>\n",
       "      <td>22</td>\n",
       "      <td>2020-05-26</td>\n",
       "      <td>205</td>\n",
       "    </tr>\n",
       "    <tr>\n",
       "      <td>23</td>\n",
       "      <td>2020-05-27</td>\n",
       "      <td>139</td>\n",
       "    </tr>\n",
       "    <tr>\n",
       "      <td>24</td>\n",
       "      <td>2020-05-28</td>\n",
       "      <td>91</td>\n",
       "    </tr>\n",
       "    <tr>\n",
       "      <td>25</td>\n",
       "      <td>2020-05-29</td>\n",
       "      <td>65</td>\n",
       "    </tr>\n",
       "    <tr>\n",
       "      <td>26</td>\n",
       "      <td>2020-05-30</td>\n",
       "      <td>36</td>\n",
       "    </tr>\n",
       "    <tr>\n",
       "      <td>27</td>\n",
       "      <td>2020-05-31</td>\n",
       "      <td>22</td>\n",
       "    </tr>\n",
       "    <tr>\n",
       "      <td>28</td>\n",
       "      <td>2020-06-01</td>\n",
       "      <td>16</td>\n",
       "    </tr>\n",
       "    <tr>\n",
       "      <td>29</td>\n",
       "      <td>2020-06-02</td>\n",
       "      <td>11</td>\n",
       "    </tr>\n",
       "    <tr>\n",
       "      <td>30</td>\n",
       "      <td>2020-06-03</td>\n",
       "      <td>9</td>\n",
       "    </tr>\n",
       "    <tr>\n",
       "      <td>31</td>\n",
       "      <td>2020-06-04</td>\n",
       "      <td>7</td>\n",
       "    </tr>\n",
       "    <tr>\n",
       "      <td>32</td>\n",
       "      <td>2020-06-05</td>\n",
       "      <td>4</td>\n",
       "    </tr>\n",
       "  </tbody>\n",
       "</table>\n",
       "</div>"
      ],
      "text/plain": [
       "          date  user_id\n",
       "0   2020-05-04     5860\n",
       "1   2020-05-05     6382\n",
       "2   2020-05-06     6854\n",
       "3   2020-05-07     7384\n",
       "4   2020-05-08     7891\n",
       "5   2020-05-09     8394\n",
       "6   2020-05-10     9219\n",
       "7   2020-05-11     5995\n",
       "8   2020-05-12     5776\n",
       "9   2020-05-13     5632\n",
       "10  2020-05-14     5102\n",
       "11  2020-05-15     4493\n",
       "12  2020-05-16     3874\n",
       "13  2020-05-17     3056\n",
       "14  2020-05-18     2255\n",
       "15  2020-05-19     1852\n",
       "16  2020-05-20     1480\n",
       "17  2020-05-21     1077\n",
       "18  2020-05-22      764\n",
       "19  2020-05-23      549\n",
       "20  2020-05-24      402\n",
       "21  2020-05-25      305\n",
       "22  2020-05-26      205\n",
       "23  2020-05-27      139\n",
       "24  2020-05-28       91\n",
       "25  2020-05-29       65\n",
       "26  2020-05-30       36\n",
       "27  2020-05-31       22\n",
       "28  2020-06-01       16\n",
       "29  2020-06-02       11\n",
       "30  2020-06-03        9\n",
       "31  2020-06-04        7\n",
       "32  2020-06-05        4"
      ]
     },
     "execution_count": 40,
     "metadata": {},
     "output_type": "execute_result"
    }
   ],
   "source": [
    "# Посчитаем DAU по дням\n",
    "dau = ga.groupby('date').agg({'user_id': 'nunique'}).reset_index()\n",
    "dau"
   ]
  },
  {
   "cell_type": "code",
   "execution_count": 41,
   "metadata": {},
   "outputs": [
    {
     "data": {
      "image/png": "[encoded data removed]",
      "text/plain": [
       "<Figure size 720x432 with 1 Axes>"
      ]
     },
     "metadata": {
      "needs_background": "light"
     },
     "output_type": "display_data"
    }
   ],
   "source": [
    "# построим график изменения DAU в течение нашел периода\n",
    "fig, ax = plt.subplots(figsize=(10, 6))\n",
    "sns.lineplot(data=dau, x = 'date', y = 'user_id')\n",
    "ax.grid()\n",
    "plt.title('График изменения DAU в текущем периоде')\n",
    "plt.xlabel('дата')\n",
    "plt.ylabel('DAU');"
   ]
  },
  {
   "cell_type": "code",
   "execution_count": 42,
   "metadata": {},
   "outputs": [
    {
     "data": {
      "image/png": "[encoded data removed]",
      "text/plain": [
       "<Figure size 720x432 with 1 Axes>"
      ]
     },
     "metadata": {
      "needs_background": "light"
     },
     "output_type": "display_data"
    }
   ],
   "source": [
    "# построим график изменения DAU в течение нашел периода c разбивкой по событиям\n",
    "fig, ax = plt.subplots(figsize=(10, 6))\n",
    "sns.lineplot(data=ga.groupby(['event', 'date']).agg(\n",
    "    {'user_id': 'nunique'}).reset_index(), x = 'date', y = 'user_id', hue = 'event')\n",
    "ax.grid()\n",
    "plt.title('График изменения DAU в текущем периоде с разбивкой по событиям')\n",
    "plt.xlabel('дата')\n",
    "plt.ylabel('DAU')\n",
    "plt.legend(title='Тип события');"
   ]
  },
  {
   "cell_type": "markdown",
   "metadata": {},
   "source": [
    "**DAU** В среднем в игру играют 2884 пользователей в день. Наибольшая активность 4-10 мая, после 25 активность правктически сводится к нулю.\n",
    "\n",
    "Пик активности 10 мая (9219 уникальных пользователей), после этого показатели начинают падать. Это совпадает с датами проведения маркетинговой компании 3-9 мая.\n",
    "\n",
    "**DAU пользователей по совершенным событиям.** можно отметить что до 15 мая показатели по завершенным уровням растут, после начинают падать. То есть в среднем на завершение уровня у пользователя уходит 10-14 дней"
   ]
  },
  {
   "cell_type": "markdown",
   "metadata": {},
   "source": [
    "### 7.2 WAU (Количество уникальных пользоватейлей в неделю)\n",
    "Посчитаем среднее WAU за наш период:"
   ]
  },
  {
   "cell_type": "code",
   "execution_count": 43,
   "metadata": {},
   "outputs": [],
   "source": [
    "ga['week'] = ga['event_datetime'].dt.week"
   ]
  },
  {
   "cell_type": "code",
   "execution_count": 44,
   "metadata": {},
   "outputs": [
    {
     "data": {
      "text/plain": [
       "6120"
      ]
     },
     "execution_count": 44,
     "metadata": {},
     "output_type": "execute_result"
    }
   ],
   "source": [
    "# Посчитаем средний WAU\n",
    "wau_mean = ga.groupby('week').agg({'user_id': 'nunique'}).mean()\n",
    "int(wau_mean)"
   ]
  },
  {
   "cell_type": "code",
   "execution_count": 45,
   "metadata": {},
   "outputs": [],
   "source": [
    "ga['begin_of_week'] = pd.to_datetime(\n",
    "    ga['event_datetime'], unit='d') - pd.to_timedelta(ga['event_datetime'].dt.dayofweek, unit='d')\n",
    "ga['begin_of_week'] = ga['begin_of_week'].dt.date"
   ]
  },
  {
   "cell_type": "code",
   "execution_count": 46,
   "metadata": {},
   "outputs": [
    {
     "data": {
      "text/html": [
       "<div>\n",
       "<style scoped>\n",
       "    .dataframe tbody tr th:only-of-type {\n",
       "        vertical-align: middle;\n",
       "    }\n",
       "\n",
       "    .dataframe tbody tr th {\n",
       "        vertical-align: top;\n",
       "    }\n",
       "\n",
       "    .dataframe thead th {\n",
       "        text-align: right;\n",
       "    }\n",
       "</style>\n",
       "<table border=\"1\" class=\"dataframe\">\n",
       "  <thead>\n",
       "    <tr style=\"text-align: right;\">\n",
       "      <th></th>\n",
       "      <th>begin_of_week</th>\n",
       "      <th>user_id</th>\n",
       "    </tr>\n",
       "  </thead>\n",
       "  <tbody>\n",
       "    <tr>\n",
       "      <td>0</td>\n",
       "      <td>2020-05-04</td>\n",
       "      <td>13576</td>\n",
       "    </tr>\n",
       "    <tr>\n",
       "      <td>1</td>\n",
       "      <td>2020-05-11</td>\n",
       "      <td>12121</td>\n",
       "    </tr>\n",
       "    <tr>\n",
       "      <td>2</td>\n",
       "      <td>2020-05-18</td>\n",
       "      <td>4353</td>\n",
       "    </tr>\n",
       "    <tr>\n",
       "      <td>3</td>\n",
       "      <td>2020-05-25</td>\n",
       "      <td>521</td>\n",
       "    </tr>\n",
       "    <tr>\n",
       "      <td>4</td>\n",
       "      <td>2020-06-01</td>\n",
       "      <td>29</td>\n",
       "    </tr>\n",
       "  </tbody>\n",
       "</table>\n",
       "</div>"
      ],
      "text/plain": [
       "  begin_of_week  user_id\n",
       "0    2020-05-04    13576\n",
       "1    2020-05-11    12121\n",
       "2    2020-05-18     4353\n",
       "3    2020-05-25      521\n",
       "4    2020-06-01       29"
      ]
     },
     "execution_count": 46,
     "metadata": {},
     "output_type": "execute_result"
    }
   ],
   "source": [
    "# посчитаем WAU по неделям\n",
    "wau = ga.groupby('begin_of_week').agg({'user_id': 'nunique'}).reset_index()\n",
    "wau"
   ]
  },
  {
   "cell_type": "code",
   "execution_count": 47,
   "metadata": {},
   "outputs": [
    {
     "data": {
      "image/png": "[encoded data removed]",
      "text/plain": [
       "<Figure size 720x360 with 1 Axes>"
      ]
     },
     "metadata": {
      "needs_background": "light"
     },
     "output_type": "display_data"
    }
   ],
   "source": [
    "# построим график изменения WAU\n",
    "fig, ax = plt.subplots(figsize=(10, 5))\n",
    "sns.lineplot(data=wau, x = 'begin_of_week', y = 'user_id')\n",
    "ax.grid()\n",
    "plt.title('График изменения WAU в текущем периоде')\n",
    "plt.xlabel('дата начала недели')\n",
    "plt.ylabel('WAU'); "
   ]
  },
  {
   "cell_type": "code",
   "execution_count": 48,
   "metadata": {},
   "outputs": [
    {
     "data": {
      "image/png": "[encoded data removed]",
      "text/plain": [
       "<Figure size 720x432 with 1 Axes>"
      ]
     },
     "metadata": {
      "needs_background": "light"
     },
     "output_type": "display_data"
    }
   ],
   "source": [
    "# построим график изменения WAU в течение нашего периода c разбивкой по событиям\n",
    "fig, ax = plt.subplots(figsize=(10, 6))\n",
    "sns.lineplot(data=ga.groupby(['event', 'begin_of_week']).agg(\n",
    "    {'user_id': 'nunique'}).reset_index(), x = 'begin_of_week', y = 'user_id', hue = 'event')\n",
    "ax.grid()\n",
    "plt.title('График изменения WAU в текущем периоде с разбивкой по событиям')\n",
    "plt.xlabel('дата')\n",
    "plt.ylabel('WAU')\n",
    "plt.legend(title='Тип события');"
   ]
  },
  {
   "cell_type": "markdown",
   "metadata": {},
   "source": [
    "**WAU** Средний WAU 6120 пользователей в неделю. Причем мы видим высокие показатели первые две недели и потом резкий обвал после окончания рекламной компании по привлечению людей. К концу месяца пользователей из нашей когорты практически не осталось.\n",
    "\n",
    "**WAU пользователей по совершенным событиям.** Первые 10 дней рост по заврешению уровня и проекту, потом уменьшение. к 25 мая практически все пользователи или завршили уровень или покинули игру."
   ]
  },
  {
   "cell_type": "markdown",
   "metadata": {},
   "source": [
    "### 7.3 Sticky factor (степень лояльности и вовлеченности аудитории)\n"
   ]
  },
  {
   "cell_type": "code",
   "execution_count": 49,
   "metadata": {},
   "outputs": [
    {
     "data": {
      "text/plain": [
       "user_id    0.471385\n",
       "dtype: float64"
      ]
     },
     "execution_count": 49,
     "metadata": {},
     "output_type": "execute_result"
    }
   ],
   "source": [
    "sticky_factor_wau = dau_mean/wau_mean\n",
    "sticky_factor_wau"
   ]
  },
  {
   "cell_type": "markdown",
   "metadata": {},
   "source": [
    "47% всех посетителей из нашей когорты остаются лояльны к сервису целую неделю."
   ]
  },
  {
   "cell_type": "markdown",
   "metadata": {},
   "source": [
    "### 7.4 Количество событий в день"
   ]
  },
  {
   "cell_type": "code",
   "execution_count": 50,
   "metadata": {},
   "outputs": [
    {
     "data": {
      "text/html": [
       "<div>\n",
       "<style scoped>\n",
       "    .dataframe tbody tr th:only-of-type {\n",
       "        vertical-align: middle;\n",
       "    }\n",
       "\n",
       "    .dataframe tbody tr th {\n",
       "        vertical-align: top;\n",
       "    }\n",
       "\n",
       "    .dataframe thead th {\n",
       "        text-align: right;\n",
       "    }\n",
       "</style>\n",
       "<table border=\"1\" class=\"dataframe\">\n",
       "  <thead>\n",
       "    <tr style=\"text-align: right;\">\n",
       "      <th></th>\n",
       "      <th>n_event</th>\n",
       "      <th>n_users</th>\n",
       "    </tr>\n",
       "    <tr>\n",
       "      <th>date</th>\n",
       "      <th></th>\n",
       "      <th></th>\n",
       "    </tr>\n",
       "  </thead>\n",
       "  <tbody>\n",
       "    <tr>\n",
       "      <td>2020-05-04</td>\n",
       "      <td>8171</td>\n",
       "      <td>5860</td>\n",
       "    </tr>\n",
       "    <tr>\n",
       "      <td>2020-05-05</td>\n",
       "      <td>9055</td>\n",
       "      <td>6382</td>\n",
       "    </tr>\n",
       "    <tr>\n",
       "      <td>2020-05-06</td>\n",
       "      <td>9925</td>\n",
       "      <td>6854</td>\n",
       "    </tr>\n",
       "    <tr>\n",
       "      <td>2020-05-07</td>\n",
       "      <td>10858</td>\n",
       "      <td>7384</td>\n",
       "    </tr>\n",
       "    <tr>\n",
       "      <td>2020-05-08</td>\n",
       "      <td>12059</td>\n",
       "      <td>7891</td>\n",
       "    </tr>\n",
       "    <tr>\n",
       "      <td>2020-05-09</td>\n",
       "      <td>13129</td>\n",
       "      <td>8394</td>\n",
       "    </tr>\n",
       "    <tr>\n",
       "      <td>2020-05-10</td>\n",
       "      <td>15207</td>\n",
       "      <td>9219</td>\n",
       "    </tr>\n",
       "    <tr>\n",
       "      <td>2020-05-11</td>\n",
       "      <td>8185</td>\n",
       "      <td>5995</td>\n",
       "    </tr>\n",
       "    <tr>\n",
       "      <td>2020-05-12</td>\n",
       "      <td>7918</td>\n",
       "      <td>5776</td>\n",
       "    </tr>\n",
       "    <tr>\n",
       "      <td>2020-05-13</td>\n",
       "      <td>7624</td>\n",
       "      <td>5632</td>\n",
       "    </tr>\n",
       "    <tr>\n",
       "      <td>2020-05-14</td>\n",
       "      <td>6830</td>\n",
       "      <td>5102</td>\n",
       "    </tr>\n",
       "    <tr>\n",
       "      <td>2020-05-15</td>\n",
       "      <td>5952</td>\n",
       "      <td>4493</td>\n",
       "    </tr>\n",
       "    <tr>\n",
       "      <td>2020-05-16</td>\n",
       "      <td>5099</td>\n",
       "      <td>3874</td>\n",
       "    </tr>\n",
       "    <tr>\n",
       "      <td>2020-05-17</td>\n",
       "      <td>3955</td>\n",
       "      <td>3056</td>\n",
       "    </tr>\n",
       "    <tr>\n",
       "      <td>2020-05-18</td>\n",
       "      <td>2847</td>\n",
       "      <td>2255</td>\n",
       "    </tr>\n",
       "    <tr>\n",
       "      <td>2020-05-19</td>\n",
       "      <td>2319</td>\n",
       "      <td>1852</td>\n",
       "    </tr>\n",
       "    <tr>\n",
       "      <td>2020-05-20</td>\n",
       "      <td>1837</td>\n",
       "      <td>1480</td>\n",
       "    </tr>\n",
       "    <tr>\n",
       "      <td>2020-05-21</td>\n",
       "      <td>1370</td>\n",
       "      <td>1077</td>\n",
       "    </tr>\n",
       "    <tr>\n",
       "      <td>2020-05-22</td>\n",
       "      <td>946</td>\n",
       "      <td>764</td>\n",
       "    </tr>\n",
       "    <tr>\n",
       "      <td>2020-05-23</td>\n",
       "      <td>707</td>\n",
       "      <td>549</td>\n",
       "    </tr>\n",
       "    <tr>\n",
       "      <td>2020-05-24</td>\n",
       "      <td>491</td>\n",
       "      <td>402</td>\n",
       "    </tr>\n",
       "    <tr>\n",
       "      <td>2020-05-25</td>\n",
       "      <td>382</td>\n",
       "      <td>305</td>\n",
       "    </tr>\n",
       "    <tr>\n",
       "      <td>2020-05-26</td>\n",
       "      <td>262</td>\n",
       "      <td>205</td>\n",
       "    </tr>\n",
       "    <tr>\n",
       "      <td>2020-05-27</td>\n",
       "      <td>180</td>\n",
       "      <td>139</td>\n",
       "    </tr>\n",
       "    <tr>\n",
       "      <td>2020-05-28</td>\n",
       "      <td>118</td>\n",
       "      <td>91</td>\n",
       "    </tr>\n",
       "    <tr>\n",
       "      <td>2020-05-29</td>\n",
       "      <td>79</td>\n",
       "      <td>65</td>\n",
       "    </tr>\n",
       "    <tr>\n",
       "      <td>2020-05-30</td>\n",
       "      <td>44</td>\n",
       "      <td>36</td>\n",
       "    </tr>\n",
       "    <tr>\n",
       "      <td>2020-05-31</td>\n",
       "      <td>29</td>\n",
       "      <td>22</td>\n",
       "    </tr>\n",
       "    <tr>\n",
       "      <td>2020-06-01</td>\n",
       "      <td>20</td>\n",
       "      <td>16</td>\n",
       "    </tr>\n",
       "    <tr>\n",
       "      <td>2020-06-02</td>\n",
       "      <td>15</td>\n",
       "      <td>11</td>\n",
       "    </tr>\n",
       "    <tr>\n",
       "      <td>2020-06-03</td>\n",
       "      <td>11</td>\n",
       "      <td>9</td>\n",
       "    </tr>\n",
       "    <tr>\n",
       "      <td>2020-06-04</td>\n",
       "      <td>10</td>\n",
       "      <td>7</td>\n",
       "    </tr>\n",
       "    <tr>\n",
       "      <td>2020-06-05</td>\n",
       "      <td>5</td>\n",
       "      <td>4</td>\n",
       "    </tr>\n",
       "  </tbody>\n",
       "</table>\n",
       "</div>"
      ],
      "text/plain": [
       "            n_event  n_users\n",
       "date                        \n",
       "2020-05-04     8171     5860\n",
       "2020-05-05     9055     6382\n",
       "2020-05-06     9925     6854\n",
       "2020-05-07    10858     7384\n",
       "2020-05-08    12059     7891\n",
       "2020-05-09    13129     8394\n",
       "2020-05-10    15207     9219\n",
       "2020-05-11     8185     5995\n",
       "2020-05-12     7918     5776\n",
       "2020-05-13     7624     5632\n",
       "2020-05-14     6830     5102\n",
       "2020-05-15     5952     4493\n",
       "2020-05-16     5099     3874\n",
       "2020-05-17     3955     3056\n",
       "2020-05-18     2847     2255\n",
       "2020-05-19     2319     1852\n",
       "2020-05-20     1837     1480\n",
       "2020-05-21     1370     1077\n",
       "2020-05-22      946      764\n",
       "2020-05-23      707      549\n",
       "2020-05-24      491      402\n",
       "2020-05-25      382      305\n",
       "2020-05-26      262      205\n",
       "2020-05-27      180      139\n",
       "2020-05-28      118       91\n",
       "2020-05-29       79       65\n",
       "2020-05-30       44       36\n",
       "2020-05-31       29       22\n",
       "2020-06-01       20       16\n",
       "2020-06-02       15       11\n",
       "2020-06-03       11        9\n",
       "2020-06-04       10        7\n",
       "2020-06-05        5        4"
      ]
     },
     "execution_count": 50,
     "metadata": {},
     "output_type": "execute_result"
    }
   ],
   "source": [
    "event_per_user = ga.groupby('date').agg({'user_id': ['count','nunique']})\n",
    "event_per_user.columns = ['n_event', 'n_users']\n",
    "event_per_user"
   ]
  },
  {
   "cell_type": "code",
   "execution_count": 51,
   "metadata": {},
   "outputs": [
    {
     "data": {
      "text/plain": [
       "1.3334837067723853"
      ]
     },
     "execution_count": 51,
     "metadata": {},
     "output_type": "execute_result"
    }
   ],
   "source": [
    "event_per_user['event_per_user'] = event_per_user['n_event'] / event_per_user['n_users']\n",
    "event_per_user['event_per_user'].mean()"
   ]
  },
  {
   "cell_type": "code",
   "execution_count": 52,
   "metadata": {},
   "outputs": [
    {
     "data": {
      "image/png": "[encoded data removed]",
      "text/plain": [
       "<Figure size 432x288 with 1 Axes>"
      ]
     },
     "metadata": {
      "needs_background": "light"
     },
     "output_type": "display_data"
    }
   ],
   "source": [
    "# Построим гистограмму распределений событий на пользователя в день\n",
    "sns.histplot(event_per_user, x=\"event_per_user\")\n",
    "plt.title('График распределения количества событий');"
   ]
  },
  {
   "cell_type": "markdown",
   "metadata": {},
   "source": [
    "В среднем один пользователь совершаает 1.3 события в день. То есть, чтобы пройти первый уровень пользователю требудется примерно 13-18 событий."
   ]
  },
  {
   "cell_type": "markdown",
   "metadata": {},
   "source": [
    "### 7.5 Retention rate"
   ]
  },
  {
   "cell_type": "markdown",
   "metadata": {},
   "source": [
    "Для расчета Retention rate в нашей когорте, разделим число пользователей в каждую недель на число пользователей в коготе."
   ]
  },
  {
   "cell_type": "code",
   "execution_count": 53,
   "metadata": {},
   "outputs": [],
   "source": [
    "retention = ga.groupby('week')['user_id'].nunique().reset_index()\n",
    "retention.columns = ['week', 'n_users']\n",
    "retention['retention'] = retention['n_users'] / ga['user_id'].nunique()"
   ]
  },
  {
   "cell_type": "code",
   "execution_count": 54,
   "metadata": {},
   "outputs": [
    {
     "data": {
      "text/html": [
       "<div>\n",
       "<style scoped>\n",
       "    .dataframe tbody tr th:only-of-type {\n",
       "        vertical-align: middle;\n",
       "    }\n",
       "\n",
       "    .dataframe tbody tr th {\n",
       "        vertical-align: top;\n",
       "    }\n",
       "\n",
       "    .dataframe thead th {\n",
       "        text-align: right;\n",
       "    }\n",
       "</style>\n",
       "<table border=\"1\" class=\"dataframe\">\n",
       "  <thead>\n",
       "    <tr style=\"text-align: right;\">\n",
       "      <th></th>\n",
       "      <th>week</th>\n",
       "      <th>n_users</th>\n",
       "      <th>retention</th>\n",
       "    </tr>\n",
       "  </thead>\n",
       "  <tbody>\n",
       "    <tr>\n",
       "      <td>0</td>\n",
       "      <td>19</td>\n",
       "      <td>13576</td>\n",
       "      <td>1.000000</td>\n",
       "    </tr>\n",
       "    <tr>\n",
       "      <td>1</td>\n",
       "      <td>20</td>\n",
       "      <td>12121</td>\n",
       "      <td>0.892826</td>\n",
       "    </tr>\n",
       "    <tr>\n",
       "      <td>2</td>\n",
       "      <td>21</td>\n",
       "      <td>4353</td>\n",
       "      <td>0.320639</td>\n",
       "    </tr>\n",
       "    <tr>\n",
       "      <td>3</td>\n",
       "      <td>22</td>\n",
       "      <td>521</td>\n",
       "      <td>0.038377</td>\n",
       "    </tr>\n",
       "    <tr>\n",
       "      <td>4</td>\n",
       "      <td>23</td>\n",
       "      <td>29</td>\n",
       "      <td>0.002136</td>\n",
       "    </tr>\n",
       "  </tbody>\n",
       "</table>\n",
       "</div>"
      ],
      "text/plain": [
       "   week  n_users  retention\n",
       "0    19    13576   1.000000\n",
       "1    20    12121   0.892826\n",
       "2    21     4353   0.320639\n",
       "3    22      521   0.038377\n",
       "4    23       29   0.002136"
      ]
     },
     "execution_count": 54,
     "metadata": {},
     "output_type": "execute_result"
    }
   ],
   "source": [
    "retention"
   ]
  },
  {
   "cell_type": "code",
   "execution_count": 55,
   "metadata": {},
   "outputs": [
    {
     "data": {
      "image/png": "[encoded data removed]",
      "text/plain": [
       "<Figure size 720x360 with 1 Axes>"
      ]
     },
     "metadata": {
      "needs_background": "light"
     },
     "output_type": "display_data"
    }
   ],
   "source": [
    "fig, ax = plt.subplots(figsize=(10, 5))\n",
    "sns.lineplot(data=retention, x = 'week', y = 'retention')\n",
    "ax.grid()\n",
    "plt.title('График изменения Retention rate в текущем периоде')\n",
    "plt.xlabel('Номер недели')\n",
    "plt.ylabel('Retention rate'); "
   ]
  },
  {
   "cell_type": "markdown",
   "metadata": {},
   "source": [
    "По графику видно, что:\n",
    "1. после двух недель игры, в когорте остается меньше 32% пользователей\n",
    "2. к четвертой неделе остается меньше 4% игроков\n",
    "\n",
    "Это может быть потому, что в первые две недели большее количество игроков завершает первый уровень. Оставшаяся часть или теряет интерес, или неспешно завершает уровень."
   ]
  },
  {
   "cell_type": "markdown",
   "metadata": {},
   "source": [
    "### 7.6 Среднее время прохождения игры"
   ]
  },
  {
   "cell_type": "markdown",
   "metadata": {},
   "source": [
    "Для нахождения времени прохождения игры, найдем время 1го входа в игру у пользователей:"
   ]
  },
  {
   "cell_type": "code",
   "execution_count": 56,
   "metadata": {},
   "outputs": [
    {
     "data": {
      "text/html": [
       "<div>\n",
       "<style scoped>\n",
       "    .dataframe tbody tr th:only-of-type {\n",
       "        vertical-align: middle;\n",
       "    }\n",
       "\n",
       "    .dataframe tbody tr th {\n",
       "        vertical-align: top;\n",
       "    }\n",
       "\n",
       "    .dataframe thead th {\n",
       "        text-align: right;\n",
       "    }\n",
       "</style>\n",
       "<table border=\"1\" class=\"dataframe\">\n",
       "  <thead>\n",
       "    <tr style=\"text-align: right;\">\n",
       "      <th></th>\n",
       "      <th>event_datetime</th>\n",
       "      <th>event</th>\n",
       "      <th>building_type</th>\n",
       "      <th>user_id</th>\n",
       "      <th>project_type</th>\n",
       "      <th>date</th>\n",
       "      <th>week</th>\n",
       "      <th>begin_of_week</th>\n",
       "      <th>first_visit_date</th>\n",
       "    </tr>\n",
       "  </thead>\n",
       "  <tbody>\n",
       "    <tr>\n",
       "      <td>0</td>\n",
       "      <td>2020-05-04 00:00:01</td>\n",
       "      <td>building</td>\n",
       "      <td>assembly_shop</td>\n",
       "      <td>55e92310-cb8e-4754-b622-597e124b03de</td>\n",
       "      <td>NaN</td>\n",
       "      <td>2020-05-04</td>\n",
       "      <td>19</td>\n",
       "      <td>2020-05-04</td>\n",
       "      <td>2020-05-04</td>\n",
       "    </tr>\n",
       "    <tr>\n",
       "      <td>1</td>\n",
       "      <td>2020-05-05 05:20:15</td>\n",
       "      <td>building</td>\n",
       "      <td>assembly_shop</td>\n",
       "      <td>55e92310-cb8e-4754-b622-597e124b03de</td>\n",
       "      <td>NaN</td>\n",
       "      <td>2020-05-05</td>\n",
       "      <td>19</td>\n",
       "      <td>2020-05-04</td>\n",
       "      <td>2020-05-04</td>\n",
       "    </tr>\n",
       "    <tr>\n",
       "      <td>2</td>\n",
       "      <td>2020-05-05 19:24:02</td>\n",
       "      <td>building</td>\n",
       "      <td>assembly_shop</td>\n",
       "      <td>55e92310-cb8e-4754-b622-597e124b03de</td>\n",
       "      <td>NaN</td>\n",
       "      <td>2020-05-05</td>\n",
       "      <td>19</td>\n",
       "      <td>2020-05-04</td>\n",
       "      <td>2020-05-04</td>\n",
       "    </tr>\n",
       "    <tr>\n",
       "      <td>3</td>\n",
       "      <td>2020-05-05 20:59:19</td>\n",
       "      <td>building</td>\n",
       "      <td>assembly_shop</td>\n",
       "      <td>55e92310-cb8e-4754-b622-597e124b03de</td>\n",
       "      <td>NaN</td>\n",
       "      <td>2020-05-05</td>\n",
       "      <td>19</td>\n",
       "      <td>2020-05-04</td>\n",
       "      <td>2020-05-04</td>\n",
       "    </tr>\n",
       "    <tr>\n",
       "      <td>4</td>\n",
       "      <td>2020-05-06 00:52:56</td>\n",
       "      <td>building</td>\n",
       "      <td>assembly_shop</td>\n",
       "      <td>55e92310-cb8e-4754-b622-597e124b03de</td>\n",
       "      <td>NaN</td>\n",
       "      <td>2020-05-06</td>\n",
       "      <td>19</td>\n",
       "      <td>2020-05-04</td>\n",
       "      <td>2020-05-04</td>\n",
       "    </tr>\n",
       "    <tr>\n",
       "      <td>...</td>\n",
       "      <td>...</td>\n",
       "      <td>...</td>\n",
       "      <td>...</td>\n",
       "      <td>...</td>\n",
       "      <td>...</td>\n",
       "      <td>...</td>\n",
       "      <td>...</td>\n",
       "      <td>...</td>\n",
       "      <td>...</td>\n",
       "    </tr>\n",
       "    <tr>\n",
       "      <td>135634</td>\n",
       "      <td>2020-05-13 23:56:39</td>\n",
       "      <td>building</td>\n",
       "      <td>spaceport</td>\n",
       "      <td>cafd1b8b-507b-49ae-abf0-89fe863a8b03</td>\n",
       "      <td>NaN</td>\n",
       "      <td>2020-05-13</td>\n",
       "      <td>20</td>\n",
       "      <td>2020-05-11</td>\n",
       "      <td>2020-05-10</td>\n",
       "    </tr>\n",
       "    <tr>\n",
       "      <td>135635</td>\n",
       "      <td>2020-05-18 00:23:28</td>\n",
       "      <td>building</td>\n",
       "      <td>spaceport</td>\n",
       "      <td>cafd1b8b-507b-49ae-abf0-89fe863a8b03</td>\n",
       "      <td>NaN</td>\n",
       "      <td>2020-05-18</td>\n",
       "      <td>21</td>\n",
       "      <td>2020-05-18</td>\n",
       "      <td>2020-05-10</td>\n",
       "    </tr>\n",
       "    <tr>\n",
       "      <td>135636</td>\n",
       "      <td>2020-05-10 23:59:52</td>\n",
       "      <td>building</td>\n",
       "      <td>assembly_shop</td>\n",
       "      <td>bdc53e19-462a-4dc3-8b55-b4a34278af6a</td>\n",
       "      <td>NaN</td>\n",
       "      <td>2020-05-10</td>\n",
       "      <td>19</td>\n",
       "      <td>2020-05-04</td>\n",
       "      <td>2020-05-10</td>\n",
       "    </tr>\n",
       "    <tr>\n",
       "      <td>135637</td>\n",
       "      <td>2020-05-13 08:11:19</td>\n",
       "      <td>building</td>\n",
       "      <td>spaceport</td>\n",
       "      <td>bdc53e19-462a-4dc3-8b55-b4a34278af6a</td>\n",
       "      <td>NaN</td>\n",
       "      <td>2020-05-13</td>\n",
       "      <td>20</td>\n",
       "      <td>2020-05-11</td>\n",
       "      <td>2020-05-10</td>\n",
       "    </tr>\n",
       "    <tr>\n",
       "      <td>135638</td>\n",
       "      <td>2020-05-18 11:11:11</td>\n",
       "      <td>building</td>\n",
       "      <td>spaceport</td>\n",
       "      <td>bdc53e19-462a-4dc3-8b55-b4a34278af6a</td>\n",
       "      <td>NaN</td>\n",
       "      <td>2020-05-18</td>\n",
       "      <td>21</td>\n",
       "      <td>2020-05-18</td>\n",
       "      <td>2020-05-10</td>\n",
       "    </tr>\n",
       "  </tbody>\n",
       "</table>\n",
       "<p>135639 rows × 9 columns</p>\n",
       "</div>"
      ],
      "text/plain": [
       "            event_datetime     event  building_type  \\\n",
       "0      2020-05-04 00:00:01  building  assembly_shop   \n",
       "1      2020-05-05 05:20:15  building  assembly_shop   \n",
       "2      2020-05-05 19:24:02  building  assembly_shop   \n",
       "3      2020-05-05 20:59:19  building  assembly_shop   \n",
       "4      2020-05-06 00:52:56  building  assembly_shop   \n",
       "...                    ...       ...            ...   \n",
       "135634 2020-05-13 23:56:39  building      spaceport   \n",
       "135635 2020-05-18 00:23:28  building      spaceport   \n",
       "135636 2020-05-10 23:59:52  building  assembly_shop   \n",
       "135637 2020-05-13 08:11:19  building      spaceport   \n",
       "135638 2020-05-18 11:11:11  building      spaceport   \n",
       "\n",
       "                                     user_id project_type        date  week  \\\n",
       "0       55e92310-cb8e-4754-b622-597e124b03de          NaN  2020-05-04    19   \n",
       "1       55e92310-cb8e-4754-b622-597e124b03de          NaN  2020-05-05    19   \n",
       "2       55e92310-cb8e-4754-b622-597e124b03de          NaN  2020-05-05    19   \n",
       "3       55e92310-cb8e-4754-b622-597e124b03de          NaN  2020-05-05    19   \n",
       "4       55e92310-cb8e-4754-b622-597e124b03de          NaN  2020-05-06    19   \n",
       "...                                      ...          ...         ...   ...   \n",
       "135634  cafd1b8b-507b-49ae-abf0-89fe863a8b03          NaN  2020-05-13    20   \n",
       "135635  cafd1b8b-507b-49ae-abf0-89fe863a8b03          NaN  2020-05-18    21   \n",
       "135636  bdc53e19-462a-4dc3-8b55-b4a34278af6a          NaN  2020-05-10    19   \n",
       "135637  bdc53e19-462a-4dc3-8b55-b4a34278af6a          NaN  2020-05-13    20   \n",
       "135638  bdc53e19-462a-4dc3-8b55-b4a34278af6a          NaN  2020-05-18    21   \n",
       "\n",
       "       begin_of_week first_visit_date  \n",
       "0         2020-05-04       2020-05-04  \n",
       "1         2020-05-04       2020-05-04  \n",
       "2         2020-05-04       2020-05-04  \n",
       "3         2020-05-04       2020-05-04  \n",
       "4         2020-05-04       2020-05-04  \n",
       "...              ...              ...  \n",
       "135634    2020-05-11       2020-05-10  \n",
       "135635    2020-05-18       2020-05-10  \n",
       "135636    2020-05-04       2020-05-10  \n",
       "135637    2020-05-11       2020-05-10  \n",
       "135638    2020-05-18       2020-05-10  \n",
       "\n",
       "[135639 rows x 9 columns]"
      ]
     },
     "execution_count": 56,
     "metadata": {},
     "output_type": "execute_result"
    }
   ],
   "source": [
    "# Найдем дату первого входа в игру и отобразим в датасете\n",
    "first_visit_date_by_customers = ga.groupby('user_id')['date'].min().reset_index()\n",
    "first_visit_date_by_customers.columns = ['user_id', 'first_visit_date']\n",
    "ga = ga.merge(first_visit_date_by_customers, on='user_id')\n",
    "ga\n"
   ]
  },
  {
   "cell_type": "code",
   "execution_count": 57,
   "metadata": {},
   "outputs": [
    {
     "data": {
      "text/html": [
       "<div>\n",
       "<style scoped>\n",
       "    .dataframe tbody tr th:only-of-type {\n",
       "        vertical-align: middle;\n",
       "    }\n",
       "\n",
       "    .dataframe tbody tr th {\n",
       "        vertical-align: top;\n",
       "    }\n",
       "\n",
       "    .dataframe thead th {\n",
       "        text-align: right;\n",
       "    }\n",
       "</style>\n",
       "<table border=\"1\" class=\"dataframe\">\n",
       "  <thead>\n",
       "    <tr style=\"text-align: right;\">\n",
       "      <th></th>\n",
       "      <th>event_datetime</th>\n",
       "      <th>event</th>\n",
       "      <th>building_type</th>\n",
       "      <th>user_id</th>\n",
       "      <th>project_type</th>\n",
       "      <th>date</th>\n",
       "      <th>week</th>\n",
       "      <th>begin_of_week</th>\n",
       "      <th>first_visit_date</th>\n",
       "      <th>progress_time</th>\n",
       "    </tr>\n",
       "  </thead>\n",
       "  <tbody>\n",
       "    <tr>\n",
       "      <td>0</td>\n",
       "      <td>2020-05-04 00:00:01</td>\n",
       "      <td>building</td>\n",
       "      <td>assembly_shop</td>\n",
       "      <td>55e92310-cb8e-4754-b622-597e124b03de</td>\n",
       "      <td>NaN</td>\n",
       "      <td>2020-05-04</td>\n",
       "      <td>19</td>\n",
       "      <td>2020-05-04</td>\n",
       "      <td>2020-05-04</td>\n",
       "      <td>0 days</td>\n",
       "    </tr>\n",
       "    <tr>\n",
       "      <td>1</td>\n",
       "      <td>2020-05-05 05:20:15</td>\n",
       "      <td>building</td>\n",
       "      <td>assembly_shop</td>\n",
       "      <td>55e92310-cb8e-4754-b622-597e124b03de</td>\n",
       "      <td>NaN</td>\n",
       "      <td>2020-05-05</td>\n",
       "      <td>19</td>\n",
       "      <td>2020-05-04</td>\n",
       "      <td>2020-05-04</td>\n",
       "      <td>1 days</td>\n",
       "    </tr>\n",
       "    <tr>\n",
       "      <td>2</td>\n",
       "      <td>2020-05-05 19:24:02</td>\n",
       "      <td>building</td>\n",
       "      <td>assembly_shop</td>\n",
       "      <td>55e92310-cb8e-4754-b622-597e124b03de</td>\n",
       "      <td>NaN</td>\n",
       "      <td>2020-05-05</td>\n",
       "      <td>19</td>\n",
       "      <td>2020-05-04</td>\n",
       "      <td>2020-05-04</td>\n",
       "      <td>1 days</td>\n",
       "    </tr>\n",
       "    <tr>\n",
       "      <td>3</td>\n",
       "      <td>2020-05-05 20:59:19</td>\n",
       "      <td>building</td>\n",
       "      <td>assembly_shop</td>\n",
       "      <td>55e92310-cb8e-4754-b622-597e124b03de</td>\n",
       "      <td>NaN</td>\n",
       "      <td>2020-05-05</td>\n",
       "      <td>19</td>\n",
       "      <td>2020-05-04</td>\n",
       "      <td>2020-05-04</td>\n",
       "      <td>1 days</td>\n",
       "    </tr>\n",
       "    <tr>\n",
       "      <td>4</td>\n",
       "      <td>2020-05-06 00:52:56</td>\n",
       "      <td>building</td>\n",
       "      <td>assembly_shop</td>\n",
       "      <td>55e92310-cb8e-4754-b622-597e124b03de</td>\n",
       "      <td>NaN</td>\n",
       "      <td>2020-05-06</td>\n",
       "      <td>19</td>\n",
       "      <td>2020-05-04</td>\n",
       "      <td>2020-05-04</td>\n",
       "      <td>2 days</td>\n",
       "    </tr>\n",
       "    <tr>\n",
       "      <td>...</td>\n",
       "      <td>...</td>\n",
       "      <td>...</td>\n",
       "      <td>...</td>\n",
       "      <td>...</td>\n",
       "      <td>...</td>\n",
       "      <td>...</td>\n",
       "      <td>...</td>\n",
       "      <td>...</td>\n",
       "      <td>...</td>\n",
       "      <td>...</td>\n",
       "    </tr>\n",
       "    <tr>\n",
       "      <td>135634</td>\n",
       "      <td>2020-05-13 23:56:39</td>\n",
       "      <td>building</td>\n",
       "      <td>spaceport</td>\n",
       "      <td>cafd1b8b-507b-49ae-abf0-89fe863a8b03</td>\n",
       "      <td>NaN</td>\n",
       "      <td>2020-05-13</td>\n",
       "      <td>20</td>\n",
       "      <td>2020-05-11</td>\n",
       "      <td>2020-05-10</td>\n",
       "      <td>3 days</td>\n",
       "    </tr>\n",
       "    <tr>\n",
       "      <td>135635</td>\n",
       "      <td>2020-05-18 00:23:28</td>\n",
       "      <td>building</td>\n",
       "      <td>spaceport</td>\n",
       "      <td>cafd1b8b-507b-49ae-abf0-89fe863a8b03</td>\n",
       "      <td>NaN</td>\n",
       "      <td>2020-05-18</td>\n",
       "      <td>21</td>\n",
       "      <td>2020-05-18</td>\n",
       "      <td>2020-05-10</td>\n",
       "      <td>8 days</td>\n",
       "    </tr>\n",
       "    <tr>\n",
       "      <td>135636</td>\n",
       "      <td>2020-05-10 23:59:52</td>\n",
       "      <td>building</td>\n",
       "      <td>assembly_shop</td>\n",
       "      <td>bdc53e19-462a-4dc3-8b55-b4a34278af6a</td>\n",
       "      <td>NaN</td>\n",
       "      <td>2020-05-10</td>\n",
       "      <td>19</td>\n",
       "      <td>2020-05-04</td>\n",
       "      <td>2020-05-10</td>\n",
       "      <td>0 days</td>\n",
       "    </tr>\n",
       "    <tr>\n",
       "      <td>135637</td>\n",
       "      <td>2020-05-13 08:11:19</td>\n",
       "      <td>building</td>\n",
       "      <td>spaceport</td>\n",
       "      <td>bdc53e19-462a-4dc3-8b55-b4a34278af6a</td>\n",
       "      <td>NaN</td>\n",
       "      <td>2020-05-13</td>\n",
       "      <td>20</td>\n",
       "      <td>2020-05-11</td>\n",
       "      <td>2020-05-10</td>\n",
       "      <td>3 days</td>\n",
       "    </tr>\n",
       "    <tr>\n",
       "      <td>135638</td>\n",
       "      <td>2020-05-18 11:11:11</td>\n",
       "      <td>building</td>\n",
       "      <td>spaceport</td>\n",
       "      <td>bdc53e19-462a-4dc3-8b55-b4a34278af6a</td>\n",
       "      <td>NaN</td>\n",
       "      <td>2020-05-18</td>\n",
       "      <td>21</td>\n",
       "      <td>2020-05-18</td>\n",
       "      <td>2020-05-10</td>\n",
       "      <td>8 days</td>\n",
       "    </tr>\n",
       "  </tbody>\n",
       "</table>\n",
       "<p>135639 rows × 10 columns</p>\n",
       "</div>"
      ],
      "text/plain": [
       "            event_datetime     event  building_type  \\\n",
       "0      2020-05-04 00:00:01  building  assembly_shop   \n",
       "1      2020-05-05 05:20:15  building  assembly_shop   \n",
       "2      2020-05-05 19:24:02  building  assembly_shop   \n",
       "3      2020-05-05 20:59:19  building  assembly_shop   \n",
       "4      2020-05-06 00:52:56  building  assembly_shop   \n",
       "...                    ...       ...            ...   \n",
       "135634 2020-05-13 23:56:39  building      spaceport   \n",
       "135635 2020-05-18 00:23:28  building      spaceport   \n",
       "135636 2020-05-10 23:59:52  building  assembly_shop   \n",
       "135637 2020-05-13 08:11:19  building      spaceport   \n",
       "135638 2020-05-18 11:11:11  building      spaceport   \n",
       "\n",
       "                                     user_id project_type        date  week  \\\n",
       "0       55e92310-cb8e-4754-b622-597e124b03de          NaN  2020-05-04    19   \n",
       "1       55e92310-cb8e-4754-b622-597e124b03de          NaN  2020-05-05    19   \n",
       "2       55e92310-cb8e-4754-b622-597e124b03de          NaN  2020-05-05    19   \n",
       "3       55e92310-cb8e-4754-b622-597e124b03de          NaN  2020-05-05    19   \n",
       "4       55e92310-cb8e-4754-b622-597e124b03de          NaN  2020-05-06    19   \n",
       "...                                      ...          ...         ...   ...   \n",
       "135634  cafd1b8b-507b-49ae-abf0-89fe863a8b03          NaN  2020-05-13    20   \n",
       "135635  cafd1b8b-507b-49ae-abf0-89fe863a8b03          NaN  2020-05-18    21   \n",
       "135636  bdc53e19-462a-4dc3-8b55-b4a34278af6a          NaN  2020-05-10    19   \n",
       "135637  bdc53e19-462a-4dc3-8b55-b4a34278af6a          NaN  2020-05-13    20   \n",
       "135638  bdc53e19-462a-4dc3-8b55-b4a34278af6a          NaN  2020-05-18    21   \n",
       "\n",
       "       begin_of_week first_visit_date progress_time  \n",
       "0         2020-05-04       2020-05-04        0 days  \n",
       "1         2020-05-04       2020-05-04        1 days  \n",
       "2         2020-05-04       2020-05-04        1 days  \n",
       "3         2020-05-04       2020-05-04        1 days  \n",
       "4         2020-05-04       2020-05-04        2 days  \n",
       "...              ...              ...           ...  \n",
       "135634    2020-05-11       2020-05-10        3 days  \n",
       "135635    2020-05-18       2020-05-10        8 days  \n",
       "135636    2020-05-04       2020-05-10        0 days  \n",
       "135637    2020-05-11       2020-05-10        3 days  \n",
       "135638    2020-05-18       2020-05-10        8 days  \n",
       "\n",
       "[135639 rows x 10 columns]"
      ]
     },
     "execution_count": 57,
     "metadata": {},
     "output_type": "execute_result"
    }
   ],
   "source": [
    "# Плсчитаем время прохождения игры для каждого пользователя\n",
    "ga['progress_time'] = ga['date'] - ga['first_visit_date']\n",
    "ga"
   ]
  },
  {
   "cell_type": "code",
   "execution_count": 58,
   "metadata": {},
   "outputs": [],
   "source": [
    "# создадим срез по игрокам, прошедшим первый уровень\n",
    "ga_winners = ga.query('event == \"finished_stage_1\"')"
   ]
  },
  {
   "cell_type": "code",
   "execution_count": 59,
   "metadata": {},
   "outputs": [
    {
     "name": "stderr",
     "output_type": "stream",
     "text": [
      "C:\\Users\\ko66k\\.conda\\envs\\practicum\\lib\\site-packages\\ipykernel_launcher.py:2: SettingWithCopyWarning: \n",
      "A value is trying to be set on a copy of a slice from a DataFrame.\n",
      "Try using .loc[row_indexer,col_indexer] = value instead\n",
      "\n",
      "See the caveats in the documentation: http://pandas.pydata.org/pandas-docs/stable/user_guide/indexing.html#returning-a-view-versus-a-copy\n",
      "  \n"
     ]
    }
   ],
   "source": [
    "# приведем timedelta к целочисленному формату данных\n",
    "ga_winners['progress_time'] = pd.to_numeric(ga_winners['progress_time'].dt.days, downcast='integer')"
   ]
  },
  {
   "cell_type": "code",
   "execution_count": 60,
   "metadata": {},
   "outputs": [
    {
     "data": {
      "image/png": "[encoded data removed]",
      "text/plain": [
       "<Figure size 432x288 with 1 Axes>"
      ]
     },
     "metadata": {
      "needs_background": "light"
     },
     "output_type": "display_data"
    }
   ],
   "source": [
    "# Построим гистограмму распределений сессий на пользователя в день\n",
    "sns.histplot(ga_winners, x=\"progress_time\")\n",
    "plt.title('График распределения времени прохождения игры');"
   ]
  },
  {
   "cell_type": "code",
   "execution_count": 61,
   "metadata": {},
   "outputs": [
    {
     "data": {
      "text/plain": [
       "count    5817.000000\n",
       "mean       11.808492\n",
       "std         4.076062\n",
       "min         0.000000\n",
       "25%         9.000000\n",
       "50%        12.000000\n",
       "75%        14.000000\n",
       "max        31.000000\n",
       "Name: progress_time, dtype: float64"
      ]
     },
     "execution_count": 61,
     "metadata": {},
     "output_type": "execute_result"
    }
   ],
   "source": [
    "ga_winners['progress_time'].describe()"
   ]
  },
  {
   "cell_type": "markdown",
   "metadata": {},
   "source": [
    "Среднее время прохождения игры 12 дней, основная масса пользователей проходит игру от 9 до 14 дней."
   ]
  },
  {
   "cell_type": "markdown",
   "metadata": {},
   "source": [
    "### 7.7 Стратегии игры"
   ]
  },
  {
   "cell_type": "markdown",
   "metadata": {},
   "source": [
    "В игре есть две возможности для прохождения уровня:\n",
    "\n",
    "1. Победа над первым врагом\n",
    "2. Реализация проекта - разработка орбитальной сборки спутников\n"
   ]
  },
  {
   "cell_type": "markdown",
   "metadata": {},
   "source": [
    "Промаркируем наших пользователей в зависимости от стратегии:\n",
    " 1. warrior\n",
    " 2. builder"
   ]
  },
  {
   "cell_type": "code",
   "execution_count": 62,
   "metadata": {},
   "outputs": [],
   "source": [
    "ga_project = ga.query('event ==\"finished_stage_1\" or event ==\"project\"')"
   ]
  },
  {
   "cell_type": "code",
   "execution_count": 63,
   "metadata": {},
   "outputs": [
    {
     "data": {
      "text/plain": [
       "building            127956\n",
       "finished_stage_1      5817\n",
       "project               1866\n",
       "Name: event, dtype: int64"
      ]
     },
     "execution_count": 63,
     "metadata": {},
     "output_type": "execute_result"
    }
   ],
   "source": [
    "ga['event'].value_counts()"
   ]
  },
  {
   "cell_type": "code",
   "execution_count": 64,
   "metadata": {},
   "outputs": [
    {
     "data": {
      "text/html": [
       "<div>\n",
       "<style scoped>\n",
       "    .dataframe tbody tr th:only-of-type {\n",
       "        vertical-align: middle;\n",
       "    }\n",
       "\n",
       "    .dataframe tbody tr th {\n",
       "        vertical-align: top;\n",
       "    }\n",
       "\n",
       "    .dataframe thead th {\n",
       "        text-align: right;\n",
       "    }\n",
       "</style>\n",
       "<table border=\"1\" class=\"dataframe\">\n",
       "  <thead>\n",
       "    <tr style=\"text-align: right;\">\n",
       "      <th></th>\n",
       "      <th>event_datetime</th>\n",
       "      <th>event</th>\n",
       "      <th>building_type</th>\n",
       "      <th>user_id</th>\n",
       "      <th>project_type</th>\n",
       "      <th>date</th>\n",
       "      <th>week</th>\n",
       "      <th>begin_of_week</th>\n",
       "      <th>first_visit_date</th>\n",
       "      <th>progress_time</th>\n",
       "    </tr>\n",
       "  </thead>\n",
       "  <tbody>\n",
       "    <tr>\n",
       "      <td>17</td>\n",
       "      <td>2020-05-13 06:53:03</td>\n",
       "      <td>project</td>\n",
       "      <td>NaN</td>\n",
       "      <td>c07b1c10-f477-44dc-81dc-ec82254b1347</td>\n",
       "      <td>satellite_orbital_assembly</td>\n",
       "      <td>2020-05-13</td>\n",
       "      <td>20</td>\n",
       "      <td>2020-05-11</td>\n",
       "      <td>2020-05-04</td>\n",
       "      <td>9 days</td>\n",
       "    </tr>\n",
       "    <tr>\n",
       "      <td>19</td>\n",
       "      <td>2020-05-15 05:29:13</td>\n",
       "      <td>finished_stage_1</td>\n",
       "      <td>NaN</td>\n",
       "      <td>c07b1c10-f477-44dc-81dc-ec82254b1347</td>\n",
       "      <td>NaN</td>\n",
       "      <td>2020-05-15</td>\n",
       "      <td>20</td>\n",
       "      <td>2020-05-11</td>\n",
       "      <td>2020-05-04</td>\n",
       "      <td>11 days</td>\n",
       "    </tr>\n",
       "    <tr>\n",
       "      <td>32</td>\n",
       "      <td>2020-05-16 11:51:58</td>\n",
       "      <td>finished_stage_1</td>\n",
       "      <td>NaN</td>\n",
       "      <td>6edd42cc-e753-4ff6-a947-2107cd560710</td>\n",
       "      <td>NaN</td>\n",
       "      <td>2020-05-16</td>\n",
       "      <td>20</td>\n",
       "      <td>2020-05-11</td>\n",
       "      <td>2020-05-04</td>\n",
       "      <td>12 days</td>\n",
       "    </tr>\n",
       "    <tr>\n",
       "      <td>49</td>\n",
       "      <td>2020-05-11 14:18:05</td>\n",
       "      <td>finished_stage_1</td>\n",
       "      <td>NaN</td>\n",
       "      <td>cdc6bb92-0ccb-4490-9866-ef142f09139d</td>\n",
       "      <td>NaN</td>\n",
       "      <td>2020-05-11</td>\n",
       "      <td>20</td>\n",
       "      <td>2020-05-11</td>\n",
       "      <td>2020-05-04</td>\n",
       "      <td>7 days</td>\n",
       "    </tr>\n",
       "    <tr>\n",
       "      <td>73</td>\n",
       "      <td>2020-05-16 13:08:11</td>\n",
       "      <td>finished_stage_1</td>\n",
       "      <td>NaN</td>\n",
       "      <td>4fe0f101-694b-4e31-9740-d1d87f7208ea</td>\n",
       "      <td>NaN</td>\n",
       "      <td>2020-05-16</td>\n",
       "      <td>20</td>\n",
       "      <td>2020-05-11</td>\n",
       "      <td>2020-05-04</td>\n",
       "      <td>12 days</td>\n",
       "    </tr>\n",
       "    <tr>\n",
       "      <td>...</td>\n",
       "      <td>...</td>\n",
       "      <td>...</td>\n",
       "      <td>...</td>\n",
       "      <td>...</td>\n",
       "      <td>...</td>\n",
       "      <td>...</td>\n",
       "      <td>...</td>\n",
       "      <td>...</td>\n",
       "      <td>...</td>\n",
       "      <td>...</td>\n",
       "    </tr>\n",
       "    <tr>\n",
       "      <td>135534</td>\n",
       "      <td>2020-05-27 07:48:56</td>\n",
       "      <td>finished_stage_1</td>\n",
       "      <td>NaN</td>\n",
       "      <td>825e727b-7847-4c5f-a26c-3ee0f18d8177</td>\n",
       "      <td>NaN</td>\n",
       "      <td>2020-05-27</td>\n",
       "      <td>22</td>\n",
       "      <td>2020-05-25</td>\n",
       "      <td>2020-05-10</td>\n",
       "      <td>17 days</td>\n",
       "    </tr>\n",
       "    <tr>\n",
       "      <td>135586</td>\n",
       "      <td>2020-06-01 18:23:39</td>\n",
       "      <td>project</td>\n",
       "      <td>NaN</td>\n",
       "      <td>637a8d39-3872-4549-80cc-bebee6c88056</td>\n",
       "      <td>satellite_orbital_assembly</td>\n",
       "      <td>2020-06-01</td>\n",
       "      <td>23</td>\n",
       "      <td>2020-06-01</td>\n",
       "      <td>2020-05-10</td>\n",
       "      <td>22 days</td>\n",
       "    </tr>\n",
       "    <tr>\n",
       "      <td>135587</td>\n",
       "      <td>2020-06-02 00:26:56</td>\n",
       "      <td>finished_stage_1</td>\n",
       "      <td>NaN</td>\n",
       "      <td>637a8d39-3872-4549-80cc-bebee6c88056</td>\n",
       "      <td>NaN</td>\n",
       "      <td>2020-06-02</td>\n",
       "      <td>23</td>\n",
       "      <td>2020-06-01</td>\n",
       "      <td>2020-05-10</td>\n",
       "      <td>23 days</td>\n",
       "    </tr>\n",
       "    <tr>\n",
       "      <td>135609</td>\n",
       "      <td>2020-05-26 15:15:19</td>\n",
       "      <td>finished_stage_1</td>\n",
       "      <td>NaN</td>\n",
       "      <td>0d37a895-ee0f-4e36-aadb-880cef670f0b</td>\n",
       "      <td>NaN</td>\n",
       "      <td>2020-05-26</td>\n",
       "      <td>22</td>\n",
       "      <td>2020-05-25</td>\n",
       "      <td>2020-05-10</td>\n",
       "      <td>16 days</td>\n",
       "    </tr>\n",
       "    <tr>\n",
       "      <td>135620</td>\n",
       "      <td>2020-05-31 10:28:30</td>\n",
       "      <td>finished_stage_1</td>\n",
       "      <td>NaN</td>\n",
       "      <td>20bc9d79-10c4-4f2d-862e-4a6dece3b4ec</td>\n",
       "      <td>NaN</td>\n",
       "      <td>2020-05-31</td>\n",
       "      <td>22</td>\n",
       "      <td>2020-05-25</td>\n",
       "      <td>2020-05-10</td>\n",
       "      <td>21 days</td>\n",
       "    </tr>\n",
       "  </tbody>\n",
       "</table>\n",
       "<p>7683 rows × 10 columns</p>\n",
       "</div>"
      ],
      "text/plain": [
       "            event_datetime             event building_type  \\\n",
       "17     2020-05-13 06:53:03           project           NaN   \n",
       "19     2020-05-15 05:29:13  finished_stage_1           NaN   \n",
       "32     2020-05-16 11:51:58  finished_stage_1           NaN   \n",
       "49     2020-05-11 14:18:05  finished_stage_1           NaN   \n",
       "73     2020-05-16 13:08:11  finished_stage_1           NaN   \n",
       "...                    ...               ...           ...   \n",
       "135534 2020-05-27 07:48:56  finished_stage_1           NaN   \n",
       "135586 2020-06-01 18:23:39           project           NaN   \n",
       "135587 2020-06-02 00:26:56  finished_stage_1           NaN   \n",
       "135609 2020-05-26 15:15:19  finished_stage_1           NaN   \n",
       "135620 2020-05-31 10:28:30  finished_stage_1           NaN   \n",
       "\n",
       "                                     user_id                project_type  \\\n",
       "17      c07b1c10-f477-44dc-81dc-ec82254b1347  satellite_orbital_assembly   \n",
       "19      c07b1c10-f477-44dc-81dc-ec82254b1347                         NaN   \n",
       "32      6edd42cc-e753-4ff6-a947-2107cd560710                         NaN   \n",
       "49      cdc6bb92-0ccb-4490-9866-ef142f09139d                         NaN   \n",
       "73      4fe0f101-694b-4e31-9740-d1d87f7208ea                         NaN   \n",
       "...                                      ...                         ...   \n",
       "135534  825e727b-7847-4c5f-a26c-3ee0f18d8177                         NaN   \n",
       "135586  637a8d39-3872-4549-80cc-bebee6c88056  satellite_orbital_assembly   \n",
       "135587  637a8d39-3872-4549-80cc-bebee6c88056                         NaN   \n",
       "135609  0d37a895-ee0f-4e36-aadb-880cef670f0b                         NaN   \n",
       "135620  20bc9d79-10c4-4f2d-862e-4a6dece3b4ec                         NaN   \n",
       "\n",
       "              date  week begin_of_week first_visit_date progress_time  \n",
       "17      2020-05-13    20    2020-05-11       2020-05-04        9 days  \n",
       "19      2020-05-15    20    2020-05-11       2020-05-04       11 days  \n",
       "32      2020-05-16    20    2020-05-11       2020-05-04       12 days  \n",
       "49      2020-05-11    20    2020-05-11       2020-05-04        7 days  \n",
       "73      2020-05-16    20    2020-05-11       2020-05-04       12 days  \n",
       "...            ...   ...           ...              ...           ...  \n",
       "135534  2020-05-27    22    2020-05-25       2020-05-10       17 days  \n",
       "135586  2020-06-01    23    2020-06-01       2020-05-10       22 days  \n",
       "135587  2020-06-02    23    2020-06-01       2020-05-10       23 days  \n",
       "135609  2020-05-26    22    2020-05-25       2020-05-10       16 days  \n",
       "135620  2020-05-31    22    2020-05-25       2020-05-10       21 days  \n",
       "\n",
       "[7683 rows x 10 columns]"
      ]
     },
     "execution_count": 64,
     "metadata": {},
     "output_type": "execute_result"
    }
   ],
   "source": [
    "ga_project"
   ]
  },
  {
   "cell_type": "code",
   "execution_count": 65,
   "metadata": {},
   "outputs": [
    {
     "data": {
      "text/html": [
       "<div>\n",
       "<style scoped>\n",
       "    .dataframe tbody tr th:only-of-type {\n",
       "        vertical-align: middle;\n",
       "    }\n",
       "\n",
       "    .dataframe tbody tr th {\n",
       "        vertical-align: top;\n",
       "    }\n",
       "\n",
       "    .dataframe thead th {\n",
       "        text-align: right;\n",
       "    }\n",
       "</style>\n",
       "<table border=\"1\" class=\"dataframe\">\n",
       "  <thead>\n",
       "    <tr style=\"text-align: right;\">\n",
       "      <th></th>\n",
       "      <th>user_id</th>\n",
       "      <th>n_event</th>\n",
       "    </tr>\n",
       "  </thead>\n",
       "  <tbody>\n",
       "    <tr>\n",
       "      <td>0</td>\n",
       "      <td>001d39dc-366c-4021-9604-6a3b9ff01e25</td>\n",
       "      <td>1</td>\n",
       "    </tr>\n",
       "    <tr>\n",
       "      <td>1</td>\n",
       "      <td>003ee7e8-6356-4286-a715-62f22a18d2a1</td>\n",
       "      <td>1</td>\n",
       "    </tr>\n",
       "    <tr>\n",
       "      <td>2</td>\n",
       "      <td>004074f8-251a-4776-922c-8348dca1a2f6</td>\n",
       "      <td>1</td>\n",
       "    </tr>\n",
       "    <tr>\n",
       "      <td>3</td>\n",
       "      <td>00464e5e-28ed-4be6-bf44-517ef7b3937b</td>\n",
       "      <td>1</td>\n",
       "    </tr>\n",
       "    <tr>\n",
       "      <td>4</td>\n",
       "      <td>0056c007-c082-43cc-bdef-afc49bca4cb9</td>\n",
       "      <td>1</td>\n",
       "    </tr>\n",
       "    <tr>\n",
       "      <td>...</td>\n",
       "      <td>...</td>\n",
       "      <td>...</td>\n",
       "    </tr>\n",
       "    <tr>\n",
       "      <td>5812</td>\n",
       "      <td>ffd002f3-3545-423e-8dba-0c6a2d48a3aa</td>\n",
       "      <td>1</td>\n",
       "    </tr>\n",
       "    <tr>\n",
       "      <td>5813</td>\n",
       "      <td>ffe810f4-1a1f-464b-924d-6f120b0cb8df</td>\n",
       "      <td>1</td>\n",
       "    </tr>\n",
       "    <tr>\n",
       "      <td>5814</td>\n",
       "      <td>ffef4fed-164c-40e1-bde1-3980f76d0fb5</td>\n",
       "      <td>1</td>\n",
       "    </tr>\n",
       "    <tr>\n",
       "      <td>5815</td>\n",
       "      <td>fffb626c-5ab6-47c9-8113-2062a2f18494</td>\n",
       "      <td>1</td>\n",
       "    </tr>\n",
       "    <tr>\n",
       "      <td>5816</td>\n",
       "      <td>ffff69cc-fec1-4fd3-9f98-93be1112a6b8</td>\n",
       "      <td>2</td>\n",
       "    </tr>\n",
       "  </tbody>\n",
       "</table>\n",
       "<p>5817 rows × 2 columns</p>\n",
       "</div>"
      ],
      "text/plain": [
       "                                   user_id  n_event\n",
       "0     001d39dc-366c-4021-9604-6a3b9ff01e25        1\n",
       "1     003ee7e8-6356-4286-a715-62f22a18d2a1        1\n",
       "2     004074f8-251a-4776-922c-8348dca1a2f6        1\n",
       "3     00464e5e-28ed-4be6-bf44-517ef7b3937b        1\n",
       "4     0056c007-c082-43cc-bdef-afc49bca4cb9        1\n",
       "...                                    ...      ...\n",
       "5812  ffd002f3-3545-423e-8dba-0c6a2d48a3aa        1\n",
       "5813  ffe810f4-1a1f-464b-924d-6f120b0cb8df        1\n",
       "5814  ffef4fed-164c-40e1-bde1-3980f76d0fb5        1\n",
       "5815  fffb626c-5ab6-47c9-8113-2062a2f18494        1\n",
       "5816  ffff69cc-fec1-4fd3-9f98-93be1112a6b8        2\n",
       "\n",
       "[5817 rows x 2 columns]"
      ]
     },
     "execution_count": 65,
     "metadata": {},
     "output_type": "execute_result"
    }
   ],
   "source": [
    "strategy_dict = ga_project.groupby('user_id')['event'].count().reset_index()\n",
    "strategy_dict.columns = ['user_id', 'n_event']\n",
    "strategy_dict"
   ]
  },
  {
   "cell_type": "code",
   "execution_count": 66,
   "metadata": {},
   "outputs": [],
   "source": [
    "# создадим функцию, определяющую стратегию игроков, в зависимости от количества событий у уникального пользователя\n",
    "def set_strategy(row):\n",
    "    if row[\"n_event\"] == 2:\n",
    "        return \"builder\"\n",
    "    else:\n",
    "        return \"warrior\""
   ]
  },
  {
   "cell_type": "code",
   "execution_count": 67,
   "metadata": {},
   "outputs": [
    {
     "data": {
      "text/html": [
       "<div>\n",
       "<style scoped>\n",
       "    .dataframe tbody tr th:only-of-type {\n",
       "        vertical-align: middle;\n",
       "    }\n",
       "\n",
       "    .dataframe tbody tr th {\n",
       "        vertical-align: top;\n",
       "    }\n",
       "\n",
       "    .dataframe thead th {\n",
       "        text-align: right;\n",
       "    }\n",
       "</style>\n",
       "<table border=\"1\" class=\"dataframe\">\n",
       "  <thead>\n",
       "    <tr style=\"text-align: right;\">\n",
       "      <th></th>\n",
       "      <th>user_id</th>\n",
       "      <th>n_event</th>\n",
       "      <th>strategy</th>\n",
       "    </tr>\n",
       "  </thead>\n",
       "  <tbody>\n",
       "    <tr>\n",
       "      <td>0</td>\n",
       "      <td>001d39dc-366c-4021-9604-6a3b9ff01e25</td>\n",
       "      <td>1</td>\n",
       "      <td>warrior</td>\n",
       "    </tr>\n",
       "    <tr>\n",
       "      <td>1</td>\n",
       "      <td>003ee7e8-6356-4286-a715-62f22a18d2a1</td>\n",
       "      <td>1</td>\n",
       "      <td>warrior</td>\n",
       "    </tr>\n",
       "    <tr>\n",
       "      <td>2</td>\n",
       "      <td>004074f8-251a-4776-922c-8348dca1a2f6</td>\n",
       "      <td>1</td>\n",
       "      <td>warrior</td>\n",
       "    </tr>\n",
       "    <tr>\n",
       "      <td>3</td>\n",
       "      <td>00464e5e-28ed-4be6-bf44-517ef7b3937b</td>\n",
       "      <td>1</td>\n",
       "      <td>warrior</td>\n",
       "    </tr>\n",
       "    <tr>\n",
       "      <td>4</td>\n",
       "      <td>0056c007-c082-43cc-bdef-afc49bca4cb9</td>\n",
       "      <td>1</td>\n",
       "      <td>warrior</td>\n",
       "    </tr>\n",
       "    <tr>\n",
       "      <td>...</td>\n",
       "      <td>...</td>\n",
       "      <td>...</td>\n",
       "      <td>...</td>\n",
       "    </tr>\n",
       "    <tr>\n",
       "      <td>5812</td>\n",
       "      <td>ffd002f3-3545-423e-8dba-0c6a2d48a3aa</td>\n",
       "      <td>1</td>\n",
       "      <td>warrior</td>\n",
       "    </tr>\n",
       "    <tr>\n",
       "      <td>5813</td>\n",
       "      <td>ffe810f4-1a1f-464b-924d-6f120b0cb8df</td>\n",
       "      <td>1</td>\n",
       "      <td>warrior</td>\n",
       "    </tr>\n",
       "    <tr>\n",
       "      <td>5814</td>\n",
       "      <td>ffef4fed-164c-40e1-bde1-3980f76d0fb5</td>\n",
       "      <td>1</td>\n",
       "      <td>warrior</td>\n",
       "    </tr>\n",
       "    <tr>\n",
       "      <td>5815</td>\n",
       "      <td>fffb626c-5ab6-47c9-8113-2062a2f18494</td>\n",
       "      <td>1</td>\n",
       "      <td>warrior</td>\n",
       "    </tr>\n",
       "    <tr>\n",
       "      <td>5816</td>\n",
       "      <td>ffff69cc-fec1-4fd3-9f98-93be1112a6b8</td>\n",
       "      <td>2</td>\n",
       "      <td>builder</td>\n",
       "    </tr>\n",
       "  </tbody>\n",
       "</table>\n",
       "<p>5817 rows × 3 columns</p>\n",
       "</div>"
      ],
      "text/plain": [
       "                                   user_id  n_event strategy\n",
       "0     001d39dc-366c-4021-9604-6a3b9ff01e25        1  warrior\n",
       "1     003ee7e8-6356-4286-a715-62f22a18d2a1        1  warrior\n",
       "2     004074f8-251a-4776-922c-8348dca1a2f6        1  warrior\n",
       "3     00464e5e-28ed-4be6-bf44-517ef7b3937b        1  warrior\n",
       "4     0056c007-c082-43cc-bdef-afc49bca4cb9        1  warrior\n",
       "...                                    ...      ...      ...\n",
       "5812  ffd002f3-3545-423e-8dba-0c6a2d48a3aa        1  warrior\n",
       "5813  ffe810f4-1a1f-464b-924d-6f120b0cb8df        1  warrior\n",
       "5814  ffef4fed-164c-40e1-bde1-3980f76d0fb5        1  warrior\n",
       "5815  fffb626c-5ab6-47c9-8113-2062a2f18494        1  warrior\n",
       "5816  ffff69cc-fec1-4fd3-9f98-93be1112a6b8        2  builder\n",
       "\n",
       "[5817 rows x 3 columns]"
      ]
     },
     "execution_count": 67,
     "metadata": {},
     "output_type": "execute_result"
    }
   ],
   "source": [
    "#применим функцию `set_strategy` и получим стратегический словарь из id пользователя и его стратегии\n",
    "strategy_dict = strategy_dict.assign(strategy=strategy_dict.apply(set_strategy, axis=1))\n",
    "strategy_dict"
   ]
  },
  {
   "cell_type": "code",
   "execution_count": 68,
   "metadata": {},
   "outputs": [
    {
     "data": {
      "text/html": [
       "<div>\n",
       "<style scoped>\n",
       "    .dataframe tbody tr th:only-of-type {\n",
       "        vertical-align: middle;\n",
       "    }\n",
       "\n",
       "    .dataframe tbody tr th {\n",
       "        vertical-align: top;\n",
       "    }\n",
       "\n",
       "    .dataframe thead th {\n",
       "        text-align: right;\n",
       "    }\n",
       "</style>\n",
       "<table border=\"1\" class=\"dataframe\">\n",
       "  <thead>\n",
       "    <tr style=\"text-align: right;\">\n",
       "      <th></th>\n",
       "      <th>event_datetime</th>\n",
       "      <th>event</th>\n",
       "      <th>building_type</th>\n",
       "      <th>user_id</th>\n",
       "      <th>project_type</th>\n",
       "      <th>date</th>\n",
       "      <th>week</th>\n",
       "      <th>begin_of_week</th>\n",
       "      <th>first_visit_date</th>\n",
       "      <th>progress_time</th>\n",
       "      <th>strategy</th>\n",
       "    </tr>\n",
       "  </thead>\n",
       "  <tbody>\n",
       "    <tr>\n",
       "      <td>0</td>\n",
       "      <td>2020-05-04 00:00:03</td>\n",
       "      <td>building</td>\n",
       "      <td>assembly_shop</td>\n",
       "      <td>c07b1c10-f477-44dc-81dc-ec82254b1347</td>\n",
       "      <td>NaN</td>\n",
       "      <td>2020-05-04</td>\n",
       "      <td>19</td>\n",
       "      <td>2020-05-04</td>\n",
       "      <td>2020-05-04</td>\n",
       "      <td>0 days</td>\n",
       "      <td>builder</td>\n",
       "    </tr>\n",
       "    <tr>\n",
       "      <td>1</td>\n",
       "      <td>2020-05-06 23:49:25</td>\n",
       "      <td>building</td>\n",
       "      <td>assembly_shop</td>\n",
       "      <td>c07b1c10-f477-44dc-81dc-ec82254b1347</td>\n",
       "      <td>NaN</td>\n",
       "      <td>2020-05-06</td>\n",
       "      <td>19</td>\n",
       "      <td>2020-05-04</td>\n",
       "      <td>2020-05-04</td>\n",
       "      <td>2 days</td>\n",
       "      <td>builder</td>\n",
       "    </tr>\n",
       "    <tr>\n",
       "      <td>2</td>\n",
       "      <td>2020-05-07 03:56:30</td>\n",
       "      <td>building</td>\n",
       "      <td>spaceport</td>\n",
       "      <td>c07b1c10-f477-44dc-81dc-ec82254b1347</td>\n",
       "      <td>NaN</td>\n",
       "      <td>2020-05-07</td>\n",
       "      <td>19</td>\n",
       "      <td>2020-05-04</td>\n",
       "      <td>2020-05-04</td>\n",
       "      <td>3 days</td>\n",
       "      <td>builder</td>\n",
       "    </tr>\n",
       "    <tr>\n",
       "      <td>3</td>\n",
       "      <td>2020-05-07 07:58:20</td>\n",
       "      <td>building</td>\n",
       "      <td>assembly_shop</td>\n",
       "      <td>c07b1c10-f477-44dc-81dc-ec82254b1347</td>\n",
       "      <td>NaN</td>\n",
       "      <td>2020-05-07</td>\n",
       "      <td>19</td>\n",
       "      <td>2020-05-04</td>\n",
       "      <td>2020-05-04</td>\n",
       "      <td>3 days</td>\n",
       "      <td>builder</td>\n",
       "    </tr>\n",
       "    <tr>\n",
       "      <td>4</td>\n",
       "      <td>2020-05-07 08:30:13</td>\n",
       "      <td>building</td>\n",
       "      <td>assembly_shop</td>\n",
       "      <td>c07b1c10-f477-44dc-81dc-ec82254b1347</td>\n",
       "      <td>NaN</td>\n",
       "      <td>2020-05-07</td>\n",
       "      <td>19</td>\n",
       "      <td>2020-05-04</td>\n",
       "      <td>2020-05-04</td>\n",
       "      <td>3 days</td>\n",
       "      <td>builder</td>\n",
       "    </tr>\n",
       "    <tr>\n",
       "      <td>...</td>\n",
       "      <td>...</td>\n",
       "      <td>...</td>\n",
       "      <td>...</td>\n",
       "      <td>...</td>\n",
       "      <td>...</td>\n",
       "      <td>...</td>\n",
       "      <td>...</td>\n",
       "      <td>...</td>\n",
       "      <td>...</td>\n",
       "      <td>...</td>\n",
       "      <td>...</td>\n",
       "    </tr>\n",
       "    <tr>\n",
       "      <td>68464</td>\n",
       "      <td>2020-05-17 04:55:13</td>\n",
       "      <td>building</td>\n",
       "      <td>spaceport</td>\n",
       "      <td>20bc9d79-10c4-4f2d-862e-4a6dece3b4ec</td>\n",
       "      <td>NaN</td>\n",
       "      <td>2020-05-17</td>\n",
       "      <td>20</td>\n",
       "      <td>2020-05-11</td>\n",
       "      <td>2020-05-10</td>\n",
       "      <td>7 days</td>\n",
       "      <td>warrior</td>\n",
       "    </tr>\n",
       "    <tr>\n",
       "      <td>68465</td>\n",
       "      <td>2020-05-23 00:23:04</td>\n",
       "      <td>building</td>\n",
       "      <td>spaceport</td>\n",
       "      <td>20bc9d79-10c4-4f2d-862e-4a6dece3b4ec</td>\n",
       "      <td>NaN</td>\n",
       "      <td>2020-05-23</td>\n",
       "      <td>21</td>\n",
       "      <td>2020-05-18</td>\n",
       "      <td>2020-05-10</td>\n",
       "      <td>13 days</td>\n",
       "      <td>warrior</td>\n",
       "    </tr>\n",
       "    <tr>\n",
       "      <td>68466</td>\n",
       "      <td>2020-05-26 14:36:17</td>\n",
       "      <td>building</td>\n",
       "      <td>spaceport</td>\n",
       "      <td>20bc9d79-10c4-4f2d-862e-4a6dece3b4ec</td>\n",
       "      <td>NaN</td>\n",
       "      <td>2020-05-26</td>\n",
       "      <td>22</td>\n",
       "      <td>2020-05-25</td>\n",
       "      <td>2020-05-10</td>\n",
       "      <td>16 days</td>\n",
       "      <td>warrior</td>\n",
       "    </tr>\n",
       "    <tr>\n",
       "      <td>68467</td>\n",
       "      <td>2020-05-30 16:04:33</td>\n",
       "      <td>building</td>\n",
       "      <td>spaceport</td>\n",
       "      <td>20bc9d79-10c4-4f2d-862e-4a6dece3b4ec</td>\n",
       "      <td>NaN</td>\n",
       "      <td>2020-05-30</td>\n",
       "      <td>22</td>\n",
       "      <td>2020-05-25</td>\n",
       "      <td>2020-05-10</td>\n",
       "      <td>20 days</td>\n",
       "      <td>warrior</td>\n",
       "    </tr>\n",
       "    <tr>\n",
       "      <td>68468</td>\n",
       "      <td>2020-05-31 10:28:30</td>\n",
       "      <td>finished_stage_1</td>\n",
       "      <td>NaN</td>\n",
       "      <td>20bc9d79-10c4-4f2d-862e-4a6dece3b4ec</td>\n",
       "      <td>NaN</td>\n",
       "      <td>2020-05-31</td>\n",
       "      <td>22</td>\n",
       "      <td>2020-05-25</td>\n",
       "      <td>2020-05-10</td>\n",
       "      <td>21 days</td>\n",
       "      <td>warrior</td>\n",
       "    </tr>\n",
       "  </tbody>\n",
       "</table>\n",
       "<p>68469 rows × 11 columns</p>\n",
       "</div>"
      ],
      "text/plain": [
       "           event_datetime             event  building_type  \\\n",
       "0     2020-05-04 00:00:03          building  assembly_shop   \n",
       "1     2020-05-06 23:49:25          building  assembly_shop   \n",
       "2     2020-05-07 03:56:30          building      spaceport   \n",
       "3     2020-05-07 07:58:20          building  assembly_shop   \n",
       "4     2020-05-07 08:30:13          building  assembly_shop   \n",
       "...                   ...               ...            ...   \n",
       "68464 2020-05-17 04:55:13          building      spaceport   \n",
       "68465 2020-05-23 00:23:04          building      spaceport   \n",
       "68466 2020-05-26 14:36:17          building      spaceport   \n",
       "68467 2020-05-30 16:04:33          building      spaceport   \n",
       "68468 2020-05-31 10:28:30  finished_stage_1            NaN   \n",
       "\n",
       "                                    user_id project_type        date  week  \\\n",
       "0      c07b1c10-f477-44dc-81dc-ec82254b1347          NaN  2020-05-04    19   \n",
       "1      c07b1c10-f477-44dc-81dc-ec82254b1347          NaN  2020-05-06    19   \n",
       "2      c07b1c10-f477-44dc-81dc-ec82254b1347          NaN  2020-05-07    19   \n",
       "3      c07b1c10-f477-44dc-81dc-ec82254b1347          NaN  2020-05-07    19   \n",
       "4      c07b1c10-f477-44dc-81dc-ec82254b1347          NaN  2020-05-07    19   \n",
       "...                                     ...          ...         ...   ...   \n",
       "68464  20bc9d79-10c4-4f2d-862e-4a6dece3b4ec          NaN  2020-05-17    20   \n",
       "68465  20bc9d79-10c4-4f2d-862e-4a6dece3b4ec          NaN  2020-05-23    21   \n",
       "68466  20bc9d79-10c4-4f2d-862e-4a6dece3b4ec          NaN  2020-05-26    22   \n",
       "68467  20bc9d79-10c4-4f2d-862e-4a6dece3b4ec          NaN  2020-05-30    22   \n",
       "68468  20bc9d79-10c4-4f2d-862e-4a6dece3b4ec          NaN  2020-05-31    22   \n",
       "\n",
       "      begin_of_week first_visit_date progress_time strategy  \n",
       "0        2020-05-04       2020-05-04        0 days  builder  \n",
       "1        2020-05-04       2020-05-04        2 days  builder  \n",
       "2        2020-05-04       2020-05-04        3 days  builder  \n",
       "3        2020-05-04       2020-05-04        3 days  builder  \n",
       "4        2020-05-04       2020-05-04        3 days  builder  \n",
       "...             ...              ...           ...      ...  \n",
       "68464    2020-05-11       2020-05-10        7 days  warrior  \n",
       "68465    2020-05-18       2020-05-10       13 days  warrior  \n",
       "68466    2020-05-25       2020-05-10       16 days  warrior  \n",
       "68467    2020-05-25       2020-05-10       20 days  warrior  \n",
       "68468    2020-05-25       2020-05-10       21 days  warrior  \n",
       "\n",
       "[68469 rows x 11 columns]"
      ]
     },
     "execution_count": 68,
     "metadata": {},
     "output_type": "execute_result"
    }
   ],
   "source": [
    "#соединим два датасета ga cо стратегическим словарем, и получим срез по выигравшим игрокам, с историей их действий\n",
    "ga_strategy = ga.merge(strategy_dict.drop('n_event', axis=1), on='user_id')\n",
    "ga_strategy"
   ]
  },
  {
   "cell_type": "code",
   "execution_count": 69,
   "metadata": {},
   "outputs": [],
   "source": [
    "ga_strategy['progress_time'] = pd.to_numeric(ga_strategy['progress_time'].dt.days, downcast='integer')"
   ]
  },
  {
   "cell_type": "code",
   "execution_count": 70,
   "metadata": {},
   "outputs": [
    {
     "data": {
      "text/plain": [
       "strategy\n",
       "builder    1866\n",
       "warrior    3951\n",
       "Name: user_id, dtype: int64"
      ]
     },
     "execution_count": 70,
     "metadata": {},
     "output_type": "execute_result"
    }
   ],
   "source": [
    "ga_strategy.groupby('strategy')['user_id'].nunique()"
   ]
  },
  {
   "cell_type": "code",
   "execution_count": 71,
   "metadata": {},
   "outputs": [
    {
     "data": {
      "text/html": [
       "<div>\n",
       "<style scoped>\n",
       "    .dataframe tbody tr th:only-of-type {\n",
       "        vertical-align: middle;\n",
       "    }\n",
       "\n",
       "    .dataframe tbody tr th {\n",
       "        vertical-align: top;\n",
       "    }\n",
       "\n",
       "    .dataframe thead th {\n",
       "        text-align: right;\n",
       "    }\n",
       "</style>\n",
       "<table border=\"1\" class=\"dataframe\">\n",
       "  <thead>\n",
       "    <tr style=\"text-align: right;\">\n",
       "      <th></th>\n",
       "      <th>event_datetime</th>\n",
       "      <th>event</th>\n",
       "      <th>building_type</th>\n",
       "      <th>user_id</th>\n",
       "      <th>project_type</th>\n",
       "      <th>date</th>\n",
       "      <th>week</th>\n",
       "      <th>begin_of_week</th>\n",
       "      <th>first_visit_date</th>\n",
       "      <th>progress_time</th>\n",
       "      <th>strategy</th>\n",
       "    </tr>\n",
       "  </thead>\n",
       "  <tbody>\n",
       "    <tr>\n",
       "      <td>0</td>\n",
       "      <td>2020-05-04 00:00:03</td>\n",
       "      <td>building</td>\n",
       "      <td>assembly_shop</td>\n",
       "      <td>c07b1c10-f477-44dc-81dc-ec82254b1347</td>\n",
       "      <td>NaN</td>\n",
       "      <td>2020-05-04</td>\n",
       "      <td>19</td>\n",
       "      <td>2020-05-04</td>\n",
       "      <td>2020-05-04</td>\n",
       "      <td>0</td>\n",
       "      <td>builder</td>\n",
       "    </tr>\n",
       "    <tr>\n",
       "      <td>1</td>\n",
       "      <td>2020-05-06 23:49:25</td>\n",
       "      <td>building</td>\n",
       "      <td>assembly_shop</td>\n",
       "      <td>c07b1c10-f477-44dc-81dc-ec82254b1347</td>\n",
       "      <td>NaN</td>\n",
       "      <td>2020-05-06</td>\n",
       "      <td>19</td>\n",
       "      <td>2020-05-04</td>\n",
       "      <td>2020-05-04</td>\n",
       "      <td>2</td>\n",
       "      <td>builder</td>\n",
       "    </tr>\n",
       "    <tr>\n",
       "      <td>2</td>\n",
       "      <td>2020-05-07 03:56:30</td>\n",
       "      <td>building</td>\n",
       "      <td>spaceport</td>\n",
       "      <td>c07b1c10-f477-44dc-81dc-ec82254b1347</td>\n",
       "      <td>NaN</td>\n",
       "      <td>2020-05-07</td>\n",
       "      <td>19</td>\n",
       "      <td>2020-05-04</td>\n",
       "      <td>2020-05-04</td>\n",
       "      <td>3</td>\n",
       "      <td>builder</td>\n",
       "    </tr>\n",
       "    <tr>\n",
       "      <td>3</td>\n",
       "      <td>2020-05-07 07:58:20</td>\n",
       "      <td>building</td>\n",
       "      <td>assembly_shop</td>\n",
       "      <td>c07b1c10-f477-44dc-81dc-ec82254b1347</td>\n",
       "      <td>NaN</td>\n",
       "      <td>2020-05-07</td>\n",
       "      <td>19</td>\n",
       "      <td>2020-05-04</td>\n",
       "      <td>2020-05-04</td>\n",
       "      <td>3</td>\n",
       "      <td>builder</td>\n",
       "    </tr>\n",
       "    <tr>\n",
       "      <td>4</td>\n",
       "      <td>2020-05-07 08:30:13</td>\n",
       "      <td>building</td>\n",
       "      <td>assembly_shop</td>\n",
       "      <td>c07b1c10-f477-44dc-81dc-ec82254b1347</td>\n",
       "      <td>NaN</td>\n",
       "      <td>2020-05-07</td>\n",
       "      <td>19</td>\n",
       "      <td>2020-05-04</td>\n",
       "      <td>2020-05-04</td>\n",
       "      <td>3</td>\n",
       "      <td>builder</td>\n",
       "    </tr>\n",
       "    <tr>\n",
       "      <td>...</td>\n",
       "      <td>...</td>\n",
       "      <td>...</td>\n",
       "      <td>...</td>\n",
       "      <td>...</td>\n",
       "      <td>...</td>\n",
       "      <td>...</td>\n",
       "      <td>...</td>\n",
       "      <td>...</td>\n",
       "      <td>...</td>\n",
       "      <td>...</td>\n",
       "      <td>...</td>\n",
       "    </tr>\n",
       "    <tr>\n",
       "      <td>68464</td>\n",
       "      <td>2020-05-17 04:55:13</td>\n",
       "      <td>building</td>\n",
       "      <td>spaceport</td>\n",
       "      <td>20bc9d79-10c4-4f2d-862e-4a6dece3b4ec</td>\n",
       "      <td>NaN</td>\n",
       "      <td>2020-05-17</td>\n",
       "      <td>20</td>\n",
       "      <td>2020-05-11</td>\n",
       "      <td>2020-05-10</td>\n",
       "      <td>7</td>\n",
       "      <td>warrior</td>\n",
       "    </tr>\n",
       "    <tr>\n",
       "      <td>68465</td>\n",
       "      <td>2020-05-23 00:23:04</td>\n",
       "      <td>building</td>\n",
       "      <td>spaceport</td>\n",
       "      <td>20bc9d79-10c4-4f2d-862e-4a6dece3b4ec</td>\n",
       "      <td>NaN</td>\n",
       "      <td>2020-05-23</td>\n",
       "      <td>21</td>\n",
       "      <td>2020-05-18</td>\n",
       "      <td>2020-05-10</td>\n",
       "      <td>13</td>\n",
       "      <td>warrior</td>\n",
       "    </tr>\n",
       "    <tr>\n",
       "      <td>68466</td>\n",
       "      <td>2020-05-26 14:36:17</td>\n",
       "      <td>building</td>\n",
       "      <td>spaceport</td>\n",
       "      <td>20bc9d79-10c4-4f2d-862e-4a6dece3b4ec</td>\n",
       "      <td>NaN</td>\n",
       "      <td>2020-05-26</td>\n",
       "      <td>22</td>\n",
       "      <td>2020-05-25</td>\n",
       "      <td>2020-05-10</td>\n",
       "      <td>16</td>\n",
       "      <td>warrior</td>\n",
       "    </tr>\n",
       "    <tr>\n",
       "      <td>68467</td>\n",
       "      <td>2020-05-30 16:04:33</td>\n",
       "      <td>building</td>\n",
       "      <td>spaceport</td>\n",
       "      <td>20bc9d79-10c4-4f2d-862e-4a6dece3b4ec</td>\n",
       "      <td>NaN</td>\n",
       "      <td>2020-05-30</td>\n",
       "      <td>22</td>\n",
       "      <td>2020-05-25</td>\n",
       "      <td>2020-05-10</td>\n",
       "      <td>20</td>\n",
       "      <td>warrior</td>\n",
       "    </tr>\n",
       "    <tr>\n",
       "      <td>68468</td>\n",
       "      <td>2020-05-31 10:28:30</td>\n",
       "      <td>finished_stage_1</td>\n",
       "      <td>NaN</td>\n",
       "      <td>20bc9d79-10c4-4f2d-862e-4a6dece3b4ec</td>\n",
       "      <td>NaN</td>\n",
       "      <td>2020-05-31</td>\n",
       "      <td>22</td>\n",
       "      <td>2020-05-25</td>\n",
       "      <td>2020-05-10</td>\n",
       "      <td>21</td>\n",
       "      <td>warrior</td>\n",
       "    </tr>\n",
       "  </tbody>\n",
       "</table>\n",
       "<p>68469 rows × 11 columns</p>\n",
       "</div>"
      ],
      "text/plain": [
       "           event_datetime             event  building_type  \\\n",
       "0     2020-05-04 00:00:03          building  assembly_shop   \n",
       "1     2020-05-06 23:49:25          building  assembly_shop   \n",
       "2     2020-05-07 03:56:30          building      spaceport   \n",
       "3     2020-05-07 07:58:20          building  assembly_shop   \n",
       "4     2020-05-07 08:30:13          building  assembly_shop   \n",
       "...                   ...               ...            ...   \n",
       "68464 2020-05-17 04:55:13          building      spaceport   \n",
       "68465 2020-05-23 00:23:04          building      spaceport   \n",
       "68466 2020-05-26 14:36:17          building      spaceport   \n",
       "68467 2020-05-30 16:04:33          building      spaceport   \n",
       "68468 2020-05-31 10:28:30  finished_stage_1            NaN   \n",
       "\n",
       "                                    user_id project_type        date  week  \\\n",
       "0      c07b1c10-f477-44dc-81dc-ec82254b1347          NaN  2020-05-04    19   \n",
       "1      c07b1c10-f477-44dc-81dc-ec82254b1347          NaN  2020-05-06    19   \n",
       "2      c07b1c10-f477-44dc-81dc-ec82254b1347          NaN  2020-05-07    19   \n",
       "3      c07b1c10-f477-44dc-81dc-ec82254b1347          NaN  2020-05-07    19   \n",
       "4      c07b1c10-f477-44dc-81dc-ec82254b1347          NaN  2020-05-07    19   \n",
       "...                                     ...          ...         ...   ...   \n",
       "68464  20bc9d79-10c4-4f2d-862e-4a6dece3b4ec          NaN  2020-05-17    20   \n",
       "68465  20bc9d79-10c4-4f2d-862e-4a6dece3b4ec          NaN  2020-05-23    21   \n",
       "68466  20bc9d79-10c4-4f2d-862e-4a6dece3b4ec          NaN  2020-05-26    22   \n",
       "68467  20bc9d79-10c4-4f2d-862e-4a6dece3b4ec          NaN  2020-05-30    22   \n",
       "68468  20bc9d79-10c4-4f2d-862e-4a6dece3b4ec          NaN  2020-05-31    22   \n",
       "\n",
       "      begin_of_week first_visit_date  progress_time strategy  \n",
       "0        2020-05-04       2020-05-04              0  builder  \n",
       "1        2020-05-04       2020-05-04              2  builder  \n",
       "2        2020-05-04       2020-05-04              3  builder  \n",
       "3        2020-05-04       2020-05-04              3  builder  \n",
       "4        2020-05-04       2020-05-04              3  builder  \n",
       "...             ...              ...            ...      ...  \n",
       "68464    2020-05-11       2020-05-10              7  warrior  \n",
       "68465    2020-05-18       2020-05-10             13  warrior  \n",
       "68466    2020-05-25       2020-05-10             16  warrior  \n",
       "68467    2020-05-25       2020-05-10             20  warrior  \n",
       "68468    2020-05-25       2020-05-10             21  warrior  \n",
       "\n",
       "[68469 rows x 11 columns]"
      ]
     },
     "execution_count": 71,
     "metadata": {},
     "output_type": "execute_result"
    }
   ],
   "source": [
    "ga_strategy"
   ]
  },
  {
   "cell_type": "code",
   "execution_count": 72,
   "metadata": {},
   "outputs": [
    {
     "data": {
      "text/plain": [
       "strategy\n",
       "builder    1866\n",
       "warrior    3951\n",
       "Name: user_id, dtype: int64"
      ]
     },
     "execution_count": 72,
     "metadata": {},
     "output_type": "execute_result"
    }
   ],
   "source": [
    "ga_strategy.groupby('strategy')['user_id'].nunique()"
   ]
  },
  {
   "cell_type": "code",
   "execution_count": 73,
   "metadata": {},
   "outputs": [
    {
     "data": {
      "image/png": "[encoded data removed]",
      "text/plain": [
       "<Figure size 432x288 with 1 Axes>"
      ]
     },
     "metadata": {
      "needs_background": "light"
     },
     "output_type": "display_data"
    }
   ],
   "source": [
    "ax = sns.countplot(x=\"strategy\", data=strategy_dict)\n",
    "\n",
    "total = strategy_dict['user_id'].nunique()\n",
    "for p in ax.patches:\n",
    "    percentage = '{:.1f}%'.format(100*p.get_height()/total)\n",
    "    x = p.get_x() + p.get_width()/2\n",
    "    y = p.get_height()\n",
    "    ax.annotate(percentage, (x, y), ha='center', va='bottom')\n",
    "    \n",
    "ax.set_title('График распределения игроков по стратегиям')\n",
    "ax.set_xlabel('Стратегия игрока')\n",
    "ax.set_ylabel('Количество');"
   ]
  },
  {
   "cell_type": "markdown",
   "metadata": {},
   "source": [
    "В результате, мы получили следующее разделение по стратегиям:\n",
    "1. Строители `builder` - 32.1% - 1866 игроков\n",
    "2. Войны `warrior`  - 67.9% - 3951 игроков"
   ]
  },
  {
   "cell_type": "markdown",
   "metadata": {},
   "source": [
    "### 7.8 Retention Rate по стратегиям"
   ]
  },
  {
   "cell_type": "markdown",
   "metadata": {},
   "source": [
    "Посчитаем retetion rate для войнов:"
   ]
  },
  {
   "cell_type": "code",
   "execution_count": 74,
   "metadata": {},
   "outputs": [
    {
     "data": {
      "text/html": [
       "<div>\n",
       "<style scoped>\n",
       "    .dataframe tbody tr th:only-of-type {\n",
       "        vertical-align: middle;\n",
       "    }\n",
       "\n",
       "    .dataframe tbody tr th {\n",
       "        vertical-align: top;\n",
       "    }\n",
       "\n",
       "    .dataframe thead th {\n",
       "        text-align: right;\n",
       "    }\n",
       "</style>\n",
       "<table border=\"1\" class=\"dataframe\">\n",
       "  <thead>\n",
       "    <tr style=\"text-align: right;\">\n",
       "      <th></th>\n",
       "      <th>week</th>\n",
       "      <th>n_users</th>\n",
       "      <th>retention</th>\n",
       "    </tr>\n",
       "  </thead>\n",
       "  <tbody>\n",
       "    <tr>\n",
       "      <td>0</td>\n",
       "      <td>19</td>\n",
       "      <td>3951</td>\n",
       "      <td>1.000000</td>\n",
       "    </tr>\n",
       "    <tr>\n",
       "      <td>1</td>\n",
       "      <td>20</td>\n",
       "      <td>3696</td>\n",
       "      <td>0.935459</td>\n",
       "    </tr>\n",
       "    <tr>\n",
       "      <td>2</td>\n",
       "      <td>21</td>\n",
       "      <td>1330</td>\n",
       "      <td>0.336624</td>\n",
       "    </tr>\n",
       "    <tr>\n",
       "      <td>3</td>\n",
       "      <td>22</td>\n",
       "      <td>168</td>\n",
       "      <td>0.042521</td>\n",
       "    </tr>\n",
       "    <tr>\n",
       "      <td>4</td>\n",
       "      <td>23</td>\n",
       "      <td>13</td>\n",
       "      <td>0.003290</td>\n",
       "    </tr>\n",
       "  </tbody>\n",
       "</table>\n",
       "</div>"
      ],
      "text/plain": [
       "   week  n_users  retention\n",
       "0    19     3951   1.000000\n",
       "1    20     3696   0.935459\n",
       "2    21     1330   0.336624\n",
       "3    22      168   0.042521\n",
       "4    23       13   0.003290"
      ]
     },
     "execution_count": 74,
     "metadata": {},
     "output_type": "execute_result"
    }
   ],
   "source": [
    "retention_war = ga_strategy.query('strategy == \"warrior\"').groupby('week')['user_id'].nunique().reset_index()\n",
    "retention_war.columns = ['week', 'n_users']\n",
    "retention_war['retention'] = retention_war['n_users'] / ga_strategy.query('strategy == \"warrior\"')['user_id'].nunique()\n",
    "retention_war"
   ]
  },
  {
   "cell_type": "markdown",
   "metadata": {},
   "source": [
    "Посчитаем retetion rate для строителей:"
   ]
  },
  {
   "cell_type": "code",
   "execution_count": 75,
   "metadata": {},
   "outputs": [
    {
     "data": {
      "text/html": [
       "<div>\n",
       "<style scoped>\n",
       "    .dataframe tbody tr th:only-of-type {\n",
       "        vertical-align: middle;\n",
       "    }\n",
       "\n",
       "    .dataframe tbody tr th {\n",
       "        vertical-align: top;\n",
       "    }\n",
       "\n",
       "    .dataframe thead th {\n",
       "        text-align: right;\n",
       "    }\n",
       "</style>\n",
       "<table border=\"1\" class=\"dataframe\">\n",
       "  <thead>\n",
       "    <tr style=\"text-align: right;\">\n",
       "      <th></th>\n",
       "      <th>week</th>\n",
       "      <th>n_users</th>\n",
       "      <th>retention</th>\n",
       "    </tr>\n",
       "  </thead>\n",
       "  <tbody>\n",
       "    <tr>\n",
       "      <td>0</td>\n",
       "      <td>19</td>\n",
       "      <td>1866</td>\n",
       "      <td>1.000000</td>\n",
       "    </tr>\n",
       "    <tr>\n",
       "      <td>1</td>\n",
       "      <td>20</td>\n",
       "      <td>1863</td>\n",
       "      <td>0.998392</td>\n",
       "    </tr>\n",
       "    <tr>\n",
       "      <td>2</td>\n",
       "      <td>21</td>\n",
       "      <td>982</td>\n",
       "      <td>0.526259</td>\n",
       "    </tr>\n",
       "    <tr>\n",
       "      <td>3</td>\n",
       "      <td>22</td>\n",
       "      <td>129</td>\n",
       "      <td>0.069132</td>\n",
       "    </tr>\n",
       "    <tr>\n",
       "      <td>4</td>\n",
       "      <td>23</td>\n",
       "      <td>10</td>\n",
       "      <td>0.005359</td>\n",
       "    </tr>\n",
       "  </tbody>\n",
       "</table>\n",
       "</div>"
      ],
      "text/plain": [
       "   week  n_users  retention\n",
       "0    19     1866   1.000000\n",
       "1    20     1863   0.998392\n",
       "2    21      982   0.526259\n",
       "3    22      129   0.069132\n",
       "4    23       10   0.005359"
      ]
     },
     "execution_count": 75,
     "metadata": {},
     "output_type": "execute_result"
    }
   ],
   "source": [
    "retention_bld = ga_strategy.query('strategy == \"builder\"').groupby('week')['user_id'].nunique().reset_index()\n",
    "retention_bld.columns = ['week', 'n_users']\n",
    "retention_bld['retention'] = retention_bld['n_users'] / ga_strategy.query('strategy == \"builder\"')['user_id'].nunique()\n",
    "retention_bld"
   ]
  },
  {
   "cell_type": "code",
   "execution_count": 76,
   "metadata": {},
   "outputs": [
    {
     "data": {
      "image/png": "[encoded data removed]",
      "text/plain": [
       "<Figure size 720x432 with 1 Axes>"
      ]
     },
     "metadata": {
      "needs_background": "light"
     },
     "output_type": "display_data"
    }
   ],
   "source": [
    "# Построим график изменения Retention rate по стратегиям в текущем периоде\n",
    "fig, ax = plt.subplots(figsize=(10, 6))\n",
    "sns.lineplot(data=retention_war, x = 'week', y = 'retention', label = 'warrior')\n",
    "sns.lineplot(data=retention_bld, x = 'week', y = 'retention', label = 'builder')\n",
    "ax.grid()\n",
    "plt.title('График изменения Retention rate по стратегиям в текущем периоде')\n",
    "plt.xlabel('Номер недели')\n",
    "plt.ylabel('Retention rate')\n",
    "plt.legend();"
   ]
  },
  {
   "cell_type": "markdown",
   "metadata": {},
   "source": [
    "Кривая графика RR для войнов лежит ниже кривой строителей. Это может означать:\n",
    "1. Войнам быстрее удается окончить уровень и им незачем больше возвращаться\n",
    "2. Строители в течение первой недели не уменьшили число игроков, видимо постройки зданий очень увлекательны."
   ]
  },
  {
   "cell_type": "markdown",
   "metadata": {},
   "source": [
    "### 7.9 Среднее время прохождения уровня по стратегиям"
   ]
  },
  {
   "cell_type": "code",
   "execution_count": 77,
   "metadata": {},
   "outputs": [
    {
     "data": {
      "image/png": "[encoded data removed]",
      "text/plain": [
       "<Figure size 720x576 with 1 Axes>"
      ]
     },
     "metadata": {
      "needs_background": "light"
     },
     "output_type": "display_data"
    }
   ],
   "source": [
    "# Построим гистограмму распределений времени прхождения игры\n",
    "\n",
    "fig, ax = plt.subplots(figsize=(10, 8))\n",
    "sns.histplot(ga_strategy.query('event ==\"finished_stage_1\"'), x=\"progress_time\", hue = 'strategy')\n",
    "plt.title('График распределения времени прохождения игры по стратегиям');"
   ]
  },
  {
   "cell_type": "code",
   "execution_count": 78,
   "metadata": {},
   "outputs": [
    {
     "data": {
      "text/plain": [
       "count    3951.000000\n",
       "mean       11.058466\n",
       "std         4.104875\n",
       "min         0.000000\n",
       "25%         8.000000\n",
       "50%        11.000000\n",
       "75%        13.000000\n",
       "max        31.000000\n",
       "Name: progress_time, dtype: float64"
      ]
     },
     "execution_count": 78,
     "metadata": {},
     "output_type": "execute_result"
    }
   ],
   "source": [
    "ga_strategy.query('event ==\"finished_stage_1\" and strategy == \"warrior\"')['progress_time'].describe()"
   ]
  },
  {
   "cell_type": "code",
   "execution_count": 79,
   "metadata": {},
   "outputs": [
    {
     "data": {
      "text/plain": [
       "count    1866.000000\n",
       "mean       13.396570\n",
       "std         3.522622\n",
       "min         5.000000\n",
       "25%        11.000000\n",
       "50%        13.000000\n",
       "75%        15.000000\n",
       "max        29.000000\n",
       "Name: progress_time, dtype: float64"
      ]
     },
     "execution_count": 79,
     "metadata": {},
     "output_type": "execute_result"
    }
   ],
   "source": [
    "ga_strategy.query('event ==\"finished_stage_1\" and strategy == \"builder\"')['progress_time'].describe()"
   ]
  },
  {
   "cell_type": "markdown",
   "metadata": {},
   "source": [
    "Среднее время прохождения уровня по стратегиям:\n",
    "Гистограмма войнов сдвинута влево относительно строителей, это значит, что строители проходят уровень медленнее на 2.5 дня.\n",
    "\n",
    "1. Строители `builder`:\n",
    "- Среднее время прохождения игры 13.5 дней, большая часть пользователей проходит игру от 11 до 15 дней.\n",
    "\n",
    "2. Войны `warrior`:\n",
    "- Среднее время прохождения игры 11 дней, большая часть пользователей проходит игру от 8 до 13 дней."
   ]
  },
  {
   "cell_type": "markdown",
   "metadata": {},
   "source": [
    "## 8. Маркетинг<a id=\"step8\"></a>"
   ]
  },
  {
   "cell_type": "markdown",
   "metadata": {},
   "source": [
    "### 8.1 Распределение затрат"
   ]
  },
  {
   "cell_type": "markdown",
   "metadata": {},
   "source": [
    "С 3го по 9 мая у нас есть датасет с затратами на рекламу."
   ]
  },
  {
   "cell_type": "code",
   "execution_count": 80,
   "metadata": {},
   "outputs": [
    {
     "data": {
      "text/html": [
       "<div>\n",
       "<style scoped>\n",
       "    .dataframe tbody tr th:only-of-type {\n",
       "        vertical-align: middle;\n",
       "    }\n",
       "\n",
       "    .dataframe tbody tr th {\n",
       "        vertical-align: top;\n",
       "    }\n",
       "\n",
       "    .dataframe thead th {\n",
       "        text-align: right;\n",
       "    }\n",
       "</style>\n",
       "<table border=\"1\" class=\"dataframe\">\n",
       "  <thead>\n",
       "    <tr style=\"text-align: right;\">\n",
       "      <th></th>\n",
       "      <th>source</th>\n",
       "      <th>day</th>\n",
       "      <th>cost</th>\n",
       "    </tr>\n",
       "  </thead>\n",
       "  <tbody>\n",
       "    <tr>\n",
       "      <td>0</td>\n",
       "      <td>facebook_ads</td>\n",
       "      <td>2020-05-03</td>\n",
       "      <td>935.88</td>\n",
       "    </tr>\n",
       "    <tr>\n",
       "      <td>1</td>\n",
       "      <td>facebook_ads</td>\n",
       "      <td>2020-05-04</td>\n",
       "      <td>548.35</td>\n",
       "    </tr>\n",
       "    <tr>\n",
       "      <td>2</td>\n",
       "      <td>facebook_ads</td>\n",
       "      <td>2020-05-05</td>\n",
       "      <td>260.19</td>\n",
       "    </tr>\n",
       "    <tr>\n",
       "      <td>3</td>\n",
       "      <td>facebook_ads</td>\n",
       "      <td>2020-05-06</td>\n",
       "      <td>177.98</td>\n",
       "    </tr>\n",
       "    <tr>\n",
       "      <td>4</td>\n",
       "      <td>facebook_ads</td>\n",
       "      <td>2020-05-07</td>\n",
       "      <td>111.77</td>\n",
       "    </tr>\n",
       "    <tr>\n",
       "      <td>5</td>\n",
       "      <td>facebook_ads</td>\n",
       "      <td>2020-05-08</td>\n",
       "      <td>68.01</td>\n",
       "    </tr>\n",
       "    <tr>\n",
       "      <td>6</td>\n",
       "      <td>facebook_ads</td>\n",
       "      <td>2020-05-09</td>\n",
       "      <td>38.72</td>\n",
       "    </tr>\n",
       "    <tr>\n",
       "      <td>7</td>\n",
       "      <td>instagram_new_adverts</td>\n",
       "      <td>2020-05-03</td>\n",
       "      <td>943.20</td>\n",
       "    </tr>\n",
       "    <tr>\n",
       "      <td>8</td>\n",
       "      <td>instagram_new_adverts</td>\n",
       "      <td>2020-05-04</td>\n",
       "      <td>502.93</td>\n",
       "    </tr>\n",
       "    <tr>\n",
       "      <td>9</td>\n",
       "      <td>instagram_new_adverts</td>\n",
       "      <td>2020-05-05</td>\n",
       "      <td>313.97</td>\n",
       "    </tr>\n",
       "    <tr>\n",
       "      <td>10</td>\n",
       "      <td>instagram_new_adverts</td>\n",
       "      <td>2020-05-06</td>\n",
       "      <td>173.07</td>\n",
       "    </tr>\n",
       "    <tr>\n",
       "      <td>11</td>\n",
       "      <td>instagram_new_adverts</td>\n",
       "      <td>2020-05-07</td>\n",
       "      <td>109.92</td>\n",
       "    </tr>\n",
       "    <tr>\n",
       "      <td>12</td>\n",
       "      <td>instagram_new_adverts</td>\n",
       "      <td>2020-05-08</td>\n",
       "      <td>71.58</td>\n",
       "    </tr>\n",
       "    <tr>\n",
       "      <td>13</td>\n",
       "      <td>instagram_new_adverts</td>\n",
       "      <td>2020-05-09</td>\n",
       "      <td>46.78</td>\n",
       "    </tr>\n",
       "    <tr>\n",
       "      <td>14</td>\n",
       "      <td>yandex_direct</td>\n",
       "      <td>2020-05-03</td>\n",
       "      <td>969.14</td>\n",
       "    </tr>\n",
       "    <tr>\n",
       "      <td>15</td>\n",
       "      <td>yandex_direct</td>\n",
       "      <td>2020-05-04</td>\n",
       "      <td>554.65</td>\n",
       "    </tr>\n",
       "    <tr>\n",
       "      <td>16</td>\n",
       "      <td>yandex_direct</td>\n",
       "      <td>2020-05-05</td>\n",
       "      <td>308.23</td>\n",
       "    </tr>\n",
       "    <tr>\n",
       "      <td>17</td>\n",
       "      <td>yandex_direct</td>\n",
       "      <td>2020-05-06</td>\n",
       "      <td>180.92</td>\n",
       "    </tr>\n",
       "    <tr>\n",
       "      <td>18</td>\n",
       "      <td>yandex_direct</td>\n",
       "      <td>2020-05-07</td>\n",
       "      <td>114.43</td>\n",
       "    </tr>\n",
       "    <tr>\n",
       "      <td>19</td>\n",
       "      <td>yandex_direct</td>\n",
       "      <td>2020-05-08</td>\n",
       "      <td>62.96</td>\n",
       "    </tr>\n",
       "    <tr>\n",
       "      <td>20</td>\n",
       "      <td>yandex_direct</td>\n",
       "      <td>2020-05-09</td>\n",
       "      <td>42.78</td>\n",
       "    </tr>\n",
       "    <tr>\n",
       "      <td>21</td>\n",
       "      <td>youtube_channel_reklama</td>\n",
       "      <td>2020-05-03</td>\n",
       "      <td>454.22</td>\n",
       "    </tr>\n",
       "    <tr>\n",
       "      <td>22</td>\n",
       "      <td>youtube_channel_reklama</td>\n",
       "      <td>2020-05-04</td>\n",
       "      <td>259.07</td>\n",
       "    </tr>\n",
       "    <tr>\n",
       "      <td>23</td>\n",
       "      <td>youtube_channel_reklama</td>\n",
       "      <td>2020-05-05</td>\n",
       "      <td>147.04</td>\n",
       "    </tr>\n",
       "    <tr>\n",
       "      <td>24</td>\n",
       "      <td>youtube_channel_reklama</td>\n",
       "      <td>2020-05-06</td>\n",
       "      <td>88.51</td>\n",
       "    </tr>\n",
       "    <tr>\n",
       "      <td>25</td>\n",
       "      <td>youtube_channel_reklama</td>\n",
       "      <td>2020-05-07</td>\n",
       "      <td>55.74</td>\n",
       "    </tr>\n",
       "    <tr>\n",
       "      <td>26</td>\n",
       "      <td>youtube_channel_reklama</td>\n",
       "      <td>2020-05-08</td>\n",
       "      <td>40.22</td>\n",
       "    </tr>\n",
       "    <tr>\n",
       "      <td>27</td>\n",
       "      <td>youtube_channel_reklama</td>\n",
       "      <td>2020-05-09</td>\n",
       "      <td>23.31</td>\n",
       "    </tr>\n",
       "  </tbody>\n",
       "</table>\n",
       "</div>"
      ],
      "text/plain": [
       "                     source        day    cost\n",
       "0              facebook_ads 2020-05-03  935.88\n",
       "1              facebook_ads 2020-05-04  548.35\n",
       "2              facebook_ads 2020-05-05  260.19\n",
       "3              facebook_ads 2020-05-06  177.98\n",
       "4              facebook_ads 2020-05-07  111.77\n",
       "5              facebook_ads 2020-05-08   68.01\n",
       "6              facebook_ads 2020-05-09   38.72\n",
       "7     instagram_new_adverts 2020-05-03  943.20\n",
       "8     instagram_new_adverts 2020-05-04  502.93\n",
       "9     instagram_new_adverts 2020-05-05  313.97\n",
       "10    instagram_new_adverts 2020-05-06  173.07\n",
       "11    instagram_new_adverts 2020-05-07  109.92\n",
       "12    instagram_new_adverts 2020-05-08   71.58\n",
       "13    instagram_new_adverts 2020-05-09   46.78\n",
       "14            yandex_direct 2020-05-03  969.14\n",
       "15            yandex_direct 2020-05-04  554.65\n",
       "16            yandex_direct 2020-05-05  308.23\n",
       "17            yandex_direct 2020-05-06  180.92\n",
       "18            yandex_direct 2020-05-07  114.43\n",
       "19            yandex_direct 2020-05-08   62.96\n",
       "20            yandex_direct 2020-05-09   42.78\n",
       "21  youtube_channel_reklama 2020-05-03  454.22\n",
       "22  youtube_channel_reklama 2020-05-04  259.07\n",
       "23  youtube_channel_reklama 2020-05-05  147.04\n",
       "24  youtube_channel_reklama 2020-05-06   88.51\n",
       "25  youtube_channel_reklama 2020-05-07   55.74\n",
       "26  youtube_channel_reklama 2020-05-08   40.22\n",
       "27  youtube_channel_reklama 2020-05-09   23.31"
      ]
     },
     "execution_count": 80,
     "metadata": {},
     "output_type": "execute_result"
    }
   ],
   "source": [
    "ad_cost"
   ]
  },
  {
   "cell_type": "markdown",
   "metadata": {},
   "source": [
    "Всего потратили на рекламу:"
   ]
  },
  {
   "cell_type": "code",
   "execution_count": 81,
   "metadata": {},
   "outputs": [
    {
     "data": {
      "text/plain": [
       "7603.57"
      ]
     },
     "execution_count": 81,
     "metadata": {},
     "output_type": "execute_result"
    }
   ],
   "source": [
    "ad_cost['cost'].sum()"
   ]
  },
  {
   "cell_type": "markdown",
   "metadata": {},
   "source": [
    "Всего потрачено на рекламу 7603.57 единиц"
   ]
  },
  {
   "cell_type": "markdown",
   "metadata": {},
   "source": [
    "Всего потратили по источникам:"
   ]
  },
  {
   "cell_type": "code",
   "execution_count": 82,
   "metadata": {},
   "outputs": [
    {
     "data": {
      "text/html": [
       "<div>\n",
       "<style scoped>\n",
       "    .dataframe tbody tr th:only-of-type {\n",
       "        vertical-align: middle;\n",
       "    }\n",
       "\n",
       "    .dataframe tbody tr th {\n",
       "        vertical-align: top;\n",
       "    }\n",
       "\n",
       "    .dataframe thead th {\n",
       "        text-align: right;\n",
       "    }\n",
       "</style>\n",
       "<table border=\"1\" class=\"dataframe\">\n",
       "  <thead>\n",
       "    <tr style=\"text-align: right;\">\n",
       "      <th></th>\n",
       "      <th>source</th>\n",
       "      <th>cost</th>\n",
       "      <th>pct</th>\n",
       "    </tr>\n",
       "  </thead>\n",
       "  <tbody>\n",
       "    <tr>\n",
       "      <td>2</td>\n",
       "      <td>yandex_direct</td>\n",
       "      <td>2233.11</td>\n",
       "      <td>29.369231</td>\n",
       "    </tr>\n",
       "    <tr>\n",
       "      <td>1</td>\n",
       "      <td>instagram_new_adverts</td>\n",
       "      <td>2161.45</td>\n",
       "      <td>28.426778</td>\n",
       "    </tr>\n",
       "    <tr>\n",
       "      <td>0</td>\n",
       "      <td>facebook_ads</td>\n",
       "      <td>2140.90</td>\n",
       "      <td>28.156511</td>\n",
       "    </tr>\n",
       "    <tr>\n",
       "      <td>3</td>\n",
       "      <td>youtube_channel_reklama</td>\n",
       "      <td>1068.11</td>\n",
       "      <td>14.047480</td>\n",
       "    </tr>\n",
       "  </tbody>\n",
       "</table>\n",
       "</div>"
      ],
      "text/plain": [
       "                    source     cost        pct\n",
       "2            yandex_direct  2233.11  29.369231\n",
       "1    instagram_new_adverts  2161.45  28.426778\n",
       "0             facebook_ads  2140.90  28.156511\n",
       "3  youtube_channel_reklama  1068.11  14.047480"
      ]
     },
     "execution_count": 82,
     "metadata": {},
     "output_type": "execute_result"
    }
   ],
   "source": [
    "ad_cost_pct = ad_cost.groupby('source')['cost'].sum().reset_index()\n",
    "ad_cost_pct['pct'] = ad_cost_pct['cost'] / ad_cost_pct['cost'].sum()*100\n",
    "ad_cost_pct.sort_values('cost', ascending=False)"
   ]
  },
  {
   "cell_type": "markdown",
   "metadata": {},
   "source": [
    "На Яндекс, Инстаграм и Фейсбук бюджет примерно одинаковый 2200 единиц, на Ютуб потрачено в 2 раза меньше 1068 единиц"
   ]
  },
  {
   "cell_type": "code",
   "execution_count": 83,
   "metadata": {},
   "outputs": [
    {
     "data": {
      "text/html": [
       "<div>\n",
       "<style scoped>\n",
       "    .dataframe tbody tr th:only-of-type {\n",
       "        vertical-align: middle;\n",
       "    }\n",
       "\n",
       "    .dataframe tbody tr th {\n",
       "        vertical-align: top;\n",
       "    }\n",
       "\n",
       "    .dataframe thead th {\n",
       "        text-align: right;\n",
       "    }\n",
       "</style>\n",
       "<table border=\"1\" class=\"dataframe\">\n",
       "  <thead>\n",
       "    <tr style=\"text-align: right;\">\n",
       "      <th></th>\n",
       "      <th>day</th>\n",
       "      <th>cost</th>\n",
       "    </tr>\n",
       "  </thead>\n",
       "  <tbody>\n",
       "    <tr>\n",
       "      <td>0</td>\n",
       "      <td>2020-05-03</td>\n",
       "      <td>3302.44</td>\n",
       "    </tr>\n",
       "    <tr>\n",
       "      <td>1</td>\n",
       "      <td>2020-05-04</td>\n",
       "      <td>1865.00</td>\n",
       "    </tr>\n",
       "    <tr>\n",
       "      <td>2</td>\n",
       "      <td>2020-05-05</td>\n",
       "      <td>1029.43</td>\n",
       "    </tr>\n",
       "    <tr>\n",
       "      <td>3</td>\n",
       "      <td>2020-05-06</td>\n",
       "      <td>620.48</td>\n",
       "    </tr>\n",
       "    <tr>\n",
       "      <td>4</td>\n",
       "      <td>2020-05-07</td>\n",
       "      <td>391.86</td>\n",
       "    </tr>\n",
       "    <tr>\n",
       "      <td>5</td>\n",
       "      <td>2020-05-08</td>\n",
       "      <td>242.77</td>\n",
       "    </tr>\n",
       "    <tr>\n",
       "      <td>6</td>\n",
       "      <td>2020-05-09</td>\n",
       "      <td>151.59</td>\n",
       "    </tr>\n",
       "  </tbody>\n",
       "</table>\n",
       "</div>"
      ],
      "text/plain": [
       "         day     cost\n",
       "0 2020-05-03  3302.44\n",
       "1 2020-05-04  1865.00\n",
       "2 2020-05-05  1029.43\n",
       "3 2020-05-06   620.48\n",
       "4 2020-05-07   391.86\n",
       "5 2020-05-08   242.77\n",
       "6 2020-05-09   151.59"
      ]
     },
     "execution_count": 83,
     "metadata": {},
     "output_type": "execute_result"
    }
   ],
   "source": [
    "cost_by_day = ad_cost.groupby('day')['cost'].sum().reset_index()\n",
    "cost_by_day"
   ]
  },
  {
   "cell_type": "markdown",
   "metadata": {},
   "source": [
    "Cуммы потраченные на рекламу, уменьшались с 3302 в первый день до 151 единицы в последний."
   ]
  },
  {
   "cell_type": "code",
   "execution_count": 84,
   "metadata": {},
   "outputs": [
    {
     "data": {
      "image/png": "[encoded data removed]",
      "text/plain": [
       "<Figure size 720x432 with 1 Axes>"
      ]
     },
     "metadata": {
      "needs_background": "light"
     },
     "output_type": "display_data"
    }
   ],
   "source": [
    "#Построим график распрделения маркетинговых затрат на различные источники\n",
    "fig, ax = plt.subplots(figsize=(10, 6))\n",
    "sns.lineplot(data=ad_cost, x = 'day', y = 'cost', hue='source', palette=\"tab10\")\n",
    "ax.grid()\n",
    "plt.title('График распределения маркетинговых затрат на различные источники')\n",
    "plt.xlabel('дата')\n",
    "plt.ylabel('Затраты')\n",
    "plt.legend();"
   ]
  },
  {
   "cell_type": "markdown",
   "metadata": {},
   "source": [
    "** **\n",
    "С 3го по 9 мая у нас есть датасет с затратами на рекламу. Всего потрачено на рекламу 7603.57 единиц. На Яндекс, Инстаграм и Фейсбук бюджет примерно одинаковый 2200 единиц, на Ютуб потрачено в 2 раза меньше 1068 единиц.\n",
    "Cуммы потраченные на рекламу, уменьшались с 3302 в первый день до 151 единицы в последний.\n"
   ]
  },
  {
   "cell_type": "markdown",
   "metadata": {},
   "source": [
    "### 8.2 CAC. Стоимость привлечения одного покупателя"
   ]
  },
  {
   "cell_type": "code",
   "execution_count": 85,
   "metadata": {},
   "outputs": [],
   "source": [
    "#посчитаем 'cac' как затраты на рекламу поделенные на размеры когорт по дню"
   ]
  },
  {
   "cell_type": "code",
   "execution_count": 86,
   "metadata": {},
   "outputs": [
    {
     "data": {
      "text/html": [
       "<div>\n",
       "<style scoped>\n",
       "    .dataframe tbody tr th:only-of-type {\n",
       "        vertical-align: middle;\n",
       "    }\n",
       "\n",
       "    .dataframe tbody tr th {\n",
       "        vertical-align: top;\n",
       "    }\n",
       "\n",
       "    .dataframe thead th {\n",
       "        text-align: right;\n",
       "    }\n",
       "</style>\n",
       "<table border=\"1\" class=\"dataframe\">\n",
       "  <thead>\n",
       "    <tr style=\"text-align: right;\">\n",
       "      <th></th>\n",
       "      <th>event_datetime</th>\n",
       "      <th>event</th>\n",
       "      <th>building_type</th>\n",
       "      <th>user_id</th>\n",
       "      <th>project_type</th>\n",
       "      <th>date</th>\n",
       "      <th>week</th>\n",
       "      <th>begin_of_week</th>\n",
       "      <th>first_visit_date</th>\n",
       "      <th>progress_time</th>\n",
       "    </tr>\n",
       "  </thead>\n",
       "  <tbody>\n",
       "    <tr>\n",
       "      <td>0</td>\n",
       "      <td>2020-05-04 00:00:01</td>\n",
       "      <td>building</td>\n",
       "      <td>assembly_shop</td>\n",
       "      <td>55e92310-cb8e-4754-b622-597e124b03de</td>\n",
       "      <td>NaN</td>\n",
       "      <td>2020-05-04</td>\n",
       "      <td>19</td>\n",
       "      <td>2020-05-04</td>\n",
       "      <td>2020-05-04</td>\n",
       "      <td>0 days</td>\n",
       "    </tr>\n",
       "    <tr>\n",
       "      <td>1</td>\n",
       "      <td>2020-05-05 05:20:15</td>\n",
       "      <td>building</td>\n",
       "      <td>assembly_shop</td>\n",
       "      <td>55e92310-cb8e-4754-b622-597e124b03de</td>\n",
       "      <td>NaN</td>\n",
       "      <td>2020-05-05</td>\n",
       "      <td>19</td>\n",
       "      <td>2020-05-04</td>\n",
       "      <td>2020-05-04</td>\n",
       "      <td>1 days</td>\n",
       "    </tr>\n",
       "    <tr>\n",
       "      <td>2</td>\n",
       "      <td>2020-05-05 19:24:02</td>\n",
       "      <td>building</td>\n",
       "      <td>assembly_shop</td>\n",
       "      <td>55e92310-cb8e-4754-b622-597e124b03de</td>\n",
       "      <td>NaN</td>\n",
       "      <td>2020-05-05</td>\n",
       "      <td>19</td>\n",
       "      <td>2020-05-04</td>\n",
       "      <td>2020-05-04</td>\n",
       "      <td>1 days</td>\n",
       "    </tr>\n",
       "    <tr>\n",
       "      <td>3</td>\n",
       "      <td>2020-05-05 20:59:19</td>\n",
       "      <td>building</td>\n",
       "      <td>assembly_shop</td>\n",
       "      <td>55e92310-cb8e-4754-b622-597e124b03de</td>\n",
       "      <td>NaN</td>\n",
       "      <td>2020-05-05</td>\n",
       "      <td>19</td>\n",
       "      <td>2020-05-04</td>\n",
       "      <td>2020-05-04</td>\n",
       "      <td>1 days</td>\n",
       "    </tr>\n",
       "    <tr>\n",
       "      <td>4</td>\n",
       "      <td>2020-05-06 00:52:56</td>\n",
       "      <td>building</td>\n",
       "      <td>assembly_shop</td>\n",
       "      <td>55e92310-cb8e-4754-b622-597e124b03de</td>\n",
       "      <td>NaN</td>\n",
       "      <td>2020-05-06</td>\n",
       "      <td>19</td>\n",
       "      <td>2020-05-04</td>\n",
       "      <td>2020-05-04</td>\n",
       "      <td>2 days</td>\n",
       "    </tr>\n",
       "    <tr>\n",
       "      <td>...</td>\n",
       "      <td>...</td>\n",
       "      <td>...</td>\n",
       "      <td>...</td>\n",
       "      <td>...</td>\n",
       "      <td>...</td>\n",
       "      <td>...</td>\n",
       "      <td>...</td>\n",
       "      <td>...</td>\n",
       "      <td>...</td>\n",
       "      <td>...</td>\n",
       "    </tr>\n",
       "    <tr>\n",
       "      <td>135634</td>\n",
       "      <td>2020-05-13 23:56:39</td>\n",
       "      <td>building</td>\n",
       "      <td>spaceport</td>\n",
       "      <td>cafd1b8b-507b-49ae-abf0-89fe863a8b03</td>\n",
       "      <td>NaN</td>\n",
       "      <td>2020-05-13</td>\n",
       "      <td>20</td>\n",
       "      <td>2020-05-11</td>\n",
       "      <td>2020-05-10</td>\n",
       "      <td>3 days</td>\n",
       "    </tr>\n",
       "    <tr>\n",
       "      <td>135635</td>\n",
       "      <td>2020-05-18 00:23:28</td>\n",
       "      <td>building</td>\n",
       "      <td>spaceport</td>\n",
       "      <td>cafd1b8b-507b-49ae-abf0-89fe863a8b03</td>\n",
       "      <td>NaN</td>\n",
       "      <td>2020-05-18</td>\n",
       "      <td>21</td>\n",
       "      <td>2020-05-18</td>\n",
       "      <td>2020-05-10</td>\n",
       "      <td>8 days</td>\n",
       "    </tr>\n",
       "    <tr>\n",
       "      <td>135636</td>\n",
       "      <td>2020-05-10 23:59:52</td>\n",
       "      <td>building</td>\n",
       "      <td>assembly_shop</td>\n",
       "      <td>bdc53e19-462a-4dc3-8b55-b4a34278af6a</td>\n",
       "      <td>NaN</td>\n",
       "      <td>2020-05-10</td>\n",
       "      <td>19</td>\n",
       "      <td>2020-05-04</td>\n",
       "      <td>2020-05-10</td>\n",
       "      <td>0 days</td>\n",
       "    </tr>\n",
       "    <tr>\n",
       "      <td>135637</td>\n",
       "      <td>2020-05-13 08:11:19</td>\n",
       "      <td>building</td>\n",
       "      <td>spaceport</td>\n",
       "      <td>bdc53e19-462a-4dc3-8b55-b4a34278af6a</td>\n",
       "      <td>NaN</td>\n",
       "      <td>2020-05-13</td>\n",
       "      <td>20</td>\n",
       "      <td>2020-05-11</td>\n",
       "      <td>2020-05-10</td>\n",
       "      <td>3 days</td>\n",
       "    </tr>\n",
       "    <tr>\n",
       "      <td>135638</td>\n",
       "      <td>2020-05-18 11:11:11</td>\n",
       "      <td>building</td>\n",
       "      <td>spaceport</td>\n",
       "      <td>bdc53e19-462a-4dc3-8b55-b4a34278af6a</td>\n",
       "      <td>NaN</td>\n",
       "      <td>2020-05-18</td>\n",
       "      <td>21</td>\n",
       "      <td>2020-05-18</td>\n",
       "      <td>2020-05-10</td>\n",
       "      <td>8 days</td>\n",
       "    </tr>\n",
       "  </tbody>\n",
       "</table>\n",
       "<p>135639 rows × 10 columns</p>\n",
       "</div>"
      ],
      "text/plain": [
       "            event_datetime     event  building_type  \\\n",
       "0      2020-05-04 00:00:01  building  assembly_shop   \n",
       "1      2020-05-05 05:20:15  building  assembly_shop   \n",
       "2      2020-05-05 19:24:02  building  assembly_shop   \n",
       "3      2020-05-05 20:59:19  building  assembly_shop   \n",
       "4      2020-05-06 00:52:56  building  assembly_shop   \n",
       "...                    ...       ...            ...   \n",
       "135634 2020-05-13 23:56:39  building      spaceport   \n",
       "135635 2020-05-18 00:23:28  building      spaceport   \n",
       "135636 2020-05-10 23:59:52  building  assembly_shop   \n",
       "135637 2020-05-13 08:11:19  building      spaceport   \n",
       "135638 2020-05-18 11:11:11  building      spaceport   \n",
       "\n",
       "                                     user_id project_type        date  week  \\\n",
       "0       55e92310-cb8e-4754-b622-597e124b03de          NaN  2020-05-04    19   \n",
       "1       55e92310-cb8e-4754-b622-597e124b03de          NaN  2020-05-05    19   \n",
       "2       55e92310-cb8e-4754-b622-597e124b03de          NaN  2020-05-05    19   \n",
       "3       55e92310-cb8e-4754-b622-597e124b03de          NaN  2020-05-05    19   \n",
       "4       55e92310-cb8e-4754-b622-597e124b03de          NaN  2020-05-06    19   \n",
       "...                                      ...          ...         ...   ...   \n",
       "135634  cafd1b8b-507b-49ae-abf0-89fe863a8b03          NaN  2020-05-13    20   \n",
       "135635  cafd1b8b-507b-49ae-abf0-89fe863a8b03          NaN  2020-05-18    21   \n",
       "135636  bdc53e19-462a-4dc3-8b55-b4a34278af6a          NaN  2020-05-10    19   \n",
       "135637  bdc53e19-462a-4dc3-8b55-b4a34278af6a          NaN  2020-05-13    20   \n",
       "135638  bdc53e19-462a-4dc3-8b55-b4a34278af6a          NaN  2020-05-18    21   \n",
       "\n",
       "       begin_of_week first_visit_date progress_time  \n",
       "0         2020-05-04       2020-05-04        0 days  \n",
       "1         2020-05-04       2020-05-04        1 days  \n",
       "2         2020-05-04       2020-05-04        1 days  \n",
       "3         2020-05-04       2020-05-04        1 days  \n",
       "4         2020-05-04       2020-05-04        2 days  \n",
       "...              ...              ...           ...  \n",
       "135634    2020-05-11       2020-05-10        3 days  \n",
       "135635    2020-05-18       2020-05-10        8 days  \n",
       "135636    2020-05-04       2020-05-10        0 days  \n",
       "135637    2020-05-11       2020-05-10        3 days  \n",
       "135638    2020-05-18       2020-05-10        8 days  \n",
       "\n",
       "[135639 rows x 10 columns]"
      ]
     },
     "execution_count": 86,
     "metadata": {},
     "output_type": "execute_result"
    }
   ],
   "source": [
    "ga"
   ]
  },
  {
   "cell_type": "code",
   "execution_count": 87,
   "metadata": {},
   "outputs": [
    {
     "data": {
      "text/html": [
       "<div>\n",
       "<style scoped>\n",
       "    .dataframe tbody tr th:only-of-type {\n",
       "        vertical-align: middle;\n",
       "    }\n",
       "\n",
       "    .dataframe tbody tr th {\n",
       "        vertical-align: top;\n",
       "    }\n",
       "\n",
       "    .dataframe thead th {\n",
       "        text-align: right;\n",
       "    }\n",
       "</style>\n",
       "<table border=\"1\" class=\"dataframe\">\n",
       "  <thead>\n",
       "    <tr style=\"text-align: right;\">\n",
       "      <th></th>\n",
       "      <th>first_visit_date</th>\n",
       "      <th>n_event</th>\n",
       "      <th>n_users</th>\n",
       "    </tr>\n",
       "  </thead>\n",
       "  <tbody>\n",
       "    <tr>\n",
       "      <td>0</td>\n",
       "      <td>2020-05-04</td>\n",
       "      <td>64226</td>\n",
       "      <td>5860</td>\n",
       "    </tr>\n",
       "    <tr>\n",
       "      <td>1</td>\n",
       "      <td>2020-05-05</td>\n",
       "      <td>34756</td>\n",
       "      <td>3361</td>\n",
       "    </tr>\n",
       "    <tr>\n",
       "      <td>2</td>\n",
       "      <td>2020-05-06</td>\n",
       "      <td>17399</td>\n",
       "      <td>1847</td>\n",
       "    </tr>\n",
       "    <tr>\n",
       "      <td>3</td>\n",
       "      <td>2020-05-07</td>\n",
       "      <td>9429</td>\n",
       "      <td>1109</td>\n",
       "    </tr>\n",
       "    <tr>\n",
       "      <td>4</td>\n",
       "      <td>2020-05-08</td>\n",
       "      <td>5121</td>\n",
       "      <td>688</td>\n",
       "    </tr>\n",
       "    <tr>\n",
       "      <td>5</td>\n",
       "      <td>2020-05-09</td>\n",
       "      <td>3025</td>\n",
       "      <td>440</td>\n",
       "    </tr>\n",
       "    <tr>\n",
       "      <td>6</td>\n",
       "      <td>2020-05-10</td>\n",
       "      <td>1683</td>\n",
       "      <td>271</td>\n",
       "    </tr>\n",
       "  </tbody>\n",
       "</table>\n",
       "</div>"
      ],
      "text/plain": [
       "  first_visit_date  n_event  n_users\n",
       "0       2020-05-04    64226     5860\n",
       "1       2020-05-05    34756     3361\n",
       "2       2020-05-06    17399     1847\n",
       "3       2020-05-07     9429     1109\n",
       "4       2020-05-08     5121      688\n",
       "5       2020-05-09     3025      440\n",
       "6       2020-05-10     1683      271"
      ]
     },
     "execution_count": 87,
     "metadata": {},
     "output_type": "execute_result"
    }
   ],
   "source": [
    "cac = ga.groupby('first_visit_date', ).agg({'user_id': ['count','nunique']}).reset_index()\n",
    "cac.columns = ['first_visit_date', 'n_event', 'n_users']\n",
    "cac"
   ]
  },
  {
   "cell_type": "code",
   "execution_count": 88,
   "metadata": {},
   "outputs": [
    {
     "data": {
      "text/html": [
       "<div>\n",
       "<style scoped>\n",
       "    .dataframe tbody tr th:only-of-type {\n",
       "        vertical-align: middle;\n",
       "    }\n",
       "\n",
       "    .dataframe tbody tr th {\n",
       "        vertical-align: top;\n",
       "    }\n",
       "\n",
       "    .dataframe thead th {\n",
       "        text-align: right;\n",
       "    }\n",
       "</style>\n",
       "<table border=\"1\" class=\"dataframe\">\n",
       "  <thead>\n",
       "    <tr style=\"text-align: right;\">\n",
       "      <th></th>\n",
       "      <th>first_visit_date</th>\n",
       "      <th>n_event</th>\n",
       "      <th>n_users</th>\n",
       "      <th>cost</th>\n",
       "    </tr>\n",
       "  </thead>\n",
       "  <tbody>\n",
       "    <tr>\n",
       "      <td>0</td>\n",
       "      <td>2020-05-04</td>\n",
       "      <td>64226</td>\n",
       "      <td>5860</td>\n",
       "      <td>3302.44</td>\n",
       "    </tr>\n",
       "    <tr>\n",
       "      <td>1</td>\n",
       "      <td>2020-05-05</td>\n",
       "      <td>34756</td>\n",
       "      <td>3361</td>\n",
       "      <td>1865.00</td>\n",
       "    </tr>\n",
       "    <tr>\n",
       "      <td>2</td>\n",
       "      <td>2020-05-06</td>\n",
       "      <td>17399</td>\n",
       "      <td>1847</td>\n",
       "      <td>1029.43</td>\n",
       "    </tr>\n",
       "    <tr>\n",
       "      <td>3</td>\n",
       "      <td>2020-05-07</td>\n",
       "      <td>9429</td>\n",
       "      <td>1109</td>\n",
       "      <td>620.48</td>\n",
       "    </tr>\n",
       "    <tr>\n",
       "      <td>4</td>\n",
       "      <td>2020-05-08</td>\n",
       "      <td>5121</td>\n",
       "      <td>688</td>\n",
       "      <td>391.86</td>\n",
       "    </tr>\n",
       "    <tr>\n",
       "      <td>5</td>\n",
       "      <td>2020-05-09</td>\n",
       "      <td>3025</td>\n",
       "      <td>440</td>\n",
       "      <td>242.77</td>\n",
       "    </tr>\n",
       "    <tr>\n",
       "      <td>6</td>\n",
       "      <td>2020-05-10</td>\n",
       "      <td>1683</td>\n",
       "      <td>271</td>\n",
       "      <td>151.59</td>\n",
       "    </tr>\n",
       "  </tbody>\n",
       "</table>\n",
       "</div>"
      ],
      "text/plain": [
       "  first_visit_date  n_event  n_users     cost\n",
       "0       2020-05-04    64226     5860  3302.44\n",
       "1       2020-05-05    34756     3361  1865.00\n",
       "2       2020-05-06    17399     1847  1029.43\n",
       "3       2020-05-07     9429     1109   620.48\n",
       "4       2020-05-08     5121      688   391.86\n",
       "5       2020-05-09     3025      440   242.77\n",
       "6       2020-05-10     1683      271   151.59"
      ]
     },
     "execution_count": 88,
     "metadata": {},
     "output_type": "execute_result"
    }
   ],
   "source": [
    "#соединим два датасета cac и cost_by_day методом combine_first,который поможет нам исключить сдвиг по затратам.\n",
    "cac = cac.combine_first(cost_by_day)[['first_visit_date','n_event','n_users', 'cost']]\n",
    "cac"
   ]
  },
  {
   "cell_type": "code",
   "execution_count": 89,
   "metadata": {},
   "outputs": [
    {
     "data": {
      "text/html": [
       "<div>\n",
       "<style scoped>\n",
       "    .dataframe tbody tr th:only-of-type {\n",
       "        vertical-align: middle;\n",
       "    }\n",
       "\n",
       "    .dataframe tbody tr th {\n",
       "        vertical-align: top;\n",
       "    }\n",
       "\n",
       "    .dataframe thead th {\n",
       "        text-align: right;\n",
       "    }\n",
       "</style>\n",
       "<table border=\"1\" class=\"dataframe\">\n",
       "  <thead>\n",
       "    <tr style=\"text-align: right;\">\n",
       "      <th></th>\n",
       "      <th>first_visit_date</th>\n",
       "      <th>n_event</th>\n",
       "      <th>n_users</th>\n",
       "      <th>cost</th>\n",
       "      <th>cac</th>\n",
       "    </tr>\n",
       "  </thead>\n",
       "  <tbody>\n",
       "    <tr>\n",
       "      <td>0</td>\n",
       "      <td>2020-05-04</td>\n",
       "      <td>64226</td>\n",
       "      <td>5860</td>\n",
       "      <td>3302.44</td>\n",
       "      <td>0.563556</td>\n",
       "    </tr>\n",
       "    <tr>\n",
       "      <td>1</td>\n",
       "      <td>2020-05-05</td>\n",
       "      <td>34756</td>\n",
       "      <td>3361</td>\n",
       "      <td>1865.00</td>\n",
       "      <td>0.554894</td>\n",
       "    </tr>\n",
       "    <tr>\n",
       "      <td>2</td>\n",
       "      <td>2020-05-06</td>\n",
       "      <td>17399</td>\n",
       "      <td>1847</td>\n",
       "      <td>1029.43</td>\n",
       "      <td>0.557352</td>\n",
       "    </tr>\n",
       "    <tr>\n",
       "      <td>3</td>\n",
       "      <td>2020-05-07</td>\n",
       "      <td>9429</td>\n",
       "      <td>1109</td>\n",
       "      <td>620.48</td>\n",
       "      <td>0.559495</td>\n",
       "    </tr>\n",
       "    <tr>\n",
       "      <td>4</td>\n",
       "      <td>2020-05-08</td>\n",
       "      <td>5121</td>\n",
       "      <td>688</td>\n",
       "      <td>391.86</td>\n",
       "      <td>0.569564</td>\n",
       "    </tr>\n",
       "    <tr>\n",
       "      <td>5</td>\n",
       "      <td>2020-05-09</td>\n",
       "      <td>3025</td>\n",
       "      <td>440</td>\n",
       "      <td>242.77</td>\n",
       "      <td>0.551750</td>\n",
       "    </tr>\n",
       "    <tr>\n",
       "      <td>6</td>\n",
       "      <td>2020-05-10</td>\n",
       "      <td>1683</td>\n",
       "      <td>271</td>\n",
       "      <td>151.59</td>\n",
       "      <td>0.559373</td>\n",
       "    </tr>\n",
       "  </tbody>\n",
       "</table>\n",
       "</div>"
      ],
      "text/plain": [
       "  first_visit_date  n_event  n_users     cost       cac\n",
       "0       2020-05-04    64226     5860  3302.44  0.563556\n",
       "1       2020-05-05    34756     3361  1865.00  0.554894\n",
       "2       2020-05-06    17399     1847  1029.43  0.557352\n",
       "3       2020-05-07     9429     1109   620.48  0.559495\n",
       "4       2020-05-08     5121      688   391.86  0.569564\n",
       "5       2020-05-09     3025      440   242.77  0.551750\n",
       "6       2020-05-10     1683      271   151.59  0.559373"
      ]
     },
     "execution_count": 89,
     "metadata": {},
     "output_type": "execute_result"
    }
   ],
   "source": [
    "# посчитаем сас\n",
    "cac['cac'] = cac['cost'] / cac['n_users']\n",
    "cac"
   ]
  },
  {
   "cell_type": "code",
   "execution_count": 90,
   "metadata": {},
   "outputs": [
    {
     "data": {
      "text/plain": [
       "0.5594264059876343"
      ]
     },
     "execution_count": 90,
     "metadata": {},
     "output_type": "execute_result"
    }
   ],
   "source": [
    "cac['cac'].mean()"
   ]
  },
  {
   "cell_type": "code",
   "execution_count": 91,
   "metadata": {},
   "outputs": [
    {
     "data": {
      "image/png": "[encoded data removed]",
      "text/plain": [
       "<Figure size 720x432 with 1 Axes>"
      ]
     },
     "metadata": {
      "needs_background": "light"
     },
     "output_type": "display_data"
    }
   ],
   "source": [
    "#построим график изменения cac\n",
    "fig, ax = plt.subplots(figsize=(10, 6))\n",
    "sns.lineplot(data=cac, x = 'first_visit_date', y = 'cac', label = 'cac')\n",
    "ax.grid()\n",
    "plt.title('График изменения САС')\n",
    "plt.xlabel('дата')\n",
    "plt.ylabel('CAC')\n",
    "plt.ylim(0, 1);"
   ]
  },
  {
   "cell_type": "markdown",
   "metadata": {},
   "source": [
    "Средний САС 0.56 единиц и не меняется во времени."
   ]
  },
  {
   "cell_type": "markdown",
   "metadata": {},
   "source": [
    "### 8.3 CAC c разбивкой по источникам."
   ]
  },
  {
   "cell_type": "code",
   "execution_count": 92,
   "metadata": {},
   "outputs": [],
   "source": [
    "#соединим таблицы ga c sources, по столбцу user_id\n",
    "ga = ga.merge(sources, on='user_id')"
   ]
  },
  {
   "cell_type": "code",
   "execution_count": 93,
   "metadata": {},
   "outputs": [
    {
     "data": {
      "text/html": [
       "<div>\n",
       "<style scoped>\n",
       "    .dataframe tbody tr th:only-of-type {\n",
       "        vertical-align: middle;\n",
       "    }\n",
       "\n",
       "    .dataframe tbody tr th {\n",
       "        vertical-align: top;\n",
       "    }\n",
       "\n",
       "    .dataframe thead th {\n",
       "        text-align: right;\n",
       "    }\n",
       "</style>\n",
       "<table border=\"1\" class=\"dataframe\">\n",
       "  <thead>\n",
       "    <tr style=\"text-align: right;\">\n",
       "      <th></th>\n",
       "      <th>first_visit_date</th>\n",
       "      <th>source</th>\n",
       "      <th>user_id</th>\n",
       "    </tr>\n",
       "  </thead>\n",
       "  <tbody>\n",
       "    <tr>\n",
       "      <td>0</td>\n",
       "      <td>2020-05-04</td>\n",
       "      <td>facebook_ads</td>\n",
       "      <td>1184</td>\n",
       "    </tr>\n",
       "    <tr>\n",
       "      <td>1</td>\n",
       "      <td>2020-05-04</td>\n",
       "      <td>instagram_new_adverts</td>\n",
       "      <td>1452</td>\n",
       "    </tr>\n",
       "    <tr>\n",
       "      <td>2</td>\n",
       "      <td>2020-05-04</td>\n",
       "      <td>yandex_direct</td>\n",
       "      <td>2078</td>\n",
       "    </tr>\n",
       "    <tr>\n",
       "      <td>3</td>\n",
       "      <td>2020-05-04</td>\n",
       "      <td>youtube_channel_reklama</td>\n",
       "      <td>1146</td>\n",
       "    </tr>\n",
       "    <tr>\n",
       "      <td>4</td>\n",
       "      <td>2020-05-05</td>\n",
       "      <td>facebook_ads</td>\n",
       "      <td>694</td>\n",
       "    </tr>\n",
       "    <tr>\n",
       "      <td>5</td>\n",
       "      <td>2020-05-05</td>\n",
       "      <td>instagram_new_adverts</td>\n",
       "      <td>796</td>\n",
       "    </tr>\n",
       "    <tr>\n",
       "      <td>6</td>\n",
       "      <td>2020-05-05</td>\n",
       "      <td>yandex_direct</td>\n",
       "      <td>1208</td>\n",
       "    </tr>\n",
       "    <tr>\n",
       "      <td>7</td>\n",
       "      <td>2020-05-05</td>\n",
       "      <td>youtube_channel_reklama</td>\n",
       "      <td>663</td>\n",
       "    </tr>\n",
       "    <tr>\n",
       "      <td>8</td>\n",
       "      <td>2020-05-06</td>\n",
       "      <td>facebook_ads</td>\n",
       "      <td>345</td>\n",
       "    </tr>\n",
       "    <tr>\n",
       "      <td>9</td>\n",
       "      <td>2020-05-06</td>\n",
       "      <td>instagram_new_adverts</td>\n",
       "      <td>472</td>\n",
       "    </tr>\n",
       "    <tr>\n",
       "      <td>10</td>\n",
       "      <td>2020-05-06</td>\n",
       "      <td>yandex_direct</td>\n",
       "      <td>664</td>\n",
       "    </tr>\n",
       "    <tr>\n",
       "      <td>11</td>\n",
       "      <td>2020-05-06</td>\n",
       "      <td>youtube_channel_reklama</td>\n",
       "      <td>366</td>\n",
       "    </tr>\n",
       "    <tr>\n",
       "      <td>12</td>\n",
       "      <td>2020-05-07</td>\n",
       "      <td>facebook_ads</td>\n",
       "      <td>224</td>\n",
       "    </tr>\n",
       "    <tr>\n",
       "      <td>13</td>\n",
       "      <td>2020-05-07</td>\n",
       "      <td>instagram_new_adverts</td>\n",
       "      <td>270</td>\n",
       "    </tr>\n",
       "    <tr>\n",
       "      <td>14</td>\n",
       "      <td>2020-05-07</td>\n",
       "      <td>yandex_direct</td>\n",
       "      <td>395</td>\n",
       "    </tr>\n",
       "    <tr>\n",
       "      <td>15</td>\n",
       "      <td>2020-05-07</td>\n",
       "      <td>youtube_channel_reklama</td>\n",
       "      <td>220</td>\n",
       "    </tr>\n",
       "    <tr>\n",
       "      <td>16</td>\n",
       "      <td>2020-05-08</td>\n",
       "      <td>facebook_ads</td>\n",
       "      <td>139</td>\n",
       "    </tr>\n",
       "    <tr>\n",
       "      <td>17</td>\n",
       "      <td>2020-05-08</td>\n",
       "      <td>instagram_new_adverts</td>\n",
       "      <td>175</td>\n",
       "    </tr>\n",
       "    <tr>\n",
       "      <td>18</td>\n",
       "      <td>2020-05-08</td>\n",
       "      <td>yandex_direct</td>\n",
       "      <td>239</td>\n",
       "    </tr>\n",
       "    <tr>\n",
       "      <td>19</td>\n",
       "      <td>2020-05-08</td>\n",
       "      <td>youtube_channel_reklama</td>\n",
       "      <td>135</td>\n",
       "    </tr>\n",
       "    <tr>\n",
       "      <td>20</td>\n",
       "      <td>2020-05-09</td>\n",
       "      <td>facebook_ads</td>\n",
       "      <td>84</td>\n",
       "    </tr>\n",
       "    <tr>\n",
       "      <td>21</td>\n",
       "      <td>2020-05-09</td>\n",
       "      <td>instagram_new_adverts</td>\n",
       "      <td>112</td>\n",
       "    </tr>\n",
       "    <tr>\n",
       "      <td>22</td>\n",
       "      <td>2020-05-09</td>\n",
       "      <td>yandex_direct</td>\n",
       "      <td>144</td>\n",
       "    </tr>\n",
       "    <tr>\n",
       "      <td>23</td>\n",
       "      <td>2020-05-09</td>\n",
       "      <td>youtube_channel_reklama</td>\n",
       "      <td>100</td>\n",
       "    </tr>\n",
       "    <tr>\n",
       "      <td>24</td>\n",
       "      <td>2020-05-10</td>\n",
       "      <td>facebook_ads</td>\n",
       "      <td>56</td>\n",
       "    </tr>\n",
       "    <tr>\n",
       "      <td>25</td>\n",
       "      <td>2020-05-10</td>\n",
       "      <td>instagram_new_adverts</td>\n",
       "      <td>70</td>\n",
       "    </tr>\n",
       "    <tr>\n",
       "      <td>26</td>\n",
       "      <td>2020-05-10</td>\n",
       "      <td>yandex_direct</td>\n",
       "      <td>89</td>\n",
       "    </tr>\n",
       "    <tr>\n",
       "      <td>27</td>\n",
       "      <td>2020-05-10</td>\n",
       "      <td>youtube_channel_reklama</td>\n",
       "      <td>56</td>\n",
       "    </tr>\n",
       "  </tbody>\n",
       "</table>\n",
       "</div>"
      ],
      "text/plain": [
       "   first_visit_date                   source  user_id\n",
       "0        2020-05-04             facebook_ads     1184\n",
       "1        2020-05-04    instagram_new_adverts     1452\n",
       "2        2020-05-04            yandex_direct     2078\n",
       "3        2020-05-04  youtube_channel_reklama     1146\n",
       "4        2020-05-05             facebook_ads      694\n",
       "5        2020-05-05    instagram_new_adverts      796\n",
       "6        2020-05-05            yandex_direct     1208\n",
       "7        2020-05-05  youtube_channel_reklama      663\n",
       "8        2020-05-06             facebook_ads      345\n",
       "9        2020-05-06    instagram_new_adverts      472\n",
       "10       2020-05-06            yandex_direct      664\n",
       "11       2020-05-06  youtube_channel_reklama      366\n",
       "12       2020-05-07             facebook_ads      224\n",
       "13       2020-05-07    instagram_new_adverts      270\n",
       "14       2020-05-07            yandex_direct      395\n",
       "15       2020-05-07  youtube_channel_reklama      220\n",
       "16       2020-05-08             facebook_ads      139\n",
       "17       2020-05-08    instagram_new_adverts      175\n",
       "18       2020-05-08            yandex_direct      239\n",
       "19       2020-05-08  youtube_channel_reklama      135\n",
       "20       2020-05-09             facebook_ads       84\n",
       "21       2020-05-09    instagram_new_adverts      112\n",
       "22       2020-05-09            yandex_direct      144\n",
       "23       2020-05-09  youtube_channel_reklama      100\n",
       "24       2020-05-10             facebook_ads       56\n",
       "25       2020-05-10    instagram_new_adverts       70\n",
       "26       2020-05-10            yandex_direct       89\n",
       "27       2020-05-10  youtube_channel_reklama       56"
      ]
     },
     "execution_count": 93,
     "metadata": {},
     "output_type": "execute_result"
    }
   ],
   "source": [
    "cac_source = ga.groupby(['first_visit_date', 'source'])['user_id'].nunique().reset_index()\n",
    "cac_source"
   ]
  },
  {
   "cell_type": "code",
   "execution_count": 94,
   "metadata": {},
   "outputs": [],
   "source": [
    "#Так как в столце с рекламным бюджетом даны сдвинуты на день раньше, создадим столбец с датами совпадающими с днем событий\n",
    "ad_cost['day_1'] = ad_cost['day'] + pd.to_timedelta('1 day')\n",
    "ad_cost['day_1'] = ad_cost['day_1'].dt.date"
   ]
  },
  {
   "cell_type": "code",
   "execution_count": 95,
   "metadata": {},
   "outputs": [],
   "source": [
    "#соединим 2 датасета\n",
    "cac_source = cac_source.merge(ad_cost, left_on=  ['first_visit_date', 'source'],\n",
    "                   right_on= ['day_1', 'source'])"
   ]
  },
  {
   "cell_type": "code",
   "execution_count": 96,
   "metadata": {},
   "outputs": [
    {
     "data": {
      "text/html": [
       "<div>\n",
       "<style scoped>\n",
       "    .dataframe tbody tr th:only-of-type {\n",
       "        vertical-align: middle;\n",
       "    }\n",
       "\n",
       "    .dataframe tbody tr th {\n",
       "        vertical-align: top;\n",
       "    }\n",
       "\n",
       "    .dataframe thead th {\n",
       "        text-align: right;\n",
       "    }\n",
       "</style>\n",
       "<table border=\"1\" class=\"dataframe\">\n",
       "  <thead>\n",
       "    <tr style=\"text-align: right;\">\n",
       "      <th></th>\n",
       "      <th>source</th>\n",
       "      <th>cac</th>\n",
       "    </tr>\n",
       "  </thead>\n",
       "  <tbody>\n",
       "    <tr>\n",
       "      <td>0</td>\n",
       "      <td>facebook_ads</td>\n",
       "      <td>0.776353</td>\n",
       "    </tr>\n",
       "    <tr>\n",
       "      <td>1</td>\n",
       "      <td>instagram_new_adverts</td>\n",
       "      <td>0.646158</td>\n",
       "    </tr>\n",
       "    <tr>\n",
       "      <td>2</td>\n",
       "      <td>yandex_direct</td>\n",
       "      <td>0.463491</td>\n",
       "    </tr>\n",
       "    <tr>\n",
       "      <td>3</td>\n",
       "      <td>youtube_channel_reklama</td>\n",
       "      <td>0.403216</td>\n",
       "    </tr>\n",
       "  </tbody>\n",
       "</table>\n",
       "</div>"
      ],
      "text/plain": [
       "                    source       cac\n",
       "0             facebook_ads  0.776353\n",
       "1    instagram_new_adverts  0.646158\n",
       "2            yandex_direct  0.463491\n",
       "3  youtube_channel_reklama  0.403216"
      ]
     },
     "execution_count": 96,
     "metadata": {},
     "output_type": "execute_result"
    }
   ],
   "source": [
    "# и найдем средний cac по источникам\n",
    "cac_source['cac'] = cac_source['cost'] / cac_source['user_id']\n",
    "cac_source.groupby('source')['cac'].mean().reset_index()"
   ]
  },
  {
   "cell_type": "code",
   "execution_count": 97,
   "metadata": {},
   "outputs": [
    {
     "data": {
      "image/png": "[encoded data removed]",
      "text/plain": [
       "<Figure size 720x432 with 1 Axes>"
      ]
     },
     "metadata": {
      "needs_background": "light"
     },
     "output_type": "display_data"
    }
   ],
   "source": [
    "#построим график изменения cac  по источникам\n",
    "fig, ax = plt.subplots(figsize=(10, 6))\n",
    "sns.lineplot(data=cac_source, x = 'first_visit_date', y = 'cac', hue = 'source')\n",
    "ax.grid()\n",
    "plt.title('График изменения САС')\n",
    "plt.xlabel('дата')\n",
    "plt.ylabel('CAC')\n",
    "plt.ylim(0, 1);"
   ]
  },
  {
   "cell_type": "markdown",
   "metadata": {},
   "source": [
    "Самые дорогие игроки приходят с Фейсбука, а самые дешевые с Ютуба:\n",
    "\n",
    "Стоимость привлечения пользователя:\n",
    "1. facebook_ads - 0.776353\n",
    "2. instagram_new_adverts - 0.646158\n",
    "3. yandex_direct - 0.463491\n",
    "4. youtube_channel_reklama - 0.403216"
   ]
  },
  {
   "cell_type": "markdown",
   "metadata": {},
   "source": [
    "## 9. Формулировка и проверка статистических гипотез<a id=\"step9\"></a>"
   ]
  },
  {
   "cell_type": "markdown",
   "metadata": {},
   "source": [
    "### 9.1 Гипотеза №1\n",
    "   - **H0:**  Время прохождения уровня пользователями - строителями равно времени прохождения уровня пользователями - войнами.\n",
    "   - **H1:**  Время прохождения уровня пользователями - строителями не равно времени прохождения уровня пользователями - войнами."
   ]
  },
  {
   "cell_type": "markdown",
   "metadata": {},
   "source": [
    "Пороговое значение alpha = 0.05"
   ]
  },
  {
   "cell_type": "markdown",
   "metadata": {},
   "source": [
    "Посчитаем дисперсии выборок:"
   ]
  },
  {
   "cell_type": "code",
   "execution_count": 98,
   "metadata": {},
   "outputs": [
    {
     "data": {
      "text/plain": [
       "12.402217604128253"
      ]
     },
     "execution_count": 98,
     "metadata": {},
     "output_type": "execute_result"
    }
   ],
   "source": [
    "var_builder = np.var(ga_strategy.query('event ==\"finished_stage_1\" and strategy ==\"builder\"')['progress_time'])\n",
    "var_builder"
   ]
  },
  {
   "cell_type": "code",
   "execution_count": 99,
   "metadata": {},
   "outputs": [
    {
     "data": {
      "text/plain": [
       "16.845733815550286"
      ]
     },
     "execution_count": 99,
     "metadata": {},
     "output_type": "execute_result"
    }
   ],
   "source": [
    "var_warrior = np.var(ga_strategy.query('event ==\"finished_stage_1\" and strategy ==\"warrior\"')['progress_time'])\n",
    "var_warrior"
   ]
  },
  {
   "cell_type": "markdown",
   "metadata": {},
   "source": [
    "Построим распределения наших выбор, чтобы посмотреть их \"нормальность\":"
   ]
  },
  {
   "cell_type": "code",
   "execution_count": 100,
   "metadata": {},
   "outputs": [
    {
     "data": {
      "image/png": "[encoded data removed]",
      "text/plain": [
       "<Figure size 720x432 with 1 Axes>"
      ]
     },
     "metadata": {
      "needs_background": "light"
     },
     "output_type": "display_data"
    }
   ],
   "source": [
    "# Построим гистограмму распределений времени прхождения игры\n",
    "\n",
    "fig, ax = plt.subplots(figsize=(10, 6))\n",
    "sns.histplot(ga_strategy.query('event ==\"finished_stage_1\"'), x=\"progress_time\", hue = 'strategy')\n",
    "plt.title('График распределения времени прохождения игры по стратегиям');"
   ]
  },
  {
   "cell_type": "markdown",
   "metadata": {},
   "source": [
    "Распределение нормальное, наблюдений много (5817), можем проводить t-тест."
   ]
  },
  {
   "cell_type": "code",
   "execution_count": 101,
   "metadata": {},
   "outputs": [
    {
     "name": "stdout",
     "output_type": "stream",
     "text": [
      "p-значение: 6.5704667556436364e-105\n",
      "Отвергаем нулевую гипотезу\n"
     ]
    }
   ],
   "source": [
    "alpha = .05\n",
    "\n",
    "results = st.ttest_ind(\n",
    "    ga_strategy.query('event ==\"finished_stage_1\" and strategy ==\"builder\"')['progress_time'], \n",
    "    ga_strategy.query('event ==\"finished_stage_1\" and strategy ==\"warrior\"')['progress_time'],\n",
    "    equal_var = False)\n",
    "\n",
    "print('p-значение:', results.pvalue)\n",
    "\n",
    "if (results.pvalue < alpha):\n",
    "    print(\"Отвергаем нулевую гипотезу\")\n",
    "else:\n",
    "    print(\"Не получилось отвергнуть нулевую гипотезу\") "
   ]
  },
  {
   "cell_type": "markdown",
   "metadata": {},
   "source": [
    "Значит мы можем отвергнуть нулевую гипотезу:\n",
    "\n",
    "**H1:** Время прохождения уровня пользователями - строителями не равно времени прохождения уровня пользователями - войнами."
   ]
  },
  {
   "cell_type": "markdown",
   "metadata": {},
   "source": [
    "###  9.2 Гипотеза №2\n",
    "   - **H0:**  Среднее кол-во построек, построенных пользователями - строителями равно среднему кол-ву построек, построенных пользователями - войнами\n",
    "   - **H1:**  Среднее кол-во построек, построенных пользователями - строителями не равно среднему кол-ву построек, построенных пользователями - войнами"
   ]
  },
  {
   "cell_type": "code",
   "execution_count": 102,
   "metadata": {},
   "outputs": [
    {
     "data": {
      "text/html": [
       "<div>\n",
       "<style scoped>\n",
       "    .dataframe tbody tr th:only-of-type {\n",
       "        vertical-align: middle;\n",
       "    }\n",
       "\n",
       "    .dataframe tbody tr th {\n",
       "        vertical-align: top;\n",
       "    }\n",
       "\n",
       "    .dataframe thead th {\n",
       "        text-align: right;\n",
       "    }\n",
       "</style>\n",
       "<table border=\"1\" class=\"dataframe\">\n",
       "  <thead>\n",
       "    <tr style=\"text-align: right;\">\n",
       "      <th></th>\n",
       "      <th>user_id</th>\n",
       "      <th>strategy</th>\n",
       "      <th>n_building</th>\n",
       "    </tr>\n",
       "  </thead>\n",
       "  <tbody>\n",
       "    <tr>\n",
       "      <td>2908</td>\n",
       "      <td>7ef7fc89-2779-46ea-b328-9e5035b83af5</td>\n",
       "      <td>warrior</td>\n",
       "      <td>2</td>\n",
       "    </tr>\n",
       "    <tr>\n",
       "      <td>3159</td>\n",
       "      <td>8a782485-46be-432d-8413-9777a586df52</td>\n",
       "      <td>warrior</td>\n",
       "      <td>2</td>\n",
       "    </tr>\n",
       "    <tr>\n",
       "      <td>662</td>\n",
       "      <td>1ad1ac21-97dc-4d9a-ad33-a044fb453d36</td>\n",
       "      <td>warrior</td>\n",
       "      <td>2</td>\n",
       "    </tr>\n",
       "    <tr>\n",
       "      <td>5477</td>\n",
       "      <td>f0b68360-017b-43ed-ac1f-31c4481331e4</td>\n",
       "      <td>warrior</td>\n",
       "      <td>2</td>\n",
       "    </tr>\n",
       "    <tr>\n",
       "      <td>3094</td>\n",
       "      <td>875e414a-d8a8-4041-93c0-7ab12b9cd328</td>\n",
       "      <td>warrior</td>\n",
       "      <td>2</td>\n",
       "    </tr>\n",
       "    <tr>\n",
       "      <td>...</td>\n",
       "      <td>...</td>\n",
       "      <td>...</td>\n",
       "      <td>...</td>\n",
       "    </tr>\n",
       "    <tr>\n",
       "      <td>3373</td>\n",
       "      <td>94844e06-0352-4048-9e62-1db7718f804c</td>\n",
       "      <td>builder</td>\n",
       "      <td>19</td>\n",
       "    </tr>\n",
       "    <tr>\n",
       "      <td>5684</td>\n",
       "      <td>fa36cf08-cda1-4ee3-bee9-be16ded7071e</td>\n",
       "      <td>builder</td>\n",
       "      <td>19</td>\n",
       "    </tr>\n",
       "    <tr>\n",
       "      <td>5809</td>\n",
       "      <td>ff841992-d93b-462e-bc6e-18c24a514f36</td>\n",
       "      <td>builder</td>\n",
       "      <td>20</td>\n",
       "    </tr>\n",
       "    <tr>\n",
       "      <td>4853</td>\n",
       "      <td>d6aca06a-cd75-4cd8-b8cd-240a3c163884</td>\n",
       "      <td>builder</td>\n",
       "      <td>20</td>\n",
       "    </tr>\n",
       "    <tr>\n",
       "      <td>4342</td>\n",
       "      <td>bf542075-e3a2-4e79-82d8-3838e86d2a25</td>\n",
       "      <td>builder</td>\n",
       "      <td>20</td>\n",
       "    </tr>\n",
       "  </tbody>\n",
       "</table>\n",
       "<p>5817 rows × 3 columns</p>\n",
       "</div>"
      ],
      "text/plain": [
       "                                   user_id strategy  n_building\n",
       "2908  7ef7fc89-2779-46ea-b328-9e5035b83af5  warrior           2\n",
       "3159  8a782485-46be-432d-8413-9777a586df52  warrior           2\n",
       "662   1ad1ac21-97dc-4d9a-ad33-a044fb453d36  warrior           2\n",
       "5477  f0b68360-017b-43ed-ac1f-31c4481331e4  warrior           2\n",
       "3094  875e414a-d8a8-4041-93c0-7ab12b9cd328  warrior           2\n",
       "...                                    ...      ...         ...\n",
       "3373  94844e06-0352-4048-9e62-1db7718f804c  builder          19\n",
       "5684  fa36cf08-cda1-4ee3-bee9-be16ded7071e  builder          19\n",
       "5809  ff841992-d93b-462e-bc6e-18c24a514f36  builder          20\n",
       "4853  d6aca06a-cd75-4cd8-b8cd-240a3c163884  builder          20\n",
       "4342  bf542075-e3a2-4e79-82d8-3838e86d2a25  builder          20\n",
       "\n",
       "[5817 rows x 3 columns]"
      ]
     },
     "execution_count": 102,
     "metadata": {},
     "output_type": "execute_result"
    }
   ],
   "source": [
    "building_count = ga_strategy.groupby(\n",
    "    ['user_id', 'strategy'])['building_type'].count().reset_index()\n",
    "building_count.columns = ['user_id', 'strategy', 'n_building']\n",
    "building_count.sort_values('n_building', ascending=True)"
   ]
  },
  {
   "cell_type": "code",
   "execution_count": 103,
   "metadata": {},
   "outputs": [
    {
     "data": {
      "text/plain": [
       "12.64790996784566"
      ]
     },
     "execution_count": 103,
     "metadata": {},
     "output_type": "execute_result"
    }
   ],
   "source": [
    " building_count.query('strategy == \"builder\"')['n_building'].mean()"
   ]
  },
  {
   "cell_type": "code",
   "execution_count": 104,
   "metadata": {},
   "outputs": [
    {
     "data": {
      "text/plain": [
       "9.411541381928625"
      ]
     },
     "execution_count": 104,
     "metadata": {},
     "output_type": "execute_result"
    }
   ],
   "source": [
    " building_count.query('strategy == \"warrior\"')['n_building'].mean()"
   ]
  },
  {
   "cell_type": "markdown",
   "metadata": {},
   "source": [
    "Среднее количество построек у строителя 12.6, тогда как у война 9.5."
   ]
  },
  {
   "cell_type": "code",
   "execution_count": 105,
   "metadata": {},
   "outputs": [
    {
     "data": {
      "image/png": "[encoded data removed]",
      "text/plain": [
       "<Figure size 720x432 with 1 Axes>"
      ]
     },
     "metadata": {
      "needs_background": "light"
     },
     "output_type": "display_data"
    }
   ],
   "source": [
    "# Построим гистограмму распределений количества построек\n",
    "\n",
    "fig, ax = plt.subplots(figsize=(10, 6))\n",
    "sns.histplot(building_count, x=\"n_building\", hue = 'strategy')\n",
    "plt.title('График распределения количества построек');"
   ]
  },
  {
   "cell_type": "markdown",
   "metadata": {},
   "source": [
    "Количество построек у войнов колеблется от 2 до 20, тогда как у строителей минимальное количество построек 20."
   ]
  },
  {
   "cell_type": "markdown",
   "metadata": {},
   "source": [
    "Распределение нормальное, наблюдений много (5817), можем проводить t-тест."
   ]
  },
  {
   "cell_type": "markdown",
   "metadata": {},
   "source": [
    "Пороговое значение alpha = 0.05\n",
    "Посчитаем дисперсии выборок:"
   ]
  },
  {
   "cell_type": "code",
   "execution_count": 106,
   "metadata": {},
   "outputs": [
    {
     "data": {
      "text/plain": [
       "4.673996167671274"
      ]
     },
     "execution_count": 106,
     "metadata": {},
     "output_type": "execute_result"
    }
   ],
   "source": [
    "var_builder = np.var(building_count.query('strategy == \"builder\"')['n_building'])\n",
    "var_builder"
   ]
  },
  {
   "cell_type": "code",
   "execution_count": 107,
   "metadata": {},
   "outputs": [
    {
     "data": {
      "text/plain": [
       "9.35834819361783"
      ]
     },
     "execution_count": 107,
     "metadata": {},
     "output_type": "execute_result"
    }
   ],
   "source": [
    "var_warrior = np.var(building_count.query('strategy == \"warrior\"')['n_building'])\n",
    "var_warrior"
   ]
  },
  {
   "cell_type": "code",
   "execution_count": 108,
   "metadata": {},
   "outputs": [
    {
     "name": "stdout",
     "output_type": "stream",
     "text": [
      "p-значение: 0.0\n",
      "Отвергаем нулевую гипотезу\n"
     ]
    }
   ],
   "source": [
    "alpha = .05\n",
    "\n",
    "results = st.ttest_ind(\n",
    "    building_count.query('strategy == \"builder\"')['n_building'], \n",
    "    building_count.query('strategy == \"warrior\"')['n_building'],\n",
    "    equal_var = False)\n",
    "\n",
    "print('p-значение:', results.pvalue)\n",
    "\n",
    "if (results.pvalue < alpha):\n",
    "    print(\"Отвергаем нулевую гипотезу\")\n",
    "else:\n",
    "    print(\"Не получилось отвергнуть нулевую гипотезу\") "
   ]
  },
  {
   "cell_type": "markdown",
   "metadata": {},
   "source": [
    "Значит мы можем отвергнуть нулевую гипотезу:\n",
    "\n",
    "   - **H1:**  Среднее кол-во построек, построенных пользователями - строителями не равно среднему кол-ву построек, построенных пользователями - войнами"
   ]
  },
  {
   "cell_type": "markdown",
   "metadata": {},
   "source": [
    "** **\n",
    "Из проверки наших гипотез мы можем сделать следующие заключения:\n",
    "1. Строителям требуется больше времени, на то чтобы построить их большее количество построек и завершить уровень.\n",
    "2. Войнам же наоборот нужно меньше времени, и усилий, для того, чтобы завершить уровень."
   ]
  },
  {
   "cell_type": "markdown",
   "metadata": {},
   "source": [
    "## 10. Общий вывод<a id=\"step10\"></a>"
   ]
  },
  {
   "cell_type": "markdown",
   "metadata": {},
   "source": [
    "**Загрузка данных**\n",
    "\n",
    "Датасет game_actions\n",
    "- размер (135640 строк, 5 столбца)\n",
    "- неправильный тип у столбца с датами\n",
    "- есть 1 дубликат\n",
    "- есть пропуски в столбцах building_type, project_type. Пропуски не похожи на случайные\n",
    "\n",
    "Датасет ad_cost:\n",
    "- размер (28 строк, 3 столбца)\n",
    "- неправильный тип у столбца с датами\n",
    "- дубликатов нет\n",
    "- столбец cost стоит округлить до двух знаков после запятой     \n",
    "- 4  уникальных источника рекламы\n",
    "\n",
    "Датасет sources:\n",
    "- размер (13576 строк, 2 столбца)\n",
    "- дубликатов нет\n",
    "- пропусков нет\n",
    "\n",
    "**Предобработка данных**\n",
    "\n",
    "`game_actions`\n",
    "- столбец `event_datetime` приведен к типу datetime\n",
    "- дубликаты удалены\n",
    "- В столбце `building_type` мы видим только 127956 строк, ровно столько сколько событий building у нас есть в столбце `event`, ситуация со столбцом `project_type` аналогична, в него вынесено событие `project` и указан его тип `satellite_orbital_assembly` разработка орбитальной сборки спутников. Оставили пропуски как есть, не заполняя.\n",
    "- данные за период с 4 мая по 5 июня 2020 года\n",
    "\n",
    "\n",
    "`ad_cost`\n",
    "- столбец `day` приведен к типу datetime\n",
    "- столбец `cost` округлен до двух знаков\n",
    "- данные по стоимостям кликов за период с 3 мая по 9 мая, то есть стоимость привлечения нашей когорты\n",
    "\n",
    "**Анализ влияния событий на совершение целевого события**\n",
    "\n",
    "Количество событий\n",
    "\n",
    "Согласно графику и расчетам всего у нас 135639 событий, из них\n",
    "- 94.3% - постройка зданий\n",
    "- 4.3 % - завершение 1-го уровня\n",
    "- 1.4% - выполнение проекта\n",
    " \n",
    "Всего в игре из первой когорты 13576 уникальных пользоватей, которые совершают эти события, из них:\n",
    "- 100% строят постройки\n",
    "- 42.8% завершили 1-й уровень\n",
    "- 13.7% выполнили проект\n",
    " \n",
    "Количество построек\n",
    "\n",
    "Всего у нас есть 127956 построек, из которых:\n",
    "- 42.6% (54494 постройки) -`assembly_shop` — сборочный цех, и его построили 100% наших пользователей\n",
    "- 46.4% (59325 построек)- `spaceport` — космопорт, и его построили 98% пользователей\n",
    "- 11% (14137 построек)- `research_center` — исследовательский центр, построено 56% пользователей\n",
    "\n",
    "В среднем на одного уникального пользователя приходится по 9.5 построек, но завершить проект или пройти первый уровень, игрок может только 1 раз.\n",
    "\n",
    "**Продуктовый анализ**\n",
    "\n",
    "**DAU** В среднем в игру играют 2884 пользователей в день. Наибольшая активность 4-10 мая, после 25 активность правктически сводится к нулю.\n",
    "Пик активности 10 мая (9219 уникальных пользователей), после этого показатели начинают падать. Это совпадает с датами проведения маркетинговой компании 3-9 мая.\n",
    "\n",
    "**DAU пользователей по совершенным событиям.** можно отметить что до 15 мая показатели по завершенным уровням растут, после начинают падать. То есть в среднем на завершение уровня у пользователя уходит 10-14 дней\n",
    "\n",
    "**WAU** Средний WAU 6120 пользователей в неделю. Причем мы видим высокие показатели первые две недели и потом резкий обвал после окончания рекламной компании по привлечению людей. К концу месяца пользователей из нашей когорты практически не осталось.\n",
    "\n",
    "**WAU пользователей по совершенным событиям.** Первые 10 дней рост по заврешению уровня и проекту, потом уменьшение. к 25 мая практически все пользователи или завршили уровень или покинули игру.\n",
    "\n",
    "**Sticky factor (степень лояльности и вовлеченности аудитории)**\n",
    "\n",
    "47% всех посетителей из нашей когорты остаются лояльны к сервису целую неделю.\n",
    "\n",
    "**Количество событий в день**\n",
    "\n",
    "В среднем один пользователь совершаает 1.3 события в день. То есть, чтобы пройти первый уровень пользователю требудется примерно 13-18 событий.\n",
    "\n",
    "**Retention rate**\n",
    "\n",
    "По графику Retention rate видно, что:\n",
    "1. после двух недель игры, в когорте остается меньше 32% пользователей\n",
    "2. к четвертой неделе остается меньше 4% игроков\n",
    "\n",
    "Это может быть потому, что в первые две недели большее количество игроков завершает первый уровень. Оставшаяся часть или теряет интерес, или неспешно завершает уровень.\n",
    "\n",
    "**Среднее время прохождения игры**\n",
    "\n",
    "Среднее время прохождения игры 12 дней, основная масса пользователей проходит игру от 9 до 14 дней.\n",
    "\n",
    "**Определение стратегий игры**\n",
    "\n",
    "В игре есть две возможности для прохождения уровня:\n",
    "\n",
    "1. Победа над первым врагом\n",
    "2. Реализация проекта - разработка орбитальной сборки спутников\n",
    "\n",
    "Мы получили следующее разделение по стратегиям:\n",
    "- Строители builder - 32.1% - 1866 игроков\n",
    "- Войны warrior - 67.9% - 3951 игроков\n",
    "\n",
    "**Retention Rate по стратегиям**\n",
    "\n",
    "Строители builder:\n",
    "- 1-ая неделя - 100% игроков\\\n",
    "- 2-ая неделя - 99.8% игроков\n",
    "- 3-я недля - 52% игроков\n",
    "- 4-я неделя - 7% игроков\n",
    "\n",
    "Войны warrior\n",
    "- 1-ая неделя - 100% игроков\\\n",
    "- 2-ая неделя - 93% игроков\n",
    "- 3-я недля - 34% игроков\n",
    "- 4-я неделя -4% игроков\n",
    "\n",
    "Кривая графика RR для войнов лежит ниже кривой строителей. Это может означать, что войнам быстрее удается окончить уровень и им незачем больше возвращаться.\n",
    "\n",
    "**Среднее время прохождения уровня по стратегиям:**\n",
    "\n",
    "Гистограмма войнов сдвинута влево относительно строителей, это значит, что строители проходят уровень медленнее на 2.5 дня.\n",
    "\n",
    "Строители `builder`:\n",
    "1. Среднее время прохождения игры 13.5 дней, большая часть пользователей проходит игру от 11 до 15 дней.\n",
    "Войны `warrior`:\n",
    "2. Среднее время прохождения игры 11 дней, большая часть пользователей проходит игру от 8 до 13 дней.\n",
    "\n",
    "**Маркетинг**\n",
    "\n",
    "**Распределение затрат**\n",
    "\n",
    "С 3го по 9 мая у нас есть датасет с затратами на рекламу. Всего потрачено на рекламу 7603.57 единиц. На Яндекс, Инстаграм и Фейсбук бюджет примерно одинаковый 2200 единиц, на Ютуб потрачено в 2 раза меньше 1068 единиц. Cуммы потраченные на рекламу, уменьшались с 3302 в первый день до 151 единицы в последний.\n",
    "\n",
    "**CAC. Стоимость привлечения одного покупателя.**\n",
    "\n",
    "Средний САС 0.56 единиц и не меняется во времени.\n",
    "\n",
    "**CAC c разбивкой по источникам.**\n",
    "\n",
    "Самые дорогие игроки приходят с Фейсбука, а самые дешевые с Ютуба:\n",
    "\n",
    "Стоимость привлечения пользователя:\n",
    "- facebook_ads - 0.776353\n",
    "- instagram_new_adverts - 0.646158\n",
    "- yandex_direct - 0.463491\n",
    "- youtube_channel_reklama - 0.403216\n",
    "\n",
    "**Формулировка и проверка статистических гипотез**\n",
    " \n",
    " **Гипотеза №1:**\n",
    " \n",
    "Время прохождения уровня пользователями - строителями и время прохождения уровня пользователями - войнами одинаковое.\n",
    "Проведя T-тест, мы сделали вывод о том, что мы можем отвергнуть нулевую гипотезу:\n",
    "\n",
    "**Время прохождения уровня пользователями - строителями не равно времени прохождения уровня пользователями - войнами.**\n",
    "\n",
    " **Гипотеза №2:**\n",
    "\n",
    "Среднее кол-во построек, построенных пользователями - строителями и пользователями - войнами одинкаковое.\n",
    "Проведя T-тест, мы сделали вывод о том, что мы можем отвергнуть нулевую гипотезу:\n",
    "\n",
    "**H1: Среднее кол-во построек, построенных пользователями - строителями не равно среднему кол-ву построек, построенных пользователями - войнами**\n",
    " \n",
    "Из проверки наших гипотез мы можем сделать следующие заключения:\n",
    "1. Строителям требуется больше времени, на то чтобы построить их большее количество построек и завершить уровень.\n",
    "2. Войнам же наоборот нужно меньше времени, и усилий, для того, чтобы завершить уровень."
   ]
  },
  {
   "cell_type": "markdown",
   "metadata": {},
   "source": [
    "## 11. Рекомендации<a id=\"step11\"></a>"
   ]
  },
  {
   "cell_type": "markdown",
   "metadata": {},
   "source": [
    "Нашей задачей в данном проекте было определить время запуска рекламы, путем показа ее на экране выбора постройки.\n",
    "\n",
    "1. Так как нам необходимо ориентироваться на то, чтобы показать рекламу большему количеству пользователей в течение большего время, стоит ориентрироваться на время прохождения игры у войнов, которое составляет от 8 до 13 дней.Причем есть те кто проодят игру и за 2 дня. 3-4 дня после начала игры отптимальный срок для начала показа рекламы.\n",
    "2. Количество построек, которое строят игроки в среднем около 10 единиц, стоит разнообразить количество построек, для того чтобы пользователям было интереснее играть.\n",
    "3. Так как самая оптимальная стоимость привлечения покупателя в yandex_direct и youtube_channel_reklama, чтоит расширить бюджеты на рекламу именно на этих сервисах."
   ]
  }
 ],
 "metadata": {
  "kernelspec": {
   "display_name": "Python 3",
   "language": "python",
   "name": "python3"
  },
  "language_info": {
   "codemirror_mode": {
    "name": "ipython",
    "version": 3
   },
   "file_extension": ".py",
   "mimetype": "text/x-python",
   "name": "python",
   "nbconvert_exporter": "python",
   "pygments_lexer": "ipython3",
   "version": "3.7.8"
  },
  "toc": {
   "base_numbering": 1,
   "nav_menu": {},
   "number_sections": false,
   "sideBar": true,
   "skip_h1_title": true,
   "title_cell": "Table of Contents",
   "title_sidebar": "Contents",
   "toc_cell": false,
   "toc_position": {},
   "toc_section_display": true,
   "toc_window_display": true
  }
 },
 "nbformat": 4,
 "nbformat_minor": 4
}
